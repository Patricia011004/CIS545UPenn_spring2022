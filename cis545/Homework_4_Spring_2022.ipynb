{
  "cells": [
    {
      "cell_type": "markdown",
      "metadata": {
        "id": "ynuCWzxwQvfz"
      },
      "source": [
        "# CIS 545 Homework 4: Machine Learning\n",
        "\n",
        "*Due Date: **4th April 2022 at 10:00PM EST**, 100 points total (= 87 autograded + 13 manually graded).*\n",
        "\n",
        "**PLEASE READ THE FAQ as you do this assignment!** It's pinned on Piazza and we TAs work really hard to keep it updated with everything you might need to know or anything we might have failed to specify. Writing these HWs and test cases gets tricky since students always end up implementing solutions that we did not anticipate and thus could not have prepared the grader correctly for."
      ]
    },
    {
      "cell_type": "markdown",
      "metadata": {
        "id": "ETZ9CDIDLYHp"
      },
      "source": [
        "# Libraries and Setup Jargon\n",
        "Run the following cells to set up the notebook.\n",
        "\n",
        "When prompted for a selection, select the number that is associated with java 8 (this should be option 2)"
      ]
    },
    {
      "cell_type": "code",
      "execution_count": null,
      "metadata": {
        "colab": {
          "base_uri": "https://localhost:8080/"
        },
        "id": "KLatjcDhLUIy",
        "outputId": "235b7eac-a7a8-4ff5-f16f-e5dd1bd8499c"
      },
      "outputs": [
        {
          "output_type": "stream",
          "name": "stdout",
          "text": [
            "Reading package lists... Done\n",
            "Building dependency tree       \n",
            "Reading state information... Done\n",
            "openjdk-8-jdk is already the newest version (8u312-b07-0ubuntu1~18.04).\n",
            "0 upgraded, 0 newly installed, 0 to remove and 82 not upgraded.\n",
            "There are 2 choices for the alternative java (providing /usr/bin/java).\n",
            "\n",
            "  Selection    Path                                            Priority   Status\n",
            "------------------------------------------------------------\n",
            "  0            /usr/lib/jvm/java-11-openjdk-amd64/bin/java      1111      auto mode\n",
            "  1            /usr/lib/jvm/java-11-openjdk-amd64/bin/java      1111      manual mode\n",
            "* 2            /usr/lib/jvm/java-8-openjdk-amd64/jre/bin/java   1081      manual mode\n",
            "\n",
            "Press <enter> to keep the current choice[*], or type selection number: 2\n"
          ]
        }
      ],
      "source": [
        "! sudo apt install openjdk-8-jdk\n",
        "! sudo update-alternatives --config java"
      ]
    },
    {
      "cell_type": "markdown",
      "metadata": {
        "id": "eEUIzvEuMdGQ"
      },
      "source": [
        "Please make sure you enter your **8 digit Penn ID** in the student ID field below."
      ]
    },
    {
      "cell_type": "code",
      "execution_count": null,
      "metadata": {
        "id": "adECTPlZLtVi"
      },
      "outputs": [],
      "source": [
        "%%capture\n",
        "!pip install penngrader\n",
        "from penngrader.grader import *\n",
        "\n",
        "#PLEASE ENSURE YOUR PENN-ID IS ENTERED CORRECTLY. IF NOT, THE AUTOGRADER WON'T KNOW WHO \n",
        "#TO ASSIGN POINTS TO YOU IN OUR BACKEND\n",
        "STUDENT_ID = 99999999 # YOUR PENN-ID GOES HERE AS AN INTEGER\n",
        "\n",
        "grader = PennGrader(homework_id = 'CIS545_Spring_2022_HW4', student_id = 99999999)"
      ]
    },
    {
      "cell_type": "code",
      "execution_count": null,
      "metadata": {
        "colab": {
          "base_uri": "https://localhost:8080/"
        },
        "id": "miNed7QP9op_",
        "outputId": "1554a7eb-e578-4ce3-de42-64338f70026a"
      },
      "outputs": [
        {
          "output_type": "stream",
          "name": "stdout",
          "text": [
            "Requirement already satisfied: pandas==1.1.5 in /usr/local/lib/python3.7/dist-packages (1.1.5)\n",
            "Requirement already satisfied: numpy>=1.15.4 in /usr/local/lib/python3.7/dist-packages (from pandas==1.1.5) (1.21.5)\n",
            "Requirement already satisfied: python-dateutil>=2.7.3 in /usr/local/lib/python3.7/dist-packages (from pandas==1.1.5) (2.8.2)\n",
            "Requirement already satisfied: pytz>=2017.2 in /usr/local/lib/python3.7/dist-packages (from pandas==1.1.5) (2018.9)\n",
            "Requirement already satisfied: six>=1.5 in /usr/local/lib/python3.7/dist-packages (from python-dateutil>=2.7.3->pandas==1.1.5) (1.15.0)\n"
          ]
        }
      ],
      "source": [
        "# Versioning again\n",
        "!pip install pandas==1.1.5"
      ]
    },
    {
      "cell_type": "code",
      "execution_count": null,
      "metadata": {
        "id": "TBTaESEdMmiU"
      },
      "outputs": [],
      "source": [
        "# Sklearn and Pandas Setup\n",
        "import json\n",
        "import glob\n",
        "import pandas as pd\n",
        "import numpy as np\n",
        "import datetime as dt\n",
        "import re\n",
        "import os\n",
        "import matplotlib.pyplot as plt\n",
        "import seaborn as sns\n",
        "from matplotlib import cm\n",
        "from google.colab import drive"
      ]
    },
    {
      "cell_type": "code",
      "execution_count": null,
      "metadata": {
        "colab": {
          "base_uri": "https://localhost:8080/"
        },
        "id": "tA6oTIZtRjf7",
        "outputId": "eb63d5a9-9673-4139-96b0-1bdf58dd8c1e"
      },
      "outputs": [
        {
          "output_type": "stream",
          "name": "stdout",
          "text": [
            "Ign:1 https://developer.download.nvidia.com/compute/cuda/repos/ubuntu1804/x86_64  InRelease\n",
            "Ign:2 https://developer.download.nvidia.com/compute/machine-learning/repos/ubuntu1804/x86_64  InRelease\n",
            "Hit:3 http://ppa.launchpad.net/c2d4u.team/c2d4u4.0+/ubuntu bionic InRelease\n",
            "Hit:4 https://developer.download.nvidia.com/compute/cuda/repos/ubuntu1804/x86_64  Release\n",
            "Hit:5 https://developer.download.nvidia.com/compute/machine-learning/repos/ubuntu1804/x86_64  Release\n",
            "Hit:6 http://archive.ubuntu.com/ubuntu bionic InRelease\n",
            "Get:7 http://security.ubuntu.com/ubuntu bionic-security InRelease [88.7 kB]\n",
            "Get:8 http://archive.ubuntu.com/ubuntu bionic-updates InRelease [88.7 kB]\n",
            "Hit:9 http://ppa.launchpad.net/cran/libgit2/ubuntu bionic InRelease\n",
            "Hit:10 https://cloud.r-project.org/bin/linux/ubuntu bionic-cran40/ InRelease\n",
            "Hit:13 http://ppa.launchpad.net/deadsnakes/ppa/ubuntu bionic InRelease\n",
            "Get:14 http://archive.ubuntu.com/ubuntu bionic-backports InRelease [74.6 kB]\n",
            "Hit:15 http://ppa.launchpad.net/graphics-drivers/ppa/ubuntu bionic InRelease\n",
            "Fetched 252 kB in 3s (77.2 kB/s)\n",
            "Reading package lists... Done\n",
            "Building dependency tree       \n",
            "Reading state information... Done\n",
            "82 packages can be upgraded. Run 'apt list --upgradable' to see them.\n",
            "Reading package lists... Done\n",
            "Building dependency tree       \n",
            "Reading state information... Done\n",
            "python-dev is already the newest version (2.7.15~rc1-1).\n",
            "gcc is already the newest version (4:7.4.0-1ubuntu2.3).\n",
            "libkrb5-dev is already the newest version (1.16-2ubuntu0.2).\n",
            "0 upgraded, 0 newly installed, 0 to remove and 82 not upgraded.\n"
          ]
        }
      ],
      "source": [
        "!apt update\n",
        "!apt install gcc python-dev libkrb5-dev"
      ]
    },
    {
      "cell_type": "markdown",
      "metadata": {
        "id": "dfjGBhj2nqdx"
      },
      "source": [
        "# **Part I:** Preprocessing and Modeling in `scikit-learn` (65 points)"
      ]
    },
    {
      "cell_type": "markdown",
      "metadata": {
        "id": "8NK8KtAccKOr"
      },
      "source": [
        "## **1.1** Data Loading and Preprocessing\n"
      ]
    },
    {
      "cell_type": "markdown",
      "metadata": {
        "id": "1Sw7LCAacKOu"
      },
      "source": [
        "### **1.1.1** Read\n",
        "\n",
        "We are using one CSV for this homework, `rideshare_kaggle.csv` from [this Kaggle](https://www.kaggle.com/brllrb/uber-and-lyft-dataset-boston-ma) dataset. The price corresponds to the prices of each ride. Go to the Kaggle link and create an account, go to Account, click on Create New API Token to get the API key in the form of a json file ```kaggle.json```! This can be helpful for your project if you decide to use Kaggle. \n",
        "\n",
        "Load `rideshare_kaggle.csv` as `rides_df`."
      ]
    },
    {
      "cell_type": "code",
      "execution_count": null,
      "metadata": {
        "colab": {
          "base_uri": "https://localhost:8080/"
        },
        "id": "29JnUuqzfu5R",
        "outputId": "7a8c8480-b33d-43a4-a93e-c2bb6b24e61c"
      },
      "outputs": [
        {
          "output_type": "stream",
          "name": "stdout",
          "text": [
            "Requirement already satisfied: kaggle in /usr/local/lib/python3.7/dist-packages (1.5.12)\n",
            "Requirement already satisfied: tqdm in /usr/local/lib/python3.7/dist-packages (from kaggle) (4.63.0)\n",
            "Requirement already satisfied: six>=1.10 in /usr/local/lib/python3.7/dist-packages (from kaggle) (1.15.0)\n",
            "Requirement already satisfied: requests in /usr/local/lib/python3.7/dist-packages (from kaggle) (2.23.0)\n",
            "Requirement already satisfied: certifi in /usr/local/lib/python3.7/dist-packages (from kaggle) (2021.10.8)\n",
            "Requirement already satisfied: python-dateutil in /usr/local/lib/python3.7/dist-packages (from kaggle) (2.8.2)\n",
            "Requirement already satisfied: python-slugify in /usr/local/lib/python3.7/dist-packages (from kaggle) (6.1.1)\n",
            "Requirement already satisfied: urllib3 in /usr/local/lib/python3.7/dist-packages (from kaggle) (1.24.3)\n",
            "Requirement already satisfied: text-unidecode>=1.3 in /usr/local/lib/python3.7/dist-packages (from python-slugify->kaggle) (1.3)\n",
            "Requirement already satisfied: chardet<4,>=3.0.2 in /usr/local/lib/python3.7/dist-packages (from requests->kaggle) (3.0.4)\n",
            "Requirement already satisfied: idna<3,>=2.5 in /usr/local/lib/python3.7/dist-packages (from requests->kaggle) (2.10)\n"
          ]
        }
      ],
      "source": [
        "!pip install kaggle"
      ]
    },
    {
      "cell_type": "markdown",
      "metadata": {
        "id": "MhBHR4XNjxes"
      },
      "source": [
        "Click on the folder button on the left panel, then upload the ```kaggle.json``` file to content! Use the ![image.png](data:image/png;base64,iVBORw0KGgoAAAANSUhEUgAAACIAAAAcCAYAAAAEN20fAAAAAXNSR0IArs4c6QAAAARnQU1BAACxjwv8YQUAAAAJcEhZcwAADsMAAA7DAcdvqGQAAAFESURBVEhL7ZZBjkRAFIbfzNqePXtbN7B0Aw5gR+IQEu5A4gCWDuAA9uwdgPVM/kpVwqRnVFdV90wm/SXyeBa+lP8Vb0EQfNAf4J3XX+cl8hWpjCRJQnEc86vbbNtGeZ7TPM+8cx+XIpZlUd/3tO/7tw9xHIds29aSuRTxfZ/quqZpmijLMt49c1wxVRnjGcEKVlVFnufxjhwPCauKzMOmRsggPzIYEVnXlWXoeCDckEGIZTAiMgwDC/LxeHpYZZf+Ci2RMAyp6zpWdVEWwcOLomDnqLoySiJHCYGuzN0imIQ0Tdn5siynij7uq3C3CLZwMRnjOLIealmWrIf7Kii9Gowm9oojGGGVj51AOaym0RIRGxmqLpe/AdiwsFfg3YtQyuC6LgtuFEVSuTH2h3aLtm2paRp+9TNSIs/gf4TVJC+RM0SfnIKZRHxHcTIAAAAASUVORK5CYII=) button on the left panel.\n",
        "\n",
        "Once done, simply run the following commands!"
      ]
    },
    {
      "cell_type": "code",
      "execution_count": null,
      "metadata": {
        "id": "lQUgnXKvg95m",
        "colab": {
          "base_uri": "https://localhost:8080/"
        },
        "outputId": "85fcb82d-774f-47ed-a087-2f21c1ce7364"
      },
      "outputs": [
        {
          "output_type": "stream",
          "name": "stdout",
          "text": [
            "mkdir: cannot create directory ‘/root/.kaggle’: File exists\n"
          ]
        }
      ],
      "source": [
        "# Create the kaggle directory and read the uploaded kaggle.json file\n",
        "!mkdir ~/.kaggle\n",
        "!cp kaggle.json ~/.kaggle/"
      ]
    },
    {
      "cell_type": "code",
      "execution_count": null,
      "metadata": {
        "colab": {
          "base_uri": "https://localhost:8080/"
        },
        "id": "njhDTXTEf-TJ",
        "outputId": "5fec0e3c-fa27-47cd-f519-c32aecd1950c"
      },
      "outputs": [
        {
          "output_type": "stream",
          "name": "stdout",
          "text": [
            "Warning: Your Kaggle API key is readable by other users on this system! To fix this, you can run 'chmod 600 /root/.kaggle/kaggle.json'\n",
            "uber-and-lyft-dataset-boston-ma.zip: Skipping, found more recently modified local copy (use --force to force download)\n"
          ]
        }
      ],
      "source": [
        "# Download dataset\n",
        "!kaggle datasets download -d brllrb/uber-and-lyft-dataset-boston-ma"
      ]
    },
    {
      "cell_type": "code",
      "execution_count": null,
      "metadata": {
        "colab": {
          "base_uri": "https://localhost:8080/"
        },
        "id": "MxrxHX05hcNs",
        "outputId": "b387bc39-f8a6-41ae-e843-76664b7a865f"
      },
      "outputs": [
        {
          "output_type": "stream",
          "name": "stdout",
          "text": [
            "Archive:  /content/uber-and-lyft-dataset-boston-ma.zip\n",
            "replace rideshare_kaggle.csv? [y]es, [n]o, [A]ll, [N]one, [r]ename: y\n",
            "  inflating: rideshare_kaggle.csv    \n"
          ]
        }
      ],
      "source": [
        "# Unzip folder in Colab content folder\n",
        "!unzip /content/uber-and-lyft-dataset-boston-ma.zip"
      ]
    },
    {
      "cell_type": "code",
      "execution_count": null,
      "metadata": {
        "colab": {
          "base_uri": "https://localhost:8080/",
          "height": 1000
        },
        "id": "PB4RPNywcKOv",
        "outputId": "3773bc0e-6c0d-460c-8592-0d6181457105"
      },
      "outputs": [
        {
          "output_type": "execute_result",
          "data": {
            "text/plain": [
              "                                          id     timestamp  hour  day  month  \\\n",
              "0       424553bb-7174-41ea-aeb4-fe06d4f4b9d7  1.544953e+09     9   16     12   \n",
              "1       4bd23055-6827-41c6-b23b-3c491f24e74d  1.543284e+09     2   27     11   \n",
              "2       981a3613-77af-4620-a42a-0c0866077d1e  1.543367e+09     1   28     11   \n",
              "3       c2d88af2-d278-4bfd-a8d0-29ca77cc5512  1.543554e+09     4   30     11   \n",
              "4       e0126e1f-8ca9-4f2e-82b3-50505a09db9a  1.543463e+09     3   29     11   \n",
              "...                                      ...           ...   ...  ...    ...   \n",
              "693066  616d3611-1820-450a-9845-a9ff304a4842  1.543708e+09    23    1     12   \n",
              "693067  633a3fc3-1f86-4b9e-9d48-2b7132112341  1.543708e+09    23    1     12   \n",
              "693068  64d451d0-639f-47a4-9b7c-6fd92fbd264f  1.543708e+09    23    1     12   \n",
              "693069  727e5f07-a96b-4ad1-a2c7-9abc3ad55b4e  1.543708e+09    23    1     12   \n",
              "693070  e7fdc087-fe86-40a5-a3c3-3b2a8badcbda  1.543708e+09    23    1     12   \n",
              "\n",
              "                   datetime          timezone            source  \\\n",
              "0       2018-12-16 09:30:07  America/New_York  Haymarket Square   \n",
              "1       2018-11-27 02:00:23  America/New_York  Haymarket Square   \n",
              "2       2018-11-28 01:00:22  America/New_York  Haymarket Square   \n",
              "3       2018-11-30 04:53:02  America/New_York  Haymarket Square   \n",
              "4       2018-11-29 03:49:20  America/New_York  Haymarket Square   \n",
              "...                     ...               ...               ...   \n",
              "693066  2018-12-01 23:53:05  America/New_York          West End   \n",
              "693067  2018-12-01 23:53:05  America/New_York          West End   \n",
              "693068  2018-12-01 23:53:05  America/New_York          West End   \n",
              "693069  2018-12-01 23:53:05  America/New_York          West End   \n",
              "693070  2018-12-01 23:53:05  America/New_York          West End   \n",
              "\n",
              "          destination cab_type  ... precipIntensityMax uvIndexTime  \\\n",
              "0       North Station     Lyft  ...             0.1276  1544979600   \n",
              "1       North Station     Lyft  ...             0.1300  1543251600   \n",
              "2       North Station     Lyft  ...             0.1064  1543338000   \n",
              "3       North Station     Lyft  ...             0.0000  1543507200   \n",
              "4       North Station     Lyft  ...             0.0001  1543420800   \n",
              "...               ...      ...  ...                ...         ...   \n",
              "693066      North End     Uber  ...             0.0000  1543683600   \n",
              "693067      North End     Uber  ...             0.0000  1543683600   \n",
              "693068      North End     Uber  ...             0.0000  1543683600   \n",
              "693069      North End     Uber  ...             0.0000  1543683600   \n",
              "693070      North End     Uber  ...             0.0000  1543683600   \n",
              "\n",
              "        temperatureMin  temperatureMinTime  temperatureMax  \\\n",
              "0                39.89          1545012000           43.68   \n",
              "1                40.49          1543233600           47.30   \n",
              "2                35.36          1543377600           47.55   \n",
              "3                34.67          1543550400           45.03   \n",
              "4                33.10          1543402800           42.18   \n",
              "...                ...                 ...             ...   \n",
              "693066           31.42          1543658400           44.76   \n",
              "693067           31.42          1543658400           44.76   \n",
              "693068           31.42          1543658400           44.76   \n",
              "693069           31.42          1543658400           44.76   \n",
              "693070           31.42          1543658400           44.76   \n",
              "\n",
              "        temperatureMaxTime  apparentTemperatureMin  \\\n",
              "0               1544968800                   33.73   \n",
              "1               1543251600                   36.20   \n",
              "2               1543320000                   31.04   \n",
              "3               1543510800                   30.30   \n",
              "4               1543420800                   29.11   \n",
              "...                    ...                     ...   \n",
              "693066          1543690800                   27.77   \n",
              "693067          1543690800                   27.77   \n",
              "693068          1543690800                   27.77   \n",
              "693069          1543690800                   27.77   \n",
              "693070          1543690800                   27.77   \n",
              "\n",
              "        apparentTemperatureMinTime  apparentTemperatureMax  \\\n",
              "0                       1545012000                   38.07   \n",
              "1                       1543291200                   43.92   \n",
              "2                       1543377600                   44.12   \n",
              "3                       1543550400                   38.53   \n",
              "4                       1543392000                   35.75   \n",
              "...                            ...                     ...   \n",
              "693066                  1543658400                   44.09   \n",
              "693067                  1543658400                   44.09   \n",
              "693068                  1543658400                   44.09   \n",
              "693069                  1543658400                   44.09   \n",
              "693070                  1543658400                   44.09   \n",
              "\n",
              "       apparentTemperatureMaxTime  \n",
              "0                      1544958000  \n",
              "1                      1543251600  \n",
              "2                      1543320000  \n",
              "3                      1543510800  \n",
              "4                      1543420800  \n",
              "...                           ...  \n",
              "693066                 1543690800  \n",
              "693067                 1543690800  \n",
              "693068                 1543690800  \n",
              "693069                 1543690800  \n",
              "693070                 1543690800  \n",
              "\n",
              "[693071 rows x 57 columns]"
            ],
            "text/html": [
              "\n",
              "  <div id=\"df-b9ea4282-e51b-46c2-95c5-a189f0f19c31\">\n",
              "    <div class=\"colab-df-container\">\n",
              "      <div>\n",
              "<style scoped>\n",
              "    .dataframe tbody tr th:only-of-type {\n",
              "        vertical-align: middle;\n",
              "    }\n",
              "\n",
              "    .dataframe tbody tr th {\n",
              "        vertical-align: top;\n",
              "    }\n",
              "\n",
              "    .dataframe thead th {\n",
              "        text-align: right;\n",
              "    }\n",
              "</style>\n",
              "<table border=\"1\" class=\"dataframe\">\n",
              "  <thead>\n",
              "    <tr style=\"text-align: right;\">\n",
              "      <th></th>\n",
              "      <th>id</th>\n",
              "      <th>timestamp</th>\n",
              "      <th>hour</th>\n",
              "      <th>day</th>\n",
              "      <th>month</th>\n",
              "      <th>datetime</th>\n",
              "      <th>timezone</th>\n",
              "      <th>source</th>\n",
              "      <th>destination</th>\n",
              "      <th>cab_type</th>\n",
              "      <th>...</th>\n",
              "      <th>precipIntensityMax</th>\n",
              "      <th>uvIndexTime</th>\n",
              "      <th>temperatureMin</th>\n",
              "      <th>temperatureMinTime</th>\n",
              "      <th>temperatureMax</th>\n",
              "      <th>temperatureMaxTime</th>\n",
              "      <th>apparentTemperatureMin</th>\n",
              "      <th>apparentTemperatureMinTime</th>\n",
              "      <th>apparentTemperatureMax</th>\n",
              "      <th>apparentTemperatureMaxTime</th>\n",
              "    </tr>\n",
              "  </thead>\n",
              "  <tbody>\n",
              "    <tr>\n",
              "      <th>0</th>\n",
              "      <td>424553bb-7174-41ea-aeb4-fe06d4f4b9d7</td>\n",
              "      <td>1.544953e+09</td>\n",
              "      <td>9</td>\n",
              "      <td>16</td>\n",
              "      <td>12</td>\n",
              "      <td>2018-12-16 09:30:07</td>\n",
              "      <td>America/New_York</td>\n",
              "      <td>Haymarket Square</td>\n",
              "      <td>North Station</td>\n",
              "      <td>Lyft</td>\n",
              "      <td>...</td>\n",
              "      <td>0.1276</td>\n",
              "      <td>1544979600</td>\n",
              "      <td>39.89</td>\n",
              "      <td>1545012000</td>\n",
              "      <td>43.68</td>\n",
              "      <td>1544968800</td>\n",
              "      <td>33.73</td>\n",
              "      <td>1545012000</td>\n",
              "      <td>38.07</td>\n",
              "      <td>1544958000</td>\n",
              "    </tr>\n",
              "    <tr>\n",
              "      <th>1</th>\n",
              "      <td>4bd23055-6827-41c6-b23b-3c491f24e74d</td>\n",
              "      <td>1.543284e+09</td>\n",
              "      <td>2</td>\n",
              "      <td>27</td>\n",
              "      <td>11</td>\n",
              "      <td>2018-11-27 02:00:23</td>\n",
              "      <td>America/New_York</td>\n",
              "      <td>Haymarket Square</td>\n",
              "      <td>North Station</td>\n",
              "      <td>Lyft</td>\n",
              "      <td>...</td>\n",
              "      <td>0.1300</td>\n",
              "      <td>1543251600</td>\n",
              "      <td>40.49</td>\n",
              "      <td>1543233600</td>\n",
              "      <td>47.30</td>\n",
              "      <td>1543251600</td>\n",
              "      <td>36.20</td>\n",
              "      <td>1543291200</td>\n",
              "      <td>43.92</td>\n",
              "      <td>1543251600</td>\n",
              "    </tr>\n",
              "    <tr>\n",
              "      <th>2</th>\n",
              "      <td>981a3613-77af-4620-a42a-0c0866077d1e</td>\n",
              "      <td>1.543367e+09</td>\n",
              "      <td>1</td>\n",
              "      <td>28</td>\n",
              "      <td>11</td>\n",
              "      <td>2018-11-28 01:00:22</td>\n",
              "      <td>America/New_York</td>\n",
              "      <td>Haymarket Square</td>\n",
              "      <td>North Station</td>\n",
              "      <td>Lyft</td>\n",
              "      <td>...</td>\n",
              "      <td>0.1064</td>\n",
              "      <td>1543338000</td>\n",
              "      <td>35.36</td>\n",
              "      <td>1543377600</td>\n",
              "      <td>47.55</td>\n",
              "      <td>1543320000</td>\n",
              "      <td>31.04</td>\n",
              "      <td>1543377600</td>\n",
              "      <td>44.12</td>\n",
              "      <td>1543320000</td>\n",
              "    </tr>\n",
              "    <tr>\n",
              "      <th>3</th>\n",
              "      <td>c2d88af2-d278-4bfd-a8d0-29ca77cc5512</td>\n",
              "      <td>1.543554e+09</td>\n",
              "      <td>4</td>\n",
              "      <td>30</td>\n",
              "      <td>11</td>\n",
              "      <td>2018-11-30 04:53:02</td>\n",
              "      <td>America/New_York</td>\n",
              "      <td>Haymarket Square</td>\n",
              "      <td>North Station</td>\n",
              "      <td>Lyft</td>\n",
              "      <td>...</td>\n",
              "      <td>0.0000</td>\n",
              "      <td>1543507200</td>\n",
              "      <td>34.67</td>\n",
              "      <td>1543550400</td>\n",
              "      <td>45.03</td>\n",
              "      <td>1543510800</td>\n",
              "      <td>30.30</td>\n",
              "      <td>1543550400</td>\n",
              "      <td>38.53</td>\n",
              "      <td>1543510800</td>\n",
              "    </tr>\n",
              "    <tr>\n",
              "      <th>4</th>\n",
              "      <td>e0126e1f-8ca9-4f2e-82b3-50505a09db9a</td>\n",
              "      <td>1.543463e+09</td>\n",
              "      <td>3</td>\n",
              "      <td>29</td>\n",
              "      <td>11</td>\n",
              "      <td>2018-11-29 03:49:20</td>\n",
              "      <td>America/New_York</td>\n",
              "      <td>Haymarket Square</td>\n",
              "      <td>North Station</td>\n",
              "      <td>Lyft</td>\n",
              "      <td>...</td>\n",
              "      <td>0.0001</td>\n",
              "      <td>1543420800</td>\n",
              "      <td>33.10</td>\n",
              "      <td>1543402800</td>\n",
              "      <td>42.18</td>\n",
              "      <td>1543420800</td>\n",
              "      <td>29.11</td>\n",
              "      <td>1543392000</td>\n",
              "      <td>35.75</td>\n",
              "      <td>1543420800</td>\n",
              "    </tr>\n",
              "    <tr>\n",
              "      <th>...</th>\n",
              "      <td>...</td>\n",
              "      <td>...</td>\n",
              "      <td>...</td>\n",
              "      <td>...</td>\n",
              "      <td>...</td>\n",
              "      <td>...</td>\n",
              "      <td>...</td>\n",
              "      <td>...</td>\n",
              "      <td>...</td>\n",
              "      <td>...</td>\n",
              "      <td>...</td>\n",
              "      <td>...</td>\n",
              "      <td>...</td>\n",
              "      <td>...</td>\n",
              "      <td>...</td>\n",
              "      <td>...</td>\n",
              "      <td>...</td>\n",
              "      <td>...</td>\n",
              "      <td>...</td>\n",
              "      <td>...</td>\n",
              "      <td>...</td>\n",
              "    </tr>\n",
              "    <tr>\n",
              "      <th>693066</th>\n",
              "      <td>616d3611-1820-450a-9845-a9ff304a4842</td>\n",
              "      <td>1.543708e+09</td>\n",
              "      <td>23</td>\n",
              "      <td>1</td>\n",
              "      <td>12</td>\n",
              "      <td>2018-12-01 23:53:05</td>\n",
              "      <td>America/New_York</td>\n",
              "      <td>West End</td>\n",
              "      <td>North End</td>\n",
              "      <td>Uber</td>\n",
              "      <td>...</td>\n",
              "      <td>0.0000</td>\n",
              "      <td>1543683600</td>\n",
              "      <td>31.42</td>\n",
              "      <td>1543658400</td>\n",
              "      <td>44.76</td>\n",
              "      <td>1543690800</td>\n",
              "      <td>27.77</td>\n",
              "      <td>1543658400</td>\n",
              "      <td>44.09</td>\n",
              "      <td>1543690800</td>\n",
              "    </tr>\n",
              "    <tr>\n",
              "      <th>693067</th>\n",
              "      <td>633a3fc3-1f86-4b9e-9d48-2b7132112341</td>\n",
              "      <td>1.543708e+09</td>\n",
              "      <td>23</td>\n",
              "      <td>1</td>\n",
              "      <td>12</td>\n",
              "      <td>2018-12-01 23:53:05</td>\n",
              "      <td>America/New_York</td>\n",
              "      <td>West End</td>\n",
              "      <td>North End</td>\n",
              "      <td>Uber</td>\n",
              "      <td>...</td>\n",
              "      <td>0.0000</td>\n",
              "      <td>1543683600</td>\n",
              "      <td>31.42</td>\n",
              "      <td>1543658400</td>\n",
              "      <td>44.76</td>\n",
              "      <td>1543690800</td>\n",
              "      <td>27.77</td>\n",
              "      <td>1543658400</td>\n",
              "      <td>44.09</td>\n",
              "      <td>1543690800</td>\n",
              "    </tr>\n",
              "    <tr>\n",
              "      <th>693068</th>\n",
              "      <td>64d451d0-639f-47a4-9b7c-6fd92fbd264f</td>\n",
              "      <td>1.543708e+09</td>\n",
              "      <td>23</td>\n",
              "      <td>1</td>\n",
              "      <td>12</td>\n",
              "      <td>2018-12-01 23:53:05</td>\n",
              "      <td>America/New_York</td>\n",
              "      <td>West End</td>\n",
              "      <td>North End</td>\n",
              "      <td>Uber</td>\n",
              "      <td>...</td>\n",
              "      <td>0.0000</td>\n",
              "      <td>1543683600</td>\n",
              "      <td>31.42</td>\n",
              "      <td>1543658400</td>\n",
              "      <td>44.76</td>\n",
              "      <td>1543690800</td>\n",
              "      <td>27.77</td>\n",
              "      <td>1543658400</td>\n",
              "      <td>44.09</td>\n",
              "      <td>1543690800</td>\n",
              "    </tr>\n",
              "    <tr>\n",
              "      <th>693069</th>\n",
              "      <td>727e5f07-a96b-4ad1-a2c7-9abc3ad55b4e</td>\n",
              "      <td>1.543708e+09</td>\n",
              "      <td>23</td>\n",
              "      <td>1</td>\n",
              "      <td>12</td>\n",
              "      <td>2018-12-01 23:53:05</td>\n",
              "      <td>America/New_York</td>\n",
              "      <td>West End</td>\n",
              "      <td>North End</td>\n",
              "      <td>Uber</td>\n",
              "      <td>...</td>\n",
              "      <td>0.0000</td>\n",
              "      <td>1543683600</td>\n",
              "      <td>31.42</td>\n",
              "      <td>1543658400</td>\n",
              "      <td>44.76</td>\n",
              "      <td>1543690800</td>\n",
              "      <td>27.77</td>\n",
              "      <td>1543658400</td>\n",
              "      <td>44.09</td>\n",
              "      <td>1543690800</td>\n",
              "    </tr>\n",
              "    <tr>\n",
              "      <th>693070</th>\n",
              "      <td>e7fdc087-fe86-40a5-a3c3-3b2a8badcbda</td>\n",
              "      <td>1.543708e+09</td>\n",
              "      <td>23</td>\n",
              "      <td>1</td>\n",
              "      <td>12</td>\n",
              "      <td>2018-12-01 23:53:05</td>\n",
              "      <td>America/New_York</td>\n",
              "      <td>West End</td>\n",
              "      <td>North End</td>\n",
              "      <td>Uber</td>\n",
              "      <td>...</td>\n",
              "      <td>0.0000</td>\n",
              "      <td>1543683600</td>\n",
              "      <td>31.42</td>\n",
              "      <td>1543658400</td>\n",
              "      <td>44.76</td>\n",
              "      <td>1543690800</td>\n",
              "      <td>27.77</td>\n",
              "      <td>1543658400</td>\n",
              "      <td>44.09</td>\n",
              "      <td>1543690800</td>\n",
              "    </tr>\n",
              "  </tbody>\n",
              "</table>\n",
              "<p>693071 rows × 57 columns</p>\n",
              "</div>\n",
              "      <button class=\"colab-df-convert\" onclick=\"convertToInteractive('df-b9ea4282-e51b-46c2-95c5-a189f0f19c31')\"\n",
              "              title=\"Convert this dataframe to an interactive table.\"\n",
              "              style=\"display:none;\">\n",
              "        \n",
              "  <svg xmlns=\"http://www.w3.org/2000/svg\" height=\"24px\"viewBox=\"0 0 24 24\"\n",
              "       width=\"24px\">\n",
              "    <path d=\"M0 0h24v24H0V0z\" fill=\"none\"/>\n",
              "    <path d=\"M18.56 5.44l.94 2.06.94-2.06 2.06-.94-2.06-.94-.94-2.06-.94 2.06-2.06.94zm-11 1L8.5 8.5l.94-2.06 2.06-.94-2.06-.94L8.5 2.5l-.94 2.06-2.06.94zm10 10l.94 2.06.94-2.06 2.06-.94-2.06-.94-.94-2.06-.94 2.06-2.06.94z\"/><path d=\"M17.41 7.96l-1.37-1.37c-.4-.4-.92-.59-1.43-.59-.52 0-1.04.2-1.43.59L10.3 9.45l-7.72 7.72c-.78.78-.78 2.05 0 2.83L4 21.41c.39.39.9.59 1.41.59.51 0 1.02-.2 1.41-.59l7.78-7.78 2.81-2.81c.8-.78.8-2.07 0-2.86zM5.41 20L4 18.59l7.72-7.72 1.47 1.35L5.41 20z\"/>\n",
              "  </svg>\n",
              "      </button>\n",
              "      \n",
              "  <style>\n",
              "    .colab-df-container {\n",
              "      display:flex;\n",
              "      flex-wrap:wrap;\n",
              "      gap: 12px;\n",
              "    }\n",
              "\n",
              "    .colab-df-convert {\n",
              "      background-color: #E8F0FE;\n",
              "      border: none;\n",
              "      border-radius: 50%;\n",
              "      cursor: pointer;\n",
              "      display: none;\n",
              "      fill: #1967D2;\n",
              "      height: 32px;\n",
              "      padding: 0 0 0 0;\n",
              "      width: 32px;\n",
              "    }\n",
              "\n",
              "    .colab-df-convert:hover {\n",
              "      background-color: #E2EBFA;\n",
              "      box-shadow: 0px 1px 2px rgba(60, 64, 67, 0.3), 0px 1px 3px 1px rgba(60, 64, 67, 0.15);\n",
              "      fill: #174EA6;\n",
              "    }\n",
              "\n",
              "    [theme=dark] .colab-df-convert {\n",
              "      background-color: #3B4455;\n",
              "      fill: #D2E3FC;\n",
              "    }\n",
              "\n",
              "    [theme=dark] .colab-df-convert:hover {\n",
              "      background-color: #434B5C;\n",
              "      box-shadow: 0px 1px 3px 1px rgba(0, 0, 0, 0.15);\n",
              "      filter: drop-shadow(0px 1px 2px rgba(0, 0, 0, 0.3));\n",
              "      fill: #FFFFFF;\n",
              "    }\n",
              "  </style>\n",
              "\n",
              "      <script>\n",
              "        const buttonEl =\n",
              "          document.querySelector('#df-b9ea4282-e51b-46c2-95c5-a189f0f19c31 button.colab-df-convert');\n",
              "        buttonEl.style.display =\n",
              "          google.colab.kernel.accessAllowed ? 'block' : 'none';\n",
              "\n",
              "        async function convertToInteractive(key) {\n",
              "          const element = document.querySelector('#df-b9ea4282-e51b-46c2-95c5-a189f0f19c31');\n",
              "          const dataTable =\n",
              "            await google.colab.kernel.invokeFunction('convertToInteractive',\n",
              "                                                     [key], {});\n",
              "          if (!dataTable) return;\n",
              "\n",
              "          const docLinkHtml = 'Like what you see? Visit the ' +\n",
              "            '<a target=\"_blank\" href=https://colab.research.google.com/notebooks/data_table.ipynb>data table notebook</a>'\n",
              "            + ' to learn more about interactive tables.';\n",
              "          element.innerHTML = '';\n",
              "          dataTable['output_type'] = 'display_data';\n",
              "          await google.colab.output.renderOutput(dataTable, element);\n",
              "          const docLink = document.createElement('div');\n",
              "          docLink.innerHTML = docLinkHtml;\n",
              "          element.appendChild(docLink);\n",
              "        }\n",
              "      </script>\n",
              "    </div>\n",
              "  </div>\n",
              "  "
            ]
          },
          "metadata": {},
          "execution_count": 10
        }
      ],
      "source": [
        "# TO-DO: Read the csv file and save it to a dataframe called \"rides_df\"\n",
        "rides_df = pd.read_csv('rideshare_kaggle.csv')\n",
        "rides_df"
      ]
    },
    {
      "cell_type": "markdown",
      "metadata": {
        "id": "P6uMmFxacKOv"
      },
      "source": [
        "### **1.1.2** Check Nulls\n",
        "\n",
        "Remove all the rows that have NaN in price. Store this into `rides_df`."
      ]
    },
    {
      "cell_type": "code",
      "execution_count": null,
      "metadata": {
        "id": "NEirwemqcKOw"
      },
      "outputs": [],
      "source": [
        "# TO-DO: Remove NaN in the price column\n",
        "rides_df.dropna(subset=['price'],inplace=True)"
      ]
    },
    {
      "cell_type": "code",
      "execution_count": null,
      "metadata": {
        "colab": {
          "base_uri": "https://localhost:8080/"
        },
        "id": "cqk_Gns0RXND",
        "outputId": "85b1a2d2-d31f-419c-a4c9-4e621697b6a6"
      },
      "outputs": [
        {
          "output_type": "stream",
          "name": "stdout",
          "text": [
            "Correct! You earned 2/2 points. You are a star!\n",
            "\n",
            "Your submission has been successfully recorded in the gradebook.\n"
          ]
        }
      ],
      "source": [
        "# 2 points\n",
        "grader.grade(test_case_id = 'check_remove_nans', answer = rides_df.shape)"
      ]
    },
    {
      "cell_type": "markdown",
      "metadata": {
        "id": "pysFrZsLcKOx"
      },
      "source": [
        "## **1.2** EDA\n",
        "\n",
        "Exploratory Data Analysis (EDA) is an approach to analyzing data sets to summarize their main characteristics, often with visual methods. A statistical model can be used or not, but primarily EDA is for seeing what the data can tell us beyond the formal modeling or hypothesis testing task.\n"
      ]
    },
    {
      "cell_type": "markdown",
      "metadata": {
        "id": "udDV2IEs_HkX"
      },
      "source": [
        "### 1.2.0 Tidying Up\n",
        "\n",
        "Upon inspection, we can see that the `product_id` column isn't going to be useful since `name` already contains the information that we need. Likewise, we won't need to use `timestamp` since `datetime` gives us more interpretable information."
      ]
    },
    {
      "cell_type": "code",
      "execution_count": null,
      "metadata": {
        "id": "CWRe5oyyeueR"
      },
      "outputs": [],
      "source": [
        "# TO-DO: Drop the \"product_id\" and \"timestamp\" columns, but keep everything else for now\n",
        "rides_df.drop(columns=['product_id','timestamp'],inplace=True)"
      ]
    },
    {
      "cell_type": "markdown",
      "metadata": {
        "id": "7aABEKRa-1py"
      },
      "source": [
        "The `name` column isn't a very self-explanatory column title though, so let's rename it `fare_type`."
      ]
    },
    {
      "cell_type": "code",
      "execution_count": null,
      "metadata": {
        "id": "-VellYsmz1uJ"
      },
      "outputs": [],
      "source": [
        "# TO-DO: Rename the \"name\" column so that the new name is \"fare_type\"\n",
        "rides_df.rename(columns={'name':'fare_type'},inplace=True)"
      ]
    },
    {
      "cell_type": "markdown",
      "metadata": {
        "id": "SrzD6cT4ug06"
      },
      "source": [
        "As you might suspect, there is not necessarily a single recipe for conducting EDA that works for all datasets. We are guiding you through a few standard EDA tasks, but in order to build a good model, you will need to do some more EDA on your own.\n"
      ]
    },
    {
      "cell_type": "markdown",
      "metadata": {
        "id": "PZSihyFkDR_C"
      },
      "source": [
        "### 1.2.1 Distribution of Fare Types by Carrier\n",
        "\n",
        "Create a Pandas series that shows the number of rides (i.e. number of rows) for each fare type for Uber rides. Call this series `uber_type_counts`, which has been sorted in **descending order** (highest to lowest counts)\n",
        "\n",
        "Repeat this exercise to get the number of rides for each fare_type for Lyft rides and call it `lyft_type_counts`.\n",
        "\n",
        "_(Note: There should be a column that tells you whether a ride was facilitated by Uber or Lyft. You should not need to do any string manipulation on the `fare_type` column)_"
      ]
    },
    {
      "cell_type": "code",
      "execution_count": null,
      "metadata": {
        "id": "DY_8G5akcKOz"
      },
      "outputs": [],
      "source": [
        "# TO-DO: Create uber_type_counts\n",
        "uber_type_counts = rides_df[rides_df['cab_type']=='Uber'].fare_type.value_counts()"
      ]
    },
    {
      "cell_type": "code",
      "execution_count": null,
      "metadata": {
        "id": "HL3fcg66C66x"
      },
      "outputs": [],
      "source": [
        "# TO-DO: Create lyft_type_counts\n",
        "lyft_type_counts = rides_df[rides_df['cab_type']=='Lyft'].fare_type.value_counts()"
      ]
    },
    {
      "cell_type": "code",
      "execution_count": null,
      "metadata": {
        "colab": {
          "base_uri": "https://localhost:8080/"
        },
        "id": "iiIAzVCDEVX9",
        "outputId": "c4902992-af4c-48bd-9ffe-faff091c8584"
      },
      "outputs": [
        {
          "output_type": "stream",
          "name": "stdout",
          "text": [
            "Correct! You earned 5/5 points. You are a star!\n",
            "\n",
            "Your submission has been successfully recorded in the gradebook.\n"
          ]
        }
      ],
      "source": [
        "# 5 points\n",
        "grader.grade(test_case_id = 'carrier_type_counts', answer = (uber_type_counts, lyft_type_counts))"
      ]
    },
    {
      "cell_type": "markdown",
      "metadata": {
        "id": "AR0QLW81SCAi"
      },
      "source": [
        "Now let's visualize this! This is going to be a bit more involved than the plots you've made in HW #1 since we want to help you develop your attention to detail. Most importantly, you always want your plots to be clear and interpretable to your reader.\n",
        "\n",
        "**TO-DO:** Plot a bar chart showing the frequency distribution of all fare types for both Uber and Lyft rides on a _single_ set of axes. Make sure that:\n",
        "- The graph has an appropriate title and axes labels\n",
        "- The $y$-axis has been truncated to show a range between 50,000 to 56,000\n",
        "- Bars are color coded by `cab_type` (carrier):\n",
        "  - All Uber fare type bars are colored _**black**_\n",
        "  - All Lyft fare type bars are colored _**magenta**_.\n",
        "  - You must include the corresponding legend/color key for each platform/carrier (`cab_type`)\n",
        "- Your graph is clearly legible _(e.g. there should not be overlapping text)_\n",
        "\n",
        "**REMINDER:** Do NOT save the plot as a separate image file! You must ensure that the plot is displayed in your Colab notebook before submission. If you do not hit \"Restart and Run All\" to ensure this before your final submission, we _**will deduct -3 points from your final score.**_"
      ]
    },
    {
      "cell_type": "code",
      "execution_count": null,
      "metadata": {
        "colab": {
          "base_uri": "https://localhost:8080/",
          "height": 543
        },
        "id": "AYcRRDxLCUUZ",
        "outputId": "e9a612e4-ed5d-4849-ca32-2fb5db352389"
      },
      "outputs": [
        {
          "output_type": "display_data",
          "data": {
            "text/plain": [
              "<Figure size 936x504 with 1 Axes>"
            ],
            "image/png": "[encoded data removed]"
          },
          "metadata": {}
        }
      ],
      "source": [
        "# TO-DO: Plot the chart using seaborn's countplot function. \n",
        "#        Please make sure to address all bullet points noted above!\n",
        "#        This will be manually graded and worth 5 points.\n",
        "plt.figure(figsize=(13,7))\n",
        "plt.legend(loc='upper right')\n",
        "plt.ylim([50000,56000])\n",
        "plt.tight_layout()\n",
        "type_counts = rides_df[['cab_type','fare_type']]\n",
        "sns.set(style=\"whitegrid\")\n",
        "image = sns.countplot(x=\"fare_type\", hue=\"cab_type\", data=type_counts, palette =['magenta','black'], dodge = 0, linewidth=0)\n",
        "plt.legend(fontsize='15')\n",
        "plt.title(label='The Frequency Distribution of all Fare-types Uber and Lyft',fontsize=20,fontweight=30)\n",
        "plt.xlabel('Fare Types')\n",
        "plt.grid(True)"
      ]
    },
    {
      "cell_type": "markdown",
      "metadata": {
        "id": "UkyfCIICcKO0"
      },
      "source": [
        "### **1.2.2** Use the `datetime` column to extract the calendar date, minutes, and seconds\n",
        "\n",
        "Notice that while this dataset has already extracted the day of the month, the month, and hour of the day from the `'datetime'` column as separate features already, this may not be entirely useful to us. We may prefer to keep this as an actual date, but more importantly, the time components are of interest to us since we don't actually have the minutes and seconds from the timestamp yet."
      ]
    },
    {
      "cell_type": "markdown",
      "metadata": {
        "id": "sinwM5ybYIJs"
      },
      "source": [
        "_**Converting to `datetime` Object**_\n",
        "\n",
        "First, use the `striptime` function from the `datetime` package to convert the \"datetime\" string into a datettime object."
      ]
    },
    {
      "cell_type": "code",
      "execution_count": null,
      "metadata": {
        "id": "gSpDnQZGcKO1"
      },
      "outputs": [],
      "source": [
        "# TO-DO: Convert this into a datetime object \n",
        "#dt.datetime.strptime(rides_df['datetime'],'%Y-%m-%d %H:%M:%S')\n",
        "rides_df['datetime'] = rides_df['datetime'].apply(lambda x: dt.datetime.strptime(x,'%Y-%m-%d %H:%M:%S'))\n"
      ]
    },
    {
      "cell_type": "markdown",
      "metadata": {
        "id": "Lwy6TwskRUpu"
      },
      "source": [
        "_**Extracting Time Components**_\n",
        "\n",
        "Now extract the date (`YYYY-mm-dd` format), minutes, and seconds from it to be stored in columns called \"date\", \"min\" and \"sec\" respectively in the `rides_df` dataframe. Make sure to double-check that the dtypes of these columns are what you would expect!\n",
        "\n",
        "_(Note: the `hour` column already exists in the original dataframe so we don't need to extract it)_"
      ]
    },
    {
      "cell_type": "code",
      "execution_count": null,
      "metadata": {
        "id": "4VSNeUCdcKO2"
      },
      "outputs": [],
      "source": [
        "# TO-DO: Extract the calendar date (YYYY-mm-dd format), the minutes, and seconds to separate columns\n",
        "rides_df[['date']] = pd.DatetimeIndex(rides_df['datetime']).date\n",
        "rides_df[['min']] = pd.DatetimeIndex(rides_df['datetime']).minute \n",
        "rides_df[['sec']] = pd.DatetimeIndex(rides_df['datetime']).second"
      ]
    },
    {
      "cell_type": "code",
      "execution_count": null,
      "metadata": {
        "id": "6tf-J63nbnSy",
        "colab": {
          "base_uri": "https://localhost:8080/"
        },
        "outputId": "2eb667a5-8876-4845-c165-dfb0194ba732"
      },
      "outputs": [
        {
          "output_type": "stream",
          "name": "stdout",
          "text": [
            "Correct! You earned 4/4 points. You are a star!\n",
            "\n",
            "Your submission has been successfully recorded in the gradebook.\n"
          ]
        }
      ],
      "source": [
        "# 4 points\n",
        "grader.grade(test_case_id = 'check_date_minute_second', answer = [rides_df['date'].unique(),\n",
        "                                                                  rides_df[['date', 'min', 'sec']].head()])"
      ]
    },
    {
      "cell_type": "markdown",
      "metadata": {
        "id": "a4VT5NJeVr_6"
      },
      "source": [
        "With that, we have no more use for the original `datetime` column so we can drop it. There are also some other columns that are useless to use so we'll drop them all at once:"
      ]
    },
    {
      "cell_type": "code",
      "execution_count": null,
      "metadata": {
        "id": "lvc95e9_Vrij"
      },
      "outputs": [],
      "source": [
        "# TO-DO: Drop the 'id', 'datetime' 'timezone', 'long_summary', and 'icon' columns from rides_df\n",
        "rides_df.drop(columns = ['id', 'datetime', 'timezone', 'long_summary','icon'],inplace=True)"
      ]
    },
    {
      "cell_type": "markdown",
      "metadata": {
        "id": "ypxtTw1ykY7o"
      },
      "source": [
        "### **1.2.3** Mean, Standard Deviation, Min, and Max\n",
        "\n",
        "There are certain numeric features of interest to us that we want to examine sample statistics for.\n",
        "\n",
        "Compute simple statistics - specifically the mean, standard deviation, min, and max - for each of the following numerical features and store them into lists in this order: `[distance, price, longitude, latitude]`\n",
        "\n",
        "In other words, create 4 lists:\n",
        "- **means** = `[distance_mean, price_mean, longitude_mean, latitude_mean]`\n",
        "- **stdevs** = `[distance_sd, price_sd, longitude_sd, latitude_sd]`\n",
        "- **mins** = `[distance_min, price_min, longitude_min, latitude_min]`\n",
        "- **maxes** = `[distance_max, price_max, longitude_max, latitude_max]`"
      ]
    },
    {
      "cell_type": "code",
      "execution_count": null,
      "metadata": {
        "id": "DwxMReqAkYHs"
      },
      "outputs": [],
      "source": [
        "# TO-DO: Create \"means\" list for distance, price, longitude, and latitude\n",
        "distance_mean = sum(rides_df['distance'])/len(rides_df['distance'])\n",
        "price_mean = sum(rides_df['price'])/len(rides_df['price'])\n",
        "longitude_mean = sum(rides_df['longitude'])/len(rides_df['longitude'])\n",
        "latitude_mean = sum(rides_df['latitude'])/len(rides_df['latitude'])\n",
        "means = [distance_mean, price_mean, longitude_mean, latitude_mean]\n",
        "\n",
        "# TO-DO: Create \"stdevs\" list for distance, price, longitude, and latitude\n",
        "stdevs = [rides_df['distance'].std(),rides_df['price'].std(),rides_df['longitude'].std(),rides_df['latitude'].std()]\n",
        "\n",
        "# TO-DO: Create \"mins\" list for distance, price, longitude, and latitude\n",
        "mins = [rides_df['distance'].min(), rides_df['price'].min(), rides_df['longitude'].min(), rides_df['latitude'].min()]\n",
        "\n",
        "# TO-DO: Create \"max\" list for distance, price, longitude, and latitude\n",
        "maxes = [rides_df['distance'].max(), rides_df['price'].max(), rides_df['longitude'].max(), rides_df['latitude'].max()]\n"
      ]
    },
    {
      "cell_type": "code",
      "execution_count": null,
      "metadata": {
        "id": "1ZT5RTScnW4L",
        "colab": {
          "base_uri": "https://localhost:8080/"
        },
        "outputId": "b403908a-374c-4000-e30e-c447c705753c"
      },
      "outputs": [
        {
          "output_type": "stream",
          "name": "stdout",
          "text": [
            "Correct! You earned 4/4 points. You are a star!\n",
            "\n",
            "Your submission has been successfully recorded in the gradebook.\n"
          ]
        }
      ],
      "source": [
        "# 4 points\n",
        "grader.grade(test_case_id = 'check_min_max_means_std', answer = (maxes, mins, stdevs, means))"
      ]
    },
    {
      "cell_type": "markdown",
      "metadata": {
        "id": "K-JkIcQclNbj"
      },
      "source": [
        "### **1.2.4** Correlation of Feature Variables\n",
        "\n",
        "With such an overwhelming number of features, it can be somewhat exhausting to do bivariate analysis on every possible pair of features. While you certainly should, your first instinct should be to check for the correlation between features since certain models (e.g. Linear Regression) won't work well if we have strong multicollinearity."
      ]
    },
    {
      "cell_type": "markdown",
      "metadata": {
        "id": "7GjB8dGT_UEv"
      },
      "source": [
        "_**Isolating Numerics from Categorical Features**_\n",
        "\n",
        "Before anything else, it may help to create groups of the numeric vs. categorical variables"
      ]
    },
    {
      "cell_type": "code",
      "execution_count": null,
      "metadata": {
        "id": "yo4JmHYrufrC"
      },
      "outputs": [],
      "source": [
        "# TO-DO: create a dataframe called numerics_df to keep the subset of numeric variables columns\n",
        "numerics_df = rides_df.select_dtypes(include = np.number)"
      ]
    },
    {
      "cell_type": "code",
      "execution_count": null,
      "metadata": {
        "id": "GEzChi3afQOU"
      },
      "outputs": [],
      "source": [
        "# TO-DO: create a dataframe called categorical_df to keep the subset of non-numeric columns\n",
        "categorical_df = rides_df.select_dtypes(include='object')"
      ]
    },
    {
      "cell_type": "code",
      "execution_count": null,
      "metadata": {
        "id": "ATqiI-elSIcC",
        "colab": {
          "base_uri": "https://localhost:8080/"
        },
        "outputId": "a9ee4fe6-bb1e-44cd-8c5d-1f50acca24d1"
      },
      "outputs": [
        {
          "output_type": "stream",
          "name": "stdout",
          "text": [
            "Correct! You earned 2/2 points. You are a star!\n",
            "\n",
            "Your submission has been successfully recorded in the gradebook.\n"
          ]
        }
      ],
      "source": [
        "# 2 points\n",
        "grader.grade(test_case_id = 'check_typed_subsets', answer = [numerics_df.columns, categorical_df.columns])"
      ]
    },
    {
      "cell_type": "markdown",
      "metadata": {
        "id": "6RNUI0QhL59O"
      },
      "source": [
        "_**Correlation Heatmap**_\n",
        "\n",
        "Next, create a correlation matrix using `numerics_df` and call it `corr_matrix`. Using that, generate a correlation heatmap for these numeric features. Look into how to use the `seaborn` library to do this _(imported as `sns` above)_.\n",
        "\n",
        "Like the plot in 1.2.1, we are going to be rather strict about the details and presentability when we manually grade this (out of **4 points**). Make sure your correlation heatmap meets the following criteria:\n",
        "- Ensure that your heatmap is appropriately sized: all feature labels should be visible on both the $x$-axis and $y$-axis\n",
        "- Use the `RdBu` color map to ensure that negative correlations are red and positive correlations are blue\n",
        "- Standardize the color scale so that -1 takes the darkest red color, 0 is totally white, and +1 takes the darkest blue color "
      ]
    },
    {
      "cell_type": "code",
      "execution_count": null,
      "metadata": {
        "id": "K2erlmdclW0B",
        "colab": {
          "base_uri": "https://localhost:8080/",
          "height": 974
        },
        "outputId": "0313d9c7-bf8a-4999-e931-cb73ac185ca1"
      },
      "outputs": [
        {
          "output_type": "stream",
          "name": "stderr",
          "text": [
            "/usr/local/lib/python3.7/dist-packages/ipykernel_launcher.py:12: DeprecationWarning: `np.bool` is a deprecated alias for the builtin `bool`. To silence this warning, use `bool` by itself. Doing this will not modify any behavior and is safe. If you specifically wanted the numpy scalar type, use `np.bool_` here.\n",
            "Deprecated in NumPy 1.20; for more details and guidance: https://numpy.org/devdocs/release/1.20.0-notes.html#deprecations\n",
            "  if sys.path[0] == '':\n"
          ]
        },
        {
          "output_type": "display_data",
          "data": {
            "text/plain": [
              "<Figure size 1080x1080 with 2 Axes>"
            ],
            "image/png": "[encoded data removed]"
          },
          "metadata": {}
        }
      ],
      "source": [
        "# TO-DO: Get the correlation matrix\n",
        "corr_matrix = numerics_df.corr()\n",
        "\n",
        "# TO-DO: Plot correlation heatmap (4 points)\n",
        "sns.set(style = \"white\")\n",
        "\n",
        "# Compute the correlation matrix\n",
        "# ASSIGN THE \"corr\" VARIABLE TO YOUR CORRELATION MATRIX\n",
        "corr = corr_matrix\n",
        "\n",
        "# Generate a mask for the upper triangle\n",
        "mask = np.zeros_like(corr, dtype=np.bool)\n",
        "mask[np.triu_indices_from(mask)] = True\n",
        "\n",
        "# Set up the matplotlib figure\n",
        "f, ax = plt.subplots(figsize=(15, 15))\n",
        "\n",
        "# Generate a custom diverging colormap\n",
        "cmap = sns.diverging_palette(220, 10, as_cmap=True)\n",
        "\n",
        "# Draw the heatmap with the mask and correct aspect ratio\n",
        "sns.heatmap(corr, mask=mask, cmap=\"RdBu\",\n",
        "            vmax=1, vmin=-1, center=0,\n",
        "            square=True, linewidths=.5, cbar_kws={\"shrink\": .5})\n",
        "plt.title(\"Correlation Heatmap\",fontsize=15)\n",
        "plt.show()"
      ]
    },
    {
      "cell_type": "markdown",
      "metadata": {
        "id": "QZ1Rkcb_cKO7"
      },
      "source": [
        "## **1.3** Feature Engineering\n",
        "\n",
        "Feature engineering is the process of applying domain knowledge to extract features from raw data via data mining techniques. These features can be used to improve the performance of machine learning algorithms."
      ]
    },
    {
      "cell_type": "markdown",
      "metadata": {
        "id": "rkh1k-V6cKO7"
      },
      "source": [
        "### **1.3.1** Proposed Ranking System for Ordinal Encoding\n",
        "\n",
        "The `short_summary` column contains information on the weather at the timestamp for a particular ride. As such, in order to make the data useful as feature variables, we encode these weathers using _Ordinal Encoding_. If a certain type of weather makes it more difficult for drivers to drive, we want it to have a higher ranked value. Create a new column called `\"weather_factor\"` that contains these ordinal encodings (ranks).\n",
        "\n",
        "**Clarifications**:\n",
        "- To eliminate ambiguity, please rank the weather according to: `Clear < Partly Cloudy < Mostly Cloudy < Overcast < Possible Drizzle < Drizzle < Light Rain < Rain < Foggy`\n",
        "- If the weather is Clear, assign the lowest rank of 0 to it."
      ]
    },
    {
      "cell_type": "code",
      "execution_count": null,
      "metadata": {
        "id": "RREImdfcpbYV"
      },
      "outputs": [],
      "source": [
        "# TO-DO: Create a new column called \"weather_factor\" that takes a ranked integer value between 0 and 8.\n",
        "def rank(w):\n",
        "  w = str(w)\n",
        "  if 'Clear' in w:\n",
        "    return 0\n",
        "  elif 'Partly Cloudy' in w:\n",
        "    return 1\n",
        "  elif 'Mostly Cloudy' in w:\n",
        "    return 2\n",
        "  elif 'Overcast' in w:\n",
        "    return 3\n",
        "  elif 'Possible Drizzle' in w:\n",
        "    return 4\n",
        "  elif 'Drizzle' in w:\n",
        "    return 5\n",
        "  elif 'Light Rain' in w:\n",
        "    return 6\n",
        "  elif 'Rain' in w:\n",
        "    return 7\n",
        "  elif 'Foggy' in w:\n",
        "    return 8\n",
        "  else:\n",
        "    return 0\n",
        "rides_df['weather_factor'] = rides_df.short_summary.apply(lambda x: rank(x))"
      ]
    },
    {
      "cell_type": "code",
      "execution_count": null,
      "metadata": {
        "id": "pSCmdBFznzCE",
        "colab": {
          "base_uri": "https://localhost:8080/"
        },
        "outputId": "fb1f8462-cdfc-48b5-b1c3-d098d6d9752f"
      },
      "outputs": [
        {
          "output_type": "stream",
          "name": "stdout",
          "text": [
            "Correct! You earned 2/2 points. You are a star!\n",
            "\n",
            "Your submission has been successfully recorded in the gradebook.\n"
          ]
        }
      ],
      "source": [
        "# 2 points\n",
        "grader.grade(test_case_id = 'check_short_summary', answer = rides_df['weather_factor'][:10000])"
      ]
    },
    {
      "cell_type": "markdown",
      "metadata": {
        "id": "Fe3ZsHohcKO8"
      },
      "source": [
        "### **1.3.2** Creating Target Variable - whether price exceeds mean threshold for the carrier\n",
        "\n",
        "While this is an ideal dataset for regression modeling, there aren't any obvious choices for meaningful binary target variables for the purpose of classification modeling, which we will get to in Section 1.4. Thus, for the purpose of the exercise, we will need to design a binary target variable to work with: whether the price for a given ride is above the average price.\n",
        "\n",
        "However, recall that this dataset combines data from both Lyft and Uber. While both carriers are competitors in the ridesharing industry, they are each different in their own way. As a result, it won't be meaningful to use a single mean price as a benchmark for our target variable; we will need to consider **each carrier's respective mean** price when comparing rides to that mean."
      ]
    },
    {
      "cell_type": "code",
      "execution_count": null,
      "metadata": {
        "id": "fHZ-z-GGUqOx"
      },
      "outputs": [],
      "source": [
        "# Consider the following features from the original rides_df dataframe\n",
        "# NOTE: we will use this for the rest of Part I, so no more calling `ride_df`\n",
        "new_df = rides_df[['date', 'hour', 'min', 'sec', 'price', 'weather_factor', \n",
        "                   'source', 'destination', 'cab_type', 'fare_type',\n",
        "                   'distance', 'surge_multiplier', 'latitude', 'longitude',\n",
        "                   'temperature', 'humidity', 'windGust', 'visibility',\n",
        "                   'uvIndex', 'precipIntensity', 'precipProbability']]\n"
      ]
    },
    {
      "cell_type": "code",
      "execution_count": null,
      "metadata": {
        "id": "usNxeIe4pc8C"
      },
      "outputs": [],
      "source": [
        "# TO-DO: Get mean price for Uber and Lyft in new_df\n",
        "mean_uber = new_df[new_df['cab_type'] == 'Uber']['price'].mean()\n",
        "mean_lyft = new_df[new_df['cab_type'] == 'Lyft']['price'].mean()"
      ]
    },
    {
      "cell_type": "code",
      "execution_count": null,
      "metadata": {
        "id": "1GyHOr963YCr",
        "colab": {
          "base_uri": "https://localhost:8080/"
        },
        "outputId": "0f5b5708-cf43-4ccc-f70f-160236d271d6"
      },
      "outputs": [
        {
          "output_type": "stream",
          "name": "stderr",
          "text": [
            "/usr/local/lib/python3.7/dist-packages/ipykernel_launcher.py:3: SettingWithCopyWarning: \n",
            "A value is trying to be set on a copy of a slice from a DataFrame.\n",
            "Try using .loc[row_indexer,col_indexer] = value instead\n",
            "\n",
            "See the caveats in the documentation: https://pandas.pydata.org/pandas-docs/stable/user_guide/indexing.html#returning-a-view-versus-a-copy\n",
            "  This is separate from the ipykernel package so we can avoid doing imports until\n",
            "/usr/local/lib/python3.7/dist-packages/pandas/core/indexing.py:1763: SettingWithCopyWarning: \n",
            "A value is trying to be set on a copy of a slice from a DataFrame.\n",
            "Try using .loc[row_indexer,col_indexer] = value instead\n",
            "\n",
            "See the caveats in the documentation: https://pandas.pydata.org/pandas-docs/stable/user_guide/indexing.html#returning-a-view-versus-a-copy\n",
            "  isetter(loc, value)\n"
          ]
        }
      ],
      "source": [
        "# TO-DO: Create the \"above_average\" target variable as a new column in new_df\n",
        "#        where 1: above average score, 0: equal to or below average score for that carrier\n",
        "new_df['above_average'] = [0] * len(new_df['cab_type'])\n",
        "new_df.loc[((new_df['cab_type'] == \"Uber\") & (new_df['price'] > mean_uber)) | ((new_df['cab_type'] == \"Lyft\") & (new_df['price'] > mean_lyft)), 'above_average'] = 1"
      ]
    },
    {
      "cell_type": "code",
      "execution_count": null,
      "metadata": {
        "id": "vmzWSnt85lVJ",
        "colab": {
          "base_uri": "https://localhost:8080/"
        },
        "outputId": "11bfce59-966c-461b-fe82-72671661ef52"
      },
      "outputs": [
        {
          "output_type": "stream",
          "name": "stdout",
          "text": [
            "Correct! You earned 3/3 points. You are a star!\n",
            "\n",
            "Your submission has been successfully recorded in the gradebook.\n"
          ]
        }
      ],
      "source": [
        "# 3 points\n",
        "grader.grade(test_case_id = 'check_average_threshold', answer = (new_df[:1000]['above_average'].sum(),\n",
        "                                                                 mean_uber,\n",
        "                                                                 mean_lyft))"
      ]
    },
    {
      "cell_type": "markdown",
      "metadata": {
        "id": "5jp0gOf-cKO8"
      },
      "source": [
        "### **1.3.3** Label-Encode the Product Types\n",
        "\n",
        "Identify the remaining categorical features and convert them into label-encoded vectors. There are **2 categorical variables that need to be encoded**, `cab_type`, `fare_type`.\n",
        "\n",
        "To do this, we use the [LabelEncoder](https://scikit-learn.org/stable/modules/generated/sklearn.preprocessing.LabelEncoder.html) in the sklearn package. Make sure you keep track of the mappings for reference.\n",
        "\n",
        "Assign all labels to `new_df` as `cab_type_label` and `fare_type_label`."
      ]
    },
    {
      "cell_type": "code",
      "execution_count": null,
      "metadata": {
        "id": "nNeNnR6XcKO9"
      },
      "outputs": [],
      "source": [
        "from sklearn.preprocessing import LabelEncoder\n",
        "\n",
        "# TO-DO: Create label encoders for cab_type and fare_type\n",
        "label_encoder = LabelEncoder()\n",
        "fare_type_label = label_encoder.fit_transform(new_df['fare_type'])\n",
        "cab_type_label = label_encoder.fit_transform(new_df['cab_type'])"
      ]
    },
    {
      "cell_type": "code",
      "execution_count": null,
      "metadata": {
        "id": "qB5dkv5UbS4o",
        "colab": {
          "base_uri": "https://localhost:8080/"
        },
        "outputId": "1e87c217-5096-4a39-8bad-ba54bd7a6627"
      },
      "outputs": [
        {
          "output_type": "stream",
          "name": "stderr",
          "text": [
            "/usr/local/lib/python3.7/dist-packages/ipykernel_launcher.py:2: SettingWithCopyWarning: \n",
            "A value is trying to be set on a copy of a slice from a DataFrame.\n",
            "Try using .loc[row_indexer,col_indexer] = value instead\n",
            "\n",
            "See the caveats in the documentation: https://pandas.pydata.org/pandas-docs/stable/user_guide/indexing.html#returning-a-view-versus-a-copy\n",
            "  \n",
            "/usr/local/lib/python3.7/dist-packages/ipykernel_launcher.py:3: SettingWithCopyWarning: \n",
            "A value is trying to be set on a copy of a slice from a DataFrame.\n",
            "Try using .loc[row_indexer,col_indexer] = value instead\n",
            "\n",
            "See the caveats in the documentation: https://pandas.pydata.org/pandas-docs/stable/user_guide/indexing.html#returning-a-view-versus-a-copy\n",
            "  This is separate from the ipykernel package so we can avoid doing imports until\n"
          ]
        }
      ],
      "source": [
        "# TO-DO: add as new columns to new_df (do not drop any columns yet)\n",
        "new_df['cab_type_label'] = cab_type_label\n",
        "new_df['fare_type_label'] = fare_type_label"
      ]
    },
    {
      "cell_type": "code",
      "execution_count": null,
      "metadata": {
        "id": "zFVpDv-D6rYI",
        "colab": {
          "base_uri": "https://localhost:8080/"
        },
        "outputId": "b1acf3b5-7570-4b9c-ff41-585cea6cfe0e"
      },
      "outputs": [
        {
          "output_type": "stream",
          "name": "stdout",
          "text": [
            "Correct! You earned 3/3 points. You are a star!\n",
            "\n",
            "Your submission has been successfully recorded in the gradebook.\n"
          ]
        }
      ],
      "source": [
        "# 3 points\n",
        "grader.grade(test_case_id = 'check_encoding_var', answer = [new_df['cab_type_label'][0],\n",
        "                                                            new_df.shape,\n",
        "                                                            new_df['fare_type_label'][0]])"
      ]
    },
    {
      "cell_type": "markdown",
      "metadata": {
        "id": "IqJTjqUQh5pZ"
      },
      "source": [
        "Let's write out the modified data we created to a file so that we can reuse it in Part II when we deal with Spark."
      ]
    },
    {
      "cell_type": "code",
      "execution_count": null,
      "metadata": {
        "id": "eSRBQcn5hV6X"
      },
      "outputs": [],
      "source": [
        "combined_data_sec_2 = new_df.copy()\n",
        "combined_data_sec_2.to_csv('/content/combined.csv')"
      ]
    },
    {
      "cell_type": "markdown",
      "metadata": {
        "id": "U5ieCGnN_VQJ"
      },
      "source": [
        "### **1.3.4** Preprocessing: Split into Features and Label\n",
        "\n",
        "Now that we have explored and cleaned our dataset, let's prepare it for a machine learning task. In this homework, you will work with various models and attempt to predict the price of ride. Since we converted the prices to binary labels above, you will actually predict whether the ride has high price (`above_average = 1`) or low price (`above_average = 0`) for classification and actual price for regression.\n",
        "\n",
        "The features will be the encoded variables together with some other attributes: `weather_factor`, `fare_type_label`, `cab_type_label`, `distance`, `surge_multiplier`, `hour`, `temperature`, `precipIntensity` and `precipProbability`. The label will be the binary indicator created in 1.3.2, indicating if the price is above average. Store these two as `features` and `labels`, respectively."
      ]
    },
    {
      "cell_type": "code",
      "source": [
        "new_df.columns"
      ],
      "metadata": {
        "colab": {
          "base_uri": "https://localhost:8080/"
        },
        "id": "28LFuRIA35f2",
        "outputId": "80d7f3d2-f9af-4ce7-aaa0-71f58d08bae1"
      },
      "execution_count": null,
      "outputs": [
        {
          "output_type": "execute_result",
          "data": {
            "text/plain": [
              "Index(['date', 'hour', 'min', 'sec', 'price', 'weather_factor', 'source',\n",
              "       'destination', 'cab_type', 'fare_type', 'distance', 'surge_multiplier',\n",
              "       'latitude', 'longitude', 'temperature', 'humidity', 'windGust',\n",
              "       'visibility', 'uvIndex', 'precipIntensity', 'precipProbability',\n",
              "       'above_average', 'cab_type_label', 'fare_type_label'],\n",
              "      dtype='object')"
            ]
          },
          "metadata": {},
          "execution_count": 39
        }
      ]
    },
    {
      "cell_type": "code",
      "execution_count": null,
      "metadata": {
        "id": "36JiZOTHcJRj"
      },
      "outputs": [],
      "source": [
        "# TO-DO: stores features dataframe into variable called \"features\"\n",
        "features = new_df[['weather_factor', 'fare_type_label', 'cab_type_label', 'distance', 'surge_multiplier', 'hour', 'temperature', 'precipIntensity', 'precipProbability']]\n",
        "\n",
        "# TO-DO: store the binary classification target variable into \"labels\"\n",
        "labels = new_df['above_average']\n",
        "\n",
        "# TO-DO: store the regression target variable into \"prices\"\n",
        "prices = new_df['price']\n"
      ]
    },
    {
      "cell_type": "code",
      "execution_count": null,
      "metadata": {
        "id": "Kkg5_-ZP8FT4",
        "colab": {
          "base_uri": "https://localhost:8080/"
        },
        "outputId": "7bc645cf-56c6-441f-d072-410f9ad32b5f"
      },
      "outputs": [
        {
          "output_type": "stream",
          "name": "stdout",
          "text": [
            "Correct! You earned 3/3 points. You are a star!\n",
            "\n",
            "Your submission has been successfully recorded in the gradebook.\n"
          ]
        }
      ],
      "source": [
        "# 3 points\n",
        "grader.grade(test_case_id = 'check_features_labels', answer = (features.columns, labels.name, prices.name))"
      ]
    },
    {
      "cell_type": "markdown",
      "metadata": {
        "id": "K-iqlFZacKO9"
      },
      "source": [
        "## **1.4** Modeling (sklearn)"
      ]
    },
    {
      "cell_type": "markdown",
      "metadata": {
        "id": "ZgPdmeQuditm"
      },
      "source": [
        "### **1.4.1** Split Data into Train and Test\n",
        "\n",
        "Use scikit-learn's `train_test_split` function to split data for regression into train and test sets. The split should be 80-20 meaning 80% for training and rest for testing.\n",
        "\n",
        "Since this part concerns regression, you should carefully think about what should be our target variable: should it be `labels` or `prices`?\n",
        "\n",
        "**_IMPORTANT_: Please set the `random_state` parameter to `random_state = 42`** and store the resulting splits as `x_train, x_test, y_train,` and `y_test`."
      ]
    },
    {
      "cell_type": "code",
      "execution_count": null,
      "metadata": {
        "id": "h1zUkUjYdnNO"
      },
      "outputs": [],
      "source": [
        "from sklearn.model_selection import train_test_split\n",
        "\n",
        "# TO-DO: Conduct 80/20 train-test split with random_state = 42\n",
        "x_train, x_test, y_train, y_test = train_test_split(features, prices, test_size=0.2, random_state=42)"
      ]
    },
    {
      "cell_type": "code",
      "execution_count": null,
      "metadata": {
        "id": "2uin38Jx9Pnm",
        "colab": {
          "base_uri": "https://localhost:8080/"
        },
        "outputId": "43d99b6e-aa1f-4e5e-ff26-3ff386370f2a"
      },
      "outputs": [
        {
          "output_type": "stream",
          "name": "stdout",
          "text": [
            "Correct! You earned 4/4 points. You are a star!\n",
            "\n",
            "Your submission has been successfully recorded in the gradebook.\n"
          ]
        }
      ],
      "source": [
        "# 4 points\n",
        "grader.grade(test_case_id = 'check_train_test_split', answer = (x_train.shape, x_test.shape, y_train.shape, y_test.shape, y_test[:100]))"
      ]
    },
    {
      "cell_type": "markdown",
      "metadata": {
        "id": "NGlb6tnNcKO-"
      },
      "source": [
        "### **1.4.2** Regression Models"
      ]
    },
    {
      "cell_type": "markdown",
      "metadata": {
        "id": "cdbOofuUcKO_"
      },
      "source": [
        "#### (a) Linear Regression (Unregularized)\n",
        "\n",
        "Use the `LinearRegression` class in scikit-learn to perform Linear Regression. Initialize the model with default parameters, fit the model to the training set, and then make predictions on the testing set.\n",
        "\n",
        "Save your predictions in an array named `y_pred`, and report your R-squared score (saved it as a variable called `score`)."
      ]
    },
    {
      "cell_type": "code",
      "execution_count": null,
      "metadata": {
        "id": "vh0nlylinV1r",
        "colab": {
          "base_uri": "https://localhost:8080/"
        },
        "outputId": "4f190abf-952d-49e9-87ce-969d79b51dbb"
      },
      "outputs": [
        {
          "output_type": "execute_result",
          "data": {
            "text/plain": [
              "1.0"
            ]
          },
          "metadata": {},
          "execution_count": 44
        }
      ],
      "source": [
        "from sklearn.linear_model import LinearRegression\n",
        "\n",
        "# Your code here\n",
        "lr = LinearRegression()\n",
        "lr.fit(x_train,y_train)\n",
        "y_pred = lr.predict(x_test)\n",
        "score = lr.score(x_test,y_pred)\n",
        "score"
      ]
    },
    {
      "cell_type": "code",
      "execution_count": null,
      "metadata": {
        "id": "s1rsdlEomDmZ",
        "colab": {
          "base_uri": "https://localhost:8080/"
        },
        "outputId": "625ac1ac-b372-499c-da07-ac8238723869"
      },
      "outputs": [
        {
          "output_type": "stream",
          "name": "stdout",
          "text": [
            "Correct! You earned 6/6 points. You are a star!\n",
            "\n",
            "Your submission has been successfully recorded in the gradebook.\n"
          ]
        }
      ],
      "source": [
        "# 6 points\n",
        "grader.grade(test_case_id = 'check_linear_reg', answer = [y_pred, score])"
      ]
    },
    {
      "cell_type": "markdown",
      "metadata": {
        "id": "G7EV4dpDcKO_"
      },
      "source": [
        "#### (b) Ridge Regression\n",
        "\n",
        "Use the `Ridge` class in scikit-learn to perform $L_2$ Regularized Linear Regression. Initialize the model with regularization strength `alpha = 1.0`, fit the model to the training set, and then make predictions on the testing set.\n",
        "\n",
        "Report your $R^2$ score and save it as a variable called `ridge_score`."
      ]
    },
    {
      "cell_type": "code",
      "execution_count": null,
      "metadata": {
        "id": "yDytBWJbn3EX"
      },
      "outputs": [],
      "source": [
        "from sklearn.linear_model import Ridge\n",
        "\n",
        "# Your code here\n",
        "lr_model = Ridge(alpha=1.0)\n",
        "lr_model.fit(x_train,y_train)\n",
        "predct = lr_model.predict(x_test)\n",
        "ridge_score = lr_model.score(x_test,predct)"
      ]
    },
    {
      "cell_type": "code",
      "execution_count": null,
      "metadata": {
        "id": "wSOPMz04VZMr",
        "colab": {
          "base_uri": "https://localhost:8080/"
        },
        "outputId": "1730e18a-742c-443d-d8f0-748d6a8977e9"
      },
      "outputs": [
        {
          "output_type": "stream",
          "name": "stdout",
          "text": [
            "Correct! You earned 2/2 points. You are a star!\n",
            "\n",
            "Your submission has been successfully recorded in the gradebook.\n"
          ]
        }
      ],
      "source": [
        "# 2 points\n",
        "grader.grade(test_case_id = 'check_ridge_reg', answer = ridge_score)"
      ]
    },
    {
      "cell_type": "markdown",
      "metadata": {
        "id": "A1Cl9DePQzfq"
      },
      "source": [
        "_**Exam-Style Practice Questions:**_\n",
        "\n",
        "_(While we will NOT grade this for the purpose of the HW, it is in your best interest to take just 30-60 seconds to think about this as I may very well put something similar in the final exam!_ 😉_)_\n",
        "\n",
        "- What do you notice about the $R^2$ scores of the Ridge and unregularized Linear Regression above?\n",
        "- If Ridge is supposed to \"improve\" Linear Regression, we may find it unusual if that is not happening here. Under what circumstances would we consider using Ridge over unregularized Linear Regression?\n",
        "- Would you expect different results if we made `alpha` bigger ($\\alpha \\rightarrow \\infty$)? smaller ($\\alpha \\rightarrow 0$)? Why or why not?"
      ]
    },
    {
      "cell_type": "markdown",
      "metadata": {
        "id": "EF3qpHRNcKPA"
      },
      "source": [
        "### **1.4.3** Classification Models"
      ]
    },
    {
      "cell_type": "markdown",
      "metadata": {
        "id": "OoRHu9Y-VuOP"
      },
      "source": [
        "#### (a) Split Data into Train and Test\n",
        "\n",
        "Repeat 1.4.1 again but this time where our target variable is now `labels` (not \"prices\").\n",
        "\n",
        "Again, we will use scikit-learn's `train_test_split` function to split the data for the classification problem into train and test sets. The split should be 80-20 meaning 80% for training and the rest for testing.\n",
        "\n",
        "**_IMPORTANT_: Again, please set the `random_state` parameter to `random_state = 42`** and store the resulting splits as `x_train, x_test, y_train,` and `y_test`."
      ]
    },
    {
      "cell_type": "code",
      "execution_count": null,
      "metadata": {
        "id": "UuYm9t9FVyLi"
      },
      "outputs": [],
      "source": [
        "# TO-DO: Do a 80/20 train-test split with random_state = 42 but for labels as our target this time \n",
        "x_train, x_test, y_train, y_test = train_test_split(features, labels, test_size=0.2, random_state=42)"
      ]
    },
    {
      "cell_type": "code",
      "execution_count": null,
      "metadata": {
        "id": "UJWjP68VV3iA",
        "colab": {
          "base_uri": "https://localhost:8080/"
        },
        "outputId": "e815e7e5-ea3f-419a-e9e6-d17ce9060250"
      },
      "outputs": [
        {
          "output_type": "stream",
          "name": "stdout",
          "text": [
            "Correct! You earned 4/4 points. You are a star!\n",
            "\n",
            "Your submission has been successfully recorded in the gradebook.\n"
          ]
        }
      ],
      "source": [
        "# 4 points\n",
        "grader.grade(test_case_id = 'check_class_split', answer = (x_train.shape, x_test.shape, y_train.shape, y_test.shape, y_test[:100]))"
      ]
    },
    {
      "cell_type": "markdown",
      "metadata": {
        "id": "RMo898Q3cKPB"
      },
      "source": [
        "#### (b) PCA to Reduce Dimensionality\n",
        "\n",
        "The goal of Principal Component Analysis is to reduce number of dimensions of our features."
      ]
    },
    {
      "cell_type": "markdown",
      "metadata": {
        "id": "IibSssjHdxNI"
      },
      "source": [
        "_**Initial PCA**_\n",
        "\n",
        "As a first step instantiate and fit `PCA` from scikit-learn on your training set.\n",
        "\n",
        "Please remember that PCA is **not** scale-invariant! What does this imply you need to do first?"
      ]
    },
    {
      "cell_type": "code",
      "execution_count": null,
      "metadata": {
        "id": "4w430CrIegJC",
        "colab": {
          "base_uri": "https://localhost:8080/"
        },
        "outputId": "6e37a2fc-8d2a-4ff3-83b9-2906ea467e4a"
      },
      "outputs": [
        {
          "output_type": "execute_result",
          "data": {
            "text/plain": [
              "PCA()"
            ]
          },
          "metadata": {},
          "execution_count": 50
        }
      ],
      "source": [
        "# TO-DO: Instantiate and Fit PCA\n",
        "\n",
        "from sklearn.preprocessing import StandardScaler\n",
        "# Standardizing the features between 0 and 1\n",
        "X = StandardScaler().fit_transform(x_train)\n",
        "\n",
        "from sklearn.decomposition import PCA\n",
        "pca = PCA()\n",
        "pca.fit(X)"
      ]
    },
    {
      "cell_type": "markdown",
      "metadata": {
        "id": "t_zXoB2UNipf"
      },
      "source": [
        "_**Cumulative Explained Variance Ratios**_\n",
        "\n",
        "Create an array of explained variance ratios and store it into a variable called `explained_variance_ratios`. Also, calculate the _cumulative_ explained variance ratios and store that into another variable called `cum_evr`."
      ]
    },
    {
      "cell_type": "code",
      "execution_count": null,
      "metadata": {
        "id": "vE7SYQRYNiph"
      },
      "outputs": [],
      "source": [
        "# TO-DO: Save the explained variance ratios into variable called \"explained_variance_ratios\"\n",
        "explained_variance_ratios = pca.explained_variance_ratio_\n",
        "# TO-DO: Save the CUMULATIVE explained variance ratios into variable called \"cum_evr\"\n",
        "cum_evr = [0]*9\n",
        "cum_evr[0] = explained_variance_ratios[0]\n",
        "cum_evr[1] = explained_variance_ratios[1]+cum_evr[0]\n",
        "cum_evr[2] = explained_variance_ratios[2]+cum_evr[1]\n",
        "cum_evr[3] = explained_variance_ratios[3]+cum_evr[2]\n",
        "cum_evr[4] = explained_variance_ratios[4]+cum_evr[3]\n",
        "cum_evr[5] = explained_variance_ratios[5]+cum_evr[4]\n",
        "cum_evr[6] = explained_variance_ratios[6]+cum_evr[5]\n",
        "cum_evr[7] = explained_variance_ratios[7]+cum_evr[6]\n",
        "cum_evr[8] = explained_variance_ratios[8]+cum_evr[7]"
      ]
    },
    {
      "cell_type": "markdown",
      "metadata": {
        "id": "qfK-XB7jNipj"
      },
      "source": [
        "Now plot the _cumulative_ `explained_variance_ratio` against the number of components to decide the number of components you should keep.\n",
        "\n",
        "As before, you should ensure that the plot follows the best practices you've developed over the past 2 plotting exercises in this HW. **This will be manually graded for 2 points**\n",
        "\n",
        "\n",
        "_**CAUTION:** Recall that Python starts counting from 0, but this would make it very intuitive when reading from your graph. We strongly recommend that you modify the x-axis of your graph so that the **number of components begins at 1**. Otherwise, you may risk making silly mistakes in the subsequent sections._"
      ]
    },
    {
      "cell_type": "code",
      "source": [
        "explained_variance_ratios"
      ],
      "metadata": {
        "colab": {
          "base_uri": "https://localhost:8080/"
        },
        "id": "oJ3zTt1sVn9D",
        "outputId": "7d979b54-61fe-4fe7-d4f9-9e1f85581cae"
      },
      "execution_count": null,
      "outputs": [
        {
          "output_type": "execute_result",
          "data": {
            "text/plain": [
              "array([0.29682274, 0.15131573, 0.13746778, 0.11202323, 0.10370233,\n",
              "       0.0774083 , 0.07257586, 0.03293822, 0.01574581])"
            ]
          },
          "metadata": {},
          "execution_count": 52
        }
      ]
    },
    {
      "cell_type": "code",
      "execution_count": null,
      "metadata": {
        "id": "mtwJbU6CNipl",
        "colab": {
          "base_uri": "https://localhost:8080/",
          "height": 523
        },
        "outputId": "b673ba76-9395-41ad-89ec-cc1f97dd6e20"
      },
      "outputs": [
        {
          "output_type": "display_data",
          "data": {
            "text/plain": [
              "<Figure size 1152x576 with 1 Axes>"
            ],
            "image/png": "[encoded data removed]"
          },
          "metadata": {}
        }
      ],
      "source": [
        "# TO-DO: find optimal num components to use (n) by plotting explained variance ratio (2 points)\n",
        "# Plot (1 point for correct shape)\n",
        "# Aesthetics (1 point for title AND both axes labels)\n",
        "plt.figure(figsize=[16,8])\n",
        "plt.plot([1,2,3,4,5,6,7,8,9],cum_evr)\n",
        "plt.title('Cumulative Explained Variance Ratios',fontsize=20)\n",
        "plt.xlabel('Conponents')\n",
        "plt.grid(True)"
      ]
    },
    {
      "cell_type": "code",
      "execution_count": null,
      "metadata": {
        "id": "arm3a6__Nipn",
        "colab": {
          "base_uri": "https://localhost:8080/"
        },
        "outputId": "af15b1be-f7c6-4c4b-80b3-4d084ad10e36"
      },
      "outputs": [
        {
          "output_type": "stream",
          "name": "stdout",
          "text": [
            "Correct! You earned 2/2 points. You are a star!\n",
            "\n",
            "Your submission has been successfully recorded in the gradebook.\n"
          ]
        }
      ],
      "source": [
        "# 2 points\n",
        "grader.grade(test_case_id = 'check_pca_explained_variance', answer = explained_variance_ratios)"
      ]
    },
    {
      "cell_type": "markdown",
      "metadata": {
        "id": "yE-BK7tHfHiN"
      },
      "source": [
        "_**Final PCA**_\n",
        "\n",
        "Using your results above to help you decide the number of components to keep, choose a number (`n`) that explains **at least 80% of total variance** in the dataset. Then re-fit and transform your PCA on the training set using the number of components you decided.\n",
        "\n",
        "Remember that your PCA should be trained on the training set (`x_train`) but only transformed on the test set (`x_test`).\n",
        "\n",
        "Call your transformed set of principal components `x_test_pca` in order to submit it to the autograder."
      ]
    },
    {
      "cell_type": "code",
      "execution_count": null,
      "metadata": {
        "id": "s1XTsChOfGiZ"
      },
      "outputs": [],
      "source": [
        "# TO-DO: Get transformed set of principal components on x_test\n",
        "X_train = StandardScaler().fit_transform(x_train)\n",
        "X_test = StandardScaler().fit_transform(x_test)\n",
        "\n",
        "n = 5\n",
        "pca = PCA(n_components=n)\n",
        "pca.fit(X_train)\n",
        "\n",
        "x_test_pca = pca.fit_transform(X_test)"
      ]
    },
    {
      "cell_type": "code",
      "execution_count": null,
      "metadata": {
        "id": "Gv2qiPNLWwOM",
        "colab": {
          "base_uri": "https://localhost:8080/"
        },
        "outputId": "5ebd1ee9-180b-4168-d4d7-4d68a368bffc"
      },
      "outputs": [
        {
          "output_type": "stream",
          "name": "stdout",
          "text": [
            "Correct! You earned 2/2 points. You are a star!\n",
            "\n",
            "Your submission has been successfully recorded in the gradebook.\n"
          ]
        }
      ],
      "source": [
        "# 2 points\n",
        "grader.grade(test_case_id = 'check_fitted_pca', answer = (x_test_pca[:10,:]))"
      ]
    },
    {
      "cell_type": "markdown",
      "metadata": {
        "id": "XZO3QajFftkz"
      },
      "source": [
        "_**Visualizing Top 2 Principal Components**_\n",
        "\n",
        "Just to visualize what's going on (separate from what you just did), use PCA once more but this time to reduce the number dimensions to 2 and plot the first 5000 rows for each component. PCA should be applied to the training data in this case after the required transformations.\n",
        "\n",
        "**This will be manually graded** so as before, make sure you fully title and label your plot! We are specifically looking to see if you understand which component goes on the x-axis and which goes on the y-axis in this particular case."
      ]
    },
    {
      "cell_type": "code",
      "execution_count": null,
      "metadata": {
        "id": "emGHsFyefnUw",
        "colab": {
          "base_uri": "https://localhost:8080/",
          "height": 523
        },
        "outputId": "3eeb9281-18bd-4d47-9339-3659e7ba5f81"
      },
      "outputs": [
        {
          "output_type": "display_data",
          "data": {
            "text/plain": [
              "<Figure size 1080x576 with 1 Axes>"
            ],
            "image/png": "[encoded data removed]"
          },
          "metadata": {}
        }
      ],
      "source": [
        "# TO-DO: Visualize 2 components of PCA when applied to the training data (2 points)\n",
        "pca = PCA(n_components=2)\n",
        "x_train_pca = pca.fit_transform(X_train)\n",
        "\n",
        "plt.figure(figsize=[15,8])\n",
        "plt.scatter(x_train_pca[0:4999,0],x_train_pca[0:4999,1])\n",
        "\n",
        "plt.title('Visualization of Top 2 Principal Components',fontsize=20)\n",
        "plt.xlabel('PC1')\n",
        "plt.ylabel('PC2')\n",
        "plt.grid(True)"
      ]
    },
    {
      "cell_type": "markdown",
      "metadata": {
        "id": "A2q2puz-cKPC"
      },
      "source": [
        "#### (c) Logistic Regression\n",
        "\n",
        "1. Fit the logistic regression on your Final Principal Components data using your optimal `n`.\n",
        "2. Make predictions on the test set.\n",
        "3. Report accuracy for the test set and call it `test_accuracy`"
      ]
    },
    {
      "cell_type": "code",
      "execution_count": null,
      "metadata": {
        "id": "V0A32a6Agjn1"
      },
      "outputs": [],
      "source": [
        "from sklearn.linear_model import LogisticRegression\n",
        "\n",
        "# TO-DO: Instantiate, fit, predict, and score logistic regression\n",
        "#X_train = StandardScaler().fit_transform(x_train)\n",
        "#X_test = StandardScaler().fit_transform(x_test)\n",
        "\n",
        "n = 5\n",
        "pca = PCA(n_components=n)\n",
        "pca.fit(x_train)\n",
        "x_train_pca = pca.transform(x_train)\n",
        "x_test_pca = pca.transform(x_test)\n",
        "\n",
        "lr = LogisticRegression()\n",
        "lr.fit(x_train_pca,y_train)\n",
        "test_accuracy = lr.score(x_test_pca,y_test)\n"
      ]
    },
    {
      "cell_type": "code",
      "source": [
        "test_accuracy"
      ],
      "metadata": {
        "colab": {
          "base_uri": "https://localhost:8080/"
        },
        "id": "bXz1MUl6lfta",
        "outputId": "0d34d064-2b35-4731-d882-5abad422d64c"
      },
      "execution_count": null,
      "outputs": [
        {
          "output_type": "execute_result",
          "data": {
            "text/plain": [
              "0.814759083356845"
            ]
          },
          "metadata": {},
          "execution_count": 59
        }
      ]
    },
    {
      "cell_type": "code",
      "execution_count": null,
      "metadata": {
        "id": "-uUNm6fuZNm_",
        "colab": {
          "base_uri": "https://localhost:8080/"
        },
        "outputId": "16944946-902b-4046-a5ac-4f7c430d9884"
      },
      "outputs": [
        {
          "output_type": "stream",
          "name": "stdout",
          "text": [
            "Correct! You earned 4/4 points. You are a star!\n",
            "\n",
            "Your submission has been successfully recorded in the gradebook.\n"
          ]
        }
      ],
      "source": [
        "# 4 points\n",
        "grader.grade(test_case_id = 'check_lr', answer = test_accuracy)"
      ]
    },
    {
      "cell_type": "markdown",
      "metadata": {
        "id": "nyURjOkMcKPD"
      },
      "source": [
        "# **Part II:** Distributed Machine Learning with Spark (35 points)\n",
        "\n",
        "Apache Spark ML is a machine learning library that consists of common learning algorithms and utilities, including classification, regression, clustering, collaborative filtering, dimensionality reduction, and underlying optimization primitives.\n",
        "\n",
        "**Why Spark ML?**\n",
        "\n",
        "Moving to the Big Data Era requires heavy iterative computations on very large datasets. Standard implementations of machine learning algorithms require very powerful machines to be able to run. However, depending on high-end machines is not advantageous due to their high price and improper costs of scaling up. The idea of using distributed computing engines is to distribute the calculations to multiple low-end machines (commodity hardware) instead of a single high-end one. _This **definitely speeds up** the learning phase and allows us to create better models._\n",
        "\n",
        "Read more about it with the python documentation **[here](https://spark.apache.org/docs/latest/ml-guide.html)**.\n",
        "\n",
        "Run the code below to set up Spark."
      ]
    },
    {
      "cell_type": "code",
      "execution_count": null,
      "metadata": {
        "id": "AtR2QWmLe8ws",
        "colab": {
          "base_uri": "https://localhost:8080/"
        },
        "outputId": "5026ce98-b788-453b-dcd0-28a756c3ff22"
      },
      "outputs": [
        {
          "output_type": "stream",
          "name": "stdout",
          "text": [
            "\n",
            "Reading package lists... Done\n",
            "Building dependency tree       \n",
            "Reading state information... Done\n",
            "libkrb5-dev is already the newest version (1.16-2ubuntu0.2).\n",
            "0 upgraded, 0 newly installed, 0 to remove and 82 not upgraded.\n",
            "--2022-04-02 19:59:08--  https://downloads.apache.org/spark/spark-3.1.2/spark-3.1.2-bin-hadoop3.2.tgz\n",
            "Resolving downloads.apache.org (downloads.apache.org)... 88.99.95.219, 135.181.214.104, 2a01:4f9:3a:2c57::2, ...\n",
            "Connecting to downloads.apache.org (downloads.apache.org)|88.99.95.219|:443... connected.\n",
            "HTTP request sent, awaiting response... 200 OK\n",
            "Length: 228834641 (218M) [application/x-gzip]\n",
            "Saving to: ‘spark-3.1.2-bin-hadoop3.2.tgz.2’\n",
            "\n",
            "spark-3.1.2-bin-had 100%[===================>] 218.23M  11.2MB/s    in 21s     \n",
            "\n",
            "2022-04-02 19:59:31 (10.2 MB/s) - ‘spark-3.1.2-bin-hadoop3.2.tgz.2’ saved [228834641/228834641]\n",
            "\n",
            "Requirement already satisfied: findspark in /usr/local/lib/python3.7/dist-packages (2.0.1)\n",
            "Requirement already satisfied: sparkmagic in /usr/local/lib/python3.7/dist-packages (0.19.1)\n",
            "Requirement already satisfied: notebook>=4.2 in /usr/local/lib/python3.7/dist-packages (from sparkmagic) (5.3.1)\n",
            "Requirement already satisfied: ipython>=4.0.2 in /usr/local/lib/python3.7/dist-packages (from sparkmagic) (5.5.0)\n",
            "Requirement already satisfied: ipywidgets>5.0.0 in /usr/local/lib/python3.7/dist-packages (from sparkmagic) (7.7.0)\n",
            "Requirement already satisfied: nose in /usr/local/lib/python3.7/dist-packages (from sparkmagic) (1.3.7)\n",
            "Requirement already satisfied: numpy in /usr/local/lib/python3.7/dist-packages (from sparkmagic) (1.21.5)\n",
            "Requirement already satisfied: requests in /usr/local/lib/python3.7/dist-packages (from sparkmagic) (2.23.0)\n",
            "Requirement already satisfied: hdijupyterutils>=0.6 in /usr/local/lib/python3.7/dist-packages (from sparkmagic) (0.19.1)\n",
            "Requirement already satisfied: ipykernel<6.0.0 in /usr/local/lib/python3.7/dist-packages (from sparkmagic) (4.10.1)\n",
            "Requirement already satisfied: requests-kerberos>=0.8.0 in /usr/local/lib/python3.7/dist-packages (from sparkmagic) (0.14.0)\n",
            "Requirement already satisfied: tornado>=4 in /usr/local/lib/python3.7/dist-packages (from sparkmagic) (5.1.1)\n",
            "Requirement already satisfied: mock in /usr/local/lib/python3.7/dist-packages (from sparkmagic) (4.0.3)\n",
            "Requirement already satisfied: autovizwidget>=0.6 in /usr/local/lib/python3.7/dist-packages (from sparkmagic) (0.19.1)\n",
            "Requirement already satisfied: pandas>=0.17.1 in /usr/local/lib/python3.7/dist-packages (from sparkmagic) (1.1.5)\n",
            "Requirement already satisfied: plotly>=3 in /usr/local/lib/python3.7/dist-packages (from autovizwidget>=0.6->sparkmagic) (5.5.0)\n",
            "Requirement already satisfied: jupyter>=1 in /usr/local/lib/python3.7/dist-packages (from hdijupyterutils>=0.6->sparkmagic) (1.0.0)\n",
            "Requirement already satisfied: traitlets>=4.1.0 in /usr/local/lib/python3.7/dist-packages (from ipykernel<6.0.0->sparkmagic) (5.1.1)\n",
            "Requirement already satisfied: jupyter-client in /usr/local/lib/python3.7/dist-packages (from ipykernel<6.0.0->sparkmagic) (5.3.5)\n",
            "Requirement already satisfied: setuptools>=18.5 in /usr/local/lib/python3.7/dist-packages (from ipython>=4.0.2->sparkmagic) (57.4.0)\n",
            "Requirement already satisfied: decorator in /usr/local/lib/python3.7/dist-packages (from ipython>=4.0.2->sparkmagic) (4.4.2)\n",
            "Requirement already satisfied: pickleshare in /usr/local/lib/python3.7/dist-packages (from ipython>=4.0.2->sparkmagic) (0.7.5)\n",
            "Requirement already satisfied: simplegeneric>0.8 in /usr/local/lib/python3.7/dist-packages (from ipython>=4.0.2->sparkmagic) (0.8.1)\n",
            "Requirement already satisfied: prompt-toolkit<2.0.0,>=1.0.4 in /usr/local/lib/python3.7/dist-packages (from ipython>=4.0.2->sparkmagic) (1.0.18)\n",
            "Requirement already satisfied: pexpect in /usr/local/lib/python3.7/dist-packages (from ipython>=4.0.2->sparkmagic) (4.8.0)\n",
            "Requirement already satisfied: pygments in /usr/local/lib/python3.7/dist-packages (from ipython>=4.0.2->sparkmagic) (2.6.1)\n",
            "Requirement already satisfied: ipython-genutils~=0.2.0 in /usr/local/lib/python3.7/dist-packages (from ipywidgets>5.0.0->sparkmagic) (0.2.0)\n",
            "Requirement already satisfied: widgetsnbextension~=3.6.0 in /usr/local/lib/python3.7/dist-packages (from ipywidgets>5.0.0->sparkmagic) (3.6.0)\n",
            "Requirement already satisfied: jupyterlab-widgets>=1.0.0 in /usr/local/lib/python3.7/dist-packages (from ipywidgets>5.0.0->sparkmagic) (1.1.0)\n",
            "Requirement already satisfied: nbformat>=4.2.0 in /usr/local/lib/python3.7/dist-packages (from ipywidgets>5.0.0->sparkmagic) (5.2.0)\n",
            "Requirement already satisfied: qtconsole in /usr/local/lib/python3.7/dist-packages (from jupyter>=1->hdijupyterutils>=0.6->sparkmagic) (5.2.2)\n",
            "Requirement already satisfied: nbconvert in /usr/local/lib/python3.7/dist-packages (from jupyter>=1->hdijupyterutils>=0.6->sparkmagic) (5.6.1)\n",
            "Requirement already satisfied: jupyter-console in /usr/local/lib/python3.7/dist-packages (from jupyter>=1->hdijupyterutils>=0.6->sparkmagic) (5.2.0)\n",
            "Requirement already satisfied: jupyter-core in /usr/local/lib/python3.7/dist-packages (from nbformat>=4.2.0->ipywidgets>5.0.0->sparkmagic) (4.9.2)\n",
            "Requirement already satisfied: jsonschema!=2.5.0,>=2.4 in /usr/local/lib/python3.7/dist-packages (from nbformat>=4.2.0->ipywidgets>5.0.0->sparkmagic) (4.3.3)\n",
            "Requirement already satisfied: typing-extensions in /usr/local/lib/python3.7/dist-packages (from jsonschema!=2.5.0,>=2.4->nbformat>=4.2.0->ipywidgets>5.0.0->sparkmagic) (3.10.0.2)\n",
            "Requirement already satisfied: importlib-resources>=1.4.0 in /usr/local/lib/python3.7/dist-packages (from jsonschema!=2.5.0,>=2.4->nbformat>=4.2.0->ipywidgets>5.0.0->sparkmagic) (5.4.0)\n",
            "Requirement already satisfied: attrs>=17.4.0 in /usr/local/lib/python3.7/dist-packages (from jsonschema!=2.5.0,>=2.4->nbformat>=4.2.0->ipywidgets>5.0.0->sparkmagic) (21.4.0)\n",
            "Requirement already satisfied: pyrsistent!=0.17.0,!=0.17.1,!=0.17.2,>=0.14.0 in /usr/local/lib/python3.7/dist-packages (from jsonschema!=2.5.0,>=2.4->nbformat>=4.2.0->ipywidgets>5.0.0->sparkmagic) (0.18.1)\n",
            "Requirement already satisfied: importlib-metadata in /usr/local/lib/python3.7/dist-packages (from jsonschema!=2.5.0,>=2.4->nbformat>=4.2.0->ipywidgets>5.0.0->sparkmagic) (4.11.3)\n",
            "Requirement already satisfied: zipp>=3.1.0 in /usr/local/lib/python3.7/dist-packages (from importlib-resources>=1.4.0->jsonschema!=2.5.0,>=2.4->nbformat>=4.2.0->ipywidgets>5.0.0->sparkmagic) (3.7.0)\n",
            "Requirement already satisfied: jinja2 in /usr/local/lib/python3.7/dist-packages (from notebook>=4.2->sparkmagic) (2.11.3)\n",
            "Requirement already satisfied: terminado>=0.8.1 in /usr/local/lib/python3.7/dist-packages (from notebook>=4.2->sparkmagic) (0.13.3)\n",
            "Requirement already satisfied: Send2Trash in /usr/local/lib/python3.7/dist-packages (from notebook>=4.2->sparkmagic) (1.8.0)\n",
            "Requirement already satisfied: python-dateutil>=2.1 in /usr/local/lib/python3.7/dist-packages (from jupyter-client->ipykernel<6.0.0->sparkmagic) (2.8.2)\n",
            "Requirement already satisfied: pyzmq>=13 in /usr/local/lib/python3.7/dist-packages (from jupyter-client->ipykernel<6.0.0->sparkmagic) (22.3.0)\n",
            "Requirement already satisfied: pytz>=2017.2 in /usr/local/lib/python3.7/dist-packages (from pandas>=0.17.1->sparkmagic) (2018.9)\n",
            "Requirement already satisfied: tenacity>=6.2.0 in /usr/local/lib/python3.7/dist-packages (from plotly>=3->autovizwidget>=0.6->sparkmagic) (8.0.1)\n",
            "Requirement already satisfied: six in /usr/local/lib/python3.7/dist-packages (from plotly>=3->autovizwidget>=0.6->sparkmagic) (1.15.0)\n",
            "Requirement already satisfied: wcwidth in /usr/local/lib/python3.7/dist-packages (from prompt-toolkit<2.0.0,>=1.0.4->ipython>=4.0.2->sparkmagic) (0.2.5)\n",
            "Requirement already satisfied: pyspnego[kerberos] in /usr/local/lib/python3.7/dist-packages (from requests-kerberos>=0.8.0->sparkmagic) (0.5.1)\n",
            "Requirement already satisfied: cryptography>=1.3 in /usr/local/lib/python3.7/dist-packages (from requests-kerberos>=0.8.0->sparkmagic) (36.0.2)\n",
            "Requirement already satisfied: cffi>=1.12 in /usr/local/lib/python3.7/dist-packages (from cryptography>=1.3->requests-kerberos>=0.8.0->sparkmagic) (1.15.0)\n",
            "Requirement already satisfied: pycparser in /usr/local/lib/python3.7/dist-packages (from cffi>=1.12->cryptography>=1.3->requests-kerberos>=0.8.0->sparkmagic) (2.21)\n",
            "Requirement already satisfied: chardet<4,>=3.0.2 in /usr/local/lib/python3.7/dist-packages (from requests->sparkmagic) (3.0.4)\n",
            "Requirement already satisfied: idna<3,>=2.5 in /usr/local/lib/python3.7/dist-packages (from requests->sparkmagic) (2.10)\n",
            "Requirement already satisfied: certifi>=2017.4.17 in /usr/local/lib/python3.7/dist-packages (from requests->sparkmagic) (2021.10.8)\n",
            "Requirement already satisfied: urllib3!=1.25.0,!=1.25.1,<1.26,>=1.21.1 in /usr/local/lib/python3.7/dist-packages (from requests->sparkmagic) (1.24.3)\n",
            "Requirement already satisfied: ptyprocess in /usr/local/lib/python3.7/dist-packages (from terminado>=0.8.1->notebook>=4.2->sparkmagic) (0.7.0)\n",
            "Requirement already satisfied: MarkupSafe>=0.23 in /usr/local/lib/python3.7/dist-packages (from jinja2->notebook>=4.2->sparkmagic) (2.0.1)\n",
            "Requirement already satisfied: pandocfilters>=1.4.1 in /usr/local/lib/python3.7/dist-packages (from nbconvert->jupyter>=1->hdijupyterutils>=0.6->sparkmagic) (1.5.0)\n",
            "Requirement already satisfied: entrypoints>=0.2.2 in /usr/local/lib/python3.7/dist-packages (from nbconvert->jupyter>=1->hdijupyterutils>=0.6->sparkmagic) (0.4)\n",
            "Requirement already satisfied: testpath in /usr/local/lib/python3.7/dist-packages (from nbconvert->jupyter>=1->hdijupyterutils>=0.6->sparkmagic) (0.6.0)\n",
            "Requirement already satisfied: mistune<2,>=0.8.1 in /usr/local/lib/python3.7/dist-packages (from nbconvert->jupyter>=1->hdijupyterutils>=0.6->sparkmagic) (0.8.4)\n",
            "Requirement already satisfied: defusedxml in /usr/local/lib/python3.7/dist-packages (from nbconvert->jupyter>=1->hdijupyterutils>=0.6->sparkmagic) (0.7.1)\n",
            "Requirement already satisfied: bleach in /usr/local/lib/python3.7/dist-packages (from nbconvert->jupyter>=1->hdijupyterutils>=0.6->sparkmagic) (4.1.0)\n",
            "Requirement already satisfied: webencodings in /usr/local/lib/python3.7/dist-packages (from bleach->nbconvert->jupyter>=1->hdijupyterutils>=0.6->sparkmagic) (0.5.1)\n",
            "Requirement already satisfied: packaging in /usr/local/lib/python3.7/dist-packages (from bleach->nbconvert->jupyter>=1->hdijupyterutils>=0.6->sparkmagic) (21.3)\n",
            "Requirement already satisfied: pyparsing!=3.0.5,>=2.0.2 in /usr/local/lib/python3.7/dist-packages (from packaging->bleach->nbconvert->jupyter>=1->hdijupyterutils>=0.6->sparkmagic) (3.0.7)\n",
            "Requirement already satisfied: gssapi>=1.5.0 in /usr/local/lib/python3.7/dist-packages (from pyspnego[kerberos]->requests-kerberos>=0.8.0->sparkmagic) (1.7.3)\n",
            "Requirement already satisfied: krb5>=0.3.0 in /usr/local/lib/python3.7/dist-packages (from pyspnego[kerberos]->requests-kerberos>=0.8.0->sparkmagic) (0.3.0)\n",
            "Requirement already satisfied: qtpy in /usr/local/lib/python3.7/dist-packages (from qtconsole->jupyter>=1->hdijupyterutils>=0.6->sparkmagic) (2.0.1)\n",
            "Requirement already satisfied: pyspark in /usr/local/lib/python3.7/dist-packages (3.2.1)\n",
            "Requirement already satisfied: py4j==0.10.9.3 in /usr/local/lib/python3.7/dist-packages (from pyspark) (0.10.9.3)\n",
            "Requirement already satisfied: pyspark in /usr/local/lib/python3.7/dist-packages (3.2.1)\n",
            "Requirement already satisfied: py4j==0.10.9.3 in /usr/local/lib/python3.7/dist-packages (from pyspark) (0.10.9.3)\n",
            "Requirement already satisfied: seaborn in /usr/local/lib/python3.7/dist-packages (0.11.2)\n",
            "Requirement already satisfied: matplotlib>=2.2 in /usr/local/lib/python3.7/dist-packages (from seaborn) (3.2.2)\n",
            "Requirement already satisfied: numpy>=1.15 in /usr/local/lib/python3.7/dist-packages (from seaborn) (1.21.5)\n",
            "Requirement already satisfied: pandas>=0.23 in /usr/local/lib/python3.7/dist-packages (from seaborn) (1.1.5)\n",
            "Requirement already satisfied: scipy>=1.0 in /usr/local/lib/python3.7/dist-packages (from seaborn) (1.4.1)\n",
            "Requirement already satisfied: python-dateutil>=2.1 in /usr/local/lib/python3.7/dist-packages (from matplotlib>=2.2->seaborn) (2.8.2)\n",
            "Requirement already satisfied: cycler>=0.10 in /usr/local/lib/python3.7/dist-packages (from matplotlib>=2.2->seaborn) (0.11.0)\n",
            "Requirement already satisfied: pyparsing!=2.0.4,!=2.1.2,!=2.1.6,>=2.0.1 in /usr/local/lib/python3.7/dist-packages (from matplotlib>=2.2->seaborn) (3.0.7)\n",
            "Requirement already satisfied: kiwisolver>=1.0.1 in /usr/local/lib/python3.7/dist-packages (from matplotlib>=2.2->seaborn) (1.4.0)\n",
            "Requirement already satisfied: typing-extensions in /usr/local/lib/python3.7/dist-packages (from kiwisolver>=1.0.1->matplotlib>=2.2->seaborn) (3.10.0.2)\n",
            "Requirement already satisfied: pytz>=2017.2 in /usr/local/lib/python3.7/dist-packages (from pandas>=0.23->seaborn) (2018.9)\n",
            "Requirement already satisfied: six>=1.5 in /usr/local/lib/python3.7/dist-packages (from python-dateutil>=2.1->matplotlib>=2.2->seaborn) (1.15.0)\n",
            "Requirement already satisfied: plotly in /usr/local/lib/python3.7/dist-packages (5.5.0)\n",
            "Requirement already satisfied: tenacity>=6.2.0 in /usr/local/lib/python3.7/dist-packages (from plotly) (8.0.1)\n",
            "Requirement already satisfied: six in /usr/local/lib/python3.7/dist-packages (from plotly) (1.15.0)\n",
            "Requirement already satisfied: imageio in /usr/local/lib/python3.7/dist-packages (2.4.1)\n",
            "Requirement already satisfied: numpy in /usr/local/lib/python3.7/dist-packages (from imageio) (1.21.5)\n",
            "Requirement already satisfied: pillow in /usr/local/lib/python3.7/dist-packages (from imageio) (7.1.2)\n",
            "Requirement already satisfied: folium in /usr/local/lib/python3.7/dist-packages (0.8.3)\n",
            "Requirement already satisfied: numpy in /usr/local/lib/python3.7/dist-packages (from folium) (1.21.5)\n",
            "Requirement already satisfied: branca>=0.3.0 in /usr/local/lib/python3.7/dist-packages (from folium) (0.4.2)\n",
            "Requirement already satisfied: requests in /usr/local/lib/python3.7/dist-packages (from folium) (2.23.0)\n",
            "Requirement already satisfied: six in /usr/local/lib/python3.7/dist-packages (from folium) (1.15.0)\n",
            "Requirement already satisfied: jinja2 in /usr/local/lib/python3.7/dist-packages (from folium) (2.11.3)\n",
            "Requirement already satisfied: MarkupSafe>=0.23 in /usr/local/lib/python3.7/dist-packages (from jinja2->folium) (2.0.1)\n",
            "Requirement already satisfied: idna<3,>=2.5 in /usr/local/lib/python3.7/dist-packages (from requests->folium) (2.10)\n",
            "Requirement already satisfied: urllib3!=1.25.0,!=1.25.1,<1.26,>=1.21.1 in /usr/local/lib/python3.7/dist-packages (from requests->folium) (1.24.3)\n",
            "Requirement already satisfied: certifi>=2017.4.17 in /usr/local/lib/python3.7/dist-packages (from requests->folium) (2021.10.8)\n",
            "Requirement already satisfied: chardet<4,>=3.0.2 in /usr/local/lib/python3.7/dist-packages (from requests->folium) (3.0.4)\n"
          ]
        }
      ],
      "source": [
        "!apt install libkrb5-dev\n",
        "!wget https://downloads.apache.org/spark/spark-3.1.2/spark-3.1.2-bin-hadoop3.2.tgz\n",
        "!tar xf spark-3.1.2-bin-hadoop3.2.tgz\n",
        "!pip install findspark\n",
        "!pip install sparkmagic\n",
        "!pip install pyspark\n",
        "! pip install pyspark --user\n",
        "! pip install seaborn --user\n",
        "! pip install plotly --user\n",
        "! pip install imageio --user\n",
        "! pip install folium --user"
      ]
    },
    {
      "cell_type": "code",
      "execution_count": null,
      "metadata": {
        "id": "Vsq0iyoge-PU"
      },
      "outputs": [],
      "source": [
        "from pyspark.sql import SparkSession\n",
        "from pyspark.sql.types import *\n",
        "import pyspark.sql.functions as F\n",
        "\n",
        "import os\n",
        "\n",
        "spark = SparkSession.builder.appName('ml-hw4').getOrCreate()"
      ]
    },
    {
      "cell_type": "code",
      "execution_count": null,
      "metadata": {
        "id": "7_hUaF5nfFv6"
      },
      "outputs": [],
      "source": [
        "%load_ext sparkmagic.magics"
      ]
    },
    {
      "cell_type": "code",
      "execution_count": null,
      "metadata": {
        "id": "kJOrCIYYfIXj"
      },
      "outputs": [],
      "source": [
        "# Graph section\n",
        "import networkx as nx\n",
        "# SQLite RDBMS\n",
        "import sqlite3\n",
        "# Parallel processing\n",
        "# import swifter\n",
        "import pandas as pd\n",
        "# NoSQL DB\n",
        "from pymongo import MongoClient\n",
        "from pymongo.errors import DuplicateKeyError, OperationFailure\n",
        "\n",
        "import os\n",
        "os.environ['SPARK_HOME'] = '/content/spark-3.1.2-bin-hadoop3.2'\n",
        "os.environ[\"JAVA_HOME\"] = \"/usr/lib/jvm/java-8-openjdk-amd64\"\n",
        "import pyspark\n",
        "from pyspark.sql import SQLContext"
      ]
    },
    {
      "cell_type": "code",
      "execution_count": null,
      "metadata": {
        "id": "rnUXhTeMfLFk"
      },
      "outputs": [],
      "source": [
        "try:\n",
        "    if(spark == None):\n",
        "        spark = SparkSession.builder.appName('Initial').getOrCreate()\n",
        "        sqlContext=SQLContext(spark)\n",
        "except NameError:\n",
        "    spark = SparkSession.builder.appName('Initial').getOrCreate()\n",
        "    sqlContext=SQLContext(spark)"
      ]
    },
    {
      "cell_type": "markdown",
      "metadata": {
        "id": "vXIZt4pWfVdM"
      },
      "source": [
        "#### **2.1** Initializing Spark Data\n",
        "\n",
        "We have the spark setup ready. Now we need the data for our ML algorithms. We will use the data you processed in Section 1 but in Spark. \n",
        "\n",
        "Read in the .csv that you created into a Spark dataframe (`sdf`). Make sure to set the inferSchema flag to True when you do this so that the columns are the correct datatypes and not all strings."
      ]
    },
    {
      "cell_type": "code",
      "execution_count": null,
      "metadata": {
        "id": "pWJrKACwfmwz"
      },
      "outputs": [],
      "source": [
        "# TO-DO: Read in the csv\n",
        "sdf = spark.read.csv('combined.csv',inferSchema=True,header=True)"
      ]
    },
    {
      "cell_type": "markdown",
      "metadata": {
        "id": "j49Ce4bCfwYh"
      },
      "source": [
        "Print out the Dataframe Schema and verify the datatypes. If you did everything correctly so far, the schema should be:\n",
        "```\n",
        "root\n",
        " |-- _c0: integer (nullable = true)\n",
        " |-- date: string (nullable = true)\n",
        " |-- hour: integer (nullable = true)\n",
        " |-- min: integer (nullable = true)\n",
        " |-- sec: integer (nullable = true)\n",
        " |-- price: double (nullable = true)\n",
        " |-- weather_factor: integer (nullable = true)\n",
        " |-- source: string (nullable = true)\n",
        " |-- destination: string (nullable = true)\n",
        " |-- cab_type: string (nullable = true)\n",
        " |-- fare_type: string (nullable = true)\n",
        " |-- distance: double (nullable = true)\n",
        " |-- surge_multiplier: double (nullable = true)\n",
        " |-- latitude: double (nullable = true)\n",
        " |-- longitude: double (nullable = true)\n",
        " |-- temperature: double (nullable = true)\n",
        " |-- humidity: double (nullable = true)\n",
        " |-- windGust: double (nullable = true)\n",
        " |-- visibility: double (nullable = true)\n",
        " |-- uvIndex: integer (nullable = true)\n",
        " |-- precipIntensity: double (nullable = true)\n",
        " |-- precipProbability: double (nullable = true)\n",
        " |-- above_average: integer (nullable = true)\n",
        " |-- cab_type_label: integer (nullable = true)\n",
        " |-- fare_type_label: integer (nullable = true)\n",
        " ```"
      ]
    },
    {
      "cell_type": "code",
      "execution_count": null,
      "metadata": {
        "id": "7dRic2gGfzA7",
        "colab": {
          "base_uri": "https://localhost:8080/"
        },
        "outputId": "f0a65693-b9e9-4500-e4c0-2d5e3507d520"
      },
      "outputs": [
        {
          "output_type": "stream",
          "name": "stdout",
          "text": [
            "root\n",
            " |-- _c0: integer (nullable = true)\n",
            " |-- date: string (nullable = true)\n",
            " |-- hour: integer (nullable = true)\n",
            " |-- min: integer (nullable = true)\n",
            " |-- sec: integer (nullable = true)\n",
            " |-- price: double (nullable = true)\n",
            " |-- weather_factor: integer (nullable = true)\n",
            " |-- source: string (nullable = true)\n",
            " |-- destination: string (nullable = true)\n",
            " |-- cab_type: string (nullable = true)\n",
            " |-- fare_type: string (nullable = true)\n",
            " |-- distance: double (nullable = true)\n",
            " |-- surge_multiplier: double (nullable = true)\n",
            " |-- latitude: double (nullable = true)\n",
            " |-- longitude: double (nullable = true)\n",
            " |-- temperature: double (nullable = true)\n",
            " |-- humidity: double (nullable = true)\n",
            " |-- windGust: double (nullable = true)\n",
            " |-- visibility: double (nullable = true)\n",
            " |-- uvIndex: integer (nullable = true)\n",
            " |-- precipIntensity: double (nullable = true)\n",
            " |-- precipProbability: double (nullable = true)\n",
            " |-- above_average: integer (nullable = true)\n",
            " |-- cab_type_label: integer (nullable = true)\n",
            " |-- fare_type_label: integer (nullable = true)\n",
            "\n"
          ]
        }
      ],
      "source": [
        "# TO-DO: Verify that the schema of your Spark dataframe matches the above\n",
        "sdf.printSchema()"
      ]
    },
    {
      "cell_type": "markdown",
      "metadata": {
        "id": "lhG-g1t-f1YN"
      },
      "source": [
        "Great job, we have the processed data now. For Spark ML, we need to create a feature column which has all features concatenated and a single column for labels, which we already have!\n",
        "We will use `VectorAssembler()` to create a feature vector from all categorical and numerical features and we call the final vector as “features”.\n",
        "First list all columns in the data and store it in a list named all_columns."
      ]
    },
    {
      "cell_type": "code",
      "execution_count": null,
      "metadata": {
        "id": "yS6f7OqNf48w"
      },
      "outputs": [],
      "source": [
        "from pyspark.ml.feature import StringIndexer, VectorAssembler\n",
        "all_columns = list(sdf.columns)\n",
        "# TO-DO: store all columns in the data and store it in a list called \"all_columns\""
      ]
    },
    {
      "cell_type": "markdown",
      "metadata": {
        "id": "kFPm7jbAgCvt"
      },
      "source": [
        "Create a list of columns which you don't want to include in your features (i.e. the original columns of labels and probably other columns which don't help the machine learning model). Name this list `drop_columns`."
      ]
    },
    {
      "cell_type": "code",
      "execution_count": null,
      "metadata": {
        "id": "B7A2b_a1f7xP"
      },
      "outputs": [],
      "source": [
        "# TO-DO: Create drop_columns\n",
        "drop_columns = ['_c0',\n",
        " 'date',\n",
        " 'price',\n",
        " 'source',\n",
        " 'destination',\n",
        " 'cab_type',\n",
        " 'fare_type']"
      ]
    },
    {
      "cell_type": "markdown",
      "metadata": {
        "id": "DeFoYhpWvPRu"
      },
      "source": [
        "Now using `drop_columns` or otherwise, create a list called `columns_to_use` that contains the names of all surviving columns."
      ]
    },
    {
      "cell_type": "code",
      "execution_count": null,
      "metadata": {
        "id": "yY3fz1irgDbb"
      },
      "outputs": [],
      "source": [
        "# TO-DO: Create columns_to_use\n",
        "columns_to_use = [\n",
        " 'hour',\n",
        " 'min',\n",
        " 'sec',\n",
        " 'weather_factor',\n",
        " 'distance',\n",
        " 'surge_multiplier',\n",
        " 'latitude',\n",
        " 'longitude',\n",
        " 'temperature',\n",
        " 'humidity',\n",
        " 'windGust',\n",
        " 'visibility',\n",
        " 'uvIndex',\n",
        " 'precipIntensity',\n",
        " 'precipProbability',\n",
        " 'cab_type_label',\n",
        " 'fare_type_label']"
      ]
    },
    {
      "cell_type": "code",
      "execution_count": null,
      "metadata": {
        "id": "_hX_lApTgMeG",
        "colab": {
          "base_uri": "https://localhost:8080/"
        },
        "outputId": "238574c8-74b4-41ff-9bba-f5b5067f5e04"
      },
      "outputs": [
        {
          "output_type": "stream",
          "name": "stdout",
          "text": [
            "Correct! You earned 3/3 points. You are a star!\n",
            "\n",
            "Your submission has been successfully recorded in the gradebook.\n"
          ]
        }
      ],
      "source": [
        "# 3 points\n",
        "grader.grade(test_case_id = 'check_columns_to_use', answer = columns_to_use)"
      ]
    },
    {
      "cell_type": "markdown",
      "metadata": {
        "id": "Sk7YM4O3gPiQ"
      },
      "source": [
        "Create a VectorAssembler object with columns you want to use. Name your output column as `features` (i.e. they are the features you wanna use later)."
      ]
    },
    {
      "cell_type": "code",
      "execution_count": null,
      "metadata": {
        "id": "nP92xIhmgTU8"
      },
      "outputs": [],
      "source": [
        "# TO-DO: Create VectorAssembler object (to be used later)\n",
        "vca = VectorAssembler(inputCols=columns_to_use,outputCol='features')\n",
        "\n",
        "#output = vca.transform(sdf)\n",
        "\n",
        "#output.select(\"features\").show(truncate=False)\n"
      ]
    },
    {
      "cell_type": "markdown",
      "metadata": {
        "id": "mvzi9hTzsBv5"
      },
      "source": [
        "## **2.2** Create Pipeline\n",
        "\n",
        "Now we will create a pipeline with many stages. For this data, we just need a single stage with the assembler, but you could have other stages before that where you perform operations on the data like converting categorical strings in the features to numeric values, or do feature scaling operations.\n",
        "\n",
        "In this step, we will create a pipeline with a single stage — the assembler. Fit the pipeline to your data and create the transformed dataframe and name it `modified_data_sdf`."
      ]
    },
    {
      "cell_type": "code",
      "execution_count": null,
      "metadata": {
        "id": "y1d_nR6qsO2Z"
      },
      "outputs": [],
      "source": [
        "from pyspark.ml import Pipeline\n",
        "\n",
        "# Your code goes here\n",
        "ppl = Pipeline(stages=[vca])\n",
        "model = ppl.fit(sdf)\n",
        "modified_data_sdf = model.transform(sdf)"
      ]
    },
    {
      "cell_type": "markdown",
      "metadata": {
        "id": "TMCLmsX2sWz_"
      },
      "source": [
        "Now that we have the data in the format we need, we will create our train and test sets.\n",
        "\n",
        "Conduct a train-test split where 80% of the data is assigned to the training set while the remaining 20% is assigned to the testing set.\n",
        "\n",
        "**Clarifications:**\n",
        "- Name these `train_sdf` and `test_sdf` respectively.\n",
        "- Add the argument `seed = 24` in the function to fix the random state in order to ensure consistency with our results."
      ]
    },
    {
      "cell_type": "code",
      "execution_count": null,
      "metadata": {
        "id": "JBjj8o9vsaLg"
      },
      "outputs": [],
      "source": [
        "# TO-DO: Do 80/20 train-test split with seed = 24\n",
        "train_sdf, test_sdf = modified_data_sdf.randomSplit([0.8,0.2],seed=24)\n"
      ]
    },
    {
      "cell_type": "code",
      "execution_count": null,
      "metadata": {
        "id": "C7M6aOTcsgGP",
        "colab": {
          "base_uri": "https://localhost:8080/"
        },
        "outputId": "468d2c0d-d3f3-43d9-99e5-00cbba35bf1d"
      },
      "outputs": [
        {
          "output_type": "stream",
          "name": "stdout",
          "text": [
            "Correct! You earned 2/2 points. You are a star!\n",
            "\n",
            "Your submission has been successfully recorded in the gradebook.\n"
          ]
        }
      ],
      "source": [
        "# 2 points\n",
        "grader.grade(test_case_id = 'check_train_test_split_spark', answer = (train_sdf.count(), test_sdf.count()))"
      ]
    },
    {
      "cell_type": "markdown",
      "metadata": {
        "id": "a4U2k-r4cKPD"
      },
      "source": [
        "## **2.3** LASSO Regularized Logistic Regression"
      ]
    },
    {
      "cell_type": "markdown",
      "metadata": {
        "id": "2FbFVHYaWr2V"
      },
      "source": [
        "**Logistic Regression Using SparkML**\n",
        "\n",
        "Time to do the cool stuff! Let's train a Logistic Regression model to our data and try to predict whether a ride will be above the average price for that carrier/platform/cab_type again.\n",
        "\n",
        "This time, we will use \"Big\" data tools to help us build a Logistic Regression model for binary classification.\n",
        "\n",
        "Look up the documentation online and try to understand how to implement this.\n",
        "\n",
        "**Model 1: Train a Model without any Regularization.**"
      ]
    },
    {
      "cell_type": "code",
      "execution_count": null,
      "metadata": {
        "id": "isJEVu32Ws6D"
      },
      "outputs": [],
      "source": [
        "from pyspark.ml.classification import LogisticRegression\n",
        "\n",
        "# TO-DO: Instantiate and fit Logistic Regression model to training data\n",
        "lrmodel = LogisticRegression(regParam=0, featuresCol = \"features\", labelCol = \"above_average\")\n",
        "lr = lrmodel.fit(train_sdf)"
      ]
    },
    {
      "cell_type": "code",
      "execution_count": null,
      "metadata": {
        "id": "89SqvGHYWxsq",
        "colab": {
          "base_uri": "https://localhost:8080/"
        },
        "outputId": "d5c9a75f-fb1c-4827-f7a4-a223f688fe8b"
      },
      "outputs": [
        {
          "output_type": "execute_result",
          "data": {
            "text/plain": [
              "0.8265487384276714"
            ]
          },
          "metadata": {},
          "execution_count": 77
        }
      ],
      "source": [
        "# TO-DO: Get training accuracy\n",
        "lr.summary.accuracy"
      ]
    },
    {
      "cell_type": "markdown",
      "metadata": {
        "id": "h0CkqbjiWyM_"
      },
      "source": [
        "Now, find out how good the model actually is and see if it overfits to the training data.\n",
        "\n",
        "Predict the label for `above_average` for your test data _(Hint: it is called 'transform' in Spark ML)_"
      ]
    },
    {
      "cell_type": "code",
      "execution_count": null,
      "metadata": {
        "id": "N0kDXvlbW09r"
      },
      "outputs": [],
      "source": [
        "# TO-DO: Make predictions on testing set\n",
        "predict_above_average = lr.transform(test_sdf)\n"
      ]
    },
    {
      "cell_type": "markdown",
      "metadata": {
        "id": "P_Qe_O_HyYq8"
      },
      "source": [
        "Evaluate the performance using the area under the ROC curve using 'BinaryClassificationEvaluator' object in the Spark ML Regression library."
      ]
    },
    {
      "cell_type": "code",
      "execution_count": null,
      "metadata": {
        "id": "kvmteSpKXFMJ"
      },
      "outputs": [],
      "source": [
        "from pyspark.ml.evaluation import RegressionEvaluator\n",
        "from pyspark.ml.evaluation import BinaryClassificationEvaluator\n",
        "\n",
        "# TO-DO: Get training accuracy and save to variable called \"training_accuracy\"\n",
        "bce = BinaryClassificationEvaluator(labelCol='above_average')\n",
        "training_accuracy = bce.evaluate(predict_above_average)\n",
        "\n",
        "# TO-DO: Get AUC ROC score and save to variable called \"test_predictions_log\"\n",
        "test_predictions_log = bce.evaluate(predict_above_average,{bce.metricName: \"areaUnderROC\"})\n"
      ]
    },
    {
      "cell_type": "code",
      "execution_count": null,
      "metadata": {
        "id": "HA9xymKFXN0X",
        "colab": {
          "base_uri": "https://localhost:8080/"
        },
        "outputId": "f5b082bd-15a4-4027-84a8-1898d341ef3d"
      },
      "outputs": [
        {
          "output_type": "stream",
          "name": "stdout",
          "text": [
            "Correct! You earned 8/8 points. You are a star!\n",
            "\n",
            "Your submission has been successfully recorded in the gradebook.\n"
          ]
        }
      ],
      "source": [
        "# 8 points\n",
        "grader.grade(test_case_id = 'check_logistic_without_reg', answer = (training_accuracy, test_predictions_log))"
      ]
    },
    {
      "cell_type": "markdown",
      "metadata": {
        "id": "gbdKAxIBXSbo"
      },
      "source": [
        "**Model 2: Train a Model with Regularization.**\n",
        "\n",
        "Now, we will add regularization to avoid overfitting. \n",
        "\n",
        "Play around with different regularization parameters - try out LASSO (L1), Ridge (L2) and elastic net (combination of L1 and L2) and different regularization hyperparameters when initializing 3 different regularized logistic regression models. \n",
        "\n",
        "Compare these with each other and the non regularized regression done above.\n",
        "\n",
        "Make sure to evaluate the performance on test data using the same metric as above(area under ROC curve)"
      ]
    },
    {
      "cell_type": "code",
      "execution_count": null,
      "metadata": {
        "id": "8fNf9iAiXTfk"
      },
      "outputs": [],
      "source": [
        "# TO-DO: LASSO/L1 regularized model's AUC ROC score and save to \"test_area_l1\" \n",
        "lrmodel_1 = LogisticRegression(regParam=0.2, elasticNetParam=1, featuresCol = \"features\", labelCol = \"above_average\")\n",
        "predict_above_average_1 = lrmodel_1.fit(train_sdf).transform(test_sdf)\n",
        "bce = BinaryClassificationEvaluator(labelCol='above_average')\n",
        "test_area_l1 = bce.evaluate(predict_above_average_1,{bce.metricName: \"areaUnderROC\"})\n",
        "\n",
        "# TO-DO: Ridge/L2 regularized model's AUC ROC score and save to \"test_area_l2\"\n",
        "lrmodel_2 = LogisticRegression(regParam=1, elasticNetParam=0, featuresCol = \"features\", labelCol = \"above_average\")\n",
        "predict_above_average_2 = lrmodel_2.fit(train_sdf).transform(test_sdf)\n",
        "test_area_l2 = bce.evaluate(predict_above_average_2,{bce.metricName: \"areaUnderROC\"})\n",
        "\n",
        "# TO-DO: Your choice of Elastic Net model's AUC ROC score and save to \"test_area_elastic\"\n",
        "lrmodel_3 = LogisticRegression(regParam=0.2, elasticNetParam=0.5, featuresCol = \"features\", labelCol = \"above_average\")\n",
        "predict_above_average_3 = lrmodel_3.fit(train_sdf).transform(test_sdf)\n",
        "test_area_elastic = bce.evaluate(predict_above_average_3,{bce.metricName: \"areaUnderROC\"})\n",
        "\n"
      ]
    },
    {
      "cell_type": "code",
      "execution_count": null,
      "metadata": {
        "id": "DurugFakXe-P",
        "colab": {
          "base_uri": "https://localhost:8080/"
        },
        "outputId": "eacffcbc-92da-47f3-df3f-bd0663eb0152"
      },
      "outputs": [
        {
          "output_type": "stream",
          "name": "stdout",
          "text": [
            "Correct! You earned 6/6 points. You are a star!\n",
            "\n",
            "Your submission has been successfully recorded in the gradebook.\n"
          ]
        }
      ],
      "source": [
        "# 6 points\n",
        "grader.grade(test_case_id = 'check_logistic_with_reg', answer = (test_area_l1, test_area_l2, test_area_elastic))"
      ]
    },
    {
      "cell_type": "markdown",
      "metadata": {
        "id": "EMfnmzDZcKPE"
      },
      "source": [
        "## **2.4** Random Forest\n",
        "\n",
        "If you are looking to win Kaggle competitions, you definitely must know about Random Forests, Boosted Trees, etc. These ensemble methods generalize and work surprisingly well for a lot of classification problems and sometimes for regression problems (though regression trees are not the focus of this course).\n",
        "\n",
        "Let's give it a go. Similar to what you did for the Logistic Regression model, create a Random Forest classifier model and fit it to the training data."
      ]
    },
    {
      "cell_type": "code",
      "execution_count": null,
      "metadata": {
        "id": "aq20dW0XcKPF"
      },
      "outputs": [],
      "source": [
        "from pyspark.ml.classification import RandomForestClassifier\n",
        "from pyspark.ml.feature import StringIndexer\n",
        "\n",
        "# TO-DO: Instantiate and fit RF Model to training data\n",
        "# Define model\n",
        "rf = RandomForestClassifier(featuresCol = \"features\",\n",
        "                            labelCol = \"above_average\",\n",
        "                            maxDepth = 4,\n",
        "                            numTrees = 15)\n",
        "rf = rf.fit(train_sdf)"
      ]
    },
    {
      "cell_type": "markdown",
      "metadata": {
        "id": "smJ9cPBl2L8z"
      },
      "source": [
        "This time, get predictions on both the training and testing sets."
      ]
    },
    {
      "cell_type": "code",
      "execution_count": null,
      "metadata": {
        "id": "yVUZZk0TntjC"
      },
      "outputs": [],
      "source": [
        "# TO-DO: Get predictions and save to \"train_pred\" and \"test_pred\" respectively\n",
        "\n",
        "train_predictions_rf = rf.transform(train_sdf)\n",
        "test_predictions_rf = rf.transform(test_sdf)\n"
      ]
    },
    {
      "cell_type": "markdown",
      "metadata": {
        "id": "hYXCM7gG2ywa"
      },
      "source": [
        "Evaluate only using the Area Under the ROC Curve (AUC ROC) metric this time."
      ]
    },
    {
      "cell_type": "code",
      "execution_count": null,
      "metadata": {
        "id": "ryve4Jrgny2p"
      },
      "outputs": [],
      "source": [
        "# TO-DO: Evaluate predictions using AUC ROC for both train and test\n",
        "#        and call these \"train_area\" and \"test_area\" respectively\n",
        "\n",
        "train_area = bce.evaluate(train_predictions_rf,\n",
        "                                {bce.metricName: \"areaUnderROC\"})\n",
        "test_area = bce.evaluate(test_predictions_rf,\n",
        "                                {bce.metricName: \"areaUnderROC\"})"
      ]
    },
    {
      "cell_type": "code",
      "execution_count": null,
      "metadata": {
        "id": "7Imj7A8En4ny",
        "colab": {
          "base_uri": "https://localhost:8080/"
        },
        "outputId": "41c990ce-56a9-408f-f95c-5b6979776af7"
      },
      "outputs": [
        {
          "output_type": "stream",
          "name": "stdout",
          "text": [
            "Correct! You earned 8/8 points. You are a star!\n",
            "\n",
            "Your submission has been successfully recorded in the gradebook.\n"
          ]
        }
      ],
      "source": [
        "# 8 points\n",
        "grader.grade(test_case_id = 'check_random_forest', answer = (train_area, test_area))"
      ]
    },
    {
      "cell_type": "markdown",
      "metadata": {
        "id": "Iveni93tn9hi"
      },
      "source": [
        "##**2.5** Dimensionality Reduction Using PCA\n",
        "\n",
        "We will again use the powerful PCA to reduce the dimensions and project the data onto a lower dimensional space and fit a logistic regression on the new projected data.\n",
        "\n",
        "You will need to choose a new appropriate value for the number of dimensions.\n",
        "\n",
        "_Steps for this section:_\n",
        "1.   Initialize a PCA model with the appropriate number of dimensions.\n",
        "2.   Fit the model using the training data\n",
        "3.   Get the PCA features from the trained model\n",
        "4.   Train a Logistic Regression model using the PCA features\n",
        "5.   Evaluate the performance on the test set using the Area Under the ROC Curve (AUC ROC) metric"
      ]
    },
    {
      "cell_type": "code",
      "execution_count": null,
      "metadata": {
        "id": "Td_SnRHYoKuO"
      },
      "outputs": [],
      "source": [
        "from pyspark.ml.feature import PCA\n",
        "\n",
        "# TO-DO:\n",
        "pca = PCA(k=5, inputCol=\"features\")\n",
        "pca = pca.fit(train_sdf)\n",
        "features_pca = pca.transform(test_sdf)\n",
        "\n",
        "lr = LogisticRegression(regParam=0, elasticNetParam=1, featuresCol = \"features\", labelCol = \"above_average\")\n",
        "\n",
        "lr = lr.fit(features_pca)\n",
        "\n"
      ]
    },
    {
      "cell_type": "code",
      "execution_count": null,
      "metadata": {
        "id": "AMv1Cw2Wo25C"
      },
      "outputs": [],
      "source": [
        "# TO-DO: Evaluate predictions on train and call this \"training_ROC_area_pca\"\n",
        "bce = BinaryClassificationEvaluator(labelCol='above_average')\n",
        "training_ROC_area_pca = bce.evaluate(lr.transform(train_sdf),{bce.metricName: \"areaUnderROC\"})\n",
        "\n",
        "# TO-DO: Evaluate predictions on test and call this \"test_ROC_area_pca\"\n",
        "test_ROC_area_pca = bce.evaluate(lr.transform(test_sdf),{bce.metricName: \"areaUnderROC\"})\n"
      ]
    },
    {
      "cell_type": "code",
      "execution_count": null,
      "metadata": {
        "id": "Y4rkfgDzpIBz",
        "colab": {
          "base_uri": "https://localhost:8080/"
        },
        "outputId": "d3946d5e-34a8-4568-a3d8-f78cd70c400f"
      },
      "outputs": [
        {
          "output_type": "stream",
          "name": "stdout",
          "text": [
            "Correct! You earned 8/8 points. You are a star!\n",
            "\n",
            "Your submission has been successfully recorded in the gradebook.\n"
          ]
        }
      ],
      "source": [
        "# 8 points\n",
        "grader.grade(test_case_id = 'check_pca', answer = (training_ROC_area_pca, test_ROC_area_pca))"
      ]
    },
    {
      "cell_type": "markdown",
      "metadata": {
        "id": "oQNYaTMspbWT"
      },
      "source": [
        "# Homework Submission\n",
        "\n",
        "Good job! You finished the homework :) The submission instructions are as follows:\n",
        "\n",
        "* **Double check** that you have the correct PennID (all numbers) in the autograder. \n",
        "\n",
        "* **Triple check** that you have all plots shown in this Colab notebook before submitting (otherwise subject to a **penalty of -3 points**)\n",
        "\n",
        "*  Go to the \"File\" tab at the top left, and click \"Download .ipynb\" and then \"Download .py\".  **Rename** the files to \"homework4.ipynb\" and \"homework4.py\" respectively and upload them to Gradescope.\n",
        "\n",
        "* You must submit your notebook to receive credit. Post any issues with submission on Piazza and make sure to keep in mind the late day policy.\n",
        "\n",
        "* We will do a manual round of grading to sanity check that the stuff you have .\n"
      ]
    }
  ],
  "metadata": {
    "colab": {
      "collapsed_sections": [],
      "name": "Copy of Homework 4 Spring 2022.ipynb",
      "provenance": []
    },
    "kernelspec": {
      "display_name": "Python 3",
      "language": "python",
      "name": "python3"
    },
    "language_info": {
      "codemirror_mode": {
        "name": "ipython",
        "version": 3
      },
      "file_extension": ".py",
      "mimetype": "text/x-python",
      "name": "python",
      "nbconvert_exporter": "python",
      "pygments_lexer": "ipython3",
      "version": "3.7.1"
    }
  },
  "nbformat": 4,
  "nbformat_minor": 0
}