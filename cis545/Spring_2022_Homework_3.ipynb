{
  "nbformat": 4,
  "nbformat_minor": 0,
  "metadata": {
    "colab": {
      "name": "Copy of Spring 2022 Homework 3.ipynb",
      "provenance": [],
      "collapsed_sections": []
    },
    "kernelspec": {
      "name": "python3",
      "display_name": "Python 3"
    },
    "accelerator": "GPU",
    "widgets": {
      "application/vnd.jupyter.widget-state+json": {
        "6a81a2a6024449d8b72479f11dab9bad": {
          "model_module": "@jupyter-widgets/controls",
          "model_name": "FloatProgressModel",
          "model_module_version": "1.5.0",
          "state": {
            "_dom_classes": [],
            "_model_module": "@jupyter-widgets/controls",
            "_model_module_version": "1.5.0",
            "_model_name": "FloatProgressModel",
            "_view_count": null,
            "_view_module": "@jupyter-widgets/controls",
            "_view_module_version": "1.5.0",
            "_view_name": "ProgressView",
            "bar_style": "info",
            "description": "Progress:",
            "description_tooltip": null,
            "layout": "IPY_MODEL_41d1c1670997431683373d17810020a9",
            "max": 1,
            "min": 0,
            "orientation": "horizontal",
            "style": "IPY_MODEL_87f02c5e7e8c4e1880ae2f84b9362e02",
            "value": 0
          }
        },
        "41d1c1670997431683373d17810020a9": {
          "model_module": "@jupyter-widgets/base",
          "model_name": "LayoutModel",
          "model_module_version": "1.2.0",
          "state": {
            "_model_module": "@jupyter-widgets/base",
            "_model_module_version": "1.2.0",
            "_model_name": "LayoutModel",
            "_view_count": null,
            "_view_module": "@jupyter-widgets/base",
            "_view_module_version": "1.2.0",
            "_view_name": "LayoutView",
            "align_content": null,
            "align_items": null,
            "align_self": null,
            "border": null,
            "bottom": null,
            "display": null,
            "flex": null,
            "flex_flow": null,
            "grid_area": null,
            "grid_auto_columns": null,
            "grid_auto_flow": null,
            "grid_auto_rows": null,
            "grid_column": null,
            "grid_gap": null,
            "grid_row": null,
            "grid_template_areas": null,
            "grid_template_columns": null,
            "grid_template_rows": null,
            "height": "25px",
            "justify_content": null,
            "justify_items": null,
            "left": null,
            "margin": null,
            "max_height": null,
            "max_width": null,
            "min_height": null,
            "min_width": null,
            "object_fit": null,
            "object_position": null,
            "order": null,
            "overflow": null,
            "overflow_x": null,
            "overflow_y": null,
            "padding": null,
            "right": null,
            "top": null,
            "visibility": null,
            "width": "50%"
          }
        },
        "87f02c5e7e8c4e1880ae2f84b9362e02": {
          "model_module": "@jupyter-widgets/controls",
          "model_name": "ProgressStyleModel",
          "model_module_version": "1.5.0",
          "state": {
            "_model_module": "@jupyter-widgets/controls",
            "_model_module_version": "1.5.0",
            "_model_name": "ProgressStyleModel",
            "_view_count": null,
            "_view_module": "@jupyter-widgets/base",
            "_view_module_version": "1.2.0",
            "_view_name": "StyleView",
            "bar_color": null,
            "description_width": ""
          }
        },
        "32e09675beb747c09f38975324b1c7b6": {
          "model_module": "@jupyter-widgets/controls",
          "model_name": "FloatProgressModel",
          "model_module_version": "1.5.0",
          "state": {
            "_dom_classes": [],
            "_model_module": "@jupyter-widgets/controls",
            "_model_module_version": "1.5.0",
            "_model_name": "FloatProgressModel",
            "_view_count": null,
            "_view_module": "@jupyter-widgets/controls",
            "_view_module_version": "1.5.0",
            "_view_name": "ProgressView",
            "bar_style": "info",
            "description": "Progress:",
            "description_tooltip": null,
            "layout": "IPY_MODEL_e88803d483594628b0de334c23b48c81",
            "max": 1,
            "min": 0,
            "orientation": "horizontal",
            "style": "IPY_MODEL_9bd3cce8c832444087c9db058b70769f",
            "value": 0
          }
        },
        "e88803d483594628b0de334c23b48c81": {
          "model_module": "@jupyter-widgets/base",
          "model_name": "LayoutModel",
          "model_module_version": "1.2.0",
          "state": {
            "_model_module": "@jupyter-widgets/base",
            "_model_module_version": "1.2.0",
            "_model_name": "LayoutModel",
            "_view_count": null,
            "_view_module": "@jupyter-widgets/base",
            "_view_module_version": "1.2.0",
            "_view_name": "LayoutView",
            "align_content": null,
            "align_items": null,
            "align_self": null,
            "border": null,
            "bottom": null,
            "display": null,
            "flex": null,
            "flex_flow": null,
            "grid_area": null,
            "grid_auto_columns": null,
            "grid_auto_flow": null,
            "grid_auto_rows": null,
            "grid_column": null,
            "grid_gap": null,
            "grid_row": null,
            "grid_template_areas": null,
            "grid_template_columns": null,
            "grid_template_rows": null,
            "height": "25px",
            "justify_content": null,
            "justify_items": null,
            "left": null,
            "margin": null,
            "max_height": null,
            "max_width": null,
            "min_height": null,
            "min_width": null,
            "object_fit": null,
            "object_position": null,
            "order": null,
            "overflow": null,
            "overflow_x": null,
            "overflow_y": null,
            "padding": null,
            "right": null,
            "top": null,
            "visibility": null,
            "width": "50%"
          }
        },
        "9bd3cce8c832444087c9db058b70769f": {
          "model_module": "@jupyter-widgets/controls",
          "model_name": "ProgressStyleModel",
          "model_module_version": "1.5.0",
          "state": {
            "_model_module": "@jupyter-widgets/controls",
            "_model_module_version": "1.5.0",
            "_model_name": "ProgressStyleModel",
            "_view_count": null,
            "_view_module": "@jupyter-widgets/base",
            "_view_module_version": "1.2.0",
            "_view_name": "StyleView",
            "bar_color": null,
            "description_width": ""
          }
        },
        "6340847942114eabaeeefba4bca0a384": {
          "model_module": "@jupyter-widgets/controls",
          "model_name": "FloatProgressModel",
          "model_module_version": "1.5.0",
          "state": {
            "_dom_classes": [],
            "_model_module": "@jupyter-widgets/controls",
            "_model_module_version": "1.5.0",
            "_model_name": "FloatProgressModel",
            "_view_count": null,
            "_view_module": "@jupyter-widgets/controls",
            "_view_module_version": "1.5.0",
            "_view_name": "ProgressView",
            "bar_style": "info",
            "description": "Progress:",
            "description_tooltip": null,
            "layout": "IPY_MODEL_e62fd9f6ceaf482ab4d62f103b471243",
            "max": 1,
            "min": 0,
            "orientation": "horizontal",
            "style": "IPY_MODEL_93eb71bb6dea4c418dea896ea616c9de",
            "value": 0
          }
        },
        "e62fd9f6ceaf482ab4d62f103b471243": {
          "model_module": "@jupyter-widgets/base",
          "model_name": "LayoutModel",
          "model_module_version": "1.2.0",
          "state": {
            "_model_module": "@jupyter-widgets/base",
            "_model_module_version": "1.2.0",
            "_model_name": "LayoutModel",
            "_view_count": null,
            "_view_module": "@jupyter-widgets/base",
            "_view_module_version": "1.2.0",
            "_view_name": "LayoutView",
            "align_content": null,
            "align_items": null,
            "align_self": null,
            "border": null,
            "bottom": null,
            "display": null,
            "flex": null,
            "flex_flow": null,
            "grid_area": null,
            "grid_auto_columns": null,
            "grid_auto_flow": null,
            "grid_auto_rows": null,
            "grid_column": null,
            "grid_gap": null,
            "grid_row": null,
            "grid_template_areas": null,
            "grid_template_columns": null,
            "grid_template_rows": null,
            "height": "25px",
            "justify_content": null,
            "justify_items": null,
            "left": null,
            "margin": null,
            "max_height": null,
            "max_width": null,
            "min_height": null,
            "min_width": null,
            "object_fit": null,
            "object_position": null,
            "order": null,
            "overflow": null,
            "overflow_x": null,
            "overflow_y": null,
            "padding": null,
            "right": null,
            "top": null,
            "visibility": null,
            "width": "50%"
          }
        },
        "93eb71bb6dea4c418dea896ea616c9de": {
          "model_module": "@jupyter-widgets/controls",
          "model_name": "ProgressStyleModel",
          "model_module_version": "1.5.0",
          "state": {
            "_model_module": "@jupyter-widgets/controls",
            "_model_module_version": "1.5.0",
            "_model_name": "ProgressStyleModel",
            "_view_count": null,
            "_view_module": "@jupyter-widgets/base",
            "_view_module_version": "1.2.0",
            "_view_name": "StyleView",
            "bar_color": null,
            "description_width": ""
          }
        },
        "bd298acafe7247959a4bfded04a0c645": {
          "model_module": "@jupyter-widgets/controls",
          "model_name": "FloatProgressModel",
          "model_module_version": "1.5.0",
          "state": {
            "_dom_classes": [],
            "_model_module": "@jupyter-widgets/controls",
            "_model_module_version": "1.5.0",
            "_model_name": "FloatProgressModel",
            "_view_count": null,
            "_view_module": "@jupyter-widgets/controls",
            "_view_module_version": "1.5.0",
            "_view_name": "ProgressView",
            "bar_style": "info",
            "description": "Progress:",
            "description_tooltip": null,
            "layout": "IPY_MODEL_3b1c946ebd164049b206db12968159a9",
            "max": 1,
            "min": 0,
            "orientation": "horizontal",
            "style": "IPY_MODEL_5479fea6bab44dda83cd718b28bf59b3",
            "value": 0
          }
        },
        "3b1c946ebd164049b206db12968159a9": {
          "model_module": "@jupyter-widgets/base",
          "model_name": "LayoutModel",
          "model_module_version": "1.2.0",
          "state": {
            "_model_module": "@jupyter-widgets/base",
            "_model_module_version": "1.2.0",
            "_model_name": "LayoutModel",
            "_view_count": null,
            "_view_module": "@jupyter-widgets/base",
            "_view_module_version": "1.2.0",
            "_view_name": "LayoutView",
            "align_content": null,
            "align_items": null,
            "align_self": null,
            "border": null,
            "bottom": null,
            "display": null,
            "flex": null,
            "flex_flow": null,
            "grid_area": null,
            "grid_auto_columns": null,
            "grid_auto_flow": null,
            "grid_auto_rows": null,
            "grid_column": null,
            "grid_gap": null,
            "grid_row": null,
            "grid_template_areas": null,
            "grid_template_columns": null,
            "grid_template_rows": null,
            "height": "25px",
            "justify_content": null,
            "justify_items": null,
            "left": null,
            "margin": null,
            "max_height": null,
            "max_width": null,
            "min_height": null,
            "min_width": null,
            "object_fit": null,
            "object_position": null,
            "order": null,
            "overflow": null,
            "overflow_x": null,
            "overflow_y": null,
            "padding": null,
            "right": null,
            "top": null,
            "visibility": null,
            "width": "50%"
          }
        },
        "5479fea6bab44dda83cd718b28bf59b3": {
          "model_module": "@jupyter-widgets/controls",
          "model_name": "ProgressStyleModel",
          "model_module_version": "1.5.0",
          "state": {
            "_model_module": "@jupyter-widgets/controls",
            "_model_module_version": "1.5.0",
            "_model_name": "ProgressStyleModel",
            "_view_count": null,
            "_view_module": "@jupyter-widgets/base",
            "_view_module_version": "1.2.0",
            "_view_name": "StyleView",
            "bar_color": null,
            "description_width": ""
          }
        },
        "9916bbac58144b6ca5aaa6ad7180de70": {
          "model_module": "@jupyter-widgets/controls",
          "model_name": "FloatProgressModel",
          "model_module_version": "1.5.0",
          "state": {
            "_dom_classes": [],
            "_model_module": "@jupyter-widgets/controls",
            "_model_module_version": "1.5.0",
            "_model_name": "FloatProgressModel",
            "_view_count": null,
            "_view_module": "@jupyter-widgets/controls",
            "_view_module_version": "1.5.0",
            "_view_name": "ProgressView",
            "bar_style": "info",
            "description": "Progress:",
            "description_tooltip": null,
            "layout": "IPY_MODEL_cb5282ac315746e39fad2b31bf598fda",
            "max": 1,
            "min": 0,
            "orientation": "horizontal",
            "style": "IPY_MODEL_a0e6ad4fece44e0c99676058e387b45c",
            "value": 1
          }
        },
        "cb5282ac315746e39fad2b31bf598fda": {
          "model_module": "@jupyter-widgets/base",
          "model_name": "LayoutModel",
          "model_module_version": "1.2.0",
          "state": {
            "_model_module": "@jupyter-widgets/base",
            "_model_module_version": "1.2.0",
            "_model_name": "LayoutModel",
            "_view_count": null,
            "_view_module": "@jupyter-widgets/base",
            "_view_module_version": "1.2.0",
            "_view_name": "LayoutView",
            "align_content": null,
            "align_items": null,
            "align_self": null,
            "border": null,
            "bottom": null,
            "display": null,
            "flex": null,
            "flex_flow": null,
            "grid_area": null,
            "grid_auto_columns": null,
            "grid_auto_flow": null,
            "grid_auto_rows": null,
            "grid_column": null,
            "grid_gap": null,
            "grid_row": null,
            "grid_template_areas": null,
            "grid_template_columns": null,
            "grid_template_rows": null,
            "height": "25px",
            "justify_content": null,
            "justify_items": null,
            "left": null,
            "margin": null,
            "max_height": null,
            "max_width": null,
            "min_height": null,
            "min_width": null,
            "object_fit": null,
            "object_position": null,
            "order": null,
            "overflow": null,
            "overflow_x": null,
            "overflow_y": null,
            "padding": null,
            "right": null,
            "top": null,
            "visibility": null,
            "width": "50%"
          }
        },
        "a0e6ad4fece44e0c99676058e387b45c": {
          "model_module": "@jupyter-widgets/controls",
          "model_name": "ProgressStyleModel",
          "model_module_version": "1.5.0",
          "state": {
            "_model_module": "@jupyter-widgets/controls",
            "_model_module_version": "1.5.0",
            "_model_name": "ProgressStyleModel",
            "_view_count": null,
            "_view_module": "@jupyter-widgets/base",
            "_view_module_version": "1.2.0",
            "_view_name": "StyleView",
            "bar_color": null,
            "description_width": ""
          }
        },
        "8bc7c4f38c79450e9dc4ea2ed6c86843": {
          "model_module": "@jupyter-widgets/controls",
          "model_name": "FloatProgressModel",
          "model_module_version": "1.5.0",
          "state": {
            "_dom_classes": [],
            "_model_module": "@jupyter-widgets/controls",
            "_model_module_version": "1.5.0",
            "_model_name": "FloatProgressModel",
            "_view_count": null,
            "_view_module": "@jupyter-widgets/controls",
            "_view_module_version": "1.5.0",
            "_view_name": "ProgressView",
            "bar_style": "info",
            "description": "Progress:",
            "description_tooltip": null,
            "layout": "IPY_MODEL_5d394fb9955640b7a51c9d9149b5dcdb",
            "max": 1,
            "min": 0,
            "orientation": "horizontal",
            "style": "IPY_MODEL_7837879e88554361a5b12eccdf68a878",
            "value": 0
          }
        },
        "5d394fb9955640b7a51c9d9149b5dcdb": {
          "model_module": "@jupyter-widgets/base",
          "model_name": "LayoutModel",
          "model_module_version": "1.2.0",
          "state": {
            "_model_module": "@jupyter-widgets/base",
            "_model_module_version": "1.2.0",
            "_model_name": "LayoutModel",
            "_view_count": null,
            "_view_module": "@jupyter-widgets/base",
            "_view_module_version": "1.2.0",
            "_view_name": "LayoutView",
            "align_content": null,
            "align_items": null,
            "align_self": null,
            "border": null,
            "bottom": null,
            "display": null,
            "flex": null,
            "flex_flow": null,
            "grid_area": null,
            "grid_auto_columns": null,
            "grid_auto_flow": null,
            "grid_auto_rows": null,
            "grid_column": null,
            "grid_gap": null,
            "grid_row": null,
            "grid_template_areas": null,
            "grid_template_columns": null,
            "grid_template_rows": null,
            "height": "25px",
            "justify_content": null,
            "justify_items": null,
            "left": null,
            "margin": null,
            "max_height": null,
            "max_width": null,
            "min_height": null,
            "min_width": null,
            "object_fit": null,
            "object_position": null,
            "order": null,
            "overflow": null,
            "overflow_x": null,
            "overflow_y": null,
            "padding": null,
            "right": null,
            "top": null,
            "visibility": null,
            "width": "50%"
          }
        },
        "7837879e88554361a5b12eccdf68a878": {
          "model_module": "@jupyter-widgets/controls",
          "model_name": "ProgressStyleModel",
          "model_module_version": "1.5.0",
          "state": {
            "_model_module": "@jupyter-widgets/controls",
            "_model_module_version": "1.5.0",
            "_model_name": "ProgressStyleModel",
            "_view_count": null,
            "_view_module": "@jupyter-widgets/base",
            "_view_module_version": "1.2.0",
            "_view_name": "StyleView",
            "bar_color": null,
            "description_width": ""
          }
        },
        "f947a0be48b54f1d86e54cb7bdb23da0": {
          "model_module": "@jupyter-widgets/controls",
          "model_name": "FloatProgressModel",
          "model_module_version": "1.5.0",
          "state": {
            "_dom_classes": [],
            "_model_module": "@jupyter-widgets/controls",
            "_model_module_version": "1.5.0",
            "_model_name": "FloatProgressModel",
            "_view_count": null,
            "_view_module": "@jupyter-widgets/controls",
            "_view_module_version": "1.5.0",
            "_view_name": "ProgressView",
            "bar_style": "info",
            "description": "Progress:",
            "description_tooltip": null,
            "layout": "IPY_MODEL_38fcaa29362c4e938c729c99ddc751a5",
            "max": 1,
            "min": 0,
            "orientation": "horizontal",
            "style": "IPY_MODEL_f7ad55c1dbab4b59b01a9c1bdb1fb3ec",
            "value": 0.3333333333333333
          }
        },
        "38fcaa29362c4e938c729c99ddc751a5": {
          "model_module": "@jupyter-widgets/base",
          "model_name": "LayoutModel",
          "model_module_version": "1.2.0",
          "state": {
            "_model_module": "@jupyter-widgets/base",
            "_model_module_version": "1.2.0",
            "_model_name": "LayoutModel",
            "_view_count": null,
            "_view_module": "@jupyter-widgets/base",
            "_view_module_version": "1.2.0",
            "_view_name": "LayoutView",
            "align_content": null,
            "align_items": null,
            "align_self": null,
            "border": null,
            "bottom": null,
            "display": null,
            "flex": null,
            "flex_flow": null,
            "grid_area": null,
            "grid_auto_columns": null,
            "grid_auto_flow": null,
            "grid_auto_rows": null,
            "grid_column": null,
            "grid_gap": null,
            "grid_row": null,
            "grid_template_areas": null,
            "grid_template_columns": null,
            "grid_template_rows": null,
            "height": "25px",
            "justify_content": null,
            "justify_items": null,
            "left": null,
            "margin": null,
            "max_height": null,
            "max_width": null,
            "min_height": null,
            "min_width": null,
            "object_fit": null,
            "object_position": null,
            "order": null,
            "overflow": null,
            "overflow_x": null,
            "overflow_y": null,
            "padding": null,
            "right": null,
            "top": null,
            "visibility": null,
            "width": "50%"
          }
        },
        "f7ad55c1dbab4b59b01a9c1bdb1fb3ec": {
          "model_module": "@jupyter-widgets/controls",
          "model_name": "ProgressStyleModel",
          "model_module_version": "1.5.0",
          "state": {
            "_model_module": "@jupyter-widgets/controls",
            "_model_module_version": "1.5.0",
            "_model_name": "ProgressStyleModel",
            "_view_count": null,
            "_view_module": "@jupyter-widgets/base",
            "_view_module_version": "1.2.0",
            "_view_name": "StyleView",
            "bar_color": null,
            "description_width": ""
          }
        },
        "27e499ce885e45c9b668799943c228c5": {
          "model_module": "@jupyter-widgets/controls",
          "model_name": "FloatProgressModel",
          "model_module_version": "1.5.0",
          "state": {
            "_dom_classes": [],
            "_model_module": "@jupyter-widgets/controls",
            "_model_module_version": "1.5.0",
            "_model_name": "FloatProgressModel",
            "_view_count": null,
            "_view_module": "@jupyter-widgets/controls",
            "_view_module_version": "1.5.0",
            "_view_name": "ProgressView",
            "bar_style": "info",
            "description": "Progress:",
            "description_tooltip": null,
            "layout": "IPY_MODEL_fa9e8c36d4764075869ed5445141b502",
            "max": 1,
            "min": 0,
            "orientation": "horizontal",
            "style": "IPY_MODEL_ae08e88115f14358af20b70a2beb983f",
            "value": 0
          }
        },
        "fa9e8c36d4764075869ed5445141b502": {
          "model_module": "@jupyter-widgets/base",
          "model_name": "LayoutModel",
          "model_module_version": "1.2.0",
          "state": {
            "_model_module": "@jupyter-widgets/base",
            "_model_module_version": "1.2.0",
            "_model_name": "LayoutModel",
            "_view_count": null,
            "_view_module": "@jupyter-widgets/base",
            "_view_module_version": "1.2.0",
            "_view_name": "LayoutView",
            "align_content": null,
            "align_items": null,
            "align_self": null,
            "border": null,
            "bottom": null,
            "display": null,
            "flex": null,
            "flex_flow": null,
            "grid_area": null,
            "grid_auto_columns": null,
            "grid_auto_flow": null,
            "grid_auto_rows": null,
            "grid_column": null,
            "grid_gap": null,
            "grid_row": null,
            "grid_template_areas": null,
            "grid_template_columns": null,
            "grid_template_rows": null,
            "height": "25px",
            "justify_content": null,
            "justify_items": null,
            "left": null,
            "margin": null,
            "max_height": null,
            "max_width": null,
            "min_height": null,
            "min_width": null,
            "object_fit": null,
            "object_position": null,
            "order": null,
            "overflow": null,
            "overflow_x": null,
            "overflow_y": null,
            "padding": null,
            "right": null,
            "top": null,
            "visibility": null,
            "width": "50%"
          }
        },
        "ae08e88115f14358af20b70a2beb983f": {
          "model_module": "@jupyter-widgets/controls",
          "model_name": "ProgressStyleModel",
          "model_module_version": "1.5.0",
          "state": {
            "_model_module": "@jupyter-widgets/controls",
            "_model_module_version": "1.5.0",
            "_model_name": "ProgressStyleModel",
            "_view_count": null,
            "_view_module": "@jupyter-widgets/base",
            "_view_module_version": "1.2.0",
            "_view_name": "StyleView",
            "bar_color": null,
            "description_width": ""
          }
        },
        "9a37a1c783814eb1af245ffa0996ae40": {
          "model_module": "@jupyter-widgets/controls",
          "model_name": "FloatProgressModel",
          "model_module_version": "1.5.0",
          "state": {
            "_dom_classes": [],
            "_model_module": "@jupyter-widgets/controls",
            "_model_module_version": "1.5.0",
            "_model_name": "FloatProgressModel",
            "_view_count": null,
            "_view_module": "@jupyter-widgets/controls",
            "_view_module_version": "1.5.0",
            "_view_name": "ProgressView",
            "bar_style": "info",
            "description": "Progress:",
            "description_tooltip": null,
            "layout": "IPY_MODEL_9ed890b3dee54c56a18c3a453df14769",
            "max": 1,
            "min": 0,
            "orientation": "horizontal",
            "style": "IPY_MODEL_c05ceb3630334191a2237215676f0dea",
            "value": 0
          }
        },
        "9ed890b3dee54c56a18c3a453df14769": {
          "model_module": "@jupyter-widgets/base",
          "model_name": "LayoutModel",
          "model_module_version": "1.2.0",
          "state": {
            "_model_module": "@jupyter-widgets/base",
            "_model_module_version": "1.2.0",
            "_model_name": "LayoutModel",
            "_view_count": null,
            "_view_module": "@jupyter-widgets/base",
            "_view_module_version": "1.2.0",
            "_view_name": "LayoutView",
            "align_content": null,
            "align_items": null,
            "align_self": null,
            "border": null,
            "bottom": null,
            "display": null,
            "flex": null,
            "flex_flow": null,
            "grid_area": null,
            "grid_auto_columns": null,
            "grid_auto_flow": null,
            "grid_auto_rows": null,
            "grid_column": null,
            "grid_gap": null,
            "grid_row": null,
            "grid_template_areas": null,
            "grid_template_columns": null,
            "grid_template_rows": null,
            "height": "25px",
            "justify_content": null,
            "justify_items": null,
            "left": null,
            "margin": null,
            "max_height": null,
            "max_width": null,
            "min_height": null,
            "min_width": null,
            "object_fit": null,
            "object_position": null,
            "order": null,
            "overflow": null,
            "overflow_x": null,
            "overflow_y": null,
            "padding": null,
            "right": null,
            "top": null,
            "visibility": null,
            "width": "50%"
          }
        },
        "c05ceb3630334191a2237215676f0dea": {
          "model_module": "@jupyter-widgets/controls",
          "model_name": "ProgressStyleModel",
          "model_module_version": "1.5.0",
          "state": {
            "_model_module": "@jupyter-widgets/controls",
            "_model_module_version": "1.5.0",
            "_model_name": "ProgressStyleModel",
            "_view_count": null,
            "_view_module": "@jupyter-widgets/base",
            "_view_module_version": "1.2.0",
            "_view_name": "StyleView",
            "bar_color": null,
            "description_width": ""
          }
        },
        "827238070325416faec6b6a18d9355d5": {
          "model_module": "@jupyter-widgets/controls",
          "model_name": "FloatProgressModel",
          "model_module_version": "1.5.0",
          "state": {
            "_dom_classes": [],
            "_model_module": "@jupyter-widgets/controls",
            "_model_module_version": "1.5.0",
            "_model_name": "FloatProgressModel",
            "_view_count": null,
            "_view_module": "@jupyter-widgets/controls",
            "_view_module_version": "1.5.0",
            "_view_name": "ProgressView",
            "bar_style": "info",
            "description": "Progress:",
            "description_tooltip": null,
            "layout": "IPY_MODEL_2258f6379a77402eb0ddba999b2e17f0",
            "max": 1,
            "min": 0,
            "orientation": "horizontal",
            "style": "IPY_MODEL_8717f06b8232498292ef8f6ffd754c1b",
            "value": 0
          }
        },
        "2258f6379a77402eb0ddba999b2e17f0": {
          "model_module": "@jupyter-widgets/base",
          "model_name": "LayoutModel",
          "model_module_version": "1.2.0",
          "state": {
            "_model_module": "@jupyter-widgets/base",
            "_model_module_version": "1.2.0",
            "_model_name": "LayoutModel",
            "_view_count": null,
            "_view_module": "@jupyter-widgets/base",
            "_view_module_version": "1.2.0",
            "_view_name": "LayoutView",
            "align_content": null,
            "align_items": null,
            "align_self": null,
            "border": null,
            "bottom": null,
            "display": null,
            "flex": null,
            "flex_flow": null,
            "grid_area": null,
            "grid_auto_columns": null,
            "grid_auto_flow": null,
            "grid_auto_rows": null,
            "grid_column": null,
            "grid_gap": null,
            "grid_row": null,
            "grid_template_areas": null,
            "grid_template_columns": null,
            "grid_template_rows": null,
            "height": "25px",
            "justify_content": null,
            "justify_items": null,
            "left": null,
            "margin": null,
            "max_height": null,
            "max_width": null,
            "min_height": null,
            "min_width": null,
            "object_fit": null,
            "object_position": null,
            "order": null,
            "overflow": null,
            "overflow_x": null,
            "overflow_y": null,
            "padding": null,
            "right": null,
            "top": null,
            "visibility": null,
            "width": "50%"
          }
        },
        "8717f06b8232498292ef8f6ffd754c1b": {
          "model_module": "@jupyter-widgets/controls",
          "model_name": "ProgressStyleModel",
          "model_module_version": "1.5.0",
          "state": {
            "_model_module": "@jupyter-widgets/controls",
            "_model_module_version": "1.5.0",
            "_model_name": "ProgressStyleModel",
            "_view_count": null,
            "_view_module": "@jupyter-widgets/base",
            "_view_module_version": "1.2.0",
            "_view_name": "StyleView",
            "bar_color": null,
            "description_width": ""
          }
        },
        "5a3de7978e404627a37db4a21eae7184": {
          "model_module": "@jupyter-widgets/controls",
          "model_name": "FloatProgressModel",
          "model_module_version": "1.5.0",
          "state": {
            "_dom_classes": [],
            "_model_module": "@jupyter-widgets/controls",
            "_model_module_version": "1.5.0",
            "_model_name": "FloatProgressModel",
            "_view_count": null,
            "_view_module": "@jupyter-widgets/controls",
            "_view_module_version": "1.5.0",
            "_view_name": "ProgressView",
            "bar_style": "info",
            "description": "Progress:",
            "description_tooltip": null,
            "layout": "IPY_MODEL_87184c24f20e4e978d4c43008241c6ec",
            "max": 1,
            "min": 0,
            "orientation": "horizontal",
            "style": "IPY_MODEL_46bbee7ab5924e2ca5887a85c0296826",
            "value": 1
          }
        },
        "87184c24f20e4e978d4c43008241c6ec": {
          "model_module": "@jupyter-widgets/base",
          "model_name": "LayoutModel",
          "model_module_version": "1.2.0",
          "state": {
            "_model_module": "@jupyter-widgets/base",
            "_model_module_version": "1.2.0",
            "_model_name": "LayoutModel",
            "_view_count": null,
            "_view_module": "@jupyter-widgets/base",
            "_view_module_version": "1.2.0",
            "_view_name": "LayoutView",
            "align_content": null,
            "align_items": null,
            "align_self": null,
            "border": null,
            "bottom": null,
            "display": null,
            "flex": null,
            "flex_flow": null,
            "grid_area": null,
            "grid_auto_columns": null,
            "grid_auto_flow": null,
            "grid_auto_rows": null,
            "grid_column": null,
            "grid_gap": null,
            "grid_row": null,
            "grid_template_areas": null,
            "grid_template_columns": null,
            "grid_template_rows": null,
            "height": "25px",
            "justify_content": null,
            "justify_items": null,
            "left": null,
            "margin": null,
            "max_height": null,
            "max_width": null,
            "min_height": null,
            "min_width": null,
            "object_fit": null,
            "object_position": null,
            "order": null,
            "overflow": null,
            "overflow_x": null,
            "overflow_y": null,
            "padding": null,
            "right": null,
            "top": null,
            "visibility": null,
            "width": "50%"
          }
        },
        "46bbee7ab5924e2ca5887a85c0296826": {
          "model_module": "@jupyter-widgets/controls",
          "model_name": "ProgressStyleModel",
          "model_module_version": "1.5.0",
          "state": {
            "_model_module": "@jupyter-widgets/controls",
            "_model_module_version": "1.5.0",
            "_model_name": "ProgressStyleModel",
            "_view_count": null,
            "_view_module": "@jupyter-widgets/base",
            "_view_module_version": "1.2.0",
            "_view_name": "StyleView",
            "bar_color": null,
            "description_width": ""
          }
        },
        "a983b85b01dd418ba48b4a8285e8e416": {
          "model_module": "@jupyter-widgets/controls",
          "model_name": "FloatProgressModel",
          "model_module_version": "1.5.0",
          "state": {
            "_dom_classes": [],
            "_model_module": "@jupyter-widgets/controls",
            "_model_module_version": "1.5.0",
            "_model_name": "FloatProgressModel",
            "_view_count": null,
            "_view_module": "@jupyter-widgets/controls",
            "_view_module_version": "1.5.0",
            "_view_name": "ProgressView",
            "bar_style": "info",
            "description": "Progress:",
            "description_tooltip": null,
            "layout": "IPY_MODEL_6cbc5a9b4cf44f7c857a6d9f69b66651",
            "max": 1,
            "min": 0,
            "orientation": "horizontal",
            "style": "IPY_MODEL_ce858926081648b996cfa1eedba6f729",
            "value": 1
          }
        },
        "6cbc5a9b4cf44f7c857a6d9f69b66651": {
          "model_module": "@jupyter-widgets/base",
          "model_name": "LayoutModel",
          "model_module_version": "1.2.0",
          "state": {
            "_model_module": "@jupyter-widgets/base",
            "_model_module_version": "1.2.0",
            "_model_name": "LayoutModel",
            "_view_count": null,
            "_view_module": "@jupyter-widgets/base",
            "_view_module_version": "1.2.0",
            "_view_name": "LayoutView",
            "align_content": null,
            "align_items": null,
            "align_self": null,
            "border": null,
            "bottom": null,
            "display": null,
            "flex": null,
            "flex_flow": null,
            "grid_area": null,
            "grid_auto_columns": null,
            "grid_auto_flow": null,
            "grid_auto_rows": null,
            "grid_column": null,
            "grid_gap": null,
            "grid_row": null,
            "grid_template_areas": null,
            "grid_template_columns": null,
            "grid_template_rows": null,
            "height": "25px",
            "justify_content": null,
            "justify_items": null,
            "left": null,
            "margin": null,
            "max_height": null,
            "max_width": null,
            "min_height": null,
            "min_width": null,
            "object_fit": null,
            "object_position": null,
            "order": null,
            "overflow": null,
            "overflow_x": null,
            "overflow_y": null,
            "padding": null,
            "right": null,
            "top": null,
            "visibility": null,
            "width": "50%"
          }
        },
        "ce858926081648b996cfa1eedba6f729": {
          "model_module": "@jupyter-widgets/controls",
          "model_name": "ProgressStyleModel",
          "model_module_version": "1.5.0",
          "state": {
            "_model_module": "@jupyter-widgets/controls",
            "_model_module_version": "1.5.0",
            "_model_name": "ProgressStyleModel",
            "_view_count": null,
            "_view_module": "@jupyter-widgets/base",
            "_view_module_version": "1.2.0",
            "_view_name": "StyleView",
            "bar_color": null,
            "description_width": ""
          }
        },
        "46a48b7008024ae7ac3a12aef3ada885": {
          "model_module": "@jupyter-widgets/controls",
          "model_name": "FloatProgressModel",
          "model_module_version": "1.5.0",
          "state": {
            "_dom_classes": [],
            "_model_module": "@jupyter-widgets/controls",
            "_model_module_version": "1.5.0",
            "_model_name": "FloatProgressModel",
            "_view_count": null,
            "_view_module": "@jupyter-widgets/controls",
            "_view_module_version": "1.5.0",
            "_view_name": "ProgressView",
            "bar_style": "info",
            "description": "Progress:",
            "description_tooltip": null,
            "layout": "IPY_MODEL_589260649d544bc2a661ac4433007f45",
            "max": 1,
            "min": 0,
            "orientation": "horizontal",
            "style": "IPY_MODEL_1bb0072a92b341a497c7538f2a19dd71",
            "value": 0
          }
        },
        "589260649d544bc2a661ac4433007f45": {
          "model_module": "@jupyter-widgets/base",
          "model_name": "LayoutModel",
          "model_module_version": "1.2.0",
          "state": {
            "_model_module": "@jupyter-widgets/base",
            "_model_module_version": "1.2.0",
            "_model_name": "LayoutModel",
            "_view_count": null,
            "_view_module": "@jupyter-widgets/base",
            "_view_module_version": "1.2.0",
            "_view_name": "LayoutView",
            "align_content": null,
            "align_items": null,
            "align_self": null,
            "border": null,
            "bottom": null,
            "display": null,
            "flex": null,
            "flex_flow": null,
            "grid_area": null,
            "grid_auto_columns": null,
            "grid_auto_flow": null,
            "grid_auto_rows": null,
            "grid_column": null,
            "grid_gap": null,
            "grid_row": null,
            "grid_template_areas": null,
            "grid_template_columns": null,
            "grid_template_rows": null,
            "height": "25px",
            "justify_content": null,
            "justify_items": null,
            "left": null,
            "margin": null,
            "max_height": null,
            "max_width": null,
            "min_height": null,
            "min_width": null,
            "object_fit": null,
            "object_position": null,
            "order": null,
            "overflow": null,
            "overflow_x": null,
            "overflow_y": null,
            "padding": null,
            "right": null,
            "top": null,
            "visibility": null,
            "width": "50%"
          }
        },
        "1bb0072a92b341a497c7538f2a19dd71": {
          "model_module": "@jupyter-widgets/controls",
          "model_name": "ProgressStyleModel",
          "model_module_version": "1.5.0",
          "state": {
            "_model_module": "@jupyter-widgets/controls",
            "_model_module_version": "1.5.0",
            "_model_name": "ProgressStyleModel",
            "_view_count": null,
            "_view_module": "@jupyter-widgets/base",
            "_view_module_version": "1.2.0",
            "_view_name": "StyleView",
            "bar_color": null,
            "description_width": ""
          }
        },
        "6d245ce13898425a933dd2f1cfe8fb36": {
          "model_module": "@jupyter-widgets/controls",
          "model_name": "FloatProgressModel",
          "model_module_version": "1.5.0",
          "state": {
            "_dom_classes": [],
            "_model_module": "@jupyter-widgets/controls",
            "_model_module_version": "1.5.0",
            "_model_name": "FloatProgressModel",
            "_view_count": null,
            "_view_module": "@jupyter-widgets/controls",
            "_view_module_version": "1.5.0",
            "_view_name": "ProgressView",
            "bar_style": "info",
            "description": "Progress:",
            "description_tooltip": null,
            "layout": "IPY_MODEL_4fa66f09d34f4847bfd7919ba078ac6e",
            "max": 1,
            "min": 0,
            "orientation": "horizontal",
            "style": "IPY_MODEL_828e069d14594a5f892155eb1ab1c61c",
            "value": 0.9333333333333333
          }
        },
        "4fa66f09d34f4847bfd7919ba078ac6e": {
          "model_module": "@jupyter-widgets/base",
          "model_name": "LayoutModel",
          "model_module_version": "1.2.0",
          "state": {
            "_model_module": "@jupyter-widgets/base",
            "_model_module_version": "1.2.0",
            "_model_name": "LayoutModel",
            "_view_count": null,
            "_view_module": "@jupyter-widgets/base",
            "_view_module_version": "1.2.0",
            "_view_name": "LayoutView",
            "align_content": null,
            "align_items": null,
            "align_self": null,
            "border": null,
            "bottom": null,
            "display": null,
            "flex": null,
            "flex_flow": null,
            "grid_area": null,
            "grid_auto_columns": null,
            "grid_auto_flow": null,
            "grid_auto_rows": null,
            "grid_column": null,
            "grid_gap": null,
            "grid_row": null,
            "grid_template_areas": null,
            "grid_template_columns": null,
            "grid_template_rows": null,
            "height": "25px",
            "justify_content": null,
            "justify_items": null,
            "left": null,
            "margin": null,
            "max_height": null,
            "max_width": null,
            "min_height": null,
            "min_width": null,
            "object_fit": null,
            "object_position": null,
            "order": null,
            "overflow": null,
            "overflow_x": null,
            "overflow_y": null,
            "padding": null,
            "right": null,
            "top": null,
            "visibility": null,
            "width": "50%"
          }
        },
        "828e069d14594a5f892155eb1ab1c61c": {
          "model_module": "@jupyter-widgets/controls",
          "model_name": "ProgressStyleModel",
          "model_module_version": "1.5.0",
          "state": {
            "_model_module": "@jupyter-widgets/controls",
            "_model_module_version": "1.5.0",
            "_model_name": "ProgressStyleModel",
            "_view_count": null,
            "_view_module": "@jupyter-widgets/base",
            "_view_module_version": "1.2.0",
            "_view_name": "StyleView",
            "bar_color": null,
            "description_width": ""
          }
        },
        "6f072592b53e46599007fd95f3042009": {
          "model_module": "@jupyter-widgets/controls",
          "model_name": "FloatProgressModel",
          "model_module_version": "1.5.0",
          "state": {
            "_dom_classes": [],
            "_model_module": "@jupyter-widgets/controls",
            "_model_module_version": "1.5.0",
            "_model_name": "FloatProgressModel",
            "_view_count": null,
            "_view_module": "@jupyter-widgets/controls",
            "_view_module_version": "1.5.0",
            "_view_name": "ProgressView",
            "bar_style": "info",
            "description": "Progress:",
            "description_tooltip": null,
            "layout": "IPY_MODEL_f7eee7f1e62a43f881df3379e96ae321",
            "max": 1,
            "min": 0,
            "orientation": "horizontal",
            "style": "IPY_MODEL_42847336084743a9a2c74853ea21c9c6",
            "value": 0
          }
        },
        "f7eee7f1e62a43f881df3379e96ae321": {
          "model_module": "@jupyter-widgets/base",
          "model_name": "LayoutModel",
          "model_module_version": "1.2.0",
          "state": {
            "_model_module": "@jupyter-widgets/base",
            "_model_module_version": "1.2.0",
            "_model_name": "LayoutModel",
            "_view_count": null,
            "_view_module": "@jupyter-widgets/base",
            "_view_module_version": "1.2.0",
            "_view_name": "LayoutView",
            "align_content": null,
            "align_items": null,
            "align_self": null,
            "border": null,
            "bottom": null,
            "display": null,
            "flex": null,
            "flex_flow": null,
            "grid_area": null,
            "grid_auto_columns": null,
            "grid_auto_flow": null,
            "grid_auto_rows": null,
            "grid_column": null,
            "grid_gap": null,
            "grid_row": null,
            "grid_template_areas": null,
            "grid_template_columns": null,
            "grid_template_rows": null,
            "height": "25px",
            "justify_content": null,
            "justify_items": null,
            "left": null,
            "margin": null,
            "max_height": null,
            "max_width": null,
            "min_height": null,
            "min_width": null,
            "object_fit": null,
            "object_position": null,
            "order": null,
            "overflow": null,
            "overflow_x": null,
            "overflow_y": null,
            "padding": null,
            "right": null,
            "top": null,
            "visibility": null,
            "width": "50%"
          }
        },
        "42847336084743a9a2c74853ea21c9c6": {
          "model_module": "@jupyter-widgets/controls",
          "model_name": "ProgressStyleModel",
          "model_module_version": "1.5.0",
          "state": {
            "_model_module": "@jupyter-widgets/controls",
            "_model_module_version": "1.5.0",
            "_model_name": "ProgressStyleModel",
            "_view_count": null,
            "_view_module": "@jupyter-widgets/base",
            "_view_module_version": "1.2.0",
            "_view_name": "StyleView",
            "bar_color": null,
            "description_width": ""
          }
        },
        "8b707d132dba4e618a4a2ae9747967f4": {
          "model_module": "@jupyter-widgets/controls",
          "model_name": "FloatProgressModel",
          "model_module_version": "1.5.0",
          "state": {
            "_dom_classes": [],
            "_model_module": "@jupyter-widgets/controls",
            "_model_module_version": "1.5.0",
            "_model_name": "FloatProgressModel",
            "_view_count": null,
            "_view_module": "@jupyter-widgets/controls",
            "_view_module_version": "1.5.0",
            "_view_name": "ProgressView",
            "bar_style": "info",
            "description": "Progress:",
            "description_tooltip": null,
            "layout": "IPY_MODEL_0657bda5f6ff4b549aed6c58f98a4668",
            "max": 1,
            "min": 0,
            "orientation": "horizontal",
            "style": "IPY_MODEL_bf204211ce154014b725b6ff1fd4a6f4",
            "value": 0.8571428571428571
          }
        },
        "0657bda5f6ff4b549aed6c58f98a4668": {
          "model_module": "@jupyter-widgets/base",
          "model_name": "LayoutModel",
          "model_module_version": "1.2.0",
          "state": {
            "_model_module": "@jupyter-widgets/base",
            "_model_module_version": "1.2.0",
            "_model_name": "LayoutModel",
            "_view_count": null,
            "_view_module": "@jupyter-widgets/base",
            "_view_module_version": "1.2.0",
            "_view_name": "LayoutView",
            "align_content": null,
            "align_items": null,
            "align_self": null,
            "border": null,
            "bottom": null,
            "display": null,
            "flex": null,
            "flex_flow": null,
            "grid_area": null,
            "grid_auto_columns": null,
            "grid_auto_flow": null,
            "grid_auto_rows": null,
            "grid_column": null,
            "grid_gap": null,
            "grid_row": null,
            "grid_template_areas": null,
            "grid_template_columns": null,
            "grid_template_rows": null,
            "height": "25px",
            "justify_content": null,
            "justify_items": null,
            "left": null,
            "margin": null,
            "max_height": null,
            "max_width": null,
            "min_height": null,
            "min_width": null,
            "object_fit": null,
            "object_position": null,
            "order": null,
            "overflow": null,
            "overflow_x": null,
            "overflow_y": null,
            "padding": null,
            "right": null,
            "top": null,
            "visibility": null,
            "width": "50%"
          }
        },
        "bf204211ce154014b725b6ff1fd4a6f4": {
          "model_module": "@jupyter-widgets/controls",
          "model_name": "ProgressStyleModel",
          "model_module_version": "1.5.0",
          "state": {
            "_model_module": "@jupyter-widgets/controls",
            "_model_module_version": "1.5.0",
            "_model_name": "ProgressStyleModel",
            "_view_count": null,
            "_view_module": "@jupyter-widgets/base",
            "_view_module_version": "1.2.0",
            "_view_name": "StyleView",
            "bar_color": null,
            "description_width": ""
          }
        },
        "29dcb33aef0343b0b33b9554063a6523": {
          "model_module": "@jupyter-widgets/controls",
          "model_name": "FloatProgressModel",
          "model_module_version": "1.5.0",
          "state": {
            "_dom_classes": [],
            "_model_module": "@jupyter-widgets/controls",
            "_model_module_version": "1.5.0",
            "_model_name": "FloatProgressModel",
            "_view_count": null,
            "_view_module": "@jupyter-widgets/controls",
            "_view_module_version": "1.5.0",
            "_view_name": "ProgressView",
            "bar_style": "info",
            "description": "Progress:",
            "description_tooltip": null,
            "layout": "IPY_MODEL_bb18fbfbfdfb4eef95248f341ce8eaaa",
            "max": 1,
            "min": 0,
            "orientation": "horizontal",
            "style": "IPY_MODEL_92f8ac1e23dd4bf0aca429f737e83990",
            "value": 0.49382716049382713
          }
        },
        "bb18fbfbfdfb4eef95248f341ce8eaaa": {
          "model_module": "@jupyter-widgets/base",
          "model_name": "LayoutModel",
          "model_module_version": "1.2.0",
          "state": {
            "_model_module": "@jupyter-widgets/base",
            "_model_module_version": "1.2.0",
            "_model_name": "LayoutModel",
            "_view_count": null,
            "_view_module": "@jupyter-widgets/base",
            "_view_module_version": "1.2.0",
            "_view_name": "LayoutView",
            "align_content": null,
            "align_items": null,
            "align_self": null,
            "border": null,
            "bottom": null,
            "display": null,
            "flex": null,
            "flex_flow": null,
            "grid_area": null,
            "grid_auto_columns": null,
            "grid_auto_flow": null,
            "grid_auto_rows": null,
            "grid_column": null,
            "grid_gap": null,
            "grid_row": null,
            "grid_template_areas": null,
            "grid_template_columns": null,
            "grid_template_rows": null,
            "height": "25px",
            "justify_content": null,
            "justify_items": null,
            "left": null,
            "margin": null,
            "max_height": null,
            "max_width": null,
            "min_height": null,
            "min_width": null,
            "object_fit": null,
            "object_position": null,
            "order": null,
            "overflow": null,
            "overflow_x": null,
            "overflow_y": null,
            "padding": null,
            "right": null,
            "top": null,
            "visibility": null,
            "width": "50%"
          }
        },
        "92f8ac1e23dd4bf0aca429f737e83990": {
          "model_module": "@jupyter-widgets/controls",
          "model_name": "ProgressStyleModel",
          "model_module_version": "1.5.0",
          "state": {
            "_model_module": "@jupyter-widgets/controls",
            "_model_module_version": "1.5.0",
            "_model_name": "ProgressStyleModel",
            "_view_count": null,
            "_view_module": "@jupyter-widgets/base",
            "_view_module_version": "1.2.0",
            "_view_name": "StyleView",
            "bar_color": null,
            "description_width": ""
          }
        },
        "482dc7d73af145f795565946b0bfb82e": {
          "model_module": "@jupyter-widgets/controls",
          "model_name": "FloatProgressModel",
          "model_module_version": "1.5.0",
          "state": {
            "_dom_classes": [],
            "_model_module": "@jupyter-widgets/controls",
            "_model_module_version": "1.5.0",
            "_model_name": "FloatProgressModel",
            "_view_count": null,
            "_view_module": "@jupyter-widgets/controls",
            "_view_module_version": "1.5.0",
            "_view_name": "ProgressView",
            "bar_style": "info",
            "description": "Progress:",
            "description_tooltip": null,
            "layout": "IPY_MODEL_3c8a69705fe1438f85456fca599e4d71",
            "max": 1,
            "min": 0,
            "orientation": "horizontal",
            "style": "IPY_MODEL_ade1a07c73104c73bacefef384030268",
            "value": 0.5394190871369294
          }
        },
        "3c8a69705fe1438f85456fca599e4d71": {
          "model_module": "@jupyter-widgets/base",
          "model_name": "LayoutModel",
          "model_module_version": "1.2.0",
          "state": {
            "_model_module": "@jupyter-widgets/base",
            "_model_module_version": "1.2.0",
            "_model_name": "LayoutModel",
            "_view_count": null,
            "_view_module": "@jupyter-widgets/base",
            "_view_module_version": "1.2.0",
            "_view_name": "LayoutView",
            "align_content": null,
            "align_items": null,
            "align_self": null,
            "border": null,
            "bottom": null,
            "display": null,
            "flex": null,
            "flex_flow": null,
            "grid_area": null,
            "grid_auto_columns": null,
            "grid_auto_flow": null,
            "grid_auto_rows": null,
            "grid_column": null,
            "grid_gap": null,
            "grid_row": null,
            "grid_template_areas": null,
            "grid_template_columns": null,
            "grid_template_rows": null,
            "height": "25px",
            "justify_content": null,
            "justify_items": null,
            "left": null,
            "margin": null,
            "max_height": null,
            "max_width": null,
            "min_height": null,
            "min_width": null,
            "object_fit": null,
            "object_position": null,
            "order": null,
            "overflow": null,
            "overflow_x": null,
            "overflow_y": null,
            "padding": null,
            "right": null,
            "top": null,
            "visibility": null,
            "width": "50%"
          }
        },
        "ade1a07c73104c73bacefef384030268": {
          "model_module": "@jupyter-widgets/controls",
          "model_name": "ProgressStyleModel",
          "model_module_version": "1.5.0",
          "state": {
            "_model_module": "@jupyter-widgets/controls",
            "_model_module_version": "1.5.0",
            "_model_name": "ProgressStyleModel",
            "_view_count": null,
            "_view_module": "@jupyter-widgets/base",
            "_view_module_version": "1.2.0",
            "_view_name": "StyleView",
            "bar_color": null,
            "description_width": ""
          }
        },
        "4431b3ee8fb74c26a7382f6bc42553e5": {
          "model_module": "@jupyter-widgets/controls",
          "model_name": "FloatProgressModel",
          "model_module_version": "1.5.0",
          "state": {
            "_dom_classes": [],
            "_model_module": "@jupyter-widgets/controls",
            "_model_module_version": "1.5.0",
            "_model_name": "FloatProgressModel",
            "_view_count": null,
            "_view_module": "@jupyter-widgets/controls",
            "_view_module_version": "1.5.0",
            "_view_name": "ProgressView",
            "bar_style": "info",
            "description": "Progress:",
            "description_tooltip": null,
            "layout": "IPY_MODEL_df15309b51b3492b9b7d495064485888",
            "max": 1,
            "min": 0,
            "orientation": "horizontal",
            "style": "IPY_MODEL_2789904c9db94bf4a687cade3122c1b7",
            "value": 0.3143631436314363
          }
        },
        "df15309b51b3492b9b7d495064485888": {
          "model_module": "@jupyter-widgets/base",
          "model_name": "LayoutModel",
          "model_module_version": "1.2.0",
          "state": {
            "_model_module": "@jupyter-widgets/base",
            "_model_module_version": "1.2.0",
            "_model_name": "LayoutModel",
            "_view_count": null,
            "_view_module": "@jupyter-widgets/base",
            "_view_module_version": "1.2.0",
            "_view_name": "LayoutView",
            "align_content": null,
            "align_items": null,
            "align_self": null,
            "border": null,
            "bottom": null,
            "display": null,
            "flex": null,
            "flex_flow": null,
            "grid_area": null,
            "grid_auto_columns": null,
            "grid_auto_flow": null,
            "grid_auto_rows": null,
            "grid_column": null,
            "grid_gap": null,
            "grid_row": null,
            "grid_template_areas": null,
            "grid_template_columns": null,
            "grid_template_rows": null,
            "height": "25px",
            "justify_content": null,
            "justify_items": null,
            "left": null,
            "margin": null,
            "max_height": null,
            "max_width": null,
            "min_height": null,
            "min_width": null,
            "object_fit": null,
            "object_position": null,
            "order": null,
            "overflow": null,
            "overflow_x": null,
            "overflow_y": null,
            "padding": null,
            "right": null,
            "top": null,
            "visibility": null,
            "width": "50%"
          }
        },
        "2789904c9db94bf4a687cade3122c1b7": {
          "model_module": "@jupyter-widgets/controls",
          "model_name": "ProgressStyleModel",
          "model_module_version": "1.5.0",
          "state": {
            "_model_module": "@jupyter-widgets/controls",
            "_model_module_version": "1.5.0",
            "_model_name": "ProgressStyleModel",
            "_view_count": null,
            "_view_module": "@jupyter-widgets/base",
            "_view_module_version": "1.2.0",
            "_view_name": "StyleView",
            "bar_color": null,
            "description_width": ""
          }
        },
        "2fd4a84892604e7a97b23b923fc6e8d9": {
          "model_module": "@jupyter-widgets/controls",
          "model_name": "FloatProgressModel",
          "model_module_version": "1.5.0",
          "state": {
            "_dom_classes": [],
            "_model_module": "@jupyter-widgets/controls",
            "_model_module_version": "1.5.0",
            "_model_name": "FloatProgressModel",
            "_view_count": null,
            "_view_module": "@jupyter-widgets/controls",
            "_view_module_version": "1.5.0",
            "_view_name": "ProgressView",
            "bar_style": "info",
            "description": "Progress:",
            "description_tooltip": null,
            "layout": "IPY_MODEL_9dd9260480f340f9841d61c14eccc116",
            "max": 1,
            "min": 0,
            "orientation": "horizontal",
            "style": "IPY_MODEL_7e42a57611404b858d57bc647108e55f",
            "value": 0
          }
        },
        "9dd9260480f340f9841d61c14eccc116": {
          "model_module": "@jupyter-widgets/base",
          "model_name": "LayoutModel",
          "model_module_version": "1.2.0",
          "state": {
            "_model_module": "@jupyter-widgets/base",
            "_model_module_version": "1.2.0",
            "_model_name": "LayoutModel",
            "_view_count": null,
            "_view_module": "@jupyter-widgets/base",
            "_view_module_version": "1.2.0",
            "_view_name": "LayoutView",
            "align_content": null,
            "align_items": null,
            "align_self": null,
            "border": null,
            "bottom": null,
            "display": null,
            "flex": null,
            "flex_flow": null,
            "grid_area": null,
            "grid_auto_columns": null,
            "grid_auto_flow": null,
            "grid_auto_rows": null,
            "grid_column": null,
            "grid_gap": null,
            "grid_row": null,
            "grid_template_areas": null,
            "grid_template_columns": null,
            "grid_template_rows": null,
            "height": "25px",
            "justify_content": null,
            "justify_items": null,
            "left": null,
            "margin": null,
            "max_height": null,
            "max_width": null,
            "min_height": null,
            "min_width": null,
            "object_fit": null,
            "object_position": null,
            "order": null,
            "overflow": null,
            "overflow_x": null,
            "overflow_y": null,
            "padding": null,
            "right": null,
            "top": null,
            "visibility": null,
            "width": "50%"
          }
        },
        "7e42a57611404b858d57bc647108e55f": {
          "model_module": "@jupyter-widgets/controls",
          "model_name": "ProgressStyleModel",
          "model_module_version": "1.5.0",
          "state": {
            "_model_module": "@jupyter-widgets/controls",
            "_model_module_version": "1.5.0",
            "_model_name": "ProgressStyleModel",
            "_view_count": null,
            "_view_module": "@jupyter-widgets/base",
            "_view_module_version": "1.2.0",
            "_view_name": "StyleView",
            "bar_color": null,
            "description_width": ""
          }
        },
        "67746ffd524f455dbb71a074016ac9f6": {
          "model_module": "@jupyter-widgets/controls",
          "model_name": "FloatProgressModel",
          "model_module_version": "1.5.0",
          "state": {
            "_dom_classes": [],
            "_model_module": "@jupyter-widgets/controls",
            "_model_module_version": "1.5.0",
            "_model_name": "FloatProgressModel",
            "_view_count": null,
            "_view_module": "@jupyter-widgets/controls",
            "_view_module_version": "1.5.0",
            "_view_name": "ProgressView",
            "bar_style": "info",
            "description": "Progress:",
            "description_tooltip": null,
            "layout": "IPY_MODEL_8d64378050b54f3493c9ddf3f96e62dc",
            "max": 1,
            "min": 0,
            "orientation": "horizontal",
            "style": "IPY_MODEL_4ef5d68bc3d24907b881d5598e14407a",
            "value": 0
          }
        },
        "8d64378050b54f3493c9ddf3f96e62dc": {
          "model_module": "@jupyter-widgets/base",
          "model_name": "LayoutModel",
          "model_module_version": "1.2.0",
          "state": {
            "_model_module": "@jupyter-widgets/base",
            "_model_module_version": "1.2.0",
            "_model_name": "LayoutModel",
            "_view_count": null,
            "_view_module": "@jupyter-widgets/base",
            "_view_module_version": "1.2.0",
            "_view_name": "LayoutView",
            "align_content": null,
            "align_items": null,
            "align_self": null,
            "border": null,
            "bottom": null,
            "display": null,
            "flex": null,
            "flex_flow": null,
            "grid_area": null,
            "grid_auto_columns": null,
            "grid_auto_flow": null,
            "grid_auto_rows": null,
            "grid_column": null,
            "grid_gap": null,
            "grid_row": null,
            "grid_template_areas": null,
            "grid_template_columns": null,
            "grid_template_rows": null,
            "height": "25px",
            "justify_content": null,
            "justify_items": null,
            "left": null,
            "margin": null,
            "max_height": null,
            "max_width": null,
            "min_height": null,
            "min_width": null,
            "object_fit": null,
            "object_position": null,
            "order": null,
            "overflow": null,
            "overflow_x": null,
            "overflow_y": null,
            "padding": null,
            "right": null,
            "top": null,
            "visibility": null,
            "width": "50%"
          }
        },
        "4ef5d68bc3d24907b881d5598e14407a": {
          "model_module": "@jupyter-widgets/controls",
          "model_name": "ProgressStyleModel",
          "model_module_version": "1.5.0",
          "state": {
            "_model_module": "@jupyter-widgets/controls",
            "_model_module_version": "1.5.0",
            "_model_name": "ProgressStyleModel",
            "_view_count": null,
            "_view_module": "@jupyter-widgets/base",
            "_view_module_version": "1.2.0",
            "_view_name": "StyleView",
            "bar_color": null,
            "description_width": ""
          }
        },
        "19d0b522cc6c48c49d852bf690b98204": {
          "model_module": "@jupyter-widgets/controls",
          "model_name": "FloatProgressModel",
          "model_module_version": "1.5.0",
          "state": {
            "_dom_classes": [],
            "_model_module": "@jupyter-widgets/controls",
            "_model_module_version": "1.5.0",
            "_model_name": "FloatProgressModel",
            "_view_count": null,
            "_view_module": "@jupyter-widgets/controls",
            "_view_module_version": "1.5.0",
            "_view_name": "ProgressView",
            "bar_style": "info",
            "description": "Progress:",
            "description_tooltip": null,
            "layout": "IPY_MODEL_850316ef588c4cc298c45fe0fa4aac43",
            "max": 1,
            "min": 0,
            "orientation": "horizontal",
            "style": "IPY_MODEL_871209aa46ba4be3a6e3ace66971c2e8",
            "value": 0.5329181494661922
          }
        },
        "850316ef588c4cc298c45fe0fa4aac43": {
          "model_module": "@jupyter-widgets/base",
          "model_name": "LayoutModel",
          "model_module_version": "1.2.0",
          "state": {
            "_model_module": "@jupyter-widgets/base",
            "_model_module_version": "1.2.0",
            "_model_name": "LayoutModel",
            "_view_count": null,
            "_view_module": "@jupyter-widgets/base",
            "_view_module_version": "1.2.0",
            "_view_name": "LayoutView",
            "align_content": null,
            "align_items": null,
            "align_self": null,
            "border": null,
            "bottom": null,
            "display": null,
            "flex": null,
            "flex_flow": null,
            "grid_area": null,
            "grid_auto_columns": null,
            "grid_auto_flow": null,
            "grid_auto_rows": null,
            "grid_column": null,
            "grid_gap": null,
            "grid_row": null,
            "grid_template_areas": null,
            "grid_template_columns": null,
            "grid_template_rows": null,
            "height": "25px",
            "justify_content": null,
            "justify_items": null,
            "left": null,
            "margin": null,
            "max_height": null,
            "max_width": null,
            "min_height": null,
            "min_width": null,
            "object_fit": null,
            "object_position": null,
            "order": null,
            "overflow": null,
            "overflow_x": null,
            "overflow_y": null,
            "padding": null,
            "right": null,
            "top": null,
            "visibility": null,
            "width": "50%"
          }
        },
        "871209aa46ba4be3a6e3ace66971c2e8": {
          "model_module": "@jupyter-widgets/controls",
          "model_name": "ProgressStyleModel",
          "model_module_version": "1.5.0",
          "state": {
            "_model_module": "@jupyter-widgets/controls",
            "_model_module_version": "1.5.0",
            "_model_name": "ProgressStyleModel",
            "_view_count": null,
            "_view_module": "@jupyter-widgets/base",
            "_view_module_version": "1.2.0",
            "_view_name": "StyleView",
            "bar_color": null,
            "description_width": ""
          }
        },
        "30a3737d179a4229ac8c90c6ca1cf19a": {
          "model_module": "@jupyter-widgets/controls",
          "model_name": "FloatProgressModel",
          "model_module_version": "1.5.0",
          "state": {
            "_dom_classes": [],
            "_model_module": "@jupyter-widgets/controls",
            "_model_module_version": "1.5.0",
            "_model_name": "FloatProgressModel",
            "_view_count": null,
            "_view_module": "@jupyter-widgets/controls",
            "_view_module_version": "1.5.0",
            "_view_name": "ProgressView",
            "bar_style": "info",
            "description": "Progress:",
            "description_tooltip": null,
            "layout": "IPY_MODEL_80d1acfb7273468eb02b7fa50e37e599",
            "max": 1,
            "min": 0,
            "orientation": "horizontal",
            "style": "IPY_MODEL_671906e4274b49999460f0d98b6133bd",
            "value": 0.4737631184407796
          }
        },
        "80d1acfb7273468eb02b7fa50e37e599": {
          "model_module": "@jupyter-widgets/base",
          "model_name": "LayoutModel",
          "model_module_version": "1.2.0",
          "state": {
            "_model_module": "@jupyter-widgets/base",
            "_model_module_version": "1.2.0",
            "_model_name": "LayoutModel",
            "_view_count": null,
            "_view_module": "@jupyter-widgets/base",
            "_view_module_version": "1.2.0",
            "_view_name": "LayoutView",
            "align_content": null,
            "align_items": null,
            "align_self": null,
            "border": null,
            "bottom": null,
            "display": null,
            "flex": null,
            "flex_flow": null,
            "grid_area": null,
            "grid_auto_columns": null,
            "grid_auto_flow": null,
            "grid_auto_rows": null,
            "grid_column": null,
            "grid_gap": null,
            "grid_row": null,
            "grid_template_areas": null,
            "grid_template_columns": null,
            "grid_template_rows": null,
            "height": "25px",
            "justify_content": null,
            "justify_items": null,
            "left": null,
            "margin": null,
            "max_height": null,
            "max_width": null,
            "min_height": null,
            "min_width": null,
            "object_fit": null,
            "object_position": null,
            "order": null,
            "overflow": null,
            "overflow_x": null,
            "overflow_y": null,
            "padding": null,
            "right": null,
            "top": null,
            "visibility": null,
            "width": "50%"
          }
        },
        "671906e4274b49999460f0d98b6133bd": {
          "model_module": "@jupyter-widgets/controls",
          "model_name": "ProgressStyleModel",
          "model_module_version": "1.5.0",
          "state": {
            "_model_module": "@jupyter-widgets/controls",
            "_model_module_version": "1.5.0",
            "_model_name": "ProgressStyleModel",
            "_view_count": null,
            "_view_module": "@jupyter-widgets/base",
            "_view_module_version": "1.2.0",
            "_view_name": "StyleView",
            "bar_color": null,
            "description_width": ""
          }
        },
        "0941c053db6b4a51a9fb50856b4b0b28": {
          "model_module": "@jupyter-widgets/controls",
          "model_name": "FloatProgressModel",
          "model_module_version": "1.5.0",
          "state": {
            "_dom_classes": [],
            "_model_module": "@jupyter-widgets/controls",
            "_model_module_version": "1.5.0",
            "_model_name": "FloatProgressModel",
            "_view_count": null,
            "_view_module": "@jupyter-widgets/controls",
            "_view_module_version": "1.5.0",
            "_view_name": "ProgressView",
            "bar_style": "info",
            "description": "Progress:",
            "description_tooltip": null,
            "layout": "IPY_MODEL_e38974288de54aa39b06e9ad601e99b5",
            "max": 1,
            "min": 0,
            "orientation": "horizontal",
            "style": "IPY_MODEL_bf999a2848964621b250e4a9f8333a8d",
            "value": 0
          }
        },
        "e38974288de54aa39b06e9ad601e99b5": {
          "model_module": "@jupyter-widgets/base",
          "model_name": "LayoutModel",
          "model_module_version": "1.2.0",
          "state": {
            "_model_module": "@jupyter-widgets/base",
            "_model_module_version": "1.2.0",
            "_model_name": "LayoutModel",
            "_view_count": null,
            "_view_module": "@jupyter-widgets/base",
            "_view_module_version": "1.2.0",
            "_view_name": "LayoutView",
            "align_content": null,
            "align_items": null,
            "align_self": null,
            "border": null,
            "bottom": null,
            "display": null,
            "flex": null,
            "flex_flow": null,
            "grid_area": null,
            "grid_auto_columns": null,
            "grid_auto_flow": null,
            "grid_auto_rows": null,
            "grid_column": null,
            "grid_gap": null,
            "grid_row": null,
            "grid_template_areas": null,
            "grid_template_columns": null,
            "grid_template_rows": null,
            "height": "25px",
            "justify_content": null,
            "justify_items": null,
            "left": null,
            "margin": null,
            "max_height": null,
            "max_width": null,
            "min_height": null,
            "min_width": null,
            "object_fit": null,
            "object_position": null,
            "order": null,
            "overflow": null,
            "overflow_x": null,
            "overflow_y": null,
            "padding": null,
            "right": null,
            "top": null,
            "visibility": null,
            "width": "50%"
          }
        },
        "bf999a2848964621b250e4a9f8333a8d": {
          "model_module": "@jupyter-widgets/controls",
          "model_name": "ProgressStyleModel",
          "model_module_version": "1.5.0",
          "state": {
            "_model_module": "@jupyter-widgets/controls",
            "_model_module_version": "1.5.0",
            "_model_name": "ProgressStyleModel",
            "_view_count": null,
            "_view_module": "@jupyter-widgets/base",
            "_view_module_version": "1.2.0",
            "_view_name": "StyleView",
            "bar_color": null,
            "description_width": ""
          }
        },
        "ff597942c4a24809ba932470ac2cad22": {
          "model_module": "@jupyter-widgets/controls",
          "model_name": "FloatProgressModel",
          "model_module_version": "1.5.0",
          "state": {
            "_dom_classes": [],
            "_model_module": "@jupyter-widgets/controls",
            "_model_module_version": "1.5.0",
            "_model_name": "FloatProgressModel",
            "_view_count": null,
            "_view_module": "@jupyter-widgets/controls",
            "_view_module_version": "1.5.0",
            "_view_name": "ProgressView",
            "bar_style": "info",
            "description": "Progress:",
            "description_tooltip": null,
            "layout": "IPY_MODEL_eeac4946beeb4a14bd79dc9e4aed0108",
            "max": 1,
            "min": 0,
            "orientation": "horizontal",
            "style": "IPY_MODEL_94c0afba4bf243a89e07a5244818d9cd",
            "value": 0.512743628185907
          }
        },
        "eeac4946beeb4a14bd79dc9e4aed0108": {
          "model_module": "@jupyter-widgets/base",
          "model_name": "LayoutModel",
          "model_module_version": "1.2.0",
          "state": {
            "_model_module": "@jupyter-widgets/base",
            "_model_module_version": "1.2.0",
            "_model_name": "LayoutModel",
            "_view_count": null,
            "_view_module": "@jupyter-widgets/base",
            "_view_module_version": "1.2.0",
            "_view_name": "LayoutView",
            "align_content": null,
            "align_items": null,
            "align_self": null,
            "border": null,
            "bottom": null,
            "display": null,
            "flex": null,
            "flex_flow": null,
            "grid_area": null,
            "grid_auto_columns": null,
            "grid_auto_flow": null,
            "grid_auto_rows": null,
            "grid_column": null,
            "grid_gap": null,
            "grid_row": null,
            "grid_template_areas": null,
            "grid_template_columns": null,
            "grid_template_rows": null,
            "height": "25px",
            "justify_content": null,
            "justify_items": null,
            "left": null,
            "margin": null,
            "max_height": null,
            "max_width": null,
            "min_height": null,
            "min_width": null,
            "object_fit": null,
            "object_position": null,
            "order": null,
            "overflow": null,
            "overflow_x": null,
            "overflow_y": null,
            "padding": null,
            "right": null,
            "top": null,
            "visibility": null,
            "width": "50%"
          }
        },
        "94c0afba4bf243a89e07a5244818d9cd": {
          "model_module": "@jupyter-widgets/controls",
          "model_name": "ProgressStyleModel",
          "model_module_version": "1.5.0",
          "state": {
            "_model_module": "@jupyter-widgets/controls",
            "_model_module_version": "1.5.0",
            "_model_name": "ProgressStyleModel",
            "_view_count": null,
            "_view_module": "@jupyter-widgets/base",
            "_view_module_version": "1.2.0",
            "_view_name": "StyleView",
            "bar_color": null,
            "description_width": ""
          }
        },
        "9362567c640841a193a89cb2882e21d2": {
          "model_module": "@jupyter-widgets/controls",
          "model_name": "FloatProgressModel",
          "model_module_version": "1.5.0",
          "state": {
            "_dom_classes": [],
            "_model_module": "@jupyter-widgets/controls",
            "_model_module_version": "1.5.0",
            "_model_name": "FloatProgressModel",
            "_view_count": null,
            "_view_module": "@jupyter-widgets/controls",
            "_view_module_version": "1.5.0",
            "_view_name": "ProgressView",
            "bar_style": "info",
            "description": "Progress:",
            "description_tooltip": null,
            "layout": "IPY_MODEL_75c50f2a2a39469a8241d6dd953e124f",
            "max": 1,
            "min": 0,
            "orientation": "horizontal",
            "style": "IPY_MODEL_c2dc9019471d4571b261f437415942db",
            "value": 0.3775933609958506
          }
        },
        "75c50f2a2a39469a8241d6dd953e124f": {
          "model_module": "@jupyter-widgets/base",
          "model_name": "LayoutModel",
          "model_module_version": "1.2.0",
          "state": {
            "_model_module": "@jupyter-widgets/base",
            "_model_module_version": "1.2.0",
            "_model_name": "LayoutModel",
            "_view_count": null,
            "_view_module": "@jupyter-widgets/base",
            "_view_module_version": "1.2.0",
            "_view_name": "LayoutView",
            "align_content": null,
            "align_items": null,
            "align_self": null,
            "border": null,
            "bottom": null,
            "display": null,
            "flex": null,
            "flex_flow": null,
            "grid_area": null,
            "grid_auto_columns": null,
            "grid_auto_flow": null,
            "grid_auto_rows": null,
            "grid_column": null,
            "grid_gap": null,
            "grid_row": null,
            "grid_template_areas": null,
            "grid_template_columns": null,
            "grid_template_rows": null,
            "height": "25px",
            "justify_content": null,
            "justify_items": null,
            "left": null,
            "margin": null,
            "max_height": null,
            "max_width": null,
            "min_height": null,
            "min_width": null,
            "object_fit": null,
            "object_position": null,
            "order": null,
            "overflow": null,
            "overflow_x": null,
            "overflow_y": null,
            "padding": null,
            "right": null,
            "top": null,
            "visibility": null,
            "width": "50%"
          }
        },
        "c2dc9019471d4571b261f437415942db": {
          "model_module": "@jupyter-widgets/controls",
          "model_name": "ProgressStyleModel",
          "model_module_version": "1.5.0",
          "state": {
            "_model_module": "@jupyter-widgets/controls",
            "_model_module_version": "1.5.0",
            "_model_name": "ProgressStyleModel",
            "_view_count": null,
            "_view_module": "@jupyter-widgets/base",
            "_view_module_version": "1.2.0",
            "_view_name": "StyleView",
            "bar_color": null,
            "description_width": ""
          }
        },
        "853128c39b904658a97df838f353cfdc": {
          "model_module": "@jupyter-widgets/controls",
          "model_name": "FloatProgressModel",
          "model_module_version": "1.5.0",
          "state": {
            "_dom_classes": [],
            "_model_module": "@jupyter-widgets/controls",
            "_model_module_version": "1.5.0",
            "_model_name": "FloatProgressModel",
            "_view_count": null,
            "_view_module": "@jupyter-widgets/controls",
            "_view_module_version": "1.5.0",
            "_view_name": "ProgressView",
            "bar_style": "info",
            "description": "Progress:",
            "description_tooltip": null,
            "layout": "IPY_MODEL_e02f91119531497cb7dcfed8cf6e2361",
            "max": 1,
            "min": 0,
            "orientation": "horizontal",
            "style": "IPY_MODEL_64e7a5b717b94a05b0f12d11e4fa5976",
            "value": 0.4896265560165975
          }
        },
        "e02f91119531497cb7dcfed8cf6e2361": {
          "model_module": "@jupyter-widgets/base",
          "model_name": "LayoutModel",
          "model_module_version": "1.2.0",
          "state": {
            "_model_module": "@jupyter-widgets/base",
            "_model_module_version": "1.2.0",
            "_model_name": "LayoutModel",
            "_view_count": null,
            "_view_module": "@jupyter-widgets/base",
            "_view_module_version": "1.2.0",
            "_view_name": "LayoutView",
            "align_content": null,
            "align_items": null,
            "align_self": null,
            "border": null,
            "bottom": null,
            "display": null,
            "flex": null,
            "flex_flow": null,
            "grid_area": null,
            "grid_auto_columns": null,
            "grid_auto_flow": null,
            "grid_auto_rows": null,
            "grid_column": null,
            "grid_gap": null,
            "grid_row": null,
            "grid_template_areas": null,
            "grid_template_columns": null,
            "grid_template_rows": null,
            "height": "25px",
            "justify_content": null,
            "justify_items": null,
            "left": null,
            "margin": null,
            "max_height": null,
            "max_width": null,
            "min_height": null,
            "min_width": null,
            "object_fit": null,
            "object_position": null,
            "order": null,
            "overflow": null,
            "overflow_x": null,
            "overflow_y": null,
            "padding": null,
            "right": null,
            "top": null,
            "visibility": null,
            "width": "50%"
          }
        },
        "64e7a5b717b94a05b0f12d11e4fa5976": {
          "model_module": "@jupyter-widgets/controls",
          "model_name": "ProgressStyleModel",
          "model_module_version": "1.5.0",
          "state": {
            "_model_module": "@jupyter-widgets/controls",
            "_model_module_version": "1.5.0",
            "_model_name": "ProgressStyleModel",
            "_view_count": null,
            "_view_module": "@jupyter-widgets/base",
            "_view_module_version": "1.2.0",
            "_view_name": "StyleView",
            "bar_color": null,
            "description_width": ""
          }
        },
        "646e48198116467cb59890aff446701e": {
          "model_module": "@jupyter-widgets/controls",
          "model_name": "FloatProgressModel",
          "model_module_version": "1.5.0",
          "state": {
            "_dom_classes": [],
            "_model_module": "@jupyter-widgets/controls",
            "_model_module_version": "1.5.0",
            "_model_name": "FloatProgressModel",
            "_view_count": null,
            "_view_module": "@jupyter-widgets/controls",
            "_view_module_version": "1.5.0",
            "_view_name": "ProgressView",
            "bar_style": "info",
            "description": "Progress:",
            "description_tooltip": null,
            "layout": "IPY_MODEL_a4b73bdf805d46309658bc6e88a3ba0d",
            "max": 1,
            "min": 0,
            "orientation": "horizontal",
            "style": "IPY_MODEL_2faf6da2fa0a45339d81ffb98c661189",
            "value": 0
          }
        },
        "a4b73bdf805d46309658bc6e88a3ba0d": {
          "model_module": "@jupyter-widgets/base",
          "model_name": "LayoutModel",
          "model_module_version": "1.2.0",
          "state": {
            "_model_module": "@jupyter-widgets/base",
            "_model_module_version": "1.2.0",
            "_model_name": "LayoutModel",
            "_view_count": null,
            "_view_module": "@jupyter-widgets/base",
            "_view_module_version": "1.2.0",
            "_view_name": "LayoutView",
            "align_content": null,
            "align_items": null,
            "align_self": null,
            "border": null,
            "bottom": null,
            "display": null,
            "flex": null,
            "flex_flow": null,
            "grid_area": null,
            "grid_auto_columns": null,
            "grid_auto_flow": null,
            "grid_auto_rows": null,
            "grid_column": null,
            "grid_gap": null,
            "grid_row": null,
            "grid_template_areas": null,
            "grid_template_columns": null,
            "grid_template_rows": null,
            "height": "25px",
            "justify_content": null,
            "justify_items": null,
            "left": null,
            "margin": null,
            "max_height": null,
            "max_width": null,
            "min_height": null,
            "min_width": null,
            "object_fit": null,
            "object_position": null,
            "order": null,
            "overflow": null,
            "overflow_x": null,
            "overflow_y": null,
            "padding": null,
            "right": null,
            "top": null,
            "visibility": null,
            "width": "50%"
          }
        },
        "2faf6da2fa0a45339d81ffb98c661189": {
          "model_module": "@jupyter-widgets/controls",
          "model_name": "ProgressStyleModel",
          "model_module_version": "1.5.0",
          "state": {
            "_model_module": "@jupyter-widgets/controls",
            "_model_module_version": "1.5.0",
            "_model_name": "ProgressStyleModel",
            "_view_count": null,
            "_view_module": "@jupyter-widgets/base",
            "_view_module_version": "1.2.0",
            "_view_name": "StyleView",
            "bar_color": null,
            "description_width": ""
          }
        },
        "9bc50717819d4a1b8b21df5a672362f4": {
          "model_module": "@jupyter-widgets/controls",
          "model_name": "FloatProgressModel",
          "model_module_version": "1.5.0",
          "state": {
            "_dom_classes": [],
            "_model_module": "@jupyter-widgets/controls",
            "_model_module_version": "1.5.0",
            "_model_name": "FloatProgressModel",
            "_view_count": null,
            "_view_module": "@jupyter-widgets/controls",
            "_view_module_version": "1.5.0",
            "_view_name": "ProgressView",
            "bar_style": "info",
            "description": "Progress:",
            "description_tooltip": null,
            "layout": "IPY_MODEL_0355ed50f1504dc4bec909dc4211205e",
            "max": 1,
            "min": 0,
            "orientation": "horizontal",
            "style": "IPY_MODEL_4452902b0e214d16888cbdf2bb7e9b80",
            "value": 0.5477178423236515
          }
        },
        "0355ed50f1504dc4bec909dc4211205e": {
          "model_module": "@jupyter-widgets/base",
          "model_name": "LayoutModel",
          "model_module_version": "1.2.0",
          "state": {
            "_model_module": "@jupyter-widgets/base",
            "_model_module_version": "1.2.0",
            "_model_name": "LayoutModel",
            "_view_count": null,
            "_view_module": "@jupyter-widgets/base",
            "_view_module_version": "1.2.0",
            "_view_name": "LayoutView",
            "align_content": null,
            "align_items": null,
            "align_self": null,
            "border": null,
            "bottom": null,
            "display": null,
            "flex": null,
            "flex_flow": null,
            "grid_area": null,
            "grid_auto_columns": null,
            "grid_auto_flow": null,
            "grid_auto_rows": null,
            "grid_column": null,
            "grid_gap": null,
            "grid_row": null,
            "grid_template_areas": null,
            "grid_template_columns": null,
            "grid_template_rows": null,
            "height": "25px",
            "justify_content": null,
            "justify_items": null,
            "left": null,
            "margin": null,
            "max_height": null,
            "max_width": null,
            "min_height": null,
            "min_width": null,
            "object_fit": null,
            "object_position": null,
            "order": null,
            "overflow": null,
            "overflow_x": null,
            "overflow_y": null,
            "padding": null,
            "right": null,
            "top": null,
            "visibility": null,
            "width": "50%"
          }
        },
        "4452902b0e214d16888cbdf2bb7e9b80": {
          "model_module": "@jupyter-widgets/controls",
          "model_name": "ProgressStyleModel",
          "model_module_version": "1.5.0",
          "state": {
            "_model_module": "@jupyter-widgets/controls",
            "_model_module_version": "1.5.0",
            "_model_name": "ProgressStyleModel",
            "_view_count": null,
            "_view_module": "@jupyter-widgets/base",
            "_view_module_version": "1.2.0",
            "_view_name": "StyleView",
            "bar_color": null,
            "description_width": ""
          }
        },
        "291464e449d74c0eb96746603678e3e3": {
          "model_module": "@jupyter-widgets/controls",
          "model_name": "FloatProgressModel",
          "model_module_version": "1.5.0",
          "state": {
            "_dom_classes": [],
            "_model_module": "@jupyter-widgets/controls",
            "_model_module_version": "1.5.0",
            "_model_name": "FloatProgressModel",
            "_view_count": null,
            "_view_module": "@jupyter-widgets/controls",
            "_view_module_version": "1.5.0",
            "_view_name": "ProgressView",
            "bar_style": "info",
            "description": "Progress:",
            "description_tooltip": null,
            "layout": "IPY_MODEL_a4f83d52d54b4efeaa174de5d3751ca8",
            "max": 1,
            "min": 0,
            "orientation": "horizontal",
            "style": "IPY_MODEL_92598c34a6f74a31b34afbc7830e926a",
            "value": 0
          }
        },
        "a4f83d52d54b4efeaa174de5d3751ca8": {
          "model_module": "@jupyter-widgets/base",
          "model_name": "LayoutModel",
          "model_module_version": "1.2.0",
          "state": {
            "_model_module": "@jupyter-widgets/base",
            "_model_module_version": "1.2.0",
            "_model_name": "LayoutModel",
            "_view_count": null,
            "_view_module": "@jupyter-widgets/base",
            "_view_module_version": "1.2.0",
            "_view_name": "LayoutView",
            "align_content": null,
            "align_items": null,
            "align_self": null,
            "border": null,
            "bottom": null,
            "display": null,
            "flex": null,
            "flex_flow": null,
            "grid_area": null,
            "grid_auto_columns": null,
            "grid_auto_flow": null,
            "grid_auto_rows": null,
            "grid_column": null,
            "grid_gap": null,
            "grid_row": null,
            "grid_template_areas": null,
            "grid_template_columns": null,
            "grid_template_rows": null,
            "height": "25px",
            "justify_content": null,
            "justify_items": null,
            "left": null,
            "margin": null,
            "max_height": null,
            "max_width": null,
            "min_height": null,
            "min_width": null,
            "object_fit": null,
            "object_position": null,
            "order": null,
            "overflow": null,
            "overflow_x": null,
            "overflow_y": null,
            "padding": null,
            "right": null,
            "top": null,
            "visibility": null,
            "width": "50%"
          }
        },
        "92598c34a6f74a31b34afbc7830e926a": {
          "model_module": "@jupyter-widgets/controls",
          "model_name": "ProgressStyleModel",
          "model_module_version": "1.5.0",
          "state": {
            "_model_module": "@jupyter-widgets/controls",
            "_model_module_version": "1.5.0",
            "_model_name": "ProgressStyleModel",
            "_view_count": null,
            "_view_module": "@jupyter-widgets/base",
            "_view_module_version": "1.2.0",
            "_view_name": "StyleView",
            "bar_color": null,
            "description_width": ""
          }
        },
        "8d45acaea8124a90a2604cbe4fb3d14f": {
          "model_module": "@jupyter-widgets/controls",
          "model_name": "FloatProgressModel",
          "model_module_version": "1.5.0",
          "state": {
            "_dom_classes": [],
            "_model_module": "@jupyter-widgets/controls",
            "_model_module_version": "1.5.0",
            "_model_name": "FloatProgressModel",
            "_view_count": null,
            "_view_module": "@jupyter-widgets/controls",
            "_view_module_version": "1.5.0",
            "_view_name": "ProgressView",
            "bar_style": "info",
            "description": "Progress:",
            "description_tooltip": null,
            "layout": "IPY_MODEL_531122c0c85643ef8bb6e8cf8799a301",
            "max": 1,
            "min": 0,
            "orientation": "horizontal",
            "style": "IPY_MODEL_edfa187ecac6405780b80dd86ee0043c",
            "value": 0
          }
        },
        "531122c0c85643ef8bb6e8cf8799a301": {
          "model_module": "@jupyter-widgets/base",
          "model_name": "LayoutModel",
          "model_module_version": "1.2.0",
          "state": {
            "_model_module": "@jupyter-widgets/base",
            "_model_module_version": "1.2.0",
            "_model_name": "LayoutModel",
            "_view_count": null,
            "_view_module": "@jupyter-widgets/base",
            "_view_module_version": "1.2.0",
            "_view_name": "LayoutView",
            "align_content": null,
            "align_items": null,
            "align_self": null,
            "border": null,
            "bottom": null,
            "display": null,
            "flex": null,
            "flex_flow": null,
            "grid_area": null,
            "grid_auto_columns": null,
            "grid_auto_flow": null,
            "grid_auto_rows": null,
            "grid_column": null,
            "grid_gap": null,
            "grid_row": null,
            "grid_template_areas": null,
            "grid_template_columns": null,
            "grid_template_rows": null,
            "height": "25px",
            "justify_content": null,
            "justify_items": null,
            "left": null,
            "margin": null,
            "max_height": null,
            "max_width": null,
            "min_height": null,
            "min_width": null,
            "object_fit": null,
            "object_position": null,
            "order": null,
            "overflow": null,
            "overflow_x": null,
            "overflow_y": null,
            "padding": null,
            "right": null,
            "top": null,
            "visibility": null,
            "width": "50%"
          }
        },
        "edfa187ecac6405780b80dd86ee0043c": {
          "model_module": "@jupyter-widgets/controls",
          "model_name": "ProgressStyleModel",
          "model_module_version": "1.5.0",
          "state": {
            "_model_module": "@jupyter-widgets/controls",
            "_model_module_version": "1.5.0",
            "_model_name": "ProgressStyleModel",
            "_view_count": null,
            "_view_module": "@jupyter-widgets/base",
            "_view_module_version": "1.2.0",
            "_view_name": "StyleView",
            "bar_color": null,
            "description_width": ""
          }
        },
        "1cb3c85d47444bf5a7ac02b46e9da70d": {
          "model_module": "@jupyter-widgets/controls",
          "model_name": "FloatProgressModel",
          "model_module_version": "1.5.0",
          "state": {
            "_dom_classes": [],
            "_model_module": "@jupyter-widgets/controls",
            "_model_module_version": "1.5.0",
            "_model_name": "FloatProgressModel",
            "_view_count": null,
            "_view_module": "@jupyter-widgets/controls",
            "_view_module_version": "1.5.0",
            "_view_name": "ProgressView",
            "bar_style": "info",
            "description": "Progress:",
            "description_tooltip": null,
            "layout": "IPY_MODEL_f697fde24db44250a2c4fa1693da58b5",
            "max": 1,
            "min": 0,
            "orientation": "horizontal",
            "style": "IPY_MODEL_96fdb92dbecd4bb59f73ad4316186520",
            "value": 0
          }
        },
        "f697fde24db44250a2c4fa1693da58b5": {
          "model_module": "@jupyter-widgets/base",
          "model_name": "LayoutModel",
          "model_module_version": "1.2.0",
          "state": {
            "_model_module": "@jupyter-widgets/base",
            "_model_module_version": "1.2.0",
            "_model_name": "LayoutModel",
            "_view_count": null,
            "_view_module": "@jupyter-widgets/base",
            "_view_module_version": "1.2.0",
            "_view_name": "LayoutView",
            "align_content": null,
            "align_items": null,
            "align_self": null,
            "border": null,
            "bottom": null,
            "display": null,
            "flex": null,
            "flex_flow": null,
            "grid_area": null,
            "grid_auto_columns": null,
            "grid_auto_flow": null,
            "grid_auto_rows": null,
            "grid_column": null,
            "grid_gap": null,
            "grid_row": null,
            "grid_template_areas": null,
            "grid_template_columns": null,
            "grid_template_rows": null,
            "height": "25px",
            "justify_content": null,
            "justify_items": null,
            "left": null,
            "margin": null,
            "max_height": null,
            "max_width": null,
            "min_height": null,
            "min_width": null,
            "object_fit": null,
            "object_position": null,
            "order": null,
            "overflow": null,
            "overflow_x": null,
            "overflow_y": null,
            "padding": null,
            "right": null,
            "top": null,
            "visibility": null,
            "width": "50%"
          }
        },
        "96fdb92dbecd4bb59f73ad4316186520": {
          "model_module": "@jupyter-widgets/controls",
          "model_name": "ProgressStyleModel",
          "model_module_version": "1.5.0",
          "state": {
            "_model_module": "@jupyter-widgets/controls",
            "_model_module_version": "1.5.0",
            "_model_name": "ProgressStyleModel",
            "_view_count": null,
            "_view_module": "@jupyter-widgets/base",
            "_view_module_version": "1.2.0",
            "_view_name": "StyleView",
            "bar_color": null,
            "description_width": ""
          }
        },
        "49019b56a28945808a2d4194251cc8b8": {
          "model_module": "@jupyter-widgets/controls",
          "model_name": "FloatProgressModel",
          "model_module_version": "1.5.0",
          "state": {
            "_dom_classes": [],
            "_model_module": "@jupyter-widgets/controls",
            "_model_module_version": "1.5.0",
            "_model_name": "FloatProgressModel",
            "_view_count": null,
            "_view_module": "@jupyter-widgets/controls",
            "_view_module_version": "1.5.0",
            "_view_name": "ProgressView",
            "bar_style": "info",
            "description": "Progress:",
            "description_tooltip": null,
            "layout": "IPY_MODEL_dba31ef675d646688cfdff63182e0b5d",
            "max": 1,
            "min": 0,
            "orientation": "horizontal",
            "style": "IPY_MODEL_ab81ba8ba6e14362935d22f27b7dce33",
            "value": 0.3465160075329567
          }
        },
        "dba31ef675d646688cfdff63182e0b5d": {
          "model_module": "@jupyter-widgets/base",
          "model_name": "LayoutModel",
          "model_module_version": "1.2.0",
          "state": {
            "_model_module": "@jupyter-widgets/base",
            "_model_module_version": "1.2.0",
            "_model_name": "LayoutModel",
            "_view_count": null,
            "_view_module": "@jupyter-widgets/base",
            "_view_module_version": "1.2.0",
            "_view_name": "LayoutView",
            "align_content": null,
            "align_items": null,
            "align_self": null,
            "border": null,
            "bottom": null,
            "display": null,
            "flex": null,
            "flex_flow": null,
            "grid_area": null,
            "grid_auto_columns": null,
            "grid_auto_flow": null,
            "grid_auto_rows": null,
            "grid_column": null,
            "grid_gap": null,
            "grid_row": null,
            "grid_template_areas": null,
            "grid_template_columns": null,
            "grid_template_rows": null,
            "height": "25px",
            "justify_content": null,
            "justify_items": null,
            "left": null,
            "margin": null,
            "max_height": null,
            "max_width": null,
            "min_height": null,
            "min_width": null,
            "object_fit": null,
            "object_position": null,
            "order": null,
            "overflow": null,
            "overflow_x": null,
            "overflow_y": null,
            "padding": null,
            "right": null,
            "top": null,
            "visibility": null,
            "width": "50%"
          }
        },
        "ab81ba8ba6e14362935d22f27b7dce33": {
          "model_module": "@jupyter-widgets/controls",
          "model_name": "ProgressStyleModel",
          "model_module_version": "1.5.0",
          "state": {
            "_model_module": "@jupyter-widgets/controls",
            "_model_module_version": "1.5.0",
            "_model_name": "ProgressStyleModel",
            "_view_count": null,
            "_view_module": "@jupyter-widgets/base",
            "_view_module_version": "1.2.0",
            "_view_name": "StyleView",
            "bar_color": null,
            "description_width": ""
          }
        },
        "4da86a16f739483aaa3945bb0b8c9a03": {
          "model_module": "@jupyter-widgets/controls",
          "model_name": "FloatProgressModel",
          "model_module_version": "1.5.0",
          "state": {
            "_dom_classes": [],
            "_model_module": "@jupyter-widgets/controls",
            "_model_module_version": "1.5.0",
            "_model_name": "FloatProgressModel",
            "_view_count": null,
            "_view_module": "@jupyter-widgets/controls",
            "_view_module_version": "1.5.0",
            "_view_name": "ProgressView",
            "bar_style": "info",
            "description": "Progress:",
            "description_tooltip": null,
            "layout": "IPY_MODEL_8f0d5a98361441ed9f9c06854a6519f1",
            "max": 1,
            "min": 0,
            "orientation": "horizontal",
            "style": "IPY_MODEL_5c25dbcc80f6443bba0dd4660a852b14",
            "value": 0
          }
        },
        "8f0d5a98361441ed9f9c06854a6519f1": {
          "model_module": "@jupyter-widgets/base",
          "model_name": "LayoutModel",
          "model_module_version": "1.2.0",
          "state": {
            "_model_module": "@jupyter-widgets/base",
            "_model_module_version": "1.2.0",
            "_model_name": "LayoutModel",
            "_view_count": null,
            "_view_module": "@jupyter-widgets/base",
            "_view_module_version": "1.2.0",
            "_view_name": "LayoutView",
            "align_content": null,
            "align_items": null,
            "align_self": null,
            "border": null,
            "bottom": null,
            "display": null,
            "flex": null,
            "flex_flow": null,
            "grid_area": null,
            "grid_auto_columns": null,
            "grid_auto_flow": null,
            "grid_auto_rows": null,
            "grid_column": null,
            "grid_gap": null,
            "grid_row": null,
            "grid_template_areas": null,
            "grid_template_columns": null,
            "grid_template_rows": null,
            "height": "25px",
            "justify_content": null,
            "justify_items": null,
            "left": null,
            "margin": null,
            "max_height": null,
            "max_width": null,
            "min_height": null,
            "min_width": null,
            "object_fit": null,
            "object_position": null,
            "order": null,
            "overflow": null,
            "overflow_x": null,
            "overflow_y": null,
            "padding": null,
            "right": null,
            "top": null,
            "visibility": null,
            "width": "50%"
          }
        },
        "5c25dbcc80f6443bba0dd4660a852b14": {
          "model_module": "@jupyter-widgets/controls",
          "model_name": "ProgressStyleModel",
          "model_module_version": "1.5.0",
          "state": {
            "_model_module": "@jupyter-widgets/controls",
            "_model_module_version": "1.5.0",
            "_model_name": "ProgressStyleModel",
            "_view_count": null,
            "_view_module": "@jupyter-widgets/base",
            "_view_module_version": "1.2.0",
            "_view_name": "StyleView",
            "bar_color": null,
            "description_width": ""
          }
        },
        "71770e3695be4b87b1767bcd3bb39e07": {
          "model_module": "@jupyter-widgets/controls",
          "model_name": "FloatProgressModel",
          "model_module_version": "1.5.0",
          "state": {
            "_dom_classes": [],
            "_model_module": "@jupyter-widgets/controls",
            "_model_module_version": "1.5.0",
            "_model_name": "FloatProgressModel",
            "_view_count": null,
            "_view_module": "@jupyter-widgets/controls",
            "_view_module_version": "1.5.0",
            "_view_name": "ProgressView",
            "bar_style": "info",
            "description": "Progress:",
            "description_tooltip": null,
            "layout": "IPY_MODEL_7d450383e4754efc9f227cc02cf5096a",
            "max": 1,
            "min": 0,
            "orientation": "horizontal",
            "style": "IPY_MODEL_5cdc1c8199cf46bea562770ad91a997a",
            "value": 0.3357142857142857
          }
        },
        "7d450383e4754efc9f227cc02cf5096a": {
          "model_module": "@jupyter-widgets/base",
          "model_name": "LayoutModel",
          "model_module_version": "1.2.0",
          "state": {
            "_model_module": "@jupyter-widgets/base",
            "_model_module_version": "1.2.0",
            "_model_name": "LayoutModel",
            "_view_count": null,
            "_view_module": "@jupyter-widgets/base",
            "_view_module_version": "1.2.0",
            "_view_name": "LayoutView",
            "align_content": null,
            "align_items": null,
            "align_self": null,
            "border": null,
            "bottom": null,
            "display": null,
            "flex": null,
            "flex_flow": null,
            "grid_area": null,
            "grid_auto_columns": null,
            "grid_auto_flow": null,
            "grid_auto_rows": null,
            "grid_column": null,
            "grid_gap": null,
            "grid_row": null,
            "grid_template_areas": null,
            "grid_template_columns": null,
            "grid_template_rows": null,
            "height": "25px",
            "justify_content": null,
            "justify_items": null,
            "left": null,
            "margin": null,
            "max_height": null,
            "max_width": null,
            "min_height": null,
            "min_width": null,
            "object_fit": null,
            "object_position": null,
            "order": null,
            "overflow": null,
            "overflow_x": null,
            "overflow_y": null,
            "padding": null,
            "right": null,
            "top": null,
            "visibility": null,
            "width": "50%"
          }
        },
        "5cdc1c8199cf46bea562770ad91a997a": {
          "model_module": "@jupyter-widgets/controls",
          "model_name": "ProgressStyleModel",
          "model_module_version": "1.5.0",
          "state": {
            "_model_module": "@jupyter-widgets/controls",
            "_model_module_version": "1.5.0",
            "_model_name": "ProgressStyleModel",
            "_view_count": null,
            "_view_module": "@jupyter-widgets/base",
            "_view_module_version": "1.2.0",
            "_view_name": "StyleView",
            "bar_color": null,
            "description_width": ""
          }
        }
      }
    }
  },
  "cells": [
    {
      "cell_type": "markdown",
      "metadata": {
        "id": "qVMCjEV1IEC7"
      },
      "source": [
        "# CIS 545 Homework 3: Spark SQL\n",
        "\n",
        "#### **Worth 100 points**\n",
        "\n",
        "Welcome to CIS 545 Homework 3! In this homework you will gain a mastery of using Spark SQL. By the end, you'll be a star (not that you aren't already one). Over the next few days you will be using an EMR cluster to use Spark to manipulate the  `basic_stats.json` and `defensive.json` datasets, as well as `superbowl.csv`.\n",
        "\n",
        "The goal of the homework will be to create a dataset for a Time Series model.  Yes, we are training you for the portions of the class coming up in the not-so-distant future!!\n",
        "\n",
        "## The Necessary Notes and Nags\n",
        "Before we begin here are some important notes to keep in mind,\n",
        "\n",
        "\n",
        "1.   **IMPORTANT!** I said it twice, it's really important. In this homework, we will be using AWS resources. You are given a quota ($100) to use for the entirety of the homework. There is a small chance you will use all this money, however it is important that at the end of every session, you **shut down your EMR cluster**.\n",
        "2.   **Be sure you use Google Colab for this Homework** since we must connect to the EMR cluster and local Jupyter will have issues doing that. Using a Google Colab Notebook with an EMR cluster has two important abnormalities:\n",
        "    * The first line of any cell in which you will use the spark session must be `%%spark`. Notice that all cells below have this.\n",
        "    * You will, unfortunately, not be able to stop a cell while it is running. If you wish to do so, you will need to restart your cluster. See the Setup EMR Document for reference.\n",
        "3.   You are **required** to use Spark SQL queries to handle the data in the assignment. Mastering SQL is more beneficial than being able to use Spark commands (functions) as it will show up in more areas of programming and data science/analytics than just Spark. Use the following [function list](https://spark.apache.org/docs/latest/api/sql/index.html#) to see all the SQL functions avaliable in Spark.\n",
        "4.   Throughout the homework you will be manipulating Spark dataframes (sdfs). We do not specify any ordering on the final output. You are welcome to order your final tables in whatever way you deem fit. We will conduct our own ordering when we grade.\n",
        "5. Based on the challenges you've faced in the previous homework, we are including information on the expected schema of your results.  Apache Spark is very fiddly but we hope this will help.\n",
        "6. There are portions of this homework that are _very_ hard. We urge you start early to come to office hours and get help if you get stuck. But don't worry, I can see the future, and you all got this.\n",
        "\n",
        "With that said, let's dive in.\n",
        "\n",
        "\n"
      ]
    },
    {
      "cell_type": "code",
      "source": [
        "# As always, run this, restart, rerun\n",
        "! pip install pandas==1.1.5"
      ],
      "metadata": {
        "id": "PpCsXltQ9xId",
        "colab": {
          "base_uri": "https://localhost:8080/"
        },
        "outputId": "fd73118b-eadd-43b4-ee06-f1b153b4d2e6"
      },
      "execution_count": null,
      "outputs": [
        {
          "output_type": "stream",
          "name": "stdout",
          "text": [
            "Requirement already satisfied: pandas==1.1.5 in /usr/local/lib/python3.7/dist-packages (1.1.5)\n",
            "Requirement already satisfied: numpy>=1.15.4 in /usr/local/lib/python3.7/dist-packages (from pandas==1.1.5) (1.21.5)\n",
            "Requirement already satisfied: pytz>=2017.2 in /usr/local/lib/python3.7/dist-packages (from pandas==1.1.5) (2018.9)\n",
            "Requirement already satisfied: python-dateutil>=2.7.3 in /usr/local/lib/python3.7/dist-packages (from pandas==1.1.5) (2.8.2)\n",
            "Requirement already satisfied: six>=1.5 in /usr/local/lib/python3.7/dist-packages (from python-dateutil>=2.7.3->pandas==1.1.5) (1.15.0)\n"
          ]
        }
      ]
    },
    {
      "cell_type": "markdown",
      "metadata": {
        "id": "7XEqGpEGBWs5"
      },
      "source": [
        "## Step 0: Set up EMR\n",
        "\n",
        "Follow the [AWS Academy Getting Started](https://docs.google.com/document/d/1JPitLGaorjTbXjGsaoIHcLTu2cj8rjm5UNr9bSpZ72k/edit?usp=sharing) instructions.\n",
        "\n",
        "Move on to Step 0.1 after you have completed all the steps in the document.\n",
        "\n",
        "![ACME GIANT RUBBER BAND](https://pbs.twimg.com/media/DRqbJh7UMAE2z4o?format=jpg&name=4096x4096)\n"
      ]
    },
    {
      "cell_type": "markdown",
      "metadata": {
        "id": "5iBPXxgAdXkv"
      },
      "source": [
        "### Step 0.1: The Superfluous Setup\n",
        "\n",
        "Run the following two cells. These will allow your colab notebook to connect to an use your EMR."
      ]
    },
    {
      "cell_type": "code",
      "metadata": {
        "id": "pvkEbVaaAQ1e"
      },
      "source": [
        "%%capture\n",
        "!apt update\n",
        "!apt install gcc python-dev libkrb5-dev\n",
        "!pip install sparkmagic\n",
        "!pip install penngrader\n"
      ],
      "execution_count": null,
      "outputs": []
    },
    {
      "cell_type": "code",
      "metadata": {
        "id": "6WAJmQ8IAbRs"
      },
      "source": [
        "%%capture\n",
        "%load_ext sparkmagic.magics "
      ],
      "execution_count": null,
      "outputs": []
    },
    {
      "cell_type": "markdown",
      "metadata": {
        "id": "CL6n768EPt9E"
      },
      "source": [
        "### Step 0.2: The Sharp Spark\n",
        "\n",
        "Now, connect your notebook to the EMR cluster you created. In the first cell, copy the link to the Master Public DNS specified in the setup document. You will need to add `http://` to the beginning of the address and the auth details to the end.\n",
        "\n",
        "For example, if my DNS (directly from the AWS EMR console) is `ec2-3-15-237-211.us-east-2.compute.amazonaws.com` my address would be,\n",
        "\n",
        "`http://ec2-3-15-237-211.us-east-2.compute.amazonaws.com -a cis545-livy -p password1 -t Basic_Access`\n",
        "\n",
        "Insert this in the `# TODO # below`. For our example, the cell would read,\n",
        "\n",
        "```\n",
        "%spark add -s spark_session -l python -u http://ec2-3-15-237-211.us-east-2.compute.amazonaws.com -a cis545-livy -p password1 -t Basic_Access\n",
        "```"
      ]
    },
    {
      "cell_type": "code",
      "metadata": {
        "id": "G9QbylT-jqX9"
      },
      "source": [
        "# TODO: Copy the line above, enter your Master Public DNS with the proper formatting and host, and update the password\n",
        "\n",
        "%spark add -s spark_session -l python -u http://ec2-52-91-19-135.compute-1.amazonaws.com/ -a cis545-livy -p 1005 -t Basic_Access\n"
      ],
      "execution_count": null,
      "outputs": []
    },
    {
      "cell_type": "code",
      "metadata": {
        "id": "QwKAHhQL0lf7"
      },
      "source": [
        "# If you ever need to restart, you may need to...\n",
        "# %spark delete -s my_session\n",
        "#OR just factory reset runtime under the runtime tab"
      ],
      "execution_count": null,
      "outputs": []
    },
    {
      "cell_type": "markdown",
      "metadata": {
        "id": "6yzJetbCfgh3"
      },
      "source": [
        "### Step 0.3: Cluster Log\n",
        "\n",
        "In order to keep track of clusters you have created and terminated as well as give us information about time spent on this assignment, please enter each date and time you created a cluster and the date and time you terminated the cluster. This will not impact your score."
      ]
    },
    {
      "cell_type": "markdown",
      "metadata": {
        "id": "powXPhtphhyy"
      },
      "source": [
        "EX: \n",
        "\n",
        "10/12 9:00am - 10/12 12:00pm\n",
        "\n",
        "10/13 7:00pm - 10/13 9:00pm\n",
        "\n",
        "...\n",
        "    "
      ]
    },
    {
      "cell_type": "markdown",
      "metadata": {
        "id": "SokSZv4vih0c"
      },
      "source": [
        "TODO: Create cluster log"
      ]
    },
    {
      "cell_type": "markdown",
      "metadata": {
        "id": "v1IQjUwNObb8"
      },
      "source": [
        "Enter your 8-digit Penn Key as an integer in the cell \n",
        "below. This will be used in the autograder.  **Please also update the cell below, with the same ID!**"
      ]
    },
    {
      "cell_type": "code",
      "metadata": {
        "id": "7zM20juwqqQF"
      },
      "source": [
        "from penngrader.grader import *\n",
        "STUDENT_ID = 99999999"
      ],
      "execution_count": null,
      "outputs": []
    },
    {
      "cell_type": "code",
      "metadata": {
        "id": "V8Oo_5D7qoWp"
      },
      "source": [
        "grader = PennGrader(homework_id = 'CIS545_Spring_2022_HW3', student_id = STUDENT_ID)"
      ],
      "execution_count": null,
      "outputs": []
    },
    {
      "cell_type": "markdown",
      "metadata": {
        "id": "kvl5MJg6cLHr"
      },
      "source": [
        "**Please make sure you also update this one, so the grader can similarly be updated on Spark/EMR!**"
      ]
    },
    {
      "cell_type": "code",
      "metadata": {
        "id": "9NQjHLyKcL5H"
      },
      "source": [
        "%%spark\n",
        "from penngrader.grader import *\n",
        "STUDENT_ID = 99999999\n",
        "grader = PennGrader(homework_id = 'CIS545_Spring_2022_HW3', student_id = STUDENT_ID)"
      ],
      "execution_count": null,
      "outputs": []
    },
    {
      "cell_type": "markdown",
      "metadata": {
        "id": "Bfs-EQZUzF4j"
      },
      "source": [
        "Run the above cells to setup the autograder in BOTH the Spark session as well as locally, make sure to have set your 8 digit Penn ID in the cell above. It will also import all the modules you need for the homework.\n",
        "\n",
        "_Note_: Since we are using an EMR cluster we will only have access to some of modules that exist for Python, meaning things like `pandas`, `numpy`, etc. may not all be available. We have written the entire homework such that the solution does not require any of these."
      ]
    },
    {
      "cell_type": "markdown",
      "source": [
        "## Step 1: Data Wrangling, Cleaning, and Shaping\n",
        "\n",
        "It's football fever! We very recently witnessed Super Bowl LVI, in which Los Angeles Rams trumped the Cincinnati Bengals to clinch the title at their brand new home stadium. To continue the hype, we thought it would be exciting for you to work on NFL data and that's what we will be doing today.\n",
        "\n",
        "<br>\n",
        "\n",
        "![Winners](https://imagez.tmz.com/image/d6/4by3/2022/02/14/d62fc8c540c348c0aa75730b9c9a5b8d_md.jpg)\n",
        "\n",
        "<br>\n",
        "\n",
        "The data you will use is stored in an S3 bucket, a cloud storage service. You now need to download it onto the nodes of your [EMR cluster](https://docs.aws.amazon.com/emr/latest/ManagementGuide/emr-what-is-emr.html). "
      ],
      "metadata": {
        "id": "4nyAa0wn1XCD"
      }
    },
    {
      "cell_type": "markdown",
      "metadata": {
        "id": "Nf_ADEXnIK0b"
      },
      "source": [
        "### Step 1.1: The Stupendous Schema\n",
        "\n",
        "When loading data, Spark will try to infer its structure on its own. This process is faulty because Spark will sometimes infer the type incorrectly. Spark's ability to determine types is not reliable, thus you will need to define a schema for `basic_stats.json` and `defensive3.json`.\n",
        "\n",
        "A schema is a description of the structure of data. We have given you an example with `defensive3.json` and you will be defining an explicit schema for `basic_stats.json`. \n",
        "\n",
        "\n",
        "In Spark, schemas are defined using a `StructType` object. This is a collection of data types, termed `StructField`'s, that specify the structure and variable type of each component of the dataset. For example, suppose we have the following simple JSON object,\n",
        "\n",
        "\n",
        "```\n",
        "{\n",
        " \"student_name\": \"Data Wrangler\",\n",
        " \"GPA\": 1.4,\n",
        " \"courses\": [\n",
        "    {\"department\": \"Computer and Information Science\",\n",
        "     \"course_id\": \"CIS 545\",\n",
        "     \"semester\": \"Fall 2021\"},\n",
        "    {\"department\": \"Computer and Information Science\",\n",
        "     \"course_id\": \"CIS 555\",\n",
        "     \"semester\": \"Fall 2021\"}\n",
        " ],\n",
        " \"grad_year\": 2022\n",
        " }\n",
        "```\n",
        "\n",
        "We would define its schema as follows,\n",
        "\n",
        "```       \n",
        "schema = StructType([\n",
        "           StructField(\"student_name\", StringType(), nullable=True),\n",
        "           StructField(\"GPA\", FloatType(), nullable=True),\n",
        "           StructField(\"courses\", ArrayType(\n",
        "                StructType([\n",
        "                  StructField(\"department\", StringType(), nullable=True),\n",
        "                  StructField(\"course_id\", StringType(), nullable=True),\n",
        "                  StructField(\"semester\", StringType(), nullable=True)\n",
        "                ])\n",
        "           ), nullable=True),\n",
        "           StructField(\"grad_year\", IntegerType(), nullable=True)\n",
        "         ])\n",
        "```\n",
        "\n",
        "\n",
        "Each `StructField` has the following structure: `(name, type, nullable)`. The `nullable` flag defines that the specified field may be empty. Your first task is to define the `schema` of `basic_stats2.json`. You can take a look at the schema for `defensive3.json` for reference. A smaller version of the JSON dataset can be found here. [defensive3.json](https://drive.google.com/file/d/1B75g3-GEdrXTiWn9069bDwvIia9xQIQR/view?usp=sharing), [basic_stats2.json](https://drive.google.com/file/d/1aF4fnH4JI_r8wWN27qFdyjiXWOs4mlg9/view?usp=sharing).\n",
        "\n",
        "\n",
        "\n",
        "\n",
        "There is also no grading cell for this step.  But your JSON file won't load if it's wrong, so you have a way of testing.\n",
        "\n"
      ]
    },
    {
      "cell_type": "code",
      "metadata": {
        "id": "pL-Ps4KWIJ9e",
        "colab": {
          "base_uri": "https://localhost:8080/",
          "height": 17,
          "referenced_widgets": [
            "6a81a2a6024449d8b72479f11dab9bad",
            "41d1c1670997431683373d17810020a9",
            "87f02c5e7e8c4e1880ae2f84b9362e02"
          ]
        },
        "outputId": "74bea697-059f-4036-beb5-3e8f780ab14c"
      },
      "source": [
        "%%spark\n",
        "\n",
        "from pyspark.sql.types import *\n",
        "\n",
        "#schema for defensive.json\n",
        "\n",
        "schema_defensive = StructType([\n",
        "                     \n",
        "                     StructField(\"Player Id\", StringType(), nullable = True),\n",
        "                     StructField(\"Name\", StringType(), nullable = True),\n",
        "                     StructField(\"Position\", StringType(), nullable = True),\n",
        "                     StructField(\"Year\", IntegerType(), nullable = True),\n",
        "                     StructField(\"Team\", StringType(), nullable = True),\n",
        "                     StructField(\"Games Played\", StringType(), nullable = True),\n",
        "                     StructField(\"Total Tackles\", StringType(), nullable = True),\n",
        "                     StructField(\"Solo Tackles\", StringType(), nullable = True),\n",
        "                     StructField(\"Assisted Tackles\", StringType(), nullable = True),\n",
        "                     StructField(\"Sacks\", StringType(), nullable = True),\n",
        "                     StructField(\"Safties\", StringType(), nullable = True),\n",
        "                     StructField(\"Passes Defended\", StringType(), nullable = True),\n",
        "                     StructField(\"Ints\", StringType(), nullable = True),\n",
        "                     StructField(\"Ints for TDs\", StringType(), nullable = True),\n",
        "                     StructField(\"Int Yards\", StringType(), nullable = True),\n",
        "                     StructField(\"Yards Per Int\", StringType(), nullable = True),\n",
        "                     StructField(\"Longest Int Return\", StringType(), nullable = True),            \n",
        "                ])\n",
        "\n",
        "\n",
        "#TODO: Create a schema for basic_stats.json\n",
        "\n",
        "basic_stats = StructType([\n",
        "                          StructField(\"Age\",IntegerType(),nullable = True),\n",
        "                          StructField(\"Birth Place\",StringType(),nullable = True),\n",
        "                          StructField(\"Birthday\",StringType(),nullable = True),\n",
        "                          StructField(\"College\",StringType(),nullable = True),\n",
        "                          StructField(\"Current Status\",StringType(),nullable = True),\n",
        "                          StructField(\"Current Team\",StringType(),nullable = True),\n",
        "                          StructField(\"Experience\",StringType(),nullable = True),\n",
        "                          StructField(\"Height (inches)\",IntegerType(),nullable = True),\n",
        "                          StructField(\"High School\",StringType(),nullable = True),\n",
        "                          StructField(\"High School Location\",StringType(),nullable = True),\n",
        "                          StructField(\"Name\",StringType(),nullable = True),\n",
        "                          StructField(\"Number\",StringType(),nullable = True),\n",
        "                          StructField(\"Player Id\",StringType(),nullable = True),\n",
        "                          StructField(\"Position\",StringType(),nullable = True),\n",
        "                          StructField(\"Weight (lbs)\",IntegerType(),nullable = True),\n",
        "                          StructField(\"Years Played\",StringType(),nullable = True)\n",
        "                          \n",
        "])\n",
        "\n",
        "                    "
      ],
      "execution_count": null,
      "outputs": [
        {
          "output_type": "display_data",
          "data": {
            "text/plain": [
              "FloatProgress(value=0.0, bar_style='info', description='Progress:', layout=Layout(height='25px', width='50%'),…"
            ],
            "application/vnd.jupyter.widget-view+json": {
              "version_major": 2,
              "version_minor": 0,
              "model_id": "6a81a2a6024449d8b72479f11dab9bad"
            }
          },
          "metadata": {}
        }
      ]
    },
    {
      "cell_type": "markdown",
      "metadata": {
        "id": "2Su604X9ggc2"
      },
      "source": [
        "### Step 1.2: The Langorous Load\n",
        "\n",
        "In the following cell, load the `basic_stats2.json` dataset and the `defensive3.json` from your S3 bucket into Spark dataframes (sdf) called `basic_stats_sdf` and `defensive_sdf` respectively. If you have constructed `schema1` and `schema2` correctly, `spark.read.json()` will read in the dataset. \n",
        "\n",
        "***You do not need to edit this cell***. If this doesn't work, go back to the prior cell and update your schema."
      ]
    },
    {
      "cell_type": "code",
      "metadata": {
        "id": "ji-KW2sAiB6r",
        "colab": {
          "base_uri": "https://localhost:8080/",
          "height": 17,
          "referenced_widgets": [
            "32e09675beb747c09f38975324b1c7b6",
            "e88803d483594628b0de334c23b48c81",
            "9bd3cce8c832444087c9db058b70769f"
          ]
        },
        "outputId": "97bf0d83-eb83-489f-c2eb-3d1d8d8affe9"
      },
      "source": [
        "%%spark\n",
        "\n",
        "defensive_stats_sdf = spark.read.json(\"s3://penn-cis545-files/defensive3.json\", schema=schema_defensive, multiLine = True, primitivesAsString = True)\n"
      ],
      "execution_count": null,
      "outputs": [
        {
          "output_type": "display_data",
          "data": {
            "text/plain": [
              "FloatProgress(value=0.0, bar_style='info', description='Progress:', layout=Layout(height='25px', width='50%'),…"
            ],
            "application/vnd.jupyter.widget-view+json": {
              "version_major": 2,
              "version_minor": 0,
              "model_id": "32e09675beb747c09f38975324b1c7b6"
            }
          },
          "metadata": {}
        }
      ]
    },
    {
      "cell_type": "code",
      "metadata": {
        "id": "nvurIgjLkdZL",
        "colab": {
          "base_uri": "https://localhost:8080/",
          "height": 215,
          "referenced_widgets": [
            "6340847942114eabaeeefba4bca0a384",
            "e62fd9f6ceaf482ab4d62f103b471243",
            "93eb71bb6dea4c418dea896ea616c9de"
          ]
        },
        "outputId": "c4e31c08-cc23-4a68-fe78-4981581bcecd"
      },
      "source": [
        "%%spark\n",
        "# Let's print out the first few rows to see how the data looks like in tabular form\n",
        "defensive_stats_sdf.show(5)"
      ],
      "execution_count": null,
      "outputs": [
        {
          "output_type": "display_data",
          "data": {
            "text/plain": [
              "FloatProgress(value=0.0, bar_style='info', description='Progress:', layout=Layout(height='25px', width='50%'),…"
            ],
            "application/vnd.jupyter.widget-view+json": {
              "version_major": 2,
              "version_minor": 0,
              "model_id": "6340847942114eabaeeefba4bca0a384"
            }
          },
          "metadata": {}
        },
        {
          "output_type": "stream",
          "name": "stdout",
          "text": [
            "+------------------+--------------+--------+----+-----------------+------------+-------------+------------+----------------+-----+-------+---------------+----+------------+---------+-------------+------------------+\n",
            "|         Player Id|          Name|Position|Year|             Team|Games Played|Total Tackles|Solo Tackles|Assisted Tackles|Sacks|Safties|Passes Defended|Ints|Ints for TDs|Int Yards|Yards Per Int|Longest Int Return|\n",
            "+------------------+--------------+--------+----+-----------------+------------+-------------+------------+----------------+-----+-------+---------------+----+------------+---------+-------------+------------------+\n",
            "|quinnjohnson/79593|Johnson, Quinn|        |2013| Tennessee Titans|           4|            0|          --|              --|   --|     --|             --|  --|          --|       --|            0|                --|\n",
            "|quinnjohnson/79593|Johnson, Quinn|        |2012| Tennessee Titans|          16|            1|           1|               0|    0|     --|              0|  --|          --|       --|            0|                --|\n",
            "|quinnjohnson/79593|Johnson, Quinn|        |2011| Tennessee Titans|           4|            0|          --|              --|   --|     --|             --|  --|          --|       --|            0|                --|\n",
            "|quinnjohnson/79593|Johnson, Quinn|        |2011|   Denver Broncos|           0|            0|          --|              --|   --|     --|             --|  --|          --|       --|            0|                --|\n",
            "|quinnjohnson/79593|Johnson, Quinn|        |2010|Green Bay Packers|          11|            4|           4|               0|    0|     --|              0|  --|          --|       --|            0|                --|\n",
            "+------------------+--------------+--------+----+-----------------+------------+-------------+------------+----------------+-----+-------+---------------+----+------------+---------+-------------+------------------+\n",
            "only showing top 5 rows"
          ]
        }
      ]
    },
    {
      "cell_type": "code",
      "source": [
        "%%spark\n",
        "\n",
        "#TODO: Create a spark dataframe for basic_stats2\n",
        "basic_stats_sdf = spark.read.json(\"s3://penn-cis545-files/basic_stats2.json\", schema=basic_stats, multiLine = True, primitivesAsString = True)"
      ],
      "metadata": {
        "id": "8DIpp8P8NM7t",
        "colab": {
          "base_uri": "https://localhost:8080/",
          "height": 17,
          "referenced_widgets": [
            "bd298acafe7247959a4bfded04a0c645",
            "3b1c946ebd164049b206db12968159a9",
            "5479fea6bab44dda83cd718b28bf59b3"
          ]
        },
        "outputId": "b1b76c46-0330-4993-fa26-6a50ee784445"
      },
      "execution_count": null,
      "outputs": [
        {
          "output_type": "display_data",
          "data": {
            "text/plain": [
              "FloatProgress(value=0.0, bar_style='info', description='Progress:', layout=Layout(height='25px', width='50%'),…"
            ],
            "application/vnd.jupyter.widget-view+json": {
              "version_major": 2,
              "version_minor": 0,
              "model_id": "bd298acafe7247959a4bfded04a0c645"
            }
          },
          "metadata": {}
        }
      ]
    },
    {
      "cell_type": "markdown",
      "metadata": {
        "id": "jMVCVotcE1wv"
      },
      "source": [
        "The cell below shows how to run SQL commands on Spark tables. Use this as a template for all your SQL queries in this notebook. \n",
        "\n",
        "***You do not need to edit this cell***."
      ]
    },
    {
      "cell_type": "code",
      "metadata": {
        "id": "NJSVWeGiEO5c",
        "colab": {
          "base_uri": "https://localhost:8080/",
          "height": 287,
          "referenced_widgets": [
            "9916bbac58144b6ca5aaa6ad7180de70",
            "cb5282ac315746e39fad2b31bf598fda",
            "a0e6ad4fece44e0c99676058e387b45c"
          ]
        },
        "outputId": "63378025-2362-419d-cbcb-8ca253ad97e9"
      },
      "source": [
        "%%spark\n",
        "\n",
        "import pandas as pd\n",
        "\n",
        "# Create SQL-accesible table\n",
        "basic_stats_sdf.createOrReplaceTempView(\"basic_stats\")\n",
        "\n",
        "# Declare SQL query to be excecuted\n",
        "query = '''SELECT * FROM basic_stats ORDER BY `Name` LIMIT 10'''\n",
        "\n",
        "# Save the output sdf of spark.sql() as answer_sdf and convert to Pandas\n",
        "answer_basic_sdf = spark.sql(query)\n",
        "answer_basic_sdf.show()\n",
        "\n",
        "answer_basic_df = answer_basic_sdf.toPandas()\n",
        "to_submit = pd.read_json(answer_basic_df.to_json())"
      ],
      "execution_count": null,
      "outputs": [
        {
          "output_type": "display_data",
          "data": {
            "text/plain": [
              "FloatProgress(value=0.0, bar_style='info', description='Progress:', layout=Layout(height='25px', width='50%'),…"
            ],
            "application/vnd.jupyter.widget-view+json": {
              "version_major": 2,
              "version_minor": 0,
              "model_id": "9916bbac58144b6ca5aaa6ad7180de70"
            }
          },
          "metadata": {}
        },
        {
          "output_type": "stream",
          "name": "stdout",
          "text": [
            "+----+--------------------+----------+-------------------+-------------------+----------------+----------+---------------+--------------------+--------------------+-----------------+------+--------------------+--------+------------+------------+\n",
            "| Age|         Birth Place|  Birthday|            College|     Current Status|    Current Team|Experience|Height (inches)|         High School|High School Location|             Name|Number|           Player Id|Position|Weight (lbs)|Years Played|\n",
            "+----+--------------------+----------+-------------------+-------------------+----------------+----------+---------------+--------------------+--------------------+-----------------+------+--------------------+--------+------------+------------+\n",
            "|  30|Pago Pago America...| 1/25/1987|   Nevada-Las Vegas|            Retired|                | 4 Seasons|             76|                    |                    |   Aaitui, Isaako|  null|isaakoaaitui/2531731|        |         307| 2011 - 2015|\n",
            "|  31|Fort Lauderdale , FL| 6/18/1985|        Wake Forest|            Retired|                | 2 Seasons|             71|                    |                    |      Abbate, Jon|  null|   jonabbate/2495524|        |         245| 2007 - 2008|\n",
            "|null|         Denton , TX| 3/21/1925|        North Texas|            Retired|                | 2 Seasons|             73|                    |                    |       Abbey, Joe|  null|    joeabbey/2508144|        |         202| 1948 - 1949|\n",
            "|null|      Clearport , OH| 8/16/1895|           Syracuse|            Retired|                | 9 Seasons|             68|                    |                    |     Abbott, Faye|  null|  fayeabbott/2508147|        |         182| 1921 - 1929|\n",
            "|  59|      London England| 5/31/1958|Cal State-Fullerton|            Retired|                | 2 Seasons|             71|                    |                    |    Abbott, Vince|  null| vinceabbott/2508148|        |         207| 1987 - 1988|\n",
            "|  26|     West Allis , WI|12/17/1990|          Wisconsin|             Active|   Detroit Lions|4th season|             73|          Wautoma HS|                  WI|Abbrederis, Jared|  null|jaredabbrederis/2...|      WR|         195|            |\n",
            "|null|         Warren , RI|  8/3/1917|       Rhode Island|            Retired|                |  1 Season|             70|                    |                    |   Abbruzzi, Duke|  null|dukeabbruzzi/2508149|        |         175| 1946 - 1946|\n",
            "|  31|                    |10/25/1985|         Ohio State|            Retired|                |  1 Season|             77|                    |                    |  Abdallah, Nader|  null| naderabdallah/89680|        |         297| 2009 - 2009|\n",
            "|  25|   Montreal , Quebec| 9/28/1991|     Boston College|             Active|Tennessee Titans|1st season|             78|Cegen du Vieux-Mo...|Montreal, Quebec,...|  Abdesmad, Mehdi|    68|mehdiabdesmad/255...|      DE|         284|            |\n",
            "|  27|         Newark , NJ|  8/3/1989|            Fordham|Unsigned free agent|  Miami Dolphins|7th season|             73|            Union HS|                  NJ|Abdul-Quddus, Isa|    24|isaabdul-quddus/2...|      SS|         196|            |\n",
            "+----+--------------------+----------+-------------------+-------------------+----------------+----------+---------------+--------------------+--------------------+-----------------+------+--------------------+--------+------------+------------+"
          ]
        }
      ]
    },
    {
      "cell_type": "markdown",
      "metadata": {
        "id": "MLF-swRBTuZG"
      },
      "source": [
        "We will copy the `answer_sdf` to Colab to submit to PennGrader..."
      ]
    },
    {
      "cell_type": "code",
      "source": [
        "%%spark\n",
        "\n",
        "## 4 points\n",
        "\n",
        "## AUTOGRADER Step 1.2:   \n",
        "\n",
        "grader.grade(test_case_id = 'first', answer = to_submit)"
      ],
      "metadata": {
        "id": "wOyxJ6aORvs6",
        "colab": {
          "base_uri": "https://localhost:8080/",
          "height": 70,
          "referenced_widgets": [
            "8bc7c4f38c79450e9dc4ea2ed6c86843",
            "5d394fb9955640b7a51c9d9149b5dcdb",
            "7837879e88554361a5b12eccdf68a878"
          ]
        },
        "outputId": "035b6f57-8a0e-44be-9307-09861a9a7afe"
      },
      "execution_count": null,
      "outputs": [
        {
          "output_type": "display_data",
          "data": {
            "text/plain": [
              "FloatProgress(value=0.0, bar_style='info', description='Progress:', layout=Layout(height='25px', width='50%'),…"
            ],
            "application/vnd.jupyter.widget-view+json": {
              "version_major": 2,
              "version_minor": 0,
              "model_id": "8bc7c4f38c79450e9dc4ea2ed6c86843"
            }
          },
          "metadata": {}
        },
        {
          "output_type": "stream",
          "name": "stdout",
          "text": [
            "Correct! You earned 4/4 points. You are a star!\n",
            "\n",
            "Your submission has been successfully recorded in the gradebook."
          ]
        }
      ]
    },
    {
      "cell_type": "markdown",
      "source": [
        "Now, you will implement the exact same thing yourself for defensive_stats_sdf."
      ],
      "metadata": {
        "id": "-A9nzeVaG4QV"
      }
    },
    {
      "cell_type": "code",
      "source": [
        "%%spark\n",
        "import pandas as pd\n",
        "# TODO: Create SQL-accesible table\n",
        "defensive_stats_sdf.createOrReplaceTempView(\"defensive_stats\")\n",
        "\n",
        "#TODO: Declare SQL query to be excecuted\n",
        "query = '''SELECT * FROM defensive_stats ORDER BY 'Name' LIMIT 10'''\n",
        "\n",
        "#TODO: Save the output sdf of spark.sql() as answer_defensive_sdf and convert to Pandas\n",
        "answer_basic_sdf = spark.sql(query)\n",
        "answer_basic_sdf.show()\n",
        "\n",
        "answer_basic_df = answer_basic_sdf.toPandas()\n",
        "to_submit = pd.read_json(answer_basic_df.to_json())\n"
      ],
      "metadata": {
        "id": "-TGpKgWrG3DC",
        "colab": {
          "base_uri": "https://localhost:8080/",
          "height": 287,
          "referenced_widgets": [
            "f947a0be48b54f1d86e54cb7bdb23da0",
            "38fcaa29362c4e938c729c99ddc751a5",
            "f7ad55c1dbab4b59b01a9c1bdb1fb3ec"
          ]
        },
        "outputId": "38e06f93-0f74-409d-ecc9-7669ba12acb2"
      },
      "execution_count": null,
      "outputs": [
        {
          "output_type": "display_data",
          "data": {
            "text/plain": [
              "FloatProgress(value=0.0, bar_style='info', description='Progress:', layout=Layout(height='25px', width='50%'),…"
            ],
            "application/vnd.jupyter.widget-view+json": {
              "version_major": 2,
              "version_minor": 0,
              "model_id": "f947a0be48b54f1d86e54cb7bdb23da0"
            }
          },
          "metadata": {}
        },
        {
          "output_type": "stream",
          "name": "stdout",
          "text": [
            "+------------------+--------------+--------+----+-------------------+------------+-------------+------------+----------------+-----+-------+---------------+----+------------+---------+-------------+------------------+\n",
            "|         Player Id|          Name|Position|Year|               Team|Games Played|Total Tackles|Solo Tackles|Assisted Tackles|Sacks|Safties|Passes Defended|Ints|Ints for TDs|Int Yards|Yards Per Int|Longest Int Return|\n",
            "+------------------+--------------+--------+----+-------------------+------------+-------------+------------+----------------+-----+-------+---------------+----+------------+---------+-------------+------------------+\n",
            "|quinnjohnson/79593|Johnson, Quinn|        |2013|   Tennessee Titans|           4|            0|          --|              --|   --|     --|             --|  --|          --|       --|            0|                --|\n",
            "|quinnjohnson/79593|Johnson, Quinn|        |2012|   Tennessee Titans|          16|            1|           1|               0|    0|     --|              0|  --|          --|       --|            0|                --|\n",
            "|quinnjohnson/79593|Johnson, Quinn|        |2011|   Tennessee Titans|           4|            0|          --|              --|   --|     --|             --|  --|          --|       --|            0|                --|\n",
            "|quinnjohnson/79593|Johnson, Quinn|        |2011|     Denver Broncos|           0|            0|          --|              --|   --|     --|             --|  --|          --|       --|            0|                --|\n",
            "|quinnjohnson/79593|Johnson, Quinn|        |2010|  Green Bay Packers|          11|            4|           4|               0|    0|     --|              0|  --|          --|       --|            0|                --|\n",
            "|quinnjohnson/79593|Johnson, Quinn|        |2009|  Green Bay Packers|           9|            0|          --|              --|   --|     --|             --|  --|          --|       --|            0|                --|\n",
            "|l.t.walton/2552444|  Walton, L.T.|      DE|2016|Pittsburgh Steelers|          10|            8|           6|               2|    0|     --|              1|  --|          --|       --|            0|                --|\n",
            "|l.t.walton/2552444|  Walton, L.T.|      DE|2015|Pittsburgh Steelers|           6|            0|          --|              --|   --|     --|             --|  --|          --|       --|            0|                --|\n",
            "| ronrivera/2502679|   Rivera, Ron|        |1992|      Chicago Bears|          16|         null|          --|              --|    1|     --|              0|  --|          --|       --|            0|                --|\n",
            "| ronrivera/2502679|   Rivera, Ron|        |1991|      Chicago Bears|          16|         null|          --|              --|    0|     --|              0|  --|          --|       --|            0|                --|\n",
            "+------------------+--------------+--------+----+-------------------+------------+-------------+------------+----------------+-----+-------+---------------+----+------------+---------+-------------+------------------+"
          ]
        }
      ]
    },
    {
      "cell_type": "code",
      "source": [
        "%%spark\n",
        "\n",
        "## 4 points\n",
        "\n",
        "## AUTOGRADER Step 1.2:   \n",
        "\n",
        "grader.grade(test_case_id = 'second', answer = to_submit)"
      ],
      "metadata": {
        "id": "sfVITUBotr73",
        "colab": {
          "base_uri": "https://localhost:8080/",
          "height": 70,
          "referenced_widgets": [
            "27e499ce885e45c9b668799943c228c5",
            "fa9e8c36d4764075869ed5445141b502",
            "ae08e88115f14358af20b70a2beb983f"
          ]
        },
        "outputId": "c0fcb3f2-62dc-4265-fdad-d6be299fdaa6"
      },
      "execution_count": null,
      "outputs": [
        {
          "output_type": "display_data",
          "data": {
            "text/plain": [
              "FloatProgress(value=0.0, bar_style='info', description='Progress:', layout=Layout(height='25px', width='50%'),…"
            ],
            "application/vnd.jupyter.widget-view+json": {
              "version_major": 2,
              "version_minor": 0,
              "model_id": "27e499ce885e45c9b668799943c228c5"
            }
          },
          "metadata": {}
        },
        {
          "output_type": "stream",
          "name": "stdout",
          "text": [
            "Correct! You earned 4/4 points. You are a star!\n",
            "\n",
            "Your submission has been successfully recorded in the gradebook."
          ]
        }
      ]
    },
    {
      "cell_type": "markdown",
      "metadata": {
        "id": "705XndyQYW6f"
      },
      "source": [
        "In the next cell, create `step_1_2_sdf` to fetch the data from the above basic_stats table, returning rows with schema `(Player Id, Name)`, in **lexicographical order** of `Name`.  Limit your sdf to 10 rows. Save your final answer to Colab to submit to PennGrader, as demonstrated above."
      ]
    },
    {
      "cell_type": "code",
      "metadata": {
        "id": "zOpHsWR2qQAY",
        "colab": {
          "base_uri": "https://localhost:8080/",
          "height": 267,
          "referenced_widgets": [
            "9a37a1c783814eb1af245ffa0996ae40",
            "9ed890b3dee54c56a18c3a453df14769",
            "c05ceb3630334191a2237215676f0dea"
          ]
        },
        "outputId": "995dc9b0-00d1-4a87-f9e2-9638ac786797"
      },
      "source": [
        "%%spark \n",
        "\n",
        "# TODO: create step_1_2_sdf\n",
        "query = \"\"\"\n",
        "SELECT `Player Id`,`Name` FROM basic_stats\n",
        "ORDER BY NAME LIMIT 10\n",
        "\"\"\"\n",
        "step_1_2_sdf = spark.sql(query)\n",
        "step_1_2_sdf.show()"
      ],
      "execution_count": null,
      "outputs": [
        {
          "output_type": "display_data",
          "data": {
            "text/plain": [
              "FloatProgress(value=0.0, bar_style='info', description='Progress:', layout=Layout(height='25px', width='50%'),…"
            ],
            "application/vnd.jupyter.widget-view+json": {
              "version_major": 2,
              "version_minor": 0,
              "model_id": "9a37a1c783814eb1af245ffa0996ae40"
            }
          },
          "metadata": {}
        },
        {
          "output_type": "stream",
          "name": "stdout",
          "text": [
            "+--------------------+-----------------+\n",
            "|           Player Id|             Name|\n",
            "+--------------------+-----------------+\n",
            "|isaakoaaitui/2531731|   Aaitui, Isaako|\n",
            "|   jonabbate/2495524|      Abbate, Jon|\n",
            "|    joeabbey/2508144|       Abbey, Joe|\n",
            "|  fayeabbott/2508147|     Abbott, Faye|\n",
            "| vinceabbott/2508148|    Abbott, Vince|\n",
            "|jaredabbrederis/2...|Abbrederis, Jared|\n",
            "|dukeabbruzzi/2508149|   Abbruzzi, Duke|\n",
            "| naderabdallah/89680|  Abdallah, Nader|\n",
            "|mehdiabdesmad/255...|  Abdesmad, Mehdi|\n",
            "|isaabdul-quddus/2...|Abdul-Quddus, Isa|\n",
            "+--------------------+-----------------+"
          ]
        }
      ]
    },
    {
      "cell_type": "code",
      "metadata": {
        "id": "p4hU1ihWYjL6",
        "colab": {
          "base_uri": "https://localhost:8080/",
          "height": 70,
          "referenced_widgets": [
            "827238070325416faec6b6a18d9355d5",
            "2258f6379a77402eb0ddba999b2e17f0",
            "8717f06b8232498292ef8f6ffd754c1b"
          ]
        },
        "outputId": "3325526a-df55-453b-f535-5191a2e127ee"
      },
      "source": [
        "%%spark\n",
        "\n",
        "# 5 points\n",
        "grader.grade(test_case_id = 'lex_10_ids_last_names', answer = step_1_2_sdf.toPandas())"
      ],
      "execution_count": null,
      "outputs": [
        {
          "output_type": "display_data",
          "data": {
            "text/plain": [
              "FloatProgress(value=0.0, bar_style='info', description='Progress:', layout=Layout(height='25px', width='50%'),…"
            ],
            "application/vnd.jupyter.widget-view+json": {
              "version_major": 2,
              "version_minor": 0,
              "model_id": "827238070325416faec6b6a18d9355d5"
            }
          },
          "metadata": {}
        },
        {
          "output_type": "stream",
          "name": "stdout",
          "text": [
            "Correct! You earned 5/5 points. You are a star!\n",
            "\n",
            "Your submission has been successfully recorded in the gradebook."
          ]
        }
      ]
    },
    {
      "cell_type": "markdown",
      "source": [
        "### Step 1.3: Further Cleaning\n",
        "\n",
        "Now, we can see that our data is a little ill-formatted, so let us do some cleaning for our two dataframes. Here is what you will do:\n",
        "\n",
        "For Defensive:\n",
        "\n",
        "1. Drop all the rows that have null values in Total Tackles and Games Played.\n",
        "2. We only want to consider data post 2000 (inclusive).\n",
        "\n",
        "\n",
        "Save this in `defensive_cleaned_sdf`.\n",
        "\n",
        "Once you have done that, we want to select the basic stats only for those filtered players in `defensive_cleaned_sdf` and create a cumulated dataframe called `defensive_player_stats_sdf`."
      ],
      "metadata": {
        "id": "-2vq-3ZfBYZD"
      }
    },
    {
      "cell_type": "code",
      "source": [
        "%%spark\n",
        "\n",
        "#TODO: Create defensive_cleaned_sdf\n",
        "defensive_stats_df = defensive_stats_sdf.toPandas()\n",
        "defensive_cleaned_df = defensive_stats_df.dropna(subset=['Total Tackles','Games Played'])\n",
        "defensive_cleaned_sdf = spark.createDataFrame(defensive_cleaned_df)"
      ],
      "metadata": {
        "id": "0G7tYJOJDp1q",
        "colab": {
          "base_uri": "https://localhost:8080/",
          "height": 17,
          "referenced_widgets": [
            "5a3de7978e404627a37db4a21eae7184",
            "87184c24f20e4e978d4c43008241c6ec",
            "46bbee7ab5924e2ca5887a85c0296826"
          ]
        },
        "outputId": "b49a905e-c6ac-4614-9f28-9b32aee61fd1"
      },
      "execution_count": null,
      "outputs": [
        {
          "output_type": "display_data",
          "data": {
            "text/plain": [
              "FloatProgress(value=0.0, bar_style='info', description='Progress:', layout=Layout(height='25px', width='50%'),…"
            ],
            "application/vnd.jupyter.widget-view+json": {
              "version_major": 2,
              "version_minor": 0,
              "model_id": "5a3de7978e404627a37db4a21eae7184"
            }
          },
          "metadata": {}
        }
      ]
    },
    {
      "cell_type": "code",
      "source": [
        "%%spark\n",
        "\n",
        "# 4 points\n",
        "grader.grade(test_case_id = 'defensive_cleaned', answer = defensive_cleaned_sdf.toPandas())"
      ],
      "metadata": {
        "id": "nqflA81xVKoo",
        "colab": {
          "base_uri": "https://localhost:8080/",
          "height": 70,
          "referenced_widgets": [
            "a983b85b01dd418ba48b4a8285e8e416",
            "6cbc5a9b4cf44f7c857a6d9f69b66651",
            "ce858926081648b996cfa1eedba6f729"
          ]
        },
        "outputId": "478ced11-8589-4d03-a377-9289cc5e5822"
      },
      "execution_count": null,
      "outputs": [
        {
          "output_type": "display_data",
          "data": {
            "text/plain": [
              "FloatProgress(value=0.0, bar_style='info', description='Progress:', layout=Layout(height='25px', width='50%'),…"
            ],
            "application/vnd.jupyter.widget-view+json": {
              "version_major": 2,
              "version_minor": 0,
              "model_id": "a983b85b01dd418ba48b4a8285e8e416"
            }
          },
          "metadata": {}
        },
        {
          "output_type": "stream",
          "name": "stdout",
          "text": [
            "Correct! You earned 4/4 points. You are a star!\n",
            "\n",
            "Your submission has been successfully recorded in the gradebook."
          ]
        }
      ]
    },
    {
      "cell_type": "code",
      "source": [
        "%%spark\n",
        "\n",
        "#TODO: Create defensive_player_stats_sdf\n",
        "defensive_cleaned_sdf.createOrReplaceTempView(\"defensive_cleaned\")\n",
        "basic_stats_sdf.createOrReplaceTempView(\"basic_stats\")\n",
        "\n",
        "query = \"\"\"\n",
        "SELECT DISTINCT * FROM\n",
        "(SELECT * FROM basic_stats) as t1\n",
        "JOIN\n",
        "(SELECT * FROM defensive_cleaned WHERE `Total Tackles` IS NOT NULL AND `Games Played` IS NOT NULL AND Year>=2000) as t2\n",
        "USING(Name)\n",
        "\n",
        "\"\"\"\n",
        "defensive_player_stats_sdf = spark.sql(query)\n",
        "defensive_player_stats_sdf.show(10)\n"
      ],
      "metadata": {
        "id": "Ot-WaWfYNO7t",
        "colab": {
          "base_uri": "https://localhost:8080/",
          "height": 305,
          "referenced_widgets": [
            "46a48b7008024ae7ac3a12aef3ada885",
            "589260649d544bc2a661ac4433007f45",
            "1bb0072a92b341a497c7538f2a19dd71"
          ]
        },
        "outputId": "047d7891-1c58-4633-8af5-ebb34e7c1903"
      },
      "execution_count": null,
      "outputs": [
        {
          "output_type": "display_data",
          "data": {
            "text/plain": [
              "FloatProgress(value=0.0, bar_style='info', description='Progress:', layout=Layout(height='25px', width='50%'),…"
            ],
            "application/vnd.jupyter.widget-view+json": {
              "version_major": 2,
              "version_minor": 0,
              "model_id": "46a48b7008024ae7ac3a12aef3ada885"
            }
          },
          "metadata": {}
        },
        {
          "output_type": "stream",
          "name": "stdout",
          "text": [
            "+------------------+---+--------------------+----------+--------------------+-------------------+--------------------+-----------+---------------+-------------+--------------------+------+--------------------+--------+------------+------------+--------------------+--------+----+--------------------+------------+-------------+------------+----------------+-----+-------+---------------+----+------------+---------+-------------+------------------+\n",
            "|              Name|Age|         Birth Place|  Birthday|             College|     Current Status|        Current Team| Experience|Height (inches)|  High School|High School Location|Number|           Player Id|Position|Weight (lbs)|Years Played|           Player Id|Position|Year|                Team|Games Played|Total Tackles|Solo Tackles|Assisted Tackles|Sacks|Safties|Passes Defended|Ints|Ints for TDs|Int Yards|Yards Per Int|Longest Int Return|\n",
            "+------------------+---+--------------------+----------+--------------------+-------------------+--------------------+-----------+---------------+-------------+--------------------+------+--------------------+--------+------------+------------+--------------------+--------+----+--------------------+------------+-------------+------------+----------------+-----+-------+---------------+----+------------+---------+-------------+------------------+\n",
            "|     Eubanks, John| 33|                    | 7/13/1983|Southern Mississippi|            Retired|                    |  2 Seasons|             70|             |                    |  null| johneubanks/2506805|        |         173| 2006 - 2007| johneubanks/2506805|        |2007| Washington Redskins|           6|            7|           6|               1|    0|     --|              0|  --|          --|       --|            0|                --|\n",
            "|    Jennings, Greg| 33|      Kalamazoo , MI| 9/21/1983|    Western Michigan|            Retired|                    | 10 Seasons|             72|             |                    |  null|gregjennings/2495867|        |         198| 2006 - 2015|gregjennings/2495867|        |2013|   Minnesota Vikings|          15|            3|           3|               0|    0|      0|              0|  --|          --|       --|            0|                --|\n",
            "|     Harper, Roman| 34|     Prattville , AL|12/11/1982|             Alabama|Unsigned free agent|  New Orleans Saints|12th season|             73|Prattville HS|                  AL|    41| romanharper/2506893|      SS|         205|            | romanharper/2506893|      SS|2013|  New Orleans Saints|           9|           39|          27|              12|    0|     --|              1|   1|           0|        0|            0|                 0|\n",
            "|    Jackson, Chris| 42|        Bristol , PA| 2/26/1975|    Washington State|            Retired|                    |  3 Seasons|             73|             |                    |  null|chrisjackson/2501322|        |         203| 2000 - 2003|chrisjackson/2501322|        |2002|   Green Bay Packers|           1|            0|          --|              --|   --|     --|             --|  --|          --|       --|            0|                --|\n",
            "| Daniels, Torrance| 35|      Clarendon , AR|12/27/1981|             Harding|            Retired|                    |  4 Seasons|             75|             |                    |  null|torrancedaniels/2...|        |         248| 2006 - 2009|torrancedaniels/2...|        |2009|Jacksonville Jaguars|           1|            0|          --|              --|   --|     --|             --|  --|          --|       --|            0|                --|\n",
            "|Hartwell, Edgerton| 39|      Las Vegas , NV| 5/27/1978|    Western Illinois|            Retired|                    |  7 Seasons|             73|             |                    |  null|edgertonhartwell/...|        |         240| 2001 - 2008|edgertonhartwell/...|        |2003|    Baltimore Ravens|          16|           93|          66|              27|    3|     --|              3|   1|           0|       26|           26|                26|\n",
            "|    Pathon, Jerome| 41|Capetown South Af...|12/16/1975|          Washington|            Retired|                    |  8 Seasons|             72|             |                    |  null|jeromepathon/2502417|        |         195| 1998 - 2006|jeromepathon/2502417|        |2001|  Indianapolis Colts|           4|            0|          --|              --|   --|      0|             --|  --|          --|       --|            0|                --|\n",
            "|Richardson, Damien| 41|    Los Angeles , CA|  4/3/1976|       Arizona State|            Retired|                    |  7 Seasons|             73|             |                    |  null|damienrichardson/...|        |         210| 1998 - 2004|damienrichardson/...|        |2004|   Carolina Panthers|           0|            0|          --|              --|   --|     --|             --|  --|          --|       --|            0|                --|\n",
            "|    Terrell, David| 41|       Floydada , TX|  7/8/1975|       Texas-El Paso|            Retired|                    |  5 Seasons|             73|             |                    |  null|davidterrell/2503276|        |         190| 2000 - 2004|davidterrell/2504761|        |2004|       Chicago Bears|          16|            0|          --|              --|   --|      0|             --|  --|          --|       --|            0|                --|\n",
            "|   Mebane, Brandon| 32|    Los Angeles , CA| 1/15/1985|          California|             Active|Los Angeles Chargers|11th season|             73|  Crenshaw HS|     Los Angeles, CA|    92|brandonmebane/249...|      NT|         311|            |brandonmebane/249...|      NT|2010|    Seattle Seahawks|          12|           31|          19|              12|    1|     --|              2|  --|          --|       --|            0|                --|\n",
            "+------------------+---+--------------------+----------+--------------------+-------------------+--------------------+-----------+---------------+-------------+--------------------+------+--------------------+--------+------------+------------+--------------------+--------+----+--------------------+------------+-------------+------------+----------------+-----+-------+---------------+----+------------+---------+-------------+------------------+\n",
            "only showing top 10 rows"
          ]
        }
      ]
    },
    {
      "cell_type": "code",
      "source": [
        "%%spark\n",
        "\n",
        "# 4 points\n",
        "grader.grade(test_case_id = 'defensive_player_stats', answer = defensive_player_stats_sdf.toPandas())"
      ],
      "metadata": {
        "id": "1HO4WgzDXhql",
        "colab": {
          "base_uri": "https://localhost:8080/",
          "height": 70,
          "referenced_widgets": [
            "6d245ce13898425a933dd2f1cfe8fb36",
            "4fa66f09d34f4847bfd7919ba078ac6e",
            "828e069d14594a5f892155eb1ab1c61c"
          ]
        },
        "outputId": "3ca8252f-c4dc-4130-8af8-ac75bdb186c5"
      },
      "execution_count": null,
      "outputs": [
        {
          "output_type": "display_data",
          "data": {
            "text/plain": [
              "FloatProgress(value=0.0, bar_style='info', description='Progress:', layout=Layout(height='25px', width='50%'),…"
            ],
            "application/vnd.jupyter.widget-view+json": {
              "version_major": 2,
              "version_minor": 0,
              "model_id": "6d245ce13898425a933dd2f1cfe8fb36"
            }
          },
          "metadata": {}
        },
        {
          "output_type": "stream",
          "name": "stdout",
          "text": [
            "Correct! You earned 4/4 points. You are a star!\n",
            "\n",
            "Your submission has been successfully recorded in the gradebook."
          ]
        }
      ]
    },
    {
      "cell_type": "markdown",
      "source": [
        "## Step 2: Analysis!"
      ],
      "metadata": {
        "id": "CsLea-1Tyu0v"
      }
    },
    {
      "cell_type": "markdown",
      "metadata": {
        "id": "svOO4iLPist4"
      },
      "source": [
        "### Step 2.1: The Robust Ratio\n",
        "\n",
        "Now, we are interested in seeing the player with the highest total tackles / games played ratio from each team for each year and their corresponding experience. This involves derieving data from both the dataframes we created just now.\n",
        "\n",
        "Your task is to first find the player with the highest ratio for each team per year from the defensive_stats_df, and then join that with the basic_stats_df to find the experience of that player.\n",
        "\n",
        "Create an sdf called `best_tackles_sdf` that contains the above information. Then, make sure to only retain data pertaining to Name, player Id, Year, tackle_ratio, and experience. \n",
        "\n",
        "Remember we will sort the dataframe when grading so you can sort the elements however you wish (you don't need to if you don't want to). \n"
      ]
    },
    {
      "cell_type": "code",
      "metadata": {
        "id": "Kt16tyP0klQX",
        "colab": {
          "base_uri": "https://localhost:8080/",
          "height": 17,
          "referenced_widgets": [
            "6f072592b53e46599007fd95f3042009",
            "f7eee7f1e62a43f881df3379e96ae321",
            "42847336084743a9a2c74853ea21c9c6"
          ]
        },
        "outputId": "d82ee295-710f-4f3f-9888-0f25ffdb5550"
      },
      "source": [
        "%%spark\n",
        "query = ''' select distinct * from (select Name, Team, Year,`Player ID`, experience, ((`Total Tackles`/`Games Played`)) as tackle_ratio\n",
        "            from (select distinct * from (select * from defensive_stats where (`Total Tackles` is not null) AND (`Games Played` is not null) AND Year>=2000)as t1\n",
        "            join (select * from basic_stats) as t2 using(Name,`Player ID`)))\n",
        "           '''\n",
        "best_tackles_sdf_1 = spark.sql(query)\n",
        "helper_1 = spark.sql(query)\n",
        "best_tackles_sdf_1.createOrReplaceTempView(\"best_tackles_sdf_1\")\n",
        "\n",
        "query = '''  \n",
        "        (select Team, Year, max(tackle_ratio) as Ratio from\n",
        "        (select distinct * from (select Name, Team, Year,`Player ID`, experience, ((`Total Tackles`/`Games Played`)) as tackle_ratio from \n",
        "        (select distinct * from \n",
        "          (select * FROM defensive_stats WHERE (`Total Tackles` is not null) AND (`Games Played` is not null) AND Year>=2000)\n",
        "          JOIN (select * FROM basic_stats) USING(Name,`Player ID`)))) group by Team,Year order by Team,Year)\n",
        "           '''\n",
        "best_tackles_sdf_2 = spark.sql(query)\n",
        "best_tackles_sdf_2.createOrReplaceTempView(\"best_tackles_sdf_2\")\n",
        "\n",
        "\n",
        "query = ''' select experience as Experience, `Player Id` as ID, Year,Ratio, Team from (select t1.Team,t1.Year,Name,Ratio,`Player ID`, experience from (\n",
        "      (select * from best_tackles_sdf_2) t1\n",
        "      left join (select Team, Year, Name,`Player ID`, tackle_ratio, experience from best_tackles_sdf_1) t2\n",
        "      ON t1.Team = t2.Team AND t1.Year = t2.Year AND t1.`Ratio` = t2.tackle_ratio)\n",
        "      order by Team,Year)\n",
        "           '''\n",
        "best_tackles_sdf = spark.sql(query)\n",
        "best_tackles_sdf.createOrReplaceTempView(\"best_tackles_sdf\")\n"
      ],
      "execution_count": null,
      "outputs": [
        {
          "output_type": "display_data",
          "data": {
            "text/plain": [
              "FloatProgress(value=0.0, bar_style='info', description='Progress:', layout=Layout(height='25px', width='50%'),…"
            ],
            "application/vnd.jupyter.widget-view+json": {
              "version_major": 2,
              "version_minor": 0,
              "model_id": "6f072592b53e46599007fd95f3042009"
            }
          },
          "metadata": {}
        }
      ]
    },
    {
      "cell_type": "code",
      "source": [
        "%%spark\n",
        "best_tackles_sdf_1.show(10)"
      ],
      "metadata": {
        "colab": {
          "base_uri": "https://localhost:8080/",
          "height": 285,
          "referenced_widgets": [
            "8b707d132dba4e618a4a2ae9747967f4",
            "0657bda5f6ff4b549aed6c58f98a4668",
            "bf204211ce154014b725b6ff1fd4a6f4"
          ]
        },
        "id": "ikIBqP3nGMWt",
        "outputId": "29b4bccb-eee2-4fd7-be49-2f0f8b07b45e"
      },
      "execution_count": null,
      "outputs": [
        {
          "output_type": "display_data",
          "data": {
            "text/plain": [
              "FloatProgress(value=0.0, bar_style='info', description='Progress:', layout=Layout(height='25px', width='50%'),…"
            ],
            "application/vnd.jupyter.widget-view+json": {
              "version_major": 2,
              "version_minor": 0,
              "model_id": "8b707d132dba4e618a4a2ae9747967f4"
            }
          },
          "metadata": {}
        },
        {
          "output_type": "stream",
          "name": "stdout",
          "text": [
            "+------------------+--------------------+----+--------------------+-----------+-------------------+\n",
            "|              Name|                Team|Year|           Player ID| experience|       tackle_ratio|\n",
            "+------------------+--------------------+----+--------------------+-----------+-------------------+\n",
            "|      Fields, Mark|   Carolina Panthers|2004|  markfields/2500624| 10 Seasons|  4.428571428571429|\n",
            "|     Jones, Taiwan|     Oakland Raiders|2016| taiwanjones/2495467| 7th season| 0.3076923076923077|\n",
            "|     Edwards, Dwan|       Buffalo Bills|2011| dwanedwards/2505949| 12 Seasons|               3.25|\n",
            "|      Thomas, Zach|      Miami Dolphins|2006|  zachthomas/2503328| 14 Seasons|            10.3125|\n",
            "|   Charles, Jamaal|  Kansas City Chiefs|2009|   jamaalcharles/925|10th season| 0.4666666666666667|\n",
            "|        Euhus, Tim|       Buffalo Bills|2004|    timeuhus/2505688|  4 Seasons|0.08333333333333333|\n",
            "|Therezie, Robenson|     Atlanta Falcons|2015|robensontherezie/...| 3rd season| 2.5384615384615383|\n",
            "| McDonald, Clinton|Tampa Bay Buccaneers|2016|clintonmcdonald/8...| 9th season|                3.0|\n",
            "|    Price, Sheldon|  Indianapolis Colts|2015|sheldonprice/2539670| 2nd season|                0.5|\n",
            "|       Hill, Shaun| San Francisco 49ers|2007|   shaunhill/2504833|16th season| 0.3333333333333333|\n",
            "+------------------+--------------------+----+--------------------+-----------+-------------------+\n",
            "only showing top 10 rows"
          ]
        }
      ]
    },
    {
      "cell_type": "code",
      "metadata": {
        "id": "-a3xLDEYCcwl",
        "colab": {
          "base_uri": "https://localhost:8080/",
          "height": 177,
          "referenced_widgets": [
            "29dcb33aef0343b0b33b9554063a6523",
            "bb18fbfbfdfb4eef95248f341ce8eaaa",
            "92f8ac1e23dd4bf0aca429f737e83990"
          ]
        },
        "outputId": "03e69844-4493-43e3-ec29-06252947925d"
      },
      "source": [
        "%%spark\n",
        "# Print out the first few rows to see if the dataframe looks reasonable\n",
        "best_tackles_sdf.show(4)"
      ],
      "execution_count": null,
      "outputs": [
        {
          "output_type": "display_data",
          "data": {
            "text/plain": [
              "FloatProgress(value=0.0, bar_style='info', description='Progress:', layout=Layout(height='25px', width='50%'),…"
            ],
            "application/vnd.jupyter.widget-view+json": {
              "version_major": 2,
              "version_minor": 0,
              "model_id": "29dcb33aef0343b0b33b9554063a6523"
            }
          },
          "metadata": {}
        },
        {
          "output_type": "stream",
          "name": "stdout",
          "text": [
            "+----------+--------------------+----+-----------------+-----------------+\n",
            "|Experience|                  ID|Year|            Ratio|             Team|\n",
            "+----------+--------------------+----+-----------------+-----------------+\n",
            "| 4 Seasons|  pattillman/2503360|2001|7.666666666666667|Arizona Cardinals|\n",
            "| 5 Seasons|raynochthompson/2...|2002|           6.8125|Arizona Cardinals|\n",
            "|10 Seasons|dexterjackson/250...|2003|              5.5|Arizona Cardinals|\n",
            "|10 Seasons|jamesdarling/2500296|2004|              6.2|Arizona Cardinals|\n",
            "+----------+--------------------+----+-----------------+-----------------+\n",
            "only showing top 4 rows"
          ]
        }
      ]
    },
    {
      "cell_type": "code",
      "metadata": {
        "id": "LTukZvW9Pj04",
        "colab": {
          "base_uri": "https://localhost:8080/",
          "height": 70,
          "referenced_widgets": [
            "482dc7d73af145f795565946b0bfb82e",
            "3c8a69705fe1438f85456fca599e4d71",
            "ade1a07c73104c73bacefef384030268"
          ]
        },
        "outputId": "7f74b34d-3459-4bad-ef26-9cef1435f292"
      },
      "source": [
        "%%spark\n",
        "\n",
        "# 10 points\n",
        "grader.grade(test_case_id = 'tackle_ratio', answer = best_tackles_sdf.toPandas())"
      ],
      "execution_count": null,
      "outputs": [
        {
          "output_type": "display_data",
          "data": {
            "text/plain": [
              "FloatProgress(value=0.0, bar_style='info', description='Progress:', layout=Layout(height='25px', width='50%'),…"
            ],
            "application/vnd.jupyter.widget-view+json": {
              "version_major": 2,
              "version_minor": 0,
              "model_id": "482dc7d73af145f795565946b0bfb82e"
            }
          },
          "metadata": {}
        },
        {
          "output_type": "stream",
          "name": "stdout",
          "text": [
            "Correct! You earned 10/10 points. You are a star!\n",
            "\n",
            "Your submission has been successfully recorded in the gradebook."
          ]
        }
      ]
    },
    {
      "cell_type": "markdown",
      "metadata": {
        "id": "MCcU96OwwqT1"
      },
      "source": [
        "\n",
        "### Step 2.2: The Tremendous Tackles\n",
        "\n",
        "Your task is to answer the following questions: \n",
        "\n",
        "1. Which team has the player which the best ratio? Save their ID to the variable `highest_tackle_ratio_person`.\n",
        "2. Which team has the total highest ratio? Save this to the variable `highest_tackle_ratio_team`\n",
        "3. For each player who has played for more than a year, what is the percentage change in their ratio from the first year they played to the last year they played? Save this df in `percentage_change_sdf`, and make sure to order by ID. This DF should just contain two columns- percentage change and ID, as shown below.\n",
        "\n",
        "```\n",
        "+-------------------+--------------------+\n",
        "|  Percentage Change|                  ID|\n",
        "+-------------------+--------------------+\n",
        "|                   |                    |\n",
        "+-------------------+--------------------+\n",
        "```"
      ]
    },
    {
      "cell_type": "code",
      "metadata": {
        "id": "vLTmvD9WNQH3",
        "colab": {
          "base_uri": "https://localhost:8080/",
          "height": 35,
          "referenced_widgets": [
            "4431b3ee8fb74c26a7382f6bc42553e5",
            "df15309b51b3492b9b7d495064485888",
            "2789904c9db94bf4a687cade3122c1b7"
          ]
        },
        "outputId": "e3c4687c-d09c-40ef-e4af-bd9e14a6f094"
      },
      "source": [
        "%%spark\n",
        "\n",
        "#TODO: highest_tackle_ratio_person\n",
        "query = ''' SELECT ID,Team FROM best_tackles_sdf WHERE Ratio in (SELECT MAX(Ratio) as Ratio FROM best_tackles_sdf)'''              \n",
        "highest_tackle_ratio_person = spark.sql(query).collect()[0].asDict()['ID']\n",
        "highest_tackle_ratio_team = spark.sql(query).collect()[0].asDict()['Team']\n",
        "#TODO: highest_tackle_ratio_team\n",
        "highest_tackle_ratio_team\n",
        "highest_tackle_ratio_person"
      ],
      "execution_count": null,
      "outputs": [
        {
          "output_type": "display_data",
          "data": {
            "text/plain": [
              "FloatProgress(value=0.0, bar_style='info', description='Progress:', layout=Layout(height='25px', width='50%'),…"
            ],
            "application/vnd.jupyter.widget-view+json": {
              "version_major": 2,
              "version_minor": 0,
              "model_id": "4431b3ee8fb74c26a7382f6bc42553e5"
            }
          },
          "metadata": {}
        },
        {
          "output_type": "stream",
          "name": "stdout",
          "text": [
            "'raylewis/2501750'"
          ]
        }
      ]
    },
    {
      "cell_type": "code",
      "metadata": {
        "id": "a6Ot6rFKUrH3",
        "colab": {
          "base_uri": "https://localhost:8080/",
          "height": 70,
          "referenced_widgets": [
            "2fd4a84892604e7a97b23b923fc6e8d9",
            "9dd9260480f340f9841d61c14eccc116",
            "7e42a57611404b858d57bc647108e55f"
          ]
        },
        "outputId": "695e7077-7c5e-47a5-8bb3-51d71de5af6b"
      },
      "source": [
        "%%spark\n",
        "\n",
        "# 2 points\n",
        "grader.grade(test_case_id = 'best_player', answer = highest_tackle_ratio_person)"
      ],
      "execution_count": null,
      "outputs": [
        {
          "output_type": "display_data",
          "data": {
            "text/plain": [
              "FloatProgress(value=0.0, bar_style='info', description='Progress:', layout=Layout(height='25px', width='50%'),…"
            ],
            "application/vnd.jupyter.widget-view+json": {
              "version_major": 2,
              "version_minor": 0,
              "model_id": "2fd4a84892604e7a97b23b923fc6e8d9"
            }
          },
          "metadata": {}
        },
        {
          "output_type": "stream",
          "name": "stdout",
          "text": [
            "Correct! You earned 2/2 points. You are a star!\n",
            "\n",
            "Your submission has been successfully recorded in the gradebook."
          ]
        }
      ]
    },
    {
      "cell_type": "code",
      "source": [
        "%%spark\n",
        "\n",
        "# 2 points\n",
        "grader.grade(test_case_id = 'best_team', answer = highest_tackle_ratio_team)"
      ],
      "metadata": {
        "id": "YZa4prSwQUJQ",
        "colab": {
          "base_uri": "https://localhost:8080/",
          "height": 70,
          "referenced_widgets": [
            "67746ffd524f455dbb71a074016ac9f6",
            "8d64378050b54f3493c9ddf3f96e62dc",
            "4ef5d68bc3d24907b881d5598e14407a"
          ]
        },
        "outputId": "e23db048-cf9d-4080-9ad1-b7297373b53d"
      },
      "execution_count": null,
      "outputs": [
        {
          "output_type": "display_data",
          "data": {
            "text/plain": [
              "FloatProgress(value=0.0, bar_style='info', description='Progress:', layout=Layout(height='25px', width='50%'),…"
            ],
            "application/vnd.jupyter.widget-view+json": {
              "version_major": 2,
              "version_minor": 0,
              "model_id": "67746ffd524f455dbb71a074016ac9f6"
            }
          },
          "metadata": {}
        },
        {
          "output_type": "stream",
          "name": "stdout",
          "text": [
            "Correct! You earned 2/2 points. You are a star!\n",
            "\n",
            "Your submission has been successfully recorded in the gradebook."
          ]
        }
      ]
    },
    {
      "cell_type": "code",
      "source": [
        "%%spark\n",
        "\n",
        "#TODO Create % change table\n",
        "\n",
        "table1_query = '''SELECT * FROM defensive_stats WHERE `Total Tackles` is not null AND `Games Played` is not null AND Year>=2000'''\n",
        "table1 = spark.sql(table1_query)\n",
        "table1.createOrReplaceTempView(\"table1\")\n",
        "\n",
        "query = ''' SELECT * FROM \n",
        "              (SELECT Name, Team, max(Year) as latest, count(`Player ID`) as count,min(Year) as first FROM \n",
        "                (SELECT Name, Team, Year,`Player ID`, experience, ((`Total Tackles`/`Games Played`)) as Ratio FROM\n",
        "                  (SELECT DISTINCT * FROM table1 as t1\n",
        "            JOIN\n",
        "            (SELECT * FROM basic_stats) as t2\n",
        "            USING(Name,`Player ID`)\n",
        "            )\n",
        "            )\n",
        "            GROUP BY Team,Name\n",
        "            )\n",
        "            WHERE `count` >= 1\n",
        "           '''\n",
        "\n",
        "defensive_player_stats_sdf_1 = spark.sql(query)\n",
        "defensive_player_stats_sdf_1.createOrReplaceTempView(\"defensive_player_stats_sdf_1\")\n",
        "\n",
        "\n",
        "defensive_player_stats_sdf_2 = best_tackles_sdf_1\n",
        "#\"spark.sql(query)\n",
        "\n",
        "defensive_player_stats_sdf_2.createOrReplaceTempView(\"defensive_player_stats_sdf_2\")\n",
        "\n",
        "\n",
        "query = '''  SELECT * FROM ((SELECT t1.Name,t1.Team,t1.latest,t1.first,t2.tackle_ratio as latest_ratio,t2.`Player ID` FROM( (SELECT * FROM defensive_player_stats_sdf_1) t1\n",
        "           LEFT JOIN\n",
        "          (SELECT * FROM (defensive_player_stats_sdf_2))t2\n",
        "           ON\n",
        "           t1.`Name` = t2.`Name` AND t1.Team = t2.Team AND t1.latest = t2.Year\n",
        "           )\n",
        "           )\n",
        "           )\n",
        "           ORDER BY `Player ID`\n",
        " '''\n",
        "joint_table_1 = spark.sql(query)\n",
        "joint_table_1.show()\n",
        "joint_table_1.createOrReplaceTempView(\"joint_table_1\")\n",
        "\n",
        "query = '''   (SELECT t1.Name,t1.Team,t1.latest,t1.first,t2.tackle_ratio as first_ratio,t2. `Player ID` FROM( (SELECT * FROM joint_table_1) t1\n",
        "          LEFT JOIN\n",
        "          (SELECT * FROM (defensive_player_stats_sdf_2))t2\n",
        "           ON\n",
        "           t1.`Player ID` = t2.`Player ID` AND t1.first = t2.Year\n",
        "           )\n",
        "           )\n",
        "           ORDER BY `Player ID`\n",
        " '''\n",
        "joint_table_2 = spark.sql(query)\n",
        "joint_table_2.createOrReplaceTempView(\"joint_table_2\")\n",
        "joint_table_2.show()\n",
        "query = ''' SELECT DISTINCT ((latest_ratio-first_ratio)/first_ratio*100) as `Percentage Change`,ID FROM (SELECT t1.latest_ratio,t2.first_ratio,t2.`Player ID` as ID FROM(  \n",
        "          (SELECT * FROM (joint_table_1)) t1\n",
        "          LEFT JOIN\n",
        "          (SELECT * FROM (joint_table_2)) t2\n",
        "          ON\n",
        "          t1.`Player ID`=t2.`Player ID` \n",
        ")\n",
        ")         \n",
        "          WHERE ((latest_ratio-first_ratio)/first_ratio*100) !=0\n",
        "          ORDER BY ID\n",
        " '''\n",
        "joint_table_3 = spark.sql(query)\n",
        "joint_table_3.show()\n",
        "percentage_change_sdf = joint_table_3"
      ],
      "metadata": {
        "id": "NyVBZzE9Zg-G",
        "colab": {
          "base_uri": "https://localhost:8080/",
          "height": 1000,
          "referenced_widgets": [
            "19d0b522cc6c48c49d852bf690b98204",
            "850316ef588c4cc298c45fe0fa4aac43",
            "871209aa46ba4be3a6e3ace66971c2e8"
          ]
        },
        "outputId": "4d56d294-36d0-4984-8f5a-f5323a478b74"
      },
      "execution_count": null,
      "outputs": [
        {
          "output_type": "display_data",
          "data": {
            "text/plain": [
              "FloatProgress(value=0.0, bar_style='info', description='Progress:', layout=Layout(height='25px', width='50%'),…"
            ],
            "application/vnd.jupyter.widget-view+json": {
              "version_major": 2,
              "version_minor": 0,
              "model_id": "19d0b522cc6c48c49d852bf690b98204"
            }
          },
          "metadata": {}
        },
        {
          "output_type": "stream",
          "name": "stdout",
          "text": [
            "+-----------------+--------------------+------+-----+------------------+--------------------+\n",
            "|             Name|                Team|latest|first|      latest_ratio|           Player ID|\n",
            "+-----------------+--------------------+------+-----+------------------+--------------------+\n",
            "|Robinson, A'Shawn|       Detroit Lions|  2016| 2016|             1.875|a'shawnrobinson/2...|\n",
            "|      Bouye, A.J.|      Houston Texans|  2016| 2013|               4.2|   a.j.bouye/2541162|\n",
            "|       Edds, A.J.|       New York Jets|  2014| 2014|              0.25|     a.j.edds/496921|\n",
            "|       Edds, A.J.|Jacksonville Jaguars|  2014| 2014|               0.0|     a.j.edds/496921|\n",
            "|       Edds, A.J.|New England Patriots|  2011| 2011|               0.5|     a.j.edds/496921|\n",
            "|       Edds, A.J.|  Indianapolis Colts|  2011| 2011|1.3333333333333333|     a.j.edds/496921|\n",
            "|     Feeley, A.J.|   Carolina Panthers|  2009| 2009|              null|  a.j.feeley/2504566|\n",
            "|     Feeley, A.J.|      Miami Dolphins|  2005| 2004|              null|  a.j.feeley/2504566|\n",
            "|     Feeley, A.J.| Philadelphia Eagles|  2008| 2001|              null|  a.j.feeley/2504566|\n",
            "|     Feeley, A.J.|  San Diego Chargers|  2005| 2005|              null|  a.j.feeley/2504566|\n",
            "|     Feeley, A.J.|      St. Louis Rams|  2011| 2010|               0.0|  a.j.feeley/2504566|\n",
            "|    Francis, A.J.|      Miami Dolphins|  2015| 2013|               1.0| a.j.francis/2541707|\n",
            "|    Francis, A.J.|    Seattle Seahawks|  2015| 2015|               0.5| a.j.francis/2541707|\n",
            "|    Francis, A.J.| Washington Redskins|  2016| 2016|              null| a.j.francis/2541707|\n",
            "|      Green, A.J.|  Cincinnati Bengals|  2016| 2011|               0.0|   a.j.green/2495450|\n",
            "|  Jefferson, A.J.|   Minnesota Vikings|  2013| 2012|               0.5|a.j.jefferson/494275|\n",
            "|  Jefferson, A.J.|   Arizona Cardinals|  2011| 2010|             4.125|a.j.jefferson/494275|\n",
            "|      Klein, A.J.|   Carolina Panthers|  2016| 2013| 2.066666666666667|   a.j.klein/2539982|\n",
            "|    Schable, A.J.|   Arizona Cardinals|  2006| 2006|0.9090909090909091| a.j.schable/2506734|\n",
            "|    Tarpley, A.J.|       Buffalo Bills|  2015| 2015|0.5714285714285714| a.j.tarpley/2553605|\n",
            "+-----------------+--------------------+------+-----+------------------+--------------------+\n",
            "only showing top 20 rows\n",
            "\n",
            "+-----------------+--------------------+------+-----+------------------+--------------------+\n",
            "|             Name|                Team|latest|first|       first_ratio|           Player ID|\n",
            "+-----------------+--------------------+------+-----+------------------+--------------------+\n",
            "|     Thomas, Josh|  Indianapolis Colts|  2015| 2004|              null|                null|\n",
            "|    Carter, Chris|  Cincinnati Bengals|  2015| 2001|              null|                null|\n",
            "|      Newton, Cam|   Carolina Panthers|  2016| 2006|              null|                null|\n",
            "|Marshall, Brandon|      Denver Broncos|  2016| 2006|              null|                null|\n",
            "|  Jackson, Dexter|Tampa Bay Buccaneers|  2008| 2001|              null|                null|\n",
            "|Robinson, A'Shawn|       Detroit Lions|  2016| 2016|             1.875|a'shawnrobinson/2...|\n",
            "|      Bouye, A.J.|      Houston Texans|  2016| 2013|0.3333333333333333|   a.j.bouye/2541162|\n",
            "|       Edds, A.J.|New England Patriots|  2011| 2011|1.3333333333333333|     a.j.edds/496921|\n",
            "|       Edds, A.J.|Jacksonville Jaguars|  2014| 2014|               0.0|     a.j.edds/496921|\n",
            "|       Edds, A.J.|Jacksonville Jaguars|  2014| 2014|              0.25|     a.j.edds/496921|\n",
            "|       Edds, A.J.|       New York Jets|  2014| 2014|               0.0|     a.j.edds/496921|\n",
            "|       Edds, A.J.|  Indianapolis Colts|  2011| 2011|1.3333333333333333|     a.j.edds/496921|\n",
            "|       Edds, A.J.|       New York Jets|  2014| 2014|              0.25|     a.j.edds/496921|\n",
            "|       Edds, A.J.|New England Patriots|  2011| 2011|               0.5|     a.j.edds/496921|\n",
            "|       Edds, A.J.|  Indianapolis Colts|  2011| 2011|               0.5|     a.j.edds/496921|\n",
            "|     Feeley, A.J.|      Miami Dolphins|  2005| 2004|               0.0|  a.j.feeley/2504566|\n",
            "|     Feeley, A.J.|   Carolina Panthers|  2009| 2009|              null|  a.j.feeley/2504566|\n",
            "|     Feeley, A.J.|  San Diego Chargers|  2005| 2005|              null|  a.j.feeley/2504566|\n",
            "|     Feeley, A.J.| Philadelphia Eagles|  2008| 2001|               0.0|  a.j.feeley/2504566|\n",
            "|     Feeley, A.J.|      St. Louis Rams|  2011| 2010|              null|  a.j.feeley/2504566|\n",
            "+-----------------+--------------------+------+-----+------------------+--------------------+\n",
            "only showing top 20 rows\n",
            "\n",
            "+-------------------+--------------------+\n",
            "|  Percentage Change|                  ID|\n",
            "+-------------------+--------------------+\n",
            "| 1160.0000000000002|   a.j.bouye/2541162|\n",
            "|             -100.0|     a.j.edds/496921|\n",
            "|  433.3333333333333|     a.j.edds/496921|\n",
            "|             -81.25|     a.j.edds/496921|\n",
            "|              100.0|     a.j.edds/496921|\n",
            "|              -62.5|     a.j.edds/496921|\n",
            "| 166.66666666666666|     a.j.edds/496921|\n",
            "|              -50.0|     a.j.edds/496921|\n",
            "|              100.0| a.j.francis/2541707|\n",
            "|              -50.0| a.j.francis/2541707|\n",
            "|             -100.0|   a.j.green/2495450|\n",
            "|  67.22972972972973|a.j.jefferson/494275|\n",
            "| -79.72972972972973|a.j.jefferson/494275|\n",
            "|              725.0|a.j.jefferson/494275|\n",
            "| 57.460317460317476|   a.j.klein/2539982|\n",
            "|-16.044776119402986|aaronbeasley/2499587|\n",
            "| 15.384615384615385|aaronbeasley/2499587|\n",
            "|-27.238805970149254|aaronbeasley/2499587|\n",
            "| 106.81818181818181|aaronbeasley/2499587|\n",
            "| 138.63636363636365|aaronbeasley/2499587|\n",
            "+-------------------+--------------------+\n",
            "only showing top 20 rows"
          ]
        }
      ]
    },
    {
      "cell_type": "code",
      "metadata": {
        "id": "SzCb93YH7BcB",
        "colab": {
          "base_uri": "https://localhost:8080/",
          "height": 463,
          "referenced_widgets": [
            "30a3737d179a4229ac8c90c6ca1cf19a",
            "80d1acfb7273468eb02b7fa50e37e599",
            "671906e4274b49999460f0d98b6133bd"
          ]
        },
        "outputId": "41e7cc37-f228-4711-fc74-6bfac81dfbb4"
      },
      "source": [
        "%%spark\n",
        "\n",
        "# Let's visualize the results\n",
        "percentage_change_sdf.show(20)"
      ],
      "execution_count": null,
      "outputs": [
        {
          "output_type": "display_data",
          "data": {
            "text/plain": [
              "FloatProgress(value=0.0, bar_style='info', description='Progress:', layout=Layout(height='25px', width='50%'),…"
            ],
            "application/vnd.jupyter.widget-view+json": {
              "version_major": 2,
              "version_minor": 0,
              "model_id": "30a3737d179a4229ac8c90c6ca1cf19a"
            }
          },
          "metadata": {}
        },
        {
          "output_type": "stream",
          "name": "stdout",
          "text": [
            "+-------------------+--------------------+\n",
            "|  Percentage Change|                  ID|\n",
            "+-------------------+--------------------+\n",
            "| 1160.0000000000002|   a.j.bouye/2541162|\n",
            "|              -50.0|     a.j.edds/496921|\n",
            "|  433.3333333333333|     a.j.edds/496921|\n",
            "|              100.0|     a.j.edds/496921|\n",
            "| 166.66666666666666|     a.j.edds/496921|\n",
            "|             -100.0|     a.j.edds/496921|\n",
            "|             -81.25|     a.j.edds/496921|\n",
            "|              -62.5|     a.j.edds/496921|\n",
            "|              100.0| a.j.francis/2541707|\n",
            "|              -50.0| a.j.francis/2541707|\n",
            "|             -100.0|   a.j.green/2495450|\n",
            "|              725.0|a.j.jefferson/494275|\n",
            "|  67.22972972972973|a.j.jefferson/494275|\n",
            "| -79.72972972972973|a.j.jefferson/494275|\n",
            "| 57.460317460317476|   a.j.klein/2539982|\n",
            "| 15.384615384615385|aaronbeasley/2499587|\n",
            "|-27.238805970149254|aaronbeasley/2499587|\n",
            "| 106.81818181818181|aaronbeasley/2499587|\n",
            "| 138.63636363636365|aaronbeasley/2499587|\n",
            "|-16.044776119402986|aaronbeasley/2499587|\n",
            "+-------------------+--------------------+\n",
            "only showing top 20 rows"
          ]
        }
      ]
    },
    {
      "cell_type": "code",
      "metadata": {
        "id": "W3MZT21Qp5Fk",
        "colab": {
          "base_uri": "https://localhost:8080/",
          "height": 17,
          "referenced_widgets": [
            "0941c053db6b4a51a9fb50856b4b0b28",
            "e38974288de54aa39b06e9ad601e99b5",
            "bf999a2848964621b250e4a9f8333a8d"
          ]
        },
        "outputId": "7596b6b8-8a03-4afc-f535-fbd428dac268"
      },
      "source": [
        "%%spark\n",
        "\n",
        "## AUTOGRADER Step 2.2: ##\n",
        "percentage_change_sdf.createOrReplaceTempView(\"test_2_2\")\n",
        "test_2_2_sdf = spark.sql(\"SELECT * FROM test_2_2 ORDER BY ID\")"
      ],
      "execution_count": null,
      "outputs": [
        {
          "output_type": "display_data",
          "data": {
            "text/plain": [
              "FloatProgress(value=0.0, bar_style='info', description='Progress:', layout=Layout(height='25px', width='50%'),…"
            ],
            "application/vnd.jupyter.widget-view+json": {
              "version_major": 2,
              "version_minor": 0,
              "model_id": "0941c053db6b4a51a9fb50856b4b0b28"
            }
          },
          "metadata": {}
        }
      ]
    },
    {
      "cell_type": "code",
      "metadata": {
        "id": "S8i_bc6bU93w",
        "colab": {
          "base_uri": "https://localhost:8080/",
          "height": 70,
          "referenced_widgets": [
            "ff597942c4a24809ba932470ac2cad22",
            "eeac4946beeb4a14bd79dc9e4aed0108",
            "94c0afba4bf243a89e07a5244818d9cd"
          ]
        },
        "outputId": "17e6cb02-f179-4337-b7b7-683841618855"
      },
      "source": [
        "%%spark\n",
        "\n",
        "# 12 points\n",
        "grader.grade(test_case_id = 'percentage_change', answer = test_2_2_sdf.toPandas())"
      ],
      "execution_count": null,
      "outputs": [
        {
          "output_type": "display_data",
          "data": {
            "text/plain": [
              "FloatProgress(value=0.0, bar_style='info', description='Progress:', layout=Layout(height='25px', width='50%'),…"
            ],
            "application/vnd.jupyter.widget-view+json": {
              "version_major": 2,
              "version_minor": 0,
              "model_id": "ff597942c4a24809ba932470ac2cad22"
            }
          },
          "metadata": {}
        },
        {
          "output_type": "stream",
          "name": "stdout",
          "text": [
            "Correct! You earned 12/12 points. You are a star!\n",
            "\n",
            "Your submission has been successfully recorded in the gradebook."
          ]
        }
      ]
    },
    {
      "cell_type": "markdown",
      "metadata": {
        "id": "VZIfJGqDqKzX"
      },
      "source": [
        "## 2.3 The Blessed Break\n",
        "\n",
        "That last section was hard. And it's gonna get harder. Take a break. Sit back and relax for a minute. Listen to some music. Here's a [suggestion](https://www.youtube.com/watch?v=A3yCcXgbKrE).\n",
        "\n",
        "In the cell below fill out the boolean variable `whatd_you_think` with `True` if you liked it or `False` if you didn't. You will be graded on your response."
      ]
    },
    {
      "cell_type": "code",
      "metadata": {
        "id": "WkA0_E2485jy"
      },
      "source": [
        "whatd_you_think = True # TODO"
      ],
      "execution_count": null,
      "outputs": []
    },
    {
      "cell_type": "code",
      "metadata": {
        "id": "4lS-XkWl2deZ",
        "colab": {
          "base_uri": "https://localhost:8080/"
        },
        "outputId": "c2a767e0-2878-40ea-b6bb-826b5e68fdea"
      },
      "source": [
        "# 1 point\n",
        "grader.grade(test_case_id = 'tunes', answer = whatd_you_think)"
      ],
      "execution_count": null,
      "outputs": [
        {
          "output_type": "stream",
          "name": "stdout",
          "text": [
            "Correct! You earned 1/1 points. You are a star!\n",
            "\n",
            "Your submission has been successfully recorded in the gradebook.\n"
          ]
        }
      ]
    },
    {
      "cell_type": "markdown",
      "metadata": {
        "id": "QkF2RfLSXO0u"
      },
      "source": [
        "## Step 3: Formatting the Time Series Data\n",
        "\n",
        "\n",
        "Our overarching goal is to create an annual time series model that will use the highest tackle ratio per year for each team to predict the highest tackle ratio for that team over the next season. The model is trained on a set of observations. Each observation contains the team name, and the highest tackle ratios for each year from 2001 to 2016. \n",
        "\n",
        "```\n",
        "+----+-----+----------+---------+----------+---\n",
        "|Team |2001 |...  |2008 |2009 |   ...   |2016 |\n",
        "+----+-----+----------+---------+----------+---\n",
        "|TEN  |...  |...  |...  |...  |   ...   |...  |\n",
        "|SF   |...  |...  |...  |...  |   ...   |...  |\n",
        "|...  |...  |...  |...  |...  |   ...   |...  |\n",
        "+----+-----+----------+---------+----------+---\n",
        "```\n"
      ]
    },
    {
      "cell_type": "markdown",
      "source": [
        "\n",
        "### Step 3.1: The Annual Arrangement\n",
        "\n",
        "Your first task is to create the time series table, i.e. the `2001` through `2016` columns. This will involve reshaping `best_tackles_sdf`. Currently, `best_tackles_sdf` has columns `ID`, `Name`, `Team`, `Ratio` and `Year`. We want to group the rows together based on common `Team` and create new columns for the Ratio corresponding to each year.\n",
        "\n",
        "Create an sdf called `raw_tackles_time_series_sdf` that has for a single team, the highest tackle ratio in 2001 through 2016. It is ok if for a given team you don't have a given year. However, ensure that for a given team, each year column has an entry, i.e. if no Ratio value is present for the year, the entry for that year column should be `0`. The format of the sdf is shown below: \n",
        "```\n",
        "+----+-----+----------+---------+----------+----------+-------\n",
        "|Team                |2001 |...  |2008 |2009 |   ...   |2016 |\n",
        "+----+-----+----------+---------+----------+----------+-------\n",
        "|Tennessee Titans    |...  |...  |...  |...  |   ...   |...  |\n",
        "|San Francisco 49ers |...  |...  |...  |...  |   ...   |...  |\n",
        "|...                 |...  |...  |...  |...  |   ...   |...  |\n",
        "+----+-----+----------+---------+----------+----------+-------\n",
        "```\n",
        "_Hint_: This is a **fiddly and somewhat difficult** question. The tricky part is creating the additional columns of annual ratios, specifically when there are missing years. \n",
        "\n",
        "We suggest you look into `CASE` and `WHEN` statements in the [function list](https://spark.apache.org/docs/2.3.0/api/sql/index.html), and use these to **either** fill in a number for column (if appropriate) or put in a 0."
      ],
      "metadata": {
        "id": "KzEa-C36_x45"
      }
    },
    {
      "cell_type": "code",
      "source": [
        "%%spark\n",
        "best_tackles_sdf.show(10)"
      ],
      "metadata": {
        "colab": {
          "base_uri": "https://localhost:8080/",
          "height": 285,
          "referenced_widgets": [
            "9362567c640841a193a89cb2882e21d2",
            "75c50f2a2a39469a8241d6dd953e124f",
            "c2dc9019471d4571b261f437415942db"
          ]
        },
        "id": "SF_To80QesCD",
        "outputId": "0db179cf-ed7a-4eb4-f065-7fd346c33caf"
      },
      "execution_count": null,
      "outputs": [
        {
          "output_type": "display_data",
          "data": {
            "text/plain": [
              "FloatProgress(value=0.0, bar_style='info', description='Progress:', layout=Layout(height='25px', width='50%'),…"
            ],
            "application/vnd.jupyter.widget-view+json": {
              "version_major": 2,
              "version_minor": 0,
              "model_id": "9362567c640841a193a89cb2882e21d2"
            }
          },
          "metadata": {}
        },
        {
          "output_type": "stream",
          "name": "stdout",
          "text": [
            "+-----------+--------------------+----+-----------------+-----------------+\n",
            "| Experience|                  ID|Year|            Ratio|             Team|\n",
            "+-----------+--------------------+----+-----------------+-----------------+\n",
            "|  4 Seasons|  pattillman/2503360|2001|7.666666666666667|Arizona Cardinals|\n",
            "|  5 Seasons|raynochthompson/2...|2002|           6.8125|Arizona Cardinals|\n",
            "| 10 Seasons|dexterjackson/250...|2003|              5.5|Arizona Cardinals|\n",
            "| 10 Seasons|jamesdarling/2500296|2004|              6.2|Arizona Cardinals|\n",
            "| 10 Seasons|jamesdarling/2500296|2005|6.285714285714286|Arizona Cardinals|\n",
            "|14th season|karlosdansby/2506112|2006|5.714285714285714|Arizona Cardinals|\n",
            "|14th season|karlosdansby/2506112|2007|6.928571428571429|Arizona Cardinals|\n",
            "|14th season|karlosdansby/2506112|2008|           7.4375|Arizona Cardinals|\n",
            "|  7 Seasons|hamzaabdullah/250...|2009|              9.0|Arizona Cardinals|\n",
            "| 12 Seasons|  parislenon/2503971|2010|           7.8125|Arizona Cardinals|\n",
            "+-----------+--------------------+----+-----------------+-----------------+\n",
            "only showing top 10 rows"
          ]
        }
      ]
    },
    {
      "cell_type": "code",
      "metadata": {
        "id": "btp2wboHqg2J",
        "colab": {
          "base_uri": "https://localhost:8080/",
          "height": 483,
          "referenced_widgets": [
            "853128c39b904658a97df838f353cfdc",
            "e02f91119531497cb7dcfed8cf6e2361",
            "64e7a5b717b94a05b0f12d11e4fa5976"
          ]
        },
        "outputId": "fc656de3-6191-4506-8e95-c7195e6c378c"
      },
      "source": [
        "%%spark\n",
        "\n",
        "# TODO: Create [raw_tackles_time_series_sdf]\n",
        "\n",
        "# CASE() statements are SQL's equivalent of if else statements. WHEN a CASE is\n",
        "# true THEN we define a function. ELSE we do another function and then END the\n",
        "# statement.\n",
        "\n",
        "# The query is a GROUP BY. We group data based on the same team, as in the\n",
        "# previous step. We then do a CASE statement. This will seperate out the sets of\n",
        "# data corresponding to the same year using the 'Year' volumn in the WHEN clause.\n",
        "# If we have a piece of data, it will be the Ratio value for a given team in \n",
        "# a given year and we will save it with a corresponding column name. If there is\n",
        "# no piece of data here, as per the question, we need to add a 0. This is the\n",
        "# ELSE clause. Lastly, we do a SUM() to find the final Ratio.\n",
        "\n",
        "query = '''\n",
        "SELECT Team,`2001`,`2002`,`2003`,`2004`,`2005`,`2006`,`2007`,`2008`,`2009`,`2010`,`2011`,`2012`,`2013`,`2014`,`2015`,`2016` \n",
        "FROM(\n",
        "SELECT Team, \n",
        "SUM(CASE WHEN Year==2001 THEN Ratio ELSE 0 END) AS `2001`,\n",
        "SUM(CASE WHEN Year==2002 THEN Ratio ELSE 0 END) AS `2002`,\n",
        "SUM(CASE WHEN Year==2003 THEN Ratio ELSE 0 END) AS `2003`,\n",
        "SUM(CASE WHEN Year==2004 THEN Ratio ELSE 0 END) AS `2004`,\n",
        "SUM(CASE WHEN Year==2005 THEN Ratio ELSE 0 END) AS `2005`,\n",
        "SUM(CASE WHEN Year==2006 THEN Ratio ELSE 0 END) AS `2006`,\n",
        "SUM(CASE WHEN Year==2007 THEN Ratio ELSE 0 END) AS `2007`,\n",
        "SUM(CASE WHEN Year==2008 THEN Ratio ELSE 0 END) AS `2008`,\n",
        "SUM(CASE WHEN Year==2009 THEN Ratio ELSE 0 END) AS `2009`,\n",
        "SUM(CASE WHEN Year==2010 THEN Ratio ELSE 0 END) AS `2010`,\n",
        "SUM(CASE WHEN Year==2011 THEN Ratio ELSE 0 END) AS `2011`,\n",
        "SUM(CASE WHEN Year==2012 THEN Ratio ELSE 0 END) AS `2012`,\n",
        "SUM(CASE WHEN Year==2013 THEN Ratio ELSE 0 END) AS `2013`,\n",
        "SUM(CASE WHEN Year==2014 THEN Ratio ELSE 0 END) AS `2014`,\n",
        "SUM(CASE WHEN Year==2015 THEN Ratio ELSE 0 END) AS `2015`,\n",
        "SUM(CASE WHEN Year==2016 THEN Ratio ELSE 0 END) AS `2016`,\n",
        "SUM(Ratio) AS `Total Ratio`\n",
        "FROM best_tackles_sdf\n",
        "GROUP BY Team\n",
        ")\n",
        "\n",
        "'''\n",
        "raw_tackles_time_series_sdf = spark.sql(query)\n",
        "raw_tackles_time_series_sdf.show()\n",
        "\n",
        "# Define and save raw_tackles_time_series_sdf\n"
      ],
      "execution_count": null,
      "outputs": [
        {
          "output_type": "display_data",
          "data": {
            "text/plain": [
              "FloatProgress(value=0.0, bar_style='info', description='Progress:', layout=Layout(height='25px', width='50%'),…"
            ],
            "application/vnd.jupyter.widget-view+json": {
              "version_major": 2,
              "version_minor": 0,
              "model_id": "853128c39b904658a97df838f353cfdc"
            }
          },
          "metadata": {}
        },
        {
          "output_type": "stream",
          "name": "stdout",
          "text": [
            "+--------------------+------------------+------------------+------------------+------------------+------------------+------------------+-----------------+------------------+------------------+------------------+-----------------+------------------+-----------------+------------------+-----------------+-----------------+\n",
            "|                Team|              2001|              2002|              2003|              2004|              2005|              2006|             2007|              2008|              2009|              2010|             2011|              2012|             2013|              2014|             2015|             2016|\n",
            "+--------------------+------------------+------------------+------------------+------------------+------------------+------------------+-----------------+------------------+------------------+------------------+-----------------+------------------+-----------------+------------------+-----------------+-----------------+\n",
            "|New England Patriots|            5.6875| 7.642857142857143|             7.875|             8.625|              6.75|6.2727272727272725|5.666666666666667|               8.0| 7.923076923076923|           10.9375|             7.75|            9.1875|9.166666666666666| 8.833333333333334|7.416666666666667|6.142857142857143|\n",
            "|       Chicago Bears|              7.25|            9.4375|              7.25| 7.777777777777778|            7.5625|            8.8125|           7.6875|               6.2| 6.133333333333334|            7.8125|            6.375| 5.666666666666667|            6.375| 6.461538461538462|             6.75|9.166666666666666|\n",
            "|      Miami Dolphins|10.266666666666667|              9.75|10.133333333333333|11.153846153846153|11.285714285714286|           10.3125|             10.4|               7.5|             7.125| 6.785714285714286|           6.6875|             8.375|            7.375| 7.333333333333333|           8.4375|              8.5|\n",
            "|     Atlanta Falcons|               4.2|3.6666666666666665| 4.333333333333333|               6.0| 5.266666666666667|             6.125|              6.0|2.8333333333333335|            6.8125|            5.4375|           7.1875|7.3076923076923075|           7.9375|             8.875|6.333333333333333|7.571428571428571|\n",
            "|   Carolina Panthers| 5.888888888888889| 6.733333333333333|            4.6875|             4.625|               5.0| 6.285714285714286|             8.75|             8.625|            8.8125|             8.125|           9.0625|             10.25|             9.75|            9.5625|9.076923076923077|             10.2|\n",
            "|  San Diego Chargers| 7.642857142857143|               8.0|           10.0625|             9.375|               9.5|            8.8125|           5.3125|            7.9375|6.3076923076923075|               6.0|             12.0| 6.416666666666667|           7.1875|             7.125|6.916666666666667|6.583333333333333|\n",
            "|   Minnesota Vikings|            4.9375|            5.1875|             5.375|               5.0|            4.4375| 4.214285714285714|           6.5625|            7.1875|            6.1875|               9.0|            9.625|              9.25|            8.375|              7.75|6.571428571428571|7.266666666666667|\n",
            "|    Tennessee Titans| 6.833333333333333|               6.0|            5.3125| 6.733333333333333|               5.0|            6.6875|            7.625| 5.461538461538462|            7.5625|              10.0|6.866666666666666|               6.5|              6.5|               7.0|              6.8|              6.5|\n",
            "|       Buffalo Bills|            6.3125|            9.1875|            8.3125|             8.875|            9.8125|             9.125|8.666666666666666|             6.875|              9.25|10.785714285714286|            8.125|               7.0|           9.9375| 7.428571428571429|           7.9375|           9.3125|\n",
            "|  Indianapolis Colts| 7.222222222222222|            8.5625|            9.0625|              5.75|               6.5|              6.75|7.363636363636363|               7.5| 7.357142857142857|               7.6|             9.25|            9.0625|            7.875|             8.625|            9.375|              7.5|\n",
            "|    Cleveland Browns| 5.857142857142857| 4.846153846153846|               8.5| 6.454545454545454|            9.3125| 7.428571428571429|7.214285714285714|             9.625| 9.833333333333334|            7.6875|            9.875|             7.375|           8.8125|              7.75|             6.75|             9.25|\n",
            "|      Denver Broncos|            4.5625|              6.25| 4.933333333333334|            5.4375|               5.5|               6.0|              5.6| 6.666666666666667|              7.25|               6.0|6.466666666666667|               7.8|           8.0625| 8.071428571428571|7.266666666666667|6.214285714285714|\n",
            "|      Dallas Cowboys|               7.0|               6.5|            7.4375|            6.6875|            5.8125|            6.3125|           6.3125|              7.25|            7.0625|             7.375|              7.0| 9.666666666666666|              9.0| 8.166666666666666|9.142857142857142|9.666666666666666|\n",
            "| Washington Redskins| 7.071428571428571|            6.1875| 6.866666666666666|               7.0|             6.125|            6.9375|              8.0|            8.3125|             8.875| 9.444444444444445|           10.375|            8.6875|           7.1875| 8.384615384615385|7.333333333333333|             7.75|\n",
            "| Pittsburgh Steelers| 5.333333333333333| 5.857142857142857|            8.8125|             5.875|               8.5|             7.875|            6.125|            8.3125|             6.375|            8.4375|           5.8125|            7.0625|              8.0|              8.25|           7.4375|            7.125|\n",
            "|  Cincinnati Bengals|            3.6875| 4.357142857142857|            5.6875| 6.666666666666667|             6.125|               7.0|           6.8125|               7.0|            5.5625| 5.133333333333334|6.769230769230769|            7.9375|          10.6875|            7.5625|              7.4|9.181818181818182|\n",
            "|     New York Giants|            8.3125| 7.266666666666667|              9.25| 6.466666666666667| 7.615384615384615|            8.5625|           6.4375| 6.333333333333333|               6.5|            6.3125|5.466666666666667|             4.125|             7.75|              5.75|              7.0|           7.8125|\n",
            "| San Francisco 49ers| 6.214285714285714|             5.875|             5.875|              5.75|               8.2|              4.75|              6.5|               6.0|             5.875|               5.0|           8.9375|              9.25|           9.0625|            5.4375|            9.625|             8.75|\n",
            "|Tampa Bay Buccaneers|               5.0|            7.0625|7.2727272727272725| 6.933333333333334|            8.0625| 8.666666666666666|5.533333333333333| 5.363636363636363|               5.5|             5.125|             5.25|            8.6875|           9.0625|10.428571428571429|           9.1875|           9.0625|\n",
            "|       New York Jets|             8.875|               5.0|             6.125|            13.375|           10.5625|            7.0625|           7.9375|            7.4375|            7.9375|            6.1875|            5.375|            7.6875|             7.75|            7.6875|             6.75|6.333333333333333|\n",
            "+--------------------+------------------+------------------+------------------+------------------+------------------+------------------+-----------------+------------------+------------------+------------------+-----------------+------------------+-----------------+------------------+-----------------+-----------------+\n",
            "only showing top 20 rows"
          ]
        }
      ]
    },
    {
      "cell_type": "code",
      "metadata": {
        "id": "WRMSunHVq296",
        "colab": {
          "base_uri": "https://localhost:8080/",
          "height": 17,
          "referenced_widgets": [
            "646e48198116467cb59890aff446701e",
            "a4b73bdf805d46309658bc6e88a3ba0d",
            "2faf6da2fa0a45339d81ffb98c661189"
          ]
        },
        "outputId": "961ed41a-935d-443f-dc88-e7413170601b"
      },
      "source": [
        "%%spark\n",
        "\n",
        "## AUTOGRADER Step 3.1: ##\n",
        "\n",
        "raw_tackles_time_series_sdf.createOrReplaceTempView(\"test_3_1\")\n",
        "test_3_1_sdf = spark.sql(\"SELECT * FROM test_3_1 ORDER BY Team DESC LIMIT 10\")"
      ],
      "execution_count": null,
      "outputs": [
        {
          "output_type": "display_data",
          "data": {
            "text/plain": [
              "FloatProgress(value=0.0, bar_style='info', description='Progress:', layout=Layout(height='25px', width='50%'),…"
            ],
            "application/vnd.jupyter.widget-view+json": {
              "version_major": 2,
              "version_minor": 0,
              "model_id": "646e48198116467cb59890aff446701e"
            }
          },
          "metadata": {}
        }
      ]
    },
    {
      "cell_type": "code",
      "metadata": {
        "id": "NluLbb4HX5AS",
        "colab": {
          "base_uri": "https://localhost:8080/",
          "height": 70,
          "referenced_widgets": [
            "9bc50717819d4a1b8b21df5a672362f4",
            "0355ed50f1504dc4bec909dc4211205e",
            "4452902b0e214d16888cbdf2bb7e9b80"
          ]
        },
        "outputId": "0bb6940f-3666-47fc-cda8-ef93f05b5923"
      },
      "source": [
        "%%spark\n",
        "\n",
        "# 14 points\n",
        "grader.grade(test_case_id = 'arrangement', answer = test_3_1_sdf.toPandas())"
      ],
      "execution_count": null,
      "outputs": [
        {
          "output_type": "display_data",
          "data": {
            "text/plain": [
              "FloatProgress(value=0.0, bar_style='info', description='Progress:', layout=Layout(height='25px', width='50%'),…"
            ],
            "application/vnd.jupyter.widget-view+json": {
              "version_major": 2,
              "version_minor": 0,
              "model_id": "9bc50717819d4a1b8b21df5a672362f4"
            }
          },
          "metadata": {}
        },
        {
          "output_type": "stream",
          "name": "stdout",
          "text": [
            "Correct! You earned 14/14 points. You are a star!\n",
            "\n",
            "Your submission has been successfully recorded in the gradebook."
          ]
        }
      ]
    },
    {
      "cell_type": "markdown",
      "source": [
        "### Step 3.2 The Clairvoyant Cleaning\n",
        "\n",
        "We now want to format the `Team` names to an appropriate abbreviation. The formatting will consist of 2 steps."
      ],
      "metadata": {
        "id": "KZRuAU0XI84l"
      }
    },
    {
      "cell_type": "markdown",
      "metadata": {
        "id": "0DdnoFkP7mxz"
      },
      "source": [
        "#### Step 3.2.1 The Ubiquitous UDF\n",
        "\n",
        "The teams in our dataset are defined by their full names. We think that it would be *cleaner* to have names represented by using abbreviations. Often times when using Spark, there may not be a built-in SQL function that can do the operation we desired. Instead, we can create one on our own with a user-defined function (udf).\n",
        "\n",
        "A udf is defined as a normal Python function and then registered to be used as a Spark SQL function. Your task is to create a udf, `NAME_TO_ABBV()` that will convert the `Team` field in `raw_tackles_time_series_sdf` to their appropriate abbreviations. This will be done using the provided `name_to_abbv_dict` dictionary. We are only interested in the teams in that dictionary.\n",
        "\n",
        "Fill out the function `name_to_abbv()` below. Then use `spark.udf.register()` to register it as a SQL function. The command is provided. ***You do not need to edit it***. Note, we have defined the udf as returning `StringType()`. Ensure that your function returns this. You must also deal with any potential `null` cases."
      ]
    },
    {
      "cell_type": "code",
      "metadata": {
        "id": "P4cJWZsr8iNC",
        "colab": {
          "base_uri": "https://localhost:8080/",
          "height": 35,
          "referenced_widgets": [
            "291464e449d74c0eb96746603678e3e3",
            "a4f83d52d54b4efeaa174de5d3751ca8",
            "92598c34a6f74a31b34afbc7830e926a"
          ]
        },
        "outputId": "6d1de860-a690-42d3-9e65-3fb61ec20044"
      },
      "source": [
        "%%spark\n",
        "\n",
        "# Dictionary linking stock ticker symbols to their names\n",
        "name_to_abbv_dict = {'Tennessee Titans': 'TEN',\n",
        "                     'Denver Broncos': 'DEN',\n",
        "                     'Green Bay Packers': 'GBP',\n",
        "                     'Pittsburgh Steelers': 'PIT',\n",
        "                     'Chicago Bears': 'CHI',\n",
        "                     'Philadelphia Eagles': 'PHI',\n",
        "                     'Indianapolis Colts': 'IND',\n",
        "                     'Arizona Cardinals': 'ARI',\n",
        "                     'Seattle Seahawks': 'SEA',\n",
        "                     'Baltimore Ravens': 'BAR',\n",
        "                     'Carolina Panthers': 'CAR',\n",
        "                     'Kansas City Chiefs': 'KAN',\n",
        "                     'Oakland Raiders': 'OAK',\n",
        "                     'St. Louis Rams': 'SLR',\n",
        "                     'Atlanta Falcons': 'ATL',\n",
        "                     'New Orleans Saints': 'NOS',\n",
        "                     'San Francisco 49ers': 'SFF',\n",
        "                     'New England Patriots': 'NEP',\n",
        "                     'Buffalo Bills': 'BUF',\n",
        "                     'Los Angeles Rams': 'LAR',\n",
        "                     'Dallas Cowboys': 'DAL',\n",
        "                     'Minnesota Vikings': 'MIN',\n",
        "                     'Detroit Lions': 'DET',\n",
        "                     'Washington Redskins': 'WAS',\n",
        "                     'Jacksonville Jaguars': 'JAC',\n",
        "                     'New York Giants': 'NYG',\n",
        "                     'Tampa Bay Buccaneers': 'TBB',\n",
        "                     'Cleveland Browns': 'CLE',\n",
        "                     'Houston Texans': 'HOT',\n",
        "                     'Los Angeles Raiders': 'LOS',\n",
        "                     'Miami Dolphins': 'MIA',\n",
        "                     'Houston Oilers': 'HOU',\n",
        "                     'Cincinnati Bengals': 'CIN',\n",
        "                     'San Diego Chargers': 'SDC',\n",
        "                     'Tennessee Oilers': 'TEO',\n",
        "                     'New York Jets': 'NYJ',\n",
        "                     'Phoenix Cardinals': 'PHO',\n",
        "                     'St. Louis Cardinals': 'SLC',\n",
        "                     'Baltimore Colts': 'BAC'}\n",
        "\n",
        "# TODO: Fill out [name_to_abbv()] and register it as a udf.\n",
        "# Fill out name_to_abbv()\n",
        "\n",
        "# In UDFs we have to cover all possible output cases, or else the function will\n",
        "# crash. Specifically, this means we need to handle the case when \"name\" is\n",
        "# not in \"name_to_abbv_dict\". We use a try and except statement to return null\n",
        "# for this case.\n",
        "\n",
        "def name_to_abbv(name):\n",
        "  if name in name_to_abbv_dict.keys(): a = name_to_abbv_dict[name] \n",
        "  if name not in name_to_abbv_dict.keys(): a = None\n",
        "  return a\n",
        "  \n",
        "\n",
        "# Register udf as a SQL function. DO NOT EDIT\n",
        "spark.udf.register(\"NAME_TO_ABBV\", name_to_abbv, StringType())\n"
      ],
      "execution_count": null,
      "outputs": [
        {
          "output_type": "display_data",
          "data": {
            "text/plain": [
              "FloatProgress(value=0.0, bar_style='info', description='Progress:', layout=Layout(height='25px', width='50%'),…"
            ],
            "application/vnd.jupyter.widget-view+json": {
              "version_major": 2,
              "version_minor": 0,
              "model_id": "291464e449d74c0eb96746603678e3e3"
            }
          },
          "metadata": {}
        },
        {
          "output_type": "stream",
          "name": "stdout",
          "text": [
            "<function name_to_abbv at 0x7fe21486d200>"
          ]
        }
      ]
    },
    {
      "cell_type": "markdown",
      "metadata": {
        "id": "LSM0mzPRaKKr"
      },
      "source": [
        "Submit a tuple to the autograder for the ticker value of San Franscisco 49ers and Washington Commanders. If the name value in the table, set it to a string equal to \"None\""
      ]
    },
    {
      "cell_type": "code",
      "metadata": {
        "id": "NkdrFilOtKqx",
        "colab": {
          "base_uri": "https://localhost:8080/",
          "height": 35,
          "referenced_widgets": [
            "8d45acaea8124a90a2604cbe4fb3d14f",
            "531122c0c85643ef8bb6e8cf8799a301",
            "edfa187ecac6405780b80dd86ee0043c"
          ]
        },
        "outputId": "dac7afc2-7068-481d-f488-dd33a866bdb7"
      },
      "source": [
        "%%spark\n",
        "\n",
        "## AUTOGRADER Step 3.2.1: ##\n",
        "\n",
        "print((str(name_to_abbv(\"San Francisco 49ers\")),str(name_to_abbv(\"Washington Commanders\"))))\n",
        "to_submit = ((str(name_to_abbv(\"San Francisco 49ers\")),str(name_to_abbv(\"Washington Commanders\"))))"
      ],
      "execution_count": null,
      "outputs": [
        {
          "output_type": "display_data",
          "data": {
            "text/plain": [
              "FloatProgress(value=0.0, bar_style='info', description='Progress:', layout=Layout(height='25px', width='50%'),…"
            ],
            "application/vnd.jupyter.widget-view+json": {
              "version_major": 2,
              "version_minor": 0,
              "model_id": "8d45acaea8124a90a2604cbe4fb3d14f"
            }
          },
          "metadata": {}
        },
        {
          "output_type": "stream",
          "name": "stdout",
          "text": [
            "('SFF', 'None')"
          ]
        }
      ]
    },
    {
      "cell_type": "code",
      "metadata": {
        "id": "BA95n1lpZ4yy",
        "colab": {
          "base_uri": "https://localhost:8080/",
          "height": 70,
          "referenced_widgets": [
            "1cb3c85d47444bf5a7ac02b46e9da70d",
            "f697fde24db44250a2c4fa1693da58b5",
            "96fdb92dbecd4bb59f73ad4316186520"
          ]
        },
        "outputId": "0f41ace2-d56f-4635-d60f-4885c0b87389"
      },
      "source": [
        "%%spark\n",
        "\n",
        "# 2 points\n",
        "grader.grade(test_case_id = 'clairvoyant', answer = to_submit)"
      ],
      "execution_count": null,
      "outputs": [
        {
          "output_type": "display_data",
          "data": {
            "text/plain": [
              "FloatProgress(value=0.0, bar_style='info', description='Progress:', layout=Layout(height='25px', width='50%'),…"
            ],
            "application/vnd.jupyter.widget-view+json": {
              "version_major": 2,
              "version_minor": 0,
              "model_id": "1cb3c85d47444bf5a7ac02b46e9da70d"
            }
          },
          "metadata": {}
        },
        {
          "output_type": "stream",
          "name": "stdout",
          "text": [
            "Correct! You earned 2/2 points. You are a star!\n",
            "\n",
            "Your submission has been successfully recorded in the gradebook."
          ]
        }
      ]
    },
    {
      "cell_type": "markdown",
      "metadata": {
        "id": "u9YOYO9L-_GS"
      },
      "source": [
        "#### Step 3.2.2: The Clean Conversion\n",
        "\n",
        "With our new `NAME_TO_ABBV()` function we will begin to wrangle `raw_tackles_time_series_sdf`.\n",
        "\n",
        "Create an sdf called `tackles_time_series_sdf` as follows. Convert all the team names in `raw_tackles_time_series_sdf` to the appropriate abbreviations and save it as `Team`. Drop any team abbreviations that do not appear in `name_to_abbv_dict`. Using .dropna() is acceptable instead of IS NOT NULL. The final df should be in the format shown below:\n",
        "\n",
        "```\n",
        "+----+-----+----------+---------+----------+----------+--\n",
        "|Team |2000 |2001 |   ...   |2008 |2009 |   ...   |2016 |\n",
        "+----+-----+----------+---------+----------+----------+--\n",
        "|TEN  |...  |...  |   ...   |...  |...  |   ...   |...  |\n",
        "|SFF  |...  |...  |   ...   |...  |...  |   ...   |...  |\n",
        "|...  |...  |...  |   ...   |...  |...  |   ...   |...  |\n",
        "+----+-----+----------+---------+----------+----------+--\n",
        "```"
      ]
    },
    {
      "cell_type": "code",
      "metadata": {
        "id": "RuiitnWlBYJ7",
        "colab": {
          "base_uri": "https://localhost:8080/",
          "height": 483,
          "referenced_widgets": [
            "49019b56a28945808a2d4194251cc8b8",
            "dba31ef675d646688cfdff63182e0b5d",
            "ab81ba8ba6e14362935d22f27b7dce33"
          ]
        },
        "outputId": "9c232c16-ea16-4689-9f98-abedcb8bf93d"
      },
      "source": [
        "%%spark\n",
        "\n",
        "# Format the \"Team\" column using our UDF, NAME_TO_ABBV.\n",
        "# TODO: Create [tackles_time_series_sdf]\n",
        "query =\"\"\"\n",
        "SELECT NAME_TO_ABBV(Team) AS Team,`2001`,`2002`,`2003`,`2004`,`2005`,`2006`,`2007`,`2008`,`2009`,`2010`,`2011`,`2012`,`2013`,`2014`,`2015`,`2016` \n",
        "FROM(\n",
        "SELECT Team, \n",
        "SUM(CASE WHEN Year==2001 THEN Ratio ELSE 0 END) AS `2001`,\n",
        "SUM(CASE WHEN Year==2002 THEN Ratio ELSE 0 END) AS `2002`,\n",
        "SUM(CASE WHEN Year==2003 THEN Ratio ELSE 0 END) AS `2003`,\n",
        "SUM(CASE WHEN Year==2004 THEN Ratio ELSE 0 END) AS `2004`,\n",
        "SUM(CASE WHEN Year==2005 THEN Ratio ELSE 0 END) AS `2005`,\n",
        "SUM(CASE WHEN Year==2006 THEN Ratio ELSE 0 END) AS `2006`,\n",
        "SUM(CASE WHEN Year==2007 THEN Ratio ELSE 0 END) AS `2007`,\n",
        "SUM(CASE WHEN Year==2008 THEN Ratio ELSE 0 END) AS `2008`,\n",
        "SUM(CASE WHEN Year==2009 THEN Ratio ELSE 0 END) AS `2009`,\n",
        "SUM(CASE WHEN Year==2010 THEN Ratio ELSE 0 END) AS `2010`,\n",
        "SUM(CASE WHEN Year==2011 THEN Ratio ELSE 0 END) AS `2011`,\n",
        "SUM(CASE WHEN Year==2012 THEN Ratio ELSE 0 END) AS `2012`,\n",
        "SUM(CASE WHEN Year==2013 THEN Ratio ELSE 0 END) AS `2013`,\n",
        "SUM(CASE WHEN Year==2014 THEN Ratio ELSE 0 END) AS `2014`,\n",
        "SUM(CASE WHEN Year==2015 THEN Ratio ELSE 0 END) AS `2015`,\n",
        "SUM(CASE WHEN Year==2016 THEN Ratio ELSE 0 END) AS `2016`,\n",
        "SUM(Ratio) AS `Total Ratio`\n",
        "FROM best_tackles_sdf\n",
        "GROUP BY Team\n",
        ")\n",
        "\n",
        "\"\"\"\n",
        "\n",
        "\n",
        "\n",
        "# Define and save tackles_time_series_sdf\n",
        "\n",
        "tackles_time_series_sdf = spark.sql(query)\n",
        "tackles_time_series_sdf.show()\n"
      ],
      "execution_count": null,
      "outputs": [
        {
          "output_type": "display_data",
          "data": {
            "text/plain": [
              "FloatProgress(value=0.0, bar_style='info', description='Progress:', layout=Layout(height='25px', width='50%'),…"
            ],
            "application/vnd.jupyter.widget-view+json": {
              "version_major": 2,
              "version_minor": 0,
              "model_id": "49019b56a28945808a2d4194251cc8b8"
            }
          },
          "metadata": {}
        },
        {
          "output_type": "stream",
          "name": "stdout",
          "text": [
            "+----+------------------+------------------+------------------+------------------+------------------+------------------+-----------------+------------------+------------------+------------------+-----------------+------------------+-----------------+------------------+-----------------+-----------------+\n",
            "|Team|              2001|              2002|              2003|              2004|              2005|              2006|             2007|              2008|              2009|              2010|             2011|              2012|             2013|              2014|             2015|             2016|\n",
            "+----+------------------+------------------+------------------+------------------+------------------+------------------+-----------------+------------------+------------------+------------------+-----------------+------------------+-----------------+------------------+-----------------+-----------------+\n",
            "| NEP|            5.6875| 7.642857142857143|             7.875|             8.625|              6.75|6.2727272727272725|5.666666666666667|               8.0| 7.923076923076923|           10.9375|             7.75|            9.1875|9.166666666666666| 8.833333333333334|7.416666666666667|6.142857142857143|\n",
            "| MIA|10.266666666666667|              9.75|10.133333333333333|11.153846153846153|11.285714285714286|           10.3125|             10.4|               7.5|             7.125| 6.785714285714286|           6.6875|             8.375|            7.375| 7.333333333333333|           8.4375|              8.5|\n",
            "| CHI|              7.25|            9.4375|              7.25| 7.777777777777778|            7.5625|            8.8125|           7.6875|               6.2| 6.133333333333334|            7.8125|            6.375| 5.666666666666667|            6.375| 6.461538461538462|             6.75|9.166666666666666|\n",
            "| ATL|               4.2|3.6666666666666665| 4.333333333333333|               6.0| 5.266666666666667|             6.125|              6.0|2.8333333333333335|            6.8125|            5.4375|           7.1875|7.3076923076923075|           7.9375|             8.875|6.333333333333333|7.571428571428571|\n",
            "| CAR| 5.888888888888889| 6.733333333333333|            4.6875|             4.625|               5.0| 6.285714285714286|             8.75|             8.625|            8.8125|             8.125|           9.0625|             10.25|             9.75|            9.5625|9.076923076923077|             10.2|\n",
            "| SDC| 7.642857142857143|               8.0|           10.0625|             9.375|               9.5|            8.8125|           5.3125|            7.9375|6.3076923076923075|               6.0|             12.0| 6.416666666666667|           7.1875|             7.125|6.916666666666667|6.583333333333333|\n",
            "| MIN|            4.9375|            5.1875|             5.375|               5.0|            4.4375| 4.214285714285714|           6.5625|            7.1875|            6.1875|               9.0|            9.625|              9.25|            8.375|              7.75|6.571428571428571|7.266666666666667|\n",
            "| TEN| 6.833333333333333|               6.0|            5.3125| 6.733333333333333|               5.0|            6.6875|            7.625| 5.461538461538462|            7.5625|              10.0|6.866666666666666|               6.5|              6.5|               7.0|              6.8|              6.5|\n",
            "| BUF|            6.3125|            9.1875|            8.3125|             8.875|            9.8125|             9.125|8.666666666666666|             6.875|              9.25|10.785714285714286|            8.125|               7.0|           9.9375| 7.428571428571429|           7.9375|           9.3125|\n",
            "| IND| 7.222222222222222|            8.5625|            9.0625|              5.75|               6.5|              6.75|7.363636363636363|               7.5| 7.357142857142857|               7.6|             9.25|            9.0625|            7.875|             8.625|            9.375|              7.5|\n",
            "| CLE| 5.857142857142857| 4.846153846153846|               8.5| 6.454545454545454|            9.3125| 7.428571428571429|7.214285714285714|             9.625| 9.833333333333334|            7.6875|            9.875|             7.375|           8.8125|              7.75|             6.75|             9.25|\n",
            "| DEN|            4.5625|              6.25| 4.933333333333334|            5.4375|               5.5|               6.0|              5.6| 6.666666666666667|              7.25|               6.0|6.466666666666667|               7.8|           8.0625| 8.071428571428571|7.266666666666667|6.214285714285714|\n",
            "| DAL|               7.0|               6.5|            7.4375|            6.6875|            5.8125|            6.3125|           6.3125|              7.25|            7.0625|             7.375|              7.0| 9.666666666666666|              9.0| 8.166666666666666|9.142857142857142|9.666666666666666|\n",
            "| WAS| 7.071428571428571|            6.1875| 6.866666666666666|               7.0|             6.125|            6.9375|              8.0|            8.3125|             8.875| 9.444444444444445|           10.375|            8.6875|           7.1875| 8.384615384615385|7.333333333333333|             7.75|\n",
            "| PIT| 5.333333333333333| 5.857142857142857|            8.8125|             5.875|               8.5|             7.875|            6.125|            8.3125|             6.375|            8.4375|           5.8125|            7.0625|              8.0|              8.25|           7.4375|            7.125|\n",
            "| CIN|            3.6875| 4.357142857142857|            5.6875| 6.666666666666667|             6.125|               7.0|           6.8125|               7.0|            5.5625| 5.133333333333334|6.769230769230769|            7.9375|          10.6875|            7.5625|              7.4|9.181818181818182|\n",
            "| SFF| 6.214285714285714|             5.875|             5.875|              5.75|               8.2|              4.75|              6.5|               6.0|             5.875|               5.0|           8.9375|              9.25|           9.0625|            5.4375|            9.625|             8.75|\n",
            "| NYG|            8.3125| 7.266666666666667|              9.25| 6.466666666666667| 7.615384615384615|            8.5625|           6.4375| 6.333333333333333|               6.5|            6.3125|5.466666666666667|             4.125|             7.75|              5.75|              7.0|           7.8125|\n",
            "| TBB|               5.0|            7.0625|7.2727272727272725| 6.933333333333334|            8.0625| 8.666666666666666|5.533333333333333| 5.363636363636363|               5.5|             5.125|             5.25|            8.6875|           9.0625|10.428571428571429|           9.1875|           9.0625|\n",
            "| NYJ|             8.875|               5.0|             6.125|            13.375|           10.5625|            7.0625|           7.9375|            7.4375|            7.9375|            6.1875|            5.375|            7.6875|             7.75|            7.6875|             6.75|6.333333333333333|\n",
            "+----+------------------+------------------+------------------+------------------+------------------+------------------+-----------------+------------------+------------------+------------------+-----------------+------------------+-----------------+------------------+-----------------+-----------------+\n",
            "only showing top 20 rows"
          ]
        }
      ]
    },
    {
      "cell_type": "code",
      "metadata": {
        "id": "qBm-D6FXtdv6",
        "colab": {
          "base_uri": "https://localhost:8080/",
          "height": 17,
          "referenced_widgets": [
            "4da86a16f739483aaa3945bb0b8c9a03",
            "8f0d5a98361441ed9f9c06854a6519f1",
            "5c25dbcc80f6443bba0dd4660a852b14"
          ]
        },
        "outputId": "8261f710-ed58-4804-c25c-88c826c34828"
      },
      "source": [
        "%%spark\n",
        "\n",
        "## AUTOGRADER Step 3.2.2: ##\n",
        "\n",
        "tackles_time_series_sdf.createOrReplaceTempView(\"test_3_2_2\")\n",
        "test_3_2_2_sdf = spark.sql(\"SELECT * FROM test_3_2_2 ORDER BY Team LIMIT 10\")"
      ],
      "execution_count": null,
      "outputs": [
        {
          "output_type": "display_data",
          "data": {
            "text/plain": [
              "FloatProgress(value=0.0, bar_style='info', description='Progress:', layout=Layout(height='25px', width='50%'),…"
            ],
            "application/vnd.jupyter.widget-view+json": {
              "version_major": 2,
              "version_minor": 0,
              "model_id": "4da86a16f739483aaa3945bb0b8c9a03"
            }
          },
          "metadata": {}
        }
      ]
    },
    {
      "cell_type": "code",
      "metadata": {
        "id": "ghKZ3HHOaXIq",
        "colab": {
          "base_uri": "https://localhost:8080/",
          "height": 70,
          "referenced_widgets": [
            "71770e3695be4b87b1767bcd3bb39e07",
            "7d450383e4754efc9f227cc02cf5096a",
            "5cdc1c8199cf46bea562770ad91a997a"
          ]
        },
        "outputId": "fe0252a1-34fc-4a53-fb22-78fac3539db6"
      },
      "source": [
        "%%spark\n",
        "\n",
        "# 10 points\n",
        "grader.grade(test_case_id = 'conversion', answer = test_3_2_2_sdf.toPandas())"
      ],
      "execution_count": null,
      "outputs": [
        {
          "output_type": "display_data",
          "data": {
            "text/plain": [
              "FloatProgress(value=0.0, bar_style='info', description='Progress:', layout=Layout(height='25px', width='50%'),…"
            ],
            "application/vnd.jupyter.widget-view+json": {
              "version_major": 2,
              "version_minor": 0,
              "model_id": "71770e3695be4b87b1767bcd3bb39e07"
            }
          },
          "metadata": {}
        },
        {
          "output_type": "stream",
          "name": "stdout",
          "text": [
            "Correct! You earned 10/10 points. You are a star!\n",
            "\n",
            "Your submission has been successfully recorded in the gradebook."
          ]
        }
      ]
    },
    {
      "cell_type": "markdown",
      "source": [
        "And there you go! Now we have formatted a simple time series dataset for the highest tackle ratios of all teams."
      ],
      "metadata": {
        "id": "VvDlOG74JPl7"
      }
    },
    {
      "cell_type": "markdown",
      "metadata": {
        "id": "ZnwHS5-kPtVl"
      },
      "source": [
        "## Step 4: The Super... Bacon?\n",
        "\n",
        "Let's introduce a fun little concept called the Bacon Number! The Bacon number of an actor or actress is the number of degrees of separation they have from actor Kevin Bacon, as defined by the game known as Six Degrees of Kevin Bacon. For example, Kevin Bacon's Bacon number is 0. If an actor works in a movie with Kevin Bacon, the actor's Bacon number is 1. If an actor works with an actor who worked with Kevin Bacon in a movie, the first actor's Bacon number is 2, and so forth.\n",
        "\n",
        "How do we implement this for NFL though? Let's use a dataset specifically based on the history of the Super Bowl, and find a number we're calling \"The Super Bacon.\" We define this number as follows: if team A has beaten team B, and team B has beaten team C, then the super bacon of C with respect to A will be 2.\n",
        "\n",
        "Now to calculate this number, we'll use the concepts of graphs and BFS!\n"
      ]
    },
    {
      "cell_type": "markdown",
      "source": [
        "*For this section, we will be using Pyspark instead of Spark on the EMR cluster. The syntax remains the same, except you don't need to use the `%%spark` call at the top of each code cell.\n",
        "Run the setup cells for Pyspark below.*"
      ],
      "metadata": {
        "id": "VPOLIiHpYr86"
      }
    },
    {
      "cell_type": "code",
      "source": [
        "!pip install pyspark"
      ],
      "metadata": {
        "id": "nlrk--6d_6p7",
        "colab": {
          "base_uri": "https://localhost:8080/"
        },
        "outputId": "b6f40b78-f1e5-4f5f-8863-fa7bcca5abb8"
      },
      "execution_count": null,
      "outputs": [
        {
          "output_type": "stream",
          "name": "stdout",
          "text": [
            "Requirement already satisfied: pyspark in /usr/local/lib/python3.7/dist-packages (3.2.1)\n",
            "Requirement already satisfied: py4j==0.10.9.3 in /usr/local/lib/python3.7/dist-packages (from pyspark) (0.10.9.3)\n"
          ]
        }
      ]
    },
    {
      "cell_type": "code",
      "source": [
        "from pyspark.sql import SparkSession\n",
        "\n",
        "appName = \"PySpark\"\n",
        "\n",
        "# Create Spark session\n",
        "spark = SparkSession.builder.appName(appName).getOrCreate()\n"
      ],
      "metadata": {
        "id": "VGEag3L-3cp8"
      },
      "execution_count": null,
      "outputs": []
    },
    {
      "cell_type": "markdown",
      "source": [
        "### 4.1 “Traversing” a Graph\n",
        "\n",
        "Before we jump to finding the Super Bacons for the teams, let's review how BFS works."
      ],
      "metadata": {
        "id": "LK-JxKe0xBvS"
      }
    },
    {
      "cell_type": "code",
      "source": [
        "import pandas as pd\n",
        "from IPython.display import Image as I\n",
        "\n",
        "bfsgif =\\\n",
        "'https://upload.wikimedia.org/wikipedia/commons/5/5d/Breadth-First-S'+\\\n",
        "'earch-Algorithm.gif'\n",
        "dfsgif=\\\n",
        "'https://upload.wikimedia.org/wikipedia/commons/7/7f/Depth-First-Search.gif'\n"
      ],
      "metadata": {
        "id": "GT6WJwy5vK_G"
      },
      "execution_count": null,
      "outputs": []
    },
    {
      "cell_type": "markdown",
      "source": [
        "\n",
        "#### 4.1.1 Intro to Distributed Breadth-First Search\n",
        "\n",
        "\n",
        "To start off, we will be implementing a graph traversal algorithm known as Breadth First Search. It works in a way that's equivalent to how a stain spreads on a white t-shirt. Take a look at the graph below:\n",
        "\n",
        "<p align = \"center\">\n",
        "<img src = \"https://imgur.com/WU3AUwg.png\" width= \"600\" align =\"center\"/>\n",
        "\n",
        "* Consider starting BFS from point A (green). This is considered the starting frontier/singular origin node.\n",
        "* The first round of BFS would involve finding all the nodes directly reachable from A, namely B-F (blue circles). These blue nodes make up the next frontier at depth 1 away from our starting node A.\n",
        "* The second round would then be identifying the red nodes which are the neighbors of the blue nodes. Now, the red nodes all belong to a frontier 2 depth away from A. Note that node A is also a neighbor of a blue node. However, since it has already been visited, it does not get added to this frontier.\n",
        "\n",
        "This process continues until all the nodes in the graph have been visited.\n",
        "If you would like to learn more about BFS, we highly suggest looking [here](https://www.tutorialspoint.com/data_structures_algorithms/breadth_first_traversal.html).\n",
        "\n",
        "\n",
        "We will now be implementing **spark_bfs(G, N, d)**, our spark flavor of BFS that takes a graph **G**, a set of origin nodes **N**, and a max depth **d**.\n",
        "\n",
        "In order to write a successful BFS function, you are going to need to figure out \n",
        "1. how to keep track of nodes that we have visited\n",
        "2. how to properly find all the nodes at the next depth\n",
        "3. how to avoid cycles and ensure that we do not constantly loop through the same edges (take a look at J-K in the graph)\n"
      ],
      "metadata": {
        "id": "wpanImv_x2l9"
      }
    },
    {
      "cell_type": "markdown",
      "source": [
        "#### [OPTIONAL/ADDITIONAL] BFS vs. DFS Animation \n",
        "Run the code cells below to understand the difference between depth and breadth first search! (Source: Wikimedia Commons)"
      ],
      "metadata": {
        "id": "I9QtEcHJyFTK"
      }
    },
    {
      "cell_type": "code",
      "source": [
        "# NOT GRADED\n",
        "print('BFS:')\n",
        "I(url=bfsgif)"
      ],
      "metadata": {
        "id": "KOOmbVszx2gu",
        "colab": {
          "base_uri": "https://localhost:8080/",
          "height": 538
        },
        "outputId": "0ba246f0-d352-45ad-9262-6cd2760b4285"
      },
      "execution_count": null,
      "outputs": [
        {
          "output_type": "stream",
          "name": "stdout",
          "text": [
            "BFS:\n"
          ]
        },
        {
          "output_type": "execute_result",
          "data": {
            "text/plain": [
              "<IPython.core.display.Image object>"
            ],
            "text/html": [
              "<img src=\"https://upload.wikimedia.org/wikipedia/commons/5/5d/Breadth-First-Search-Algorithm.gif\"/>"
            ]
          },
          "metadata": {},
          "execution_count": 49
        }
      ]
    },
    {
      "cell_type": "code",
      "source": [
        "#NOT GRADED\n",
        "print('DFS:')\n",
        "I(url=dfsgif)"
      ],
      "metadata": {
        "id": "Aq2JPO0iyN4g",
        "colab": {
          "base_uri": "https://localhost:8080/",
          "height": 538
        },
        "outputId": "e4b378cd-d6b7-4018-f05d-46423be2150d"
      },
      "execution_count": null,
      "outputs": [
        {
          "output_type": "stream",
          "name": "stdout",
          "text": [
            "DFS:\n"
          ]
        },
        {
          "output_type": "execute_result",
          "data": {
            "text/plain": [
              "<IPython.core.display.Image object>"
            ],
            "text/html": [
              "<img src=\"https://upload.wikimedia.org/wikipedia/commons/7/7f/Depth-First-Search.gif\"/>"
            ]
          },
          "metadata": {},
          "execution_count": 50
        }
      ]
    },
    {
      "cell_type": "markdown",
      "source": [
        "#### 4.1.2 Implement One Traversal\n",
        "\n",
        "To break down this process, let's think about how we would implement a single traversal of the graph. That is given the green node in the graph above, how are we going to get the blue nodes?\n",
        "\n",
        "\n",
        "Consider the simple graph below **which is different from the graph in the image above**:"
      ],
      "metadata": {
        "id": "wp6kU4RWyQw4"
      }
    },
    {
      "cell_type": "code",
      "source": [
        "spark.conf.set(\"spark.sql.execution.arrow.enabled\", \"true\")\n",
        "\n",
        "simple = [('A', 'B'),\n",
        "         ('A', 'C'),\n",
        "         ('A', 'D'),\n",
        "         ('C', 'F'),\n",
        "         ('F', 'A'),\n",
        "         ('B', 'G'),\n",
        "         ('G', 'H'),\n",
        "         ('D', 'E')]\n",
        "\n",
        "simple_dict = {'from_node': ['A', 'A', 'A', 'C', 'F', 'B', 'G', 'D'],\n",
        "       'to_node': ['B', 'C', 'D', 'F', 'A', 'G', 'H', 'E']}\n",
        "\n",
        "simple_graph_df = pd.DataFrame.from_dict(simple_dict)\n",
        "simple_graph_sdf = spark.createDataFrame(simple_graph_df)\n",
        "simple_graph_sdf.show()"
      ],
      "metadata": {
        "id": "VZV6fQIxyaww",
        "colab": {
          "base_uri": "https://localhost:8080/"
        },
        "outputId": "daf8b595-9da2-4799-ed9a-7a9c0805a7a4"
      },
      "execution_count": null,
      "outputs": [
        {
          "output_type": "stream",
          "name": "stdout",
          "text": [
            "+---------+-------+\n",
            "|from_node|to_node|\n",
            "+---------+-------+\n",
            "|        A|      B|\n",
            "|        A|      C|\n",
            "|        A|      D|\n",
            "|        C|      F|\n",
            "|        F|      A|\n",
            "|        B|      G|\n",
            "|        G|      H|\n",
            "|        D|      E|\n",
            "+---------+-------+\n",
            "\n"
          ]
        }
      ]
    },
    {
      "cell_type": "markdown",
      "source": [
        "As you can see, each row of this dataframe represents an edge between two nodes Here, we are looking at a **directed graph**, which means that A-->B  does not represent the same edge as B-->A.\n",
        "\n",
        "Let's define our starting node as follows:"
      ],
      "metadata": {
        "id": "MQuo6wH-yr9D"
      }
    },
    {
      "cell_type": "code",
      "source": [
        "smallOrig = [{'node': 'A'}]"
      ],
      "metadata": {
        "id": "jmaJlqRuzEEv"
      },
      "execution_count": null,
      "outputs": []
    },
    {
      "cell_type": "markdown",
      "source": [
        "Then, bfs with graph G, starting from smallOrig to depth 1, or  **spark_bfs(G, smallOrig, 1)** would output as follows:"
      ],
      "metadata": {
        "id": "g6hLLqHdzHmy"
      }
    },
    {
      "cell_type": "code",
      "source": [
        "simple_1_round_dict = {'node': ['B', 'D', 'C', 'A'],\n",
        "       'distance': [1, 1, 1, 0]}\n",
        "simple_1_round_bfs_df = pd.DataFrame.from_dict(simple_1_round_dict)\n",
        "simple_1_round_bfs_sdf = spark.createDataFrame(simple_1_round_bfs_df)\n",
        "simple_1_round_bfs_sdf.show()"
      ],
      "metadata": {
        "id": "MSWF2e-YzIud",
        "colab": {
          "base_uri": "https://localhost:8080/"
        },
        "outputId": "5db8a5eb-259b-417a-e63b-cea6271f03b9"
      },
      "execution_count": null,
      "outputs": [
        {
          "output_type": "stream",
          "name": "stdout",
          "text": [
            "+----+--------+\n",
            "|node|distance|\n",
            "+----+--------+\n",
            "|   B|       1|\n",
            "|   D|       1|\n",
            "|   C|       1|\n",
            "|   A|       0|\n",
            "+----+--------+\n",
            "\n"
          ]
        }
      ]
    },
    {
      "cell_type": "markdown",
      "source": [
        "As you can see, this dataframe logs each node with its corresponding distance away from A. Moreover, we also know that these nodes are **visited**. \n",
        "\n",
        "Hopefully, you can see how we can use our original graph and this new information to find the nodes at depth two. \n",
        "\n",
        "This is exactly what we will try to accomplish with **spark_bfs_1_round(visited_nodes)** which will ultimately be the inner function of **spark_bfs** that we use to perform exactly one traversal of a graph.\n",
        "\n",
        "**TODO**: Write **spark_bfs_1_round(visted_nodes)** that takes the currently dataframe of visited_nodes, performs one round of BFS, and returns an updated visited nodes dataframe. You should assume that a temporary sdf G already exists."
      ],
      "metadata": {
        "id": "eL9Jx1BLzZME"
      }
    },
    {
      "cell_type": "code",
      "source": [
        "simple_graph_sdf.show()"
      ],
      "metadata": {
        "colab": {
          "base_uri": "https://localhost:8080/"
        },
        "id": "BIl6bhfx2RSH",
        "outputId": "f639400b-7688-4a10-ea33-302031b7d930"
      },
      "execution_count": null,
      "outputs": [
        {
          "output_type": "stream",
          "name": "stdout",
          "text": [
            "+---------+-------+\n",
            "|from_node|to_node|\n",
            "+---------+-------+\n",
            "|        A|      B|\n",
            "|        A|      C|\n",
            "|        A|      D|\n",
            "|        C|      F|\n",
            "|        F|      A|\n",
            "|        B|      G|\n",
            "|        G|      H|\n",
            "|        D|      E|\n",
            "+---------+-------+\n",
            "\n"
          ]
        }
      ]
    },
    {
      "cell_type": "code",
      "source": [
        "simple_graph_sdf.createOrReplaceTempView(\"simple_graph_sdf\")\n",
        "def spark_bfs_1_round(visited_nodes):\n",
        "  \"\"\"\n",
        "  :param visited_nodes: dataframe with columns node and distance\n",
        "  :return: dataframe of updated visuted nodes, with columns node and distance\n",
        "  \"\"\"\n",
        "  visited_nodes.createOrReplaceTempView(\"visited_nodes\")\n",
        "  max_depth_now = spark.sql(\"SELECT MAX(Distance) as distance FROM visited_nodes\").collect()[0].asDict()['distance']\n",
        "  visited_nodes_only = spark.sql(\"SELECT node FROM visited_nodes\")\n",
        "  visited_nodes_only.createOrReplaceTempView(\"visited_nodes_only\")\n",
        " \n",
        "  query = \"\"\" \n",
        "  WITH unvisited_nodes AS (SELECT * FROM simple_graph_sdf WHERE to_node NOT IN (SELECT * FROM visited_nodes_only)),\n",
        "     frontier_nodes AS (SELECT t2.to_node as node, t1.distance+1 as distance \n",
        "                FROM visited_nodes as t1\n",
        "                JOIN unvisited_nodes as t2\n",
        "                where t1.node = t2.from_node)\n",
        "  \n",
        "  SELECT * FROM(\n",
        "  SELECT * FROM frontier_nodes\n",
        "  UNION\n",
        "  SELECT * FROM visited_nodes\n",
        "  )\n",
        "  ORDER BY DISTANCE\n",
        "  \"\"\" \n",
        " \n",
        "  result_sdf = spark.sql(query)\n",
        "  spark.catalog.dropTempView(\"visited_nodes\")\n",
        "  spark.catalog.dropTempView(\"visited_nodes_only\")\n",
        "  return result_sdf"
      ],
      "metadata": {
        "id": "vZcC22Bfzi6F"
      },
      "execution_count": null,
      "outputs": []
    },
    {
      "cell_type": "markdown",
      "source": [
        "Now, run the inner function on **simple_1_round_bfs_sdf** (i.e. result of 1 round of BFS on the simple graph) and store the results in **simple_bfs_result**. This is ultimately what the output of BFS to depth 2 should look like."
      ],
      "metadata": {
        "id": "VDY1lkNtz3zX"
      }
    },
    {
      "cell_type": "code",
      "source": [
        "# TODO: Run spark_bfs_1_round on simple_1_round_bfs_sdf\n",
        "simple_bfs_result = spark_bfs_1_round(simple_1_round_bfs_sdf)\n",
        "simple_bfs_result.show()\n"
      ],
      "metadata": {
        "id": "TxNEr82Z0EYY",
        "colab": {
          "base_uri": "https://localhost:8080/"
        },
        "outputId": "d405a3f9-6a4f-4e8a-88b4-d99ba3965857"
      },
      "execution_count": null,
      "outputs": [
        {
          "output_type": "stream",
          "name": "stdout",
          "text": [
            "+----+--------+\n",
            "|node|distance|\n",
            "+----+--------+\n",
            "|   A|       0|\n",
            "|   B|       1|\n",
            "|   C|       1|\n",
            "|   D|       1|\n",
            "|   G|       2|\n",
            "|   E|       2|\n",
            "|   F|       2|\n",
            "+----+--------+\n",
            "\n"
          ]
        }
      ]
    },
    {
      "cell_type": "markdown",
      "source": [
        "Convert this result to Pandas, sorted by the node (ascending), and submit it to the autograder.\n",
        "\n",
        "**HINT:** Make sure distance is formatted as a number!"
      ],
      "metadata": {
        "id": "IJMBU6I50Ls6"
      }
    },
    {
      "cell_type": "code",
      "source": [
        "# TODO: Convert simple_bfs_result to Pandas sorted by node\n",
        "simple_bfs_test = simple_bfs_result.toPandas().sort_values(by = 'node')"
      ],
      "metadata": {
        "id": "DltsLEUz0PUg"
      },
      "execution_count": null,
      "outputs": []
    },
    {
      "cell_type": "code",
      "source": [
        "# 6 points\n",
        "grader.grade(test_case_id = 'checksimpleBFS', answer = simple_bfs_test)"
      ],
      "metadata": {
        "id": "rKpFy0tU0R8t",
        "colab": {
          "base_uri": "https://localhost:8080/"
        },
        "outputId": "65a0f643-75dc-4b19-dedf-669e11704270"
      },
      "execution_count": null,
      "outputs": [
        {
          "output_type": "stream",
          "name": "stdout",
          "text": [
            "Correct! You earned 6/6 points. You are a star!\n",
            "\n",
            "Your submission has been successfully recorded in the gradebook.\n"
          ]
        }
      ]
    },
    {
      "cell_type": "markdown",
      "source": [
        "#### 4.1.3 Full BFS Implementation\n",
        "\n",
        "Now, we will fully implement **spark_bfs**. This function should iteratively call your implemented version of **spark_bfs_1_round** and ultimately return the output of this function at **max_depth**.\n",
        "\n",
        "You are also responsible for initializing the starting dataframe, that is converting the list of origin nodes into a spark dataframe with the nodes logged at distance 0.\n",
        "\n",
        "Consider the following: \n",
        "\n",
        "```\n",
        "schema = StructType([\n",
        "            StructField(\"node\", StringType(), True)\n",
        "        ])\n",
        "\n",
        "    my_sdf = spark.createDataFrame(origins, schema)\n",
        "```\n",
        "\n",
        "The schema ultimately specifies the structure of the Spark DataFrame with a string `node` column. It then calls **spark.createDataFrame** to map this schema to the **origins** nodes. Also, you are responsible for ensuring that a view of your graph is available within this function. (Note: you will also need to add in a distance column)\n",
        "\n",
        "**TODO:** implement **spark_bfs(G,origins,max_depth)** and run on **teams_graph_sdf** initalized in 4.3. Note: you may want to run tests on the **simple_graph** example as the `teams_graph_sdf` will take quite some time to run.\n",
        "\n",
        "These imports might be useful: \n",
        "`from pyspark.sql.types import StructType, StructField, StringType, IntegerType`"
      ],
      "metadata": {
        "id": "wUZugRR20T4F"
      }
    },
    {
      "cell_type": "code",
      "source": [
        "# TODO: iterative search over directed graph\n",
        "# Worth 5 points directly, but will be needed later\n",
        "from pyspark.sql.types import StructType, StructField, StringType, IntegerType\n",
        "def spark_bfs(G, origins, max_depth):\n",
        "  origin_distance = {'distance': [0]}\n",
        "  origin_distance = pd.DataFrame.from_dict(origin_distance)\n",
        "  origin_distance = spark.createDataFrame(origin_distance)\n",
        "  origin_distance.createOrReplaceTempView(\"origin_distance\")\n",
        "  origins_df = pd.DataFrame.from_dict(origins)\n",
        "  origins_sdf = spark.createDataFrame(origins_df)\n",
        "  origins_sdf.createOrReplaceTempView(\"origins_sdf\")\n",
        "  #query1 = \"\"\" \n",
        "  #WITH ori_distance as SELECT * FROM origin_distance,\n",
        "  #   ori_node as   SELECT * FROM origins_sdf,\n",
        "  #SELECT ori_node.node,ori_distance.distance FROM ori_node,ori_distance\n",
        "  visited_nodes = spark.sql(\"\"\"SELECT node,distance FROM origins_sdf,origin_distance \"\"\")\n",
        "  simple_graph_sdf = G\n",
        "  spark.catalog.dropTempView(\"simple_graph_sdf\")\n",
        "  simple_graph_sdf.createOrReplaceTempView(\"simple_graph_sdf\")\n",
        "  i = 0\n",
        "  while i < max_depth:\n",
        "    visited_nodes = spark_bfs_1_round(visited_nodes)\n",
        "    i+=1\n",
        "\n",
        "  return visited_nodes \n",
        "  \n"
      ],
      "metadata": {
        "id": "2OpEOcsT1Vwu"
      },
      "execution_count": null,
      "outputs": []
    },
    {
      "cell_type": "markdown",
      "source": [
        "Test that this function works on the simple example. "
      ],
      "metadata": {
        "id": "7ZsmVVlE1r_v"
      }
    },
    {
      "cell_type": "code",
      "source": [
        "simple_bfs_iterative_result = spark_bfs(simple_graph_sdf, smallOrig, 3)\n",
        "simple_bfs_iterative_result.show()\n",
        "smallOrig"
      ],
      "metadata": {
        "id": "Ideb3M_c1t4N",
        "colab": {
          "base_uri": "https://localhost:8080/"
        },
        "outputId": "fc1636c0-dea7-4f08-9d69-a3ffadede31e"
      },
      "execution_count": null,
      "outputs": [
        {
          "output_type": "stream",
          "name": "stdout",
          "text": [
            "+----+--------+\n",
            "|node|distance|\n",
            "+----+--------+\n",
            "|   A|       0|\n",
            "|   B|       1|\n",
            "|   D|       1|\n",
            "|   C|       1|\n",
            "|   G|       2|\n",
            "|   E|       2|\n",
            "|   F|       2|\n",
            "|   H|       3|\n",
            "+----+--------+\n",
            "\n"
          ]
        },
        {
          "output_type": "execute_result",
          "data": {
            "text/plain": [
              "[{'node': 'A'}]"
            ]
          },
          "metadata": {},
          "execution_count": 67
        }
      ]
    },
    {
      "cell_type": "markdown",
      "source": [
        "### Step 4.2: History of the Super Bowl"
      ],
      "metadata": {
        "id": "V6mLUZvAuwDK"
      }
    },
    {
      "cell_type": "markdown",
      "source": [
        "Time to look at the Super Bowl history dataset. Here we have data for all Super Bowls from 1967 to 2020. Let's load the data to **superbowl_sdf** and see how it looks."
      ],
      "metadata": {
        "id": "HUJ49VklGB92"
      }
    },
    {
      "cell_type": "markdown",
      "source": [
        "Download the `superbowl.csv` dataset from [here](https://drive.google.com/file/d/1QFLg2hvrjOi_QpDnKb0rWiszvP-g6txo/view?usp=sharing), and upload it to the content folder of this Colab notebook."
      ],
      "metadata": {
        "id": "OFT-guWHa4iU"
      }
    },
    {
      "cell_type": "code",
      "source": [
        "superbowl_sdf = spark.read.csv(\"superbowl.csv\", header=True)"
      ],
      "metadata": {
        "id": "ih_KUCTAvvWo"
      },
      "execution_count": null,
      "outputs": []
    },
    {
      "cell_type": "code",
      "source": [
        "superbowl_sdf.show()"
      ],
      "metadata": {
        "id": "FMy3cSNTvvnF",
        "colab": {
          "base_uri": "https://localhost:8080/"
        },
        "outputId": "787720b5-4539-44a1-ddc2-099f67c3a005"
      },
      "execution_count": null,
      "outputs": [
        {
          "output_type": "stream",
          "name": "stdout",
          "text": [
            "+-----------+------------+--------------------+----------+--------------------+---------+---------------+--------------------+---------------+----------+\n",
            "|       Date|          SB|              Winner|Winner Pts|               Loser|Loser Pts|            MVP|             Stadium|           City|     State|\n",
            "+-----------+------------+--------------------+----------+--------------------+---------+---------------+--------------------+---------------+----------+\n",
            "| Feb 2 2020|    LIV (54)|  Kansas City Chiefs|        31| San Francisco 49ers|       20|Patrick Mahomes|   Hard Rock Stadium|  Miami Gardens|   Florida|\n",
            "| Feb 3 2019|   LIII (53)|New England Patriots|        13|    Los Angeles Rams|        3| Julian Edelman|Mercedes-Benz Sta...|        Atlanta|   Georgia|\n",
            "| Feb 4 2018|    LII (52)| Philadelphia Eagles|        41|New England Patriots|       33|     Nick Foles|   U.S. Bank Stadium|    Minneapolis| Minnesota|\n",
            "| Feb 5 2017|     LI (51)|New England Patriots|        34|     Atlanta Falcons|       28|      Tom Brady|         NRG Stadium|        Houston|     Texas|\n",
            "| Feb 7 2016|          50|      Denver Broncos|        24|   Carolina Panthers|       10|     Von Miller|      Levi's Stadium|    Santa Clara|California|\n",
            "| Feb 1 2015|   XLIX (49)|New England Patriots|        28|    Seattle Seahawks|       24|      Tom Brady|University of Pho...|       Glendale|   Arizona|\n",
            "| Feb 2 2014| XLVIII (48)|    Seattle Seahawks|        43|      Denver Broncos|        8|  Malcolm Smith|     MetLife Stadium|East Rutherford|New Jersey|\n",
            "| Feb 3 2013|  XLVII (47)|    Baltimore Ravens|        34| San Francisco 49ers|       31|     Joe Flacco|Mercedes-Benz Sup...|    New Orleans| Louisiana|\n",
            "| Feb 5 2012|   XLVI (46)|     New York Giants|        21|New England Patriots|       17|    Eli Manning|   Lucas Oil Stadium|   Indianapolis|   Indiana|\n",
            "| Feb 6 2011|    XLV (45)|   Green Bay Packers|        31| Pittsburgh Steelers|       25|  Aaron Rodgers|     Cowboys Stadium|      Arlington|     Texas|\n",
            "| Feb 7 2010|   XLIV (44)|  New Orleans Saints|        31|  Indianapolis Colts|       17|     Drew Brees|    Sun Life Stadium|  Miami Gardens|   Florida|\n",
            "| Feb 1 2009|  XLIII (43)| Pittsburgh Steelers|        27|   Arizona Cardinals|       23|Santonio Holmes|Raymond James Sta...|          Tampa|   Florida|\n",
            "| Feb 3 2008|   XLII (42)|     New York Giants|        17|New England Patriots|       14|    Eli Manning|University of Pho...|       Glendale|   Arizona|\n",
            "| Feb 4 2007|    XLI (41)|  Indianapolis Colts|        29|       Chicago Bears|       17| Peyton Manning|     Dolphin Stadium|  Miami Gardens|   Florida|\n",
            "| Feb 5 2006|     XL (40)| Pittsburgh Steelers|        21|    Seattle Seahawks|       10|     Hines Ward|          Ford Field|        Detroit|  Michigan|\n",
            "| Feb 6 2005|  XXXIX (39)|New England Patriots|        24| Philadelphia Eagles|       21|   Deion Branch|      Alltel Stadium|   Jacksonville|   Florida|\n",
            "| Feb 1 2004|XXXVIII (38)|New England Patriots|        32|   Carolina Panthers|       29|      Tom Brady|     Reliant Stadium|        Houston|     Texas|\n",
            "|Jan 26 2003| XXXVII (37)|Tampa Bay Buccaneers|        48|     Oakland Raiders|       21| Dexter Jackson|    Qualcomm Stadium|      San Diego|California|\n",
            "| Feb 3 2002|  XXXVI (36)|New England Patriots|        20|      St. Louis Rams|       17|      Tom Brady| Louisiana Superdome|    New Orleans| Louisiana|\n",
            "|Jan 28 2001|   XXXV (35)|    Baltimore Ravens|        34|     New York Giants|        7|     Ray Lewis+|Raymond James Sta...|          Tampa|   Florida|\n",
            "+-----------+------------+--------------------+----------+--------------------+---------+---------------+--------------------+---------------+----------+\n",
            "only showing top 20 rows\n",
            "\n"
          ]
        }
      ]
    },
    {
      "cell_type": "markdown",
      "source": [
        "Do you know which teams have been the most successful during this period? Let's find out!\n",
        "\n",
        "**TODO:** Calculate the number of times each team appears in the *Winner* column, and store this **count_sdf**. This should have two columns: *Winner* and *win_count*."
      ],
      "metadata": {
        "id": "RUxD2OD0GeYE"
      }
    },
    {
      "cell_type": "code",
      "source": [
        "# TODO\n",
        "superbowl_sdf.createOrReplaceTempView('superbowl')\n",
        "count_sdf = spark.sql(\"SELECT Winner, COUNT(SB) AS times FROM superbowl GROUP BY Winner ORDER BY times DESC\")\n",
        "count_sdf.show(10)\n"
      ],
      "metadata": {
        "id": "LwDGFymQv66L",
        "colab": {
          "base_uri": "https://localhost:8080/"
        },
        "outputId": "7a95a300-b0fd-48ff-990c-d3d6231ee399"
      },
      "execution_count": null,
      "outputs": [
        {
          "output_type": "stream",
          "name": "stdout",
          "text": [
            "+--------------------+-----+\n",
            "|              Winner|times|\n",
            "+--------------------+-----+\n",
            "|New England Patriots|    6|\n",
            "| Pittsburgh Steelers|    6|\n",
            "| San Francisco 49ers|    5|\n",
            "|      Dallas Cowboys|    5|\n",
            "|   Green Bay Packers|    4|\n",
            "|     New York Giants|    4|\n",
            "| Washington Redskins|    3|\n",
            "|      Denver Broncos|    3|\n",
            "|  Kansas City Chiefs|    2|\n",
            "|      Miami Dolphins|    2|\n",
            "+--------------------+-----+\n",
            "only showing top 10 rows\n",
            "\n"
          ]
        }
      ]
    },
    {
      "cell_type": "markdown",
      "source": [
        "Convert the dataframe to pandas and pass it to the grader."
      ],
      "metadata": {
        "id": "Qpjvw2j3I9Nt"
      }
    },
    {
      "cell_type": "code",
      "source": [
        "count_df = count_sdf.toPandas()"
      ],
      "metadata": {
        "id": "FJ_GNxFeIvH6"
      },
      "execution_count": null,
      "outputs": []
    },
    {
      "cell_type": "code",
      "source": [
        "# 3 points\n",
        "grader.grade(test_case_id = 'checkSuperBowlCount', answer = count_df)"
      ],
      "metadata": {
        "id": "0y-AIOxyH3s-",
        "colab": {
          "base_uri": "https://localhost:8080/"
        },
        "outputId": "b68dba9b-cc95-4a82-cfdb-f1c51be44cd3"
      },
      "execution_count": null,
      "outputs": [
        {
          "output_type": "stream",
          "name": "stdout",
          "text": [
            "Correct! You earned 3/3 points. You are a star!\n",
            "\n",
            "Your submission has been successfully recorded in the gradebook.\n"
          ]
        }
      ]
    },
    {
      "cell_type": "markdown",
      "source": [
        "Now that we have the Super Bowl dataset, let's convert it to a graph sdf just like the one we had in section 4.1 (P.S. it's not as hard as it sounds).\n",
        "\n",
        "**TODO:** Create **teams_graph_sdf** that has the columns *from_node* and *to_node*. from_node has all the entries from the *Winner* column and to_node has all the entries from the *Loser* column."
      ],
      "metadata": {
        "id": "NDQHXODMI35m"
      }
    },
    {
      "cell_type": "code",
      "source": [
        "teams_graph_sdf = spark.sql(\"\"\"SELECT Winner as from_node, Loser as to_node FROM superbowl\"\"\")"
      ],
      "metadata": {
        "id": "N85KxevSv4ei"
      },
      "execution_count": null,
      "outputs": []
    },
    {
      "cell_type": "code",
      "source": [
        "# 2 points\n",
        "grader.grade(test_case_id = 'checkSuperBowlGraph', answer = teams_graph_sdf.toPandas())"
      ],
      "metadata": {
        "id": "sQrBW1FcMNEP",
        "colab": {
          "base_uri": "https://localhost:8080/"
        },
        "outputId": "6221738e-a923-482f-e476-f5151c49006d"
      },
      "execution_count": null,
      "outputs": [
        {
          "output_type": "stream",
          "name": "stdout",
          "text": [
            "Correct! You earned 2/2 points. You are a star!\n",
            "\n",
            "Your submission has been successfully recorded in the gradebook.\n"
          ]
        }
      ]
    },
    {
      "cell_type": "markdown",
      "source": [
        "We have our graph ready! All that's left is running full BFS on it find the Super Bacons."
      ],
      "metadata": {
        "id": "C5hCeztRMe2D"
      }
    },
    {
      "cell_type": "markdown",
      "source": [
        "### Step 4.3: The Super Bacon Search"
      ],
      "metadata": {
        "id": "HYMybeI82fgC"
      }
    },
    {
      "cell_type": "markdown",
      "source": [
        "In the previous section, we found out that the New England Patriots and the Pittsburgh Steelers have been the most successful teams in the 54 years. So let's find out the Super Bacons of teams with respect to the New England Patriots."
      ],
      "metadata": {
        "id": "oQyp_EjeM_16"
      }
    },
    {
      "cell_type": "markdown",
      "source": [
        "First, we'll create an origin node using the New England Patriots."
      ],
      "metadata": {
        "id": "W4iQD5nJOrJy"
      }
    },
    {
      "cell_type": "code",
      "source": [
        "orig = [{'node': 'New England Patriots'}]"
      ],
      "metadata": {
        "id": "YolRMKEl2xJG"
      },
      "execution_count": null,
      "outputs": []
    },
    {
      "cell_type": "markdown",
      "source": [
        "Now, run the **spark_bfs()** function on **teams_graph_sdf** using this origin node and a max depth of 5. Store the result in **bfs_5**."
      ],
      "metadata": {
        "id": "rw_lX0nPPoYT"
      }
    },
    {
      "cell_type": "code",
      "source": [
        "bfs_5 = spark_bfs(teams_graph_sdf, orig, 5)"
      ],
      "metadata": {
        "id": "rGG2g_dWPmG-"
      },
      "execution_count": null,
      "outputs": []
    },
    {
      "cell_type": "code",
      "source": [
        "bfs_5.show()"
      ],
      "metadata": {
        "id": "L3nwp0ly20oD",
        "colab": {
          "base_uri": "https://localhost:8080/"
        },
        "outputId": "297decd9-d9a9-4f4c-c079-79c444ee78cc"
      },
      "execution_count": null,
      "outputs": [
        {
          "output_type": "stream",
          "name": "stdout",
          "text": [
            "+--------------------+--------+\n",
            "|                node|distance|\n",
            "+--------------------+--------+\n",
            "|New England Patriots|       0|\n",
            "|    Seattle Seahawks|       1|\n",
            "|      St. Louis Rams|       1|\n",
            "|     Atlanta Falcons|       1|\n",
            "|    Los Angeles Rams|       1|\n",
            "| Philadelphia Eagles|       1|\n",
            "|   Carolina Panthers|       1|\n",
            "|    Tennessee Titans|       2|\n",
            "|      Denver Broncos|       2|\n",
            "|   Green Bay Packers|       3|\n",
            "|     Oakland Raiders|       4|\n",
            "| Pittsburgh Steelers|       4|\n",
            "|  Kansas City Chiefs|       4|\n",
            "|   Minnesota Vikings|       5|\n",
            "| San Francisco 49ers|       5|\n",
            "|   Arizona Cardinals|       5|\n",
            "|      Dallas Cowboys|       5|\n",
            "+--------------------+--------+\n",
            "\n"
          ]
        }
      ]
    },
    {
      "cell_type": "markdown",
      "source": [
        "Converty the result to pandas, store it to answer_df and pass this to the grader."
      ],
      "metadata": {
        "id": "gkmBQnFJQJjz"
      }
    },
    {
      "cell_type": "code",
      "source": [
        "# TODO\n",
        "answer_df = bfs_5.toPandas()"
      ],
      "metadata": {
        "id": "8VmoiLtK21Ru"
      },
      "execution_count": null,
      "outputs": []
    },
    {
      "cell_type": "code",
      "source": [
        "# 15 points\n",
        "grader.grade(test_case_id = 'checkBFS', answer = answer_df)"
      ],
      "metadata": {
        "id": "oCCXO6Wv4KNR",
        "colab": {
          "base_uri": "https://localhost:8080/"
        },
        "outputId": "619dc4de-5444-46c5-9042-28d5f5f130a5"
      },
      "execution_count": null,
      "outputs": [
        {
          "output_type": "stream",
          "name": "stdout",
          "text": [
            "Correct! You earned 15/15 points. You are a star!\n",
            "\n",
            "Your submission has been successfully recorded in the gradebook.\n"
          ]
        }
      ]
    },
    {
      "cell_type": "markdown",
      "source": [
        "Voila! We're all done. Just like this NFL season, you've completed the homework."
      ],
      "metadata": {
        "id": "3dePHd9CQW-C"
      }
    },
    {
      "cell_type": "markdown",
      "source": [
        "One last thing, as we predicted before, you're a star."
      ],
      "metadata": {
        "id": "4FJDDdPButTi"
      }
    },
    {
      "cell_type": "markdown",
      "metadata": {
        "id": "EHVFHPVIrvu1"
      },
      "source": [
        "# HW Submission\n",
        "\n",
        "Before you submit on Gradescope (you must submit your notebook to receive credit):\n",
        "\n",
        "\n",
        "1.   Restart and Run-All to make sure there's nothing wrong with your notebook\n",
        "2.   **Double check that you have the correct PennID (all numbers) in the autograder**. \n",
        "3. Make sure you've run all the PennGrader cells\n",
        "4. Go to the \"File\" tab at the top left, and click \"Download .ipynb\" and then \"Download .py\".  **Rename** the files to \"homework3.ipynb\" and \"homework3.py\" respectively and upload them to Gradescope \n",
        "\n",
        "**Let the course staff know ASAP if you have any issues submitting, but otherwise best of luck!**"
      ]
    }
  ]
}